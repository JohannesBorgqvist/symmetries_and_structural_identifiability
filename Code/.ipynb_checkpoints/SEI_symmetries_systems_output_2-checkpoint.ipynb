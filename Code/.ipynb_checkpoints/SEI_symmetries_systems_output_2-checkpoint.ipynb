{
 "cells": [
  {
   "cell_type": "markdown",
   "metadata": {},
   "source": [
    "# Structural identifiability analysis of the SEI model \n",
    "Date: 2023-10-24,<br>\n",
    "Written by: Johannes Borgqvist.<br>\n",
    "We study the following SEI model:\n",
    "\\begin{align}\n",
    "\\dfrac{\\mathrm{d}S}{\\mathrm{d}t}&=c-\\beta SI-\\mu_{S}S\\,,\\label{eq:S}\\\\\n",
    "\\dfrac{\\mathrm{d}E}{\\mathrm{d}t}&=(1-\\epsilon)\\beta SI-\\delta E-\\mu_{E}E\\,,\\label{eq:E}\\\\\n",
    "\\dfrac{\\mathrm{d}I}{\\mathrm{d}t}&=\\epsilon\\beta SI+\\delta E-\\mu_{I}I\\,.\\label{eq:I}\\\\\n",
    "\\end{align}\n",
    "Let's implement this model in *SymPy*!"
   ]
  },
  {
   "cell_type": "code",
   "execution_count": 1,
   "metadata": {},
   "outputs": [
    {
     "name": "stdout",
     "output_type": "stream",
     "text": [
      "ODE for $S$:\n",
      "\\begin{equation}\n",
      "\\frac{d}{d t} S{\\left(t \\right)} = - \\beta I{\\left(t \\right)} S{\\left(t \\right)} + c - \\mu_{S} S{\\left(t \\right)}\\quad\\,,\\label{eq:ODE_S}\n",
      "\\end{equation}\n",
      "\n",
      "ODE for $E$:\n",
      "\\begin{equation}\n",
      "\\frac{d}{d t} E{\\left(t \\right)} = \\beta \\left(1 - \\epsilon\\right) I{\\left(t \\right)} S{\\left(t \\right)} - \\delta E{\\left(t \\right)} - \\mu_{E} E{\\left(t \\right)}\\quad\\,,\\label{eq:ODE_E}\n",
      "\\end{equation}\n",
      "\n",
      "ODE for $I$:\n",
      "\\begin{equation}\n",
      "\\frac{d}{d t} I{\\left(t \\right)} = \\beta \\epsilon I{\\left(t \\right)} S{\\left(t \\right)} + \\delta E{\\left(t \\right)} - \\mu_{I} I{\\left(t \\right)}\\quad\\,.\\label{eq:ODE_I}\n",
      "\\end{equation}\n",
      "\n"
     ]
    }
   ],
   "source": [
    "# Import sympy\n",
    "from sympy import *\n",
    "# Define all parameters as symbols\n",
    "c, beta, mu_S, mu_E, mu_I, delta, epsilon = symbols('c, beta, mu_S, mu_E, mu_I, delta, epsilon')\n",
    "# Define our independent variable time\n",
    "t = symbols('t')\n",
    "# Define our three dependent variables being the states\n",
    "S = Function('S')(t)\n",
    "E = Function('E')(t)\n",
    "I = Function('I')(t)\n",
    "# Now, we define our three ODEs\n",
    "# ODE for S\n",
    "ODE_S = c - beta*S*I - mu_S*S\n",
    "ODE_S = Eq(Derivative(S,t,1),ODE_S)\n",
    "print(\"ODE for $S$:\")\n",
    "print(latex(ODE_S,mode='equation').replace(\"\\\\begin{equation}\",\"\\\\begin{equation}\\n\").replace(\"\\\\end{equation}\",\"\\\\quad\\\\,,\\\\label{eq:ODE_S}\\n\\\\end{equation}\\n\"))\n",
    "# ODE for E\n",
    "ODE_E = (1-epsilon)*beta*S*I - delta*E - mu_E*E\n",
    "ODE_E = Eq(Derivative(E,t,1),ODE_E)\n",
    "print(\"ODE for $E$:\")\n",
    "print(latex(ODE_E,mode='equation').replace(\"\\\\begin{equation}\",\"\\\\begin{equation}\\n\").replace(\"\\\\end{equation}\",\"\\\\quad\\\\,,\\\\label{eq:ODE_E}\\n\\\\end{equation}\\n\"))\n",
    "# ODE for I\n",
    "ODE_I = epsilon*beta*S*I + delta*E - mu_I*I\n",
    "ODE_I = Eq(Derivative(I,t,1),ODE_I)\n",
    "print(\"ODE for $I$:\")\n",
    "print(latex(ODE_I,mode='equation').replace(\"\\\\begin{equation}\",\"\\\\begin{equation}\\n\").replace(\"\\\\end{equation}\",\"\\\\quad\\\\,.\\\\label{eq:ODE_I}\\n\\\\end{equation}\\n\"))"
   ]
  },
  {
   "cell_type": "markdown",
   "metadata": {},
   "source": [
    "ODE for $S$:\n",
    "\\begin{equation}\n",
    "\\frac{d}{d t} S{\\left(t \\right)} = - \\beta I{\\left(t \\right)} S{\\left(t \\right)} + c - \\mu_{S} S{\\left(t \\right)}\\quad\\,,\\label{eq:ODE_S}\n",
    "\\end{equation}\n",
    "\n",
    "ODE for $E$:\n",
    "\\begin{equation}\n",
    "\\frac{d}{d t} E{\\left(t \\right)} = \\beta \\left(1 - \\epsilon\\right) I{\\left(t \\right)} S{\\left(t \\right)} - \\delta E{\\left(t \\right)} - \\mu_{E} E{\\left(t \\right)}\\quad\\,,\\label{eq:ODE_E}\n",
    "\\end{equation}\n",
    "\n",
    "ODE for $I$:\n",
    "\\begin{equation}\n",
    "\\frac{d}{d t} I{\\left(t \\right)} = \\beta \\epsilon I{\\left(t \\right)} S{\\left(t \\right)} + \\delta E{\\left(t \\right)} - \\mu_{I} I{\\left(t \\right)}\\quad\\,.\\label{eq:ODE_I}\n",
    "\\end{equation}\n",
    "\n",
    "## Introducing observed outputs\n",
    "Next, we assume that we can observe two states denoted by $y_{I}$ and $y_{E}$. Specifically, these are given by:\n",
    "\\begin{equation}\n",
    "y_{I}=k_{I}I\\,,\n",
    "\\label{eq:output_input}\n",
    "\\end{equation}\n",
    "which means that we can observe a proportion of the exposed and infected individuals. Let's express the original ODE system in terms of these outputs!"
   ]
  },
  {
   "cell_type": "code",
   "execution_count": 2,
   "metadata": {},
   "outputs": [
    {
     "name": "stdout",
     "output_type": "stream",
     "text": [
      "Equation for $y_{I}$:\n",
      "\\begin{equation}\n",
      "\\operatorname{y_{I}}{\\left(t \\right)} = k_{I} I{\\left(t \\right)}\\quad\\,.\\label{eq:yI}\n",
      "\\end{equation}\n",
      "\n"
     ]
    }
   ],
   "source": [
    "# Allocate two new parameters\n",
    "k_I = symbols('k_I')\n",
    "# Allocate two new functions\n",
    "y_I = Function('y_I')(t)\n",
    "# Equations for the input and outputs\n",
    "y_I_eq = Eq(y_I,k_I*I)\n",
    "# Print the equation for the output\n",
    "print('Equation for $y_{I}$:')\n",
    "print(latex(y_I_eq,mode='equation').replace(\"\\\\begin{equation}\",\"\\\\begin{equation}\\n\").replace(\"\\\\end{equation}\",\"\\\\quad\\\\,.\\\\label{eq:yI}\\n\\\\end{equation}\\n\"))"
   ]
  },
  {
   "cell_type": "markdown",
   "metadata": {},
   "source": [
    "Equation for $y_{I}$:\n",
    "\\begin{equation}\n",
    "\\operatorname{y_{I}}{\\left(t \\right)} = k_{I} I{\\left(t \\right)}\\quad\\,.\\label{eq:yI}\n",
    "\\end{equation}\n",
    "\n",
    "\n",
    "## Re-write the ODE system in terms of outputs\n",
    "Next, we rewrite the ODE system in terms of these inputs and outputs."
   ]
  },
  {
   "cell_type": "code",
   "execution_count": 3,
   "metadata": {},
   "outputs": [
    {
     "name": "stdout",
     "output_type": "stream",
     "text": [
      "ODE for $S$:\n",
      "\\begin{equation}\n",
      "\\frac{d}{d t} S{\\left(t \\right)} = - \\frac{\\beta S{\\left(t \\right)} \\operatorname{y_{I}}{\\left(t \\right)}}{k_{I}} + c - \\mu_{S} S{\\left(t \\right)}\\quad\\,,\\label{eq:ODE_S}\n",
      "\\end{equation}\n",
      "\n",
      "ODE for $E$:\n",
      "\\begin{equation}\n",
      "\\frac{d}{d t} E{\\left(t \\right)} = - \\frac{\\beta \\epsilon S{\\left(t \\right)} \\operatorname{y_{I}}{\\left(t \\right)}}{k_{I}} + \\frac{\\beta S{\\left(t \\right)} \\operatorname{y_{I}}{\\left(t \\right)}}{k_{I}} - \\delta E{\\left(t \\right)} - \\mu_{E} E{\\left(t \\right)}\\quad\\,,\\label{eq:ODE_y_E}\n",
      "\\end{equation}\n",
      "\n",
      "ODE for $y_I$:\n",
      "\\begin{equation}\n",
      "\\frac{d}{d t} \\operatorname{y_{I}}{\\left(t \\right)} = \\beta \\epsilon S{\\left(t \\right)} \\operatorname{y_{I}}{\\left(t \\right)} + \\delta k_{I} E{\\left(t \\right)} - \\mu_{I} \\operatorname{y_{I}}{\\left(t \\right)}\\quad\\,.\\label{eq:ODE_y_I}\n",
      "\\end{equation}\n",
      "\n"
     ]
    }
   ],
   "source": [
    "# Define an equation for I\n",
    "I_eq = Eq(I,solve(y_I_eq,I)[0])\n",
    "# Define the derivative for y_I\n",
    "ODE_y_I = Eq(Derivative(y_I_eq.lhs,t).doit(),Derivative(y_I_eq.rhs,t).doit())\n",
    "ODE_y_I = ODE_y_I.subs(ODE_I.lhs,ODE_I.rhs)\n",
    "ODE_y_I = expand(ODE_y_I.subs(I_eq.lhs,I_eq.rhs))\n",
    "# Re-define our ODEs for S and E as well in terms of our new state\n",
    "ODE_S = expand(ODE_S.subs(I_eq.lhs,I_eq.rhs))\n",
    "ODE_E = expand(ODE_E.subs(I_eq.lhs,I_eq.rhs))\n",
    "# Now, print our new ODEs\n",
    "# ODE for S\n",
    "print(\"ODE for $S$:\")\n",
    "print(latex(ODE_S,mode='equation').replace(\"\\\\begin{equation}\",\"\\\\begin{equation}\\n\").replace(\"\\\\end{equation}\",\"\\\\quad\\\\,,\\\\label{eq:ODE_S}\\n\\\\end{equation}\\n\"))\n",
    "# ODE for y_E\n",
    "print(\"ODE for $E$:\")\n",
    "print(latex(ODE_E,mode='equation').replace(\"\\\\begin{equation}\",\"\\\\begin{equation}\\n\").replace(\"\\\\end{equation}\",\"\\\\quad\\\\,,\\\\label{eq:ODE_y_E}\\n\\\\end{equation}\\n\"))\n",
    "# ODE for y_I\n",
    "print(\"ODE for $y_I$:\")\n",
    "print(latex(ODE_y_I,mode='equation').replace(\"\\\\begin{equation}\",\"\\\\begin{equation}\\n\").replace(\"\\\\end{equation}\",\"\\\\quad\\\\,.\\\\label{eq:ODE_y_I}\\n\\\\end{equation}\\n\"))"
   ]
  },
  {
   "cell_type": "markdown",
   "metadata": {},
   "source": [
    "ODE for $S$:\n",
    "\\begin{equation}\n",
    "\\frac{d}{d t} S{\\left(t \\right)} = - \\frac{\\beta S{\\left(t \\right)} \\operatorname{y_{I}}{\\left(t \\right)}}{k_{I}} + c - \\mu_{S} S{\\left(t \\right)}\\quad\\,,\\label{eq:ODE_S}\n",
    "\\end{equation}\n",
    "\n",
    "ODE for $E$:\n",
    "\\begin{equation}\n",
    "\\frac{d}{d t} E{\\left(t \\right)} = - \\frac{\\beta \\epsilon S{\\left(t \\right)} \\operatorname{y_{I}}{\\left(t \\right)}}{k_{I}} + \\frac{\\beta S{\\left(t \\right)} \\operatorname{y_{I}}{\\left(t \\right)}}{k_{I}} - \\delta E{\\left(t \\right)} - \\mu_{E} E{\\left(t \\right)}\\quad\\,,\\label{eq:ODE_y_E}\n",
    "\\end{equation}\n",
    "\n",
    "ODE for $y_I$:\n",
    "\\begin{equation}\n",
    "\\frac{d}{d t} \\operatorname{y_{I}}{\\left(t \\right)} = \\beta \\epsilon S{\\left(t \\right)} \\operatorname{y_{I}}{\\left(t \\right)} + \\delta k_{I} E{\\left(t \\right)} - \\mu_{I} \\operatorname{y_{I}}{\\left(t \\right)}\\quad\\,.\\label{eq:ODE_y_I}\n",
    "\\end{equation}\n",
    "\n",
    "\n",
    "# The infinitesimal generator of the Lie group for a parameter symmetry\n",
    "Next, we are looking at the second porlongation of the infinitesimal generator of the Lie group $X^{(2)}$ which differentiate this equation with respect to the parameters $(c,\\beta,\\delta,\\epsilon,\\mu_{S},\\mu_{E},\\mu_{I},k_{I},k_{E})$. Let's define tangents for all of these characters! Basically the second prolongation of the generator looks as follows:\n",
    "\n",
    "\\begin{equation}\n",
    "X=\\chi_{c}\\partial_{c}+\\chi_{\\beta}\\partial_{\\beta}+\\chi_{\\epsilon}\\partial_{\\epsilon}+\\chi_{\\mu_S}\\partial_{\\mu_S}+\\chi_{\\mu_E}\\partial_{\\mu_E}+\\chi_{\\mu_I}\\partial_{\\mu_I}+\\chi_{k_{I}}\\partial_{k_{I}}+\\chi_{k_{E}}\\partial_{k_{E}}\\,.\n",
    "\\label{eq:generator}\n",
    "\\end{equation}\n",
    "Next, we want $X$ to be able to act on our two ODEs. In order for this to work we need to be able to differentiate our ODEs with respect to the independent variable, the dependent variables, the derivatives of the dependent variables and all parameters. Let's explore how this is done next!\n"
   ]
  },
  {
   "cell_type": "code",
   "execution_count": 4,
   "metadata": {},
   "outputs": [
    {
     "name": "stdout",
     "output_type": "stream",
     "text": [
      "The linearised symmetry conditions:\n",
      "\\begin{align}\n",
      "0 &= \\frac{\\beta S{\\left(t \\right)} \\chi_{k_{I}}{\\left(c,\\beta,\\delta,\\epsilon,\\mu_{S},\\mu_{E},\\mu_{I},k_{I} \\right)} \\operatorname{y_{I}}{\\left(t \\right)}}{k_{I}^{2}} - S{\\left(t \\right)} \\chi_{\\mu_{S}}{\\left(c,\\beta,\\delta,\\epsilon,\\mu_{S},\\mu_{E},\\mu_{I},k_{I} \\right)} + \\chi_{c}{\\left(c,\\beta,\\delta,\\epsilon,\\mu_{S},\\mu_{E},\\mu_{I},k_{I} \\right)} - \\frac{S{\\left(t \\right)} \\chi_{\\beta}{\\left(c,\\beta,\\delta,\\epsilon,\\mu_{S},\\mu_{E},\\mu_{I},k_{I} \\right)} \\operatorname{y_{I}}{\\left(t \\right)}}{k_{I}}\\,,\\label{eq:lin_sym_1}\\\\\n",
      "0 &= \\beta \\epsilon S{\\left(t \\right)} \\chi_{k_{I}}{\\left(c,\\beta,\\delta,\\epsilon,\\mu_{S},\\mu_{E},\\mu_{I},k_{I} \\right)} \\operatorname{y_{I}}{\\left(t \\right)} - \\beta k_{I} S{\\left(t \\right)} \\chi_{\\epsilon}{\\left(c,\\beta,\\delta,\\epsilon,\\mu_{S},\\mu_{E},\\mu_{I},k_{I} \\right)} \\operatorname{y_{I}}{\\left(t \\right)} - \\beta S{\\left(t \\right)} \\chi_{k_{I}}{\\left(c,\\beta,\\delta,\\epsilon,\\mu_{S},\\mu_{E},\\mu_{I},k_{I} \\right)} \\operatorname{y_{I}}{\\left(t \\right)} - \\epsilon k_{I} S{\\left(t \\right)} \\chi_{\\beta}{\\left(c,\\beta,\\delta,\\epsilon,\\mu_{S},\\mu_{E},\\mu_{I},k_{I} \\right)} \\operatorname{y_{I}}{\\left(t \\right)} - k_{I}^{2} E{\\left(t \\right)} \\chi_{\\delta}{\\left(c,\\beta,\\delta,\\epsilon,\\mu_{S},\\mu_{E},\\mu_{I},k_{I} \\right)} - k_{I}^{2} E{\\left(t \\right)} \\chi_{\\mu_{E}}{\\left(c,\\beta,\\delta,\\epsilon,\\mu_{S},\\mu_{E},\\mu_{I},k_{I} \\right)} + k_{I} S{\\left(t \\right)} \\chi_{\\beta}{\\left(c,\\beta,\\delta,\\epsilon,\\mu_{S},\\mu_{E},\\mu_{I},k_{I} \\right)} \\operatorname{y_{I}}{\\left(t \\right)}\\,,\\label{eq:lin_sym_2}\\\\\n",
      "0 &= \\beta S{\\left(t \\right)} \\chi_{\\epsilon}{\\left(c,\\beta,\\delta,\\epsilon,\\mu_{S},\\mu_{E},\\mu_{I},k_{I} \\right)} \\operatorname{y_{I}}{\\left(t \\right)} + \\delta E{\\left(t \\right)} \\chi_{k_{I}}{\\left(c,\\beta,\\delta,\\epsilon,\\mu_{S},\\mu_{E},\\mu_{I},k_{I} \\right)} + \\epsilon S{\\left(t \\right)} \\chi_{\\beta}{\\left(c,\\beta,\\delta,\\epsilon,\\mu_{S},\\mu_{E},\\mu_{I},k_{I} \\right)} \\operatorname{y_{I}}{\\left(t \\right)} + k_{I} E{\\left(t \\right)} \\chi_{\\delta}{\\left(c,\\beta,\\delta,\\epsilon,\\mu_{S},\\mu_{E},\\mu_{I},k_{I} \\right)} - \\chi_{\\mu_{I}}{\\left(c,\\beta,\\delta,\\epsilon,\\mu_{S},\\mu_{E},\\mu_{I},k_{I} \\right)} \\operatorname{y_{I}}{\\left(t \\right)}\\,,\\label{eq:lin_sym_3}\\\\\n",
      "\\end{align}\n"
     ]
    }
   ],
   "source": [
    "# Define our lovely infinitesimals in the parameter directions\n",
    "chi_c = Function('chi_c')(c,beta,delta,epsilon,mu_S,mu_E,mu_I,k_I) # infinitesimal in c\n",
    "chi_beta = Function('chi_beta')(c,beta,delta,epsilon,mu_S,mu_E,mu_I,k_I) # infinitesimal in beta\n",
    "chi_delta = Function('chi_delta')(c,beta,delta,epsilon,mu_S,mu_E,mu_I,k_I) # infinitesimal in delta\n",
    "chi_epsilon = Function('chi_epsilon')(c,beta,delta,epsilon,mu_S,mu_E,mu_I,k_I) # infinitesimal in epsilon\n",
    "chi_mu_S = Function('chi_mu_S')(c,beta,delta,epsilon,mu_S,mu_E,mu_I,k_I) # infinitesimal in mu_S\n",
    "chi_mu_E = Function('chi_mu_E')(c,beta,delta,epsilon,mu_S,mu_E,mu_I,k_I) # infinitesimal in mu_E\n",
    "chi_mu_I = Function('chi_mu_I')(c,beta,delta,epsilon,mu_S,mu_E,mu_I,k_I) # infinitesimal in mu_I\n",
    "chi_k_I = Function('chi_k_I')(c,beta,delta,epsilon,mu_S,mu_E,mu_I,k_I) # infinitesimal in k_I\n",
    "# Ok, define a giant vector with the infinitesimals and the thing we are differentiating with respect to\n",
    "# Parameters\n",
    "differentiation_vector = [(c, chi_c)]\n",
    "differentiation_vector.append((beta, chi_beta))\n",
    "differentiation_vector.append((delta, chi_delta))\n",
    "differentiation_vector.append((epsilon, chi_epsilon))\n",
    "differentiation_vector.append((mu_S, chi_mu_S))\n",
    "differentiation_vector.append((mu_E, chi_mu_E))\n",
    "differentiation_vector.append((mu_I, chi_mu_I))\n",
    "differentiation_vector.append((k_I, chi_k_I))\n",
    "\n",
    "# Allocate memory for our linearised symmetry condition! \n",
    "lin_syms = []\n",
    "# Allocate an ODE list\n",
    "ODEs = [ODE_S, ODE_E, ODE_y_I]\n",
    "# Allocate a LHS and a RHS\n",
    "LHS = 0\n",
    "RHS = 0\n",
    "# Loop over the ODEs\n",
    "for ODE in ODEs:\n",
    "    # Allocate a LHS and a RHS\n",
    "    LHS = 0\n",
    "    RHS = 0\n",
    "    # Loop over the things we differentiate w.r.t. called x and multiply by the coefficient k.\n",
    "    # Then, we add to the the product k*x to our linearised symmetry condition.\n",
    "    for x,k in differentiation_vector:\n",
    "        LHS += k*Derivative(ODE.lhs,x).doit()\n",
    "        RHS += k*Derivative(ODE.rhs,x).doit()\n",
    "    # Simplify our RHS\n",
    "    RHS,denom = fraction(simplify(RHS))\n",
    "    # Lastly, we save our newly synthesised linearised symmetry condition\n",
    "    lin_syms.append(Eq(expand(LHS),expand(RHS)))\n",
    "# Print the linearised symmetry conditions\n",
    "lin_sym_str = \"\\\\begin{align}\\n\"\n",
    "for index,lin_sym in enumerate(lin_syms):\n",
    "    lin_sym_str += latex(lin_sym)\n",
    "    lin_sym_str += \"\\\\,,\\\\label{eq:lin_sym_\" + str(index+1) + \"}\\\\\\\\\\n\"\n",
    "lin_sym_str += \"\\\\end{align}\"    \n",
    "lin_sym_str = lin_sym_str.replace(\"k I\",\"k_{I}\").replace(\"k E\",\"k_{E}\").replace(\"\\\\mu I\",\"\\\\mu_{I}\").replace(\"\\\\mu E\",\"\\\\mu_{E}\").replace(\"\\\\mu S\",\"\\\\mu_{S}\").replace(\"=\",\"&=\").replace(\"{\\\\left(c,\\\\beta,\\\\delta,\\\\epsilon,\\\\mu_{S},\\\\mu_{E},\\\\mu_{I},k_{I},k_{E} \\\\right)}\",\"\").replace(\"\\frac{d}{d t}\",\"\\frac{\\\\mathrm{d}{\\\\mathrm{d} t}\".replace(\"=\",\"&=\").replace(\"mu \",\"mu\\\\_\"))\n",
    "print(\"The linearised symmetry conditions:\")\n",
    "print(lin_sym_str)"
   ]
  },
  {
   "cell_type": "markdown",
   "metadata": {},
   "source": [
    "The linearised symmetry conditions:\n",
    "\\begin{align}\n",
    "0 &= \\frac{\\beta S{\\left(t \\right)} \\chi_{k_{I}} \\operatorname{y_{I}}{\\left(t \\right)}}{k_{I}^{2}} - S{\\left(t \\right)} \\chi_{\\mu_{S}} + \\chi_{c} - \\frac{S{\\left(t \\right)} \\chi_{\\beta} \\operatorname{y_{I}}{\\left(t \\right)}}{k_{I}}\\,,\\label{eq:lin_sym_1}\\\\\n",
    "0 &= \\beta \\epsilon S{\\left(t \\right)} \\chi_{k_{I}} \\operatorname{y_{I}}{\\left(t \\right)} - \\beta k_{I} S{\\left(t \\right)} \\chi_{\\epsilon} \\operatorname{y_{I}}{\\left(t \\right)} - \\beta S{\\left(t \\right)} \\chi_{k_{I}} \\operatorname{y_{I}}{\\left(t \\right)} - \\epsilon k_{I} S{\\left(t \\right)} \\chi_{\\beta} \\operatorname{y_{I}}{\\left(t \\right)} - k_{I}^{2} E{\\left(t \\right)} \\chi_{\\delta} - k_{I}^{2} E{\\left(t \\right)} \\chi_{\\mu_{E}} + k_{I} S{\\left(t \\right)} \\chi_{\\beta} \\operatorname{y_{I}}{\\left(t \\right)}\\,,\\label{eq:lin_sym_2}\\\\\n",
    "0 &= \\beta S{\\left(t \\right)} \\chi_{\\epsilon} \\operatorname{y_{I}}{\\left(t \\right)} + \\delta E{\\left(t \\right)} \\chi_{k_{I}} + \\epsilon S{\\left(t \\right)} \\chi_{\\beta} \\operatorname{y_{I}}{\\left(t \\right)} + k_{I} E{\\left(t \\right)} \\chi_{\\delta} - \\chi_{\\mu_{I}} \\operatorname{y_{I}}{\\left(t \\right)}\\,.\\label{eq:lin_sym_3}\\\\\n",
    "\\end{align}\n",
    "\n"
   ]
  },
  {
   "cell_type": "code",
   "execution_count": 5,
   "metadata": {},
   "outputs": [
    {
     "name": "stdout",
     "output_type": "stream",
     "text": [
      "Determining equations for symmetry condition 1:\n",
      "\\begin{align}\n",
      "1:&\\chi_{c}{\\left(c,\\beta,\\delta,\\epsilon,\\mu_{S},\\mu_{E},\\mu_{I},k_{I} \\right)}&=0\\,,\\label{eq:det_eq_1}\\\\S{\\left(t \\right)}:&- \\chi_{\\mu_{S}}{\\left(c,\\beta,\\delta,\\epsilon,\\mu_{S},\\mu_{E},\\mu_{I},k_{I} \\right)}&=0\\,,\\label{eq:det_eq_2}\\\\S{\\left(t \\right)} \\operatorname{y_{I}}{\\left(t \\right)}:&\\frac{\\beta \\chi_{k_{I}}{\\left(c,\\beta,\\delta,\\epsilon,\\mu_{S},\\mu_{E},\\mu_{I},k_{I} \\right)}}{k_{I}^{2}} - \\frac{\\chi_{\\beta}{\\left(c,\\beta,\\delta,\\epsilon,\\mu_{S},\\mu_{E},\\mu_{I},k_{I} \\right)}}{k_{I}}&=0\\,,\\label{eq:det_eq_3}\\\\\n",
      "\\end{align}\n",
      "Determining equations for symmetry condition 2:\n",
      "\\begin{align}\n",
      "E{\\left(t \\right)}:&- k_{I}^{2} \\chi_{\\delta}{\\left(c,\\beta,\\delta,\\epsilon,\\mu_{S},\\mu_{E},\\mu_{I},k_{I} \\right)} - k_{I}^{2} \\chi_{\\mu_{E}}{\\left(c,\\beta,\\delta,\\epsilon,\\mu_{S},\\mu_{E},\\mu_{I},k_{I} \\right)}&=0\\,,\\label{eq:det_eq_4}\\\\S{\\left(t \\right)} \\operatorname{y_{I}}{\\left(t \\right)}:&\\beta \\epsilon \\chi_{k_{I}}{\\left(c,\\beta,\\delta,\\epsilon,\\mu_{S},\\mu_{E},\\mu_{I},k_{I} \\right)} - \\beta k_{I} \\chi_{\\epsilon}{\\left(c,\\beta,\\delta,\\epsilon,\\mu_{S},\\mu_{E},\\mu_{I},k_{I} \\right)} - \\beta \\chi_{k_{I}}{\\left(c,\\beta,\\delta,\\epsilon,\\mu_{S},\\mu_{E},\\mu_{I},k_{I} \\right)} - \\epsilon k_{I} \\chi_{\\beta}{\\left(c,\\beta,\\delta,\\epsilon,\\mu_{S},\\mu_{E},\\mu_{I},k_{I} \\right)} + k_{I} \\chi_{\\beta}{\\left(c,\\beta,\\delta,\\epsilon,\\mu_{S},\\mu_{E},\\mu_{I},k_{I} \\right)}&=0\\,,\\label{eq:det_eq_5}\\\\\n",
      "\\end{align}\n",
      "Determining equations for symmetry condition 3:\n",
      "\\begin{align}\n",
      "\\operatorname{y_{I}}{\\left(t \\right)}:&- \\chi_{\\mu_{I}}{\\left(c,\\beta,\\delta,\\epsilon,\\mu_{S},\\mu_{E},\\mu_{I},k_{I} \\right)}&=0\\,,\\label{eq:det_eq_6}\\\\E{\\left(t \\right)}:&\\delta \\chi_{k_{I}}{\\left(c,\\beta,\\delta,\\epsilon,\\mu_{S},\\mu_{E},\\mu_{I},k_{I} \\right)} + k_{I} \\chi_{\\delta}{\\left(c,\\beta,\\delta,\\epsilon,\\mu_{S},\\mu_{E},\\mu_{I},k_{I} \\right)}&=0\\,,\\label{eq:det_eq_7}\\\\S{\\left(t \\right)} \\operatorname{y_{I}}{\\left(t \\right)}:&\\beta \\chi_{\\epsilon}{\\left(c,\\beta,\\delta,\\epsilon,\\mu_{S},\\mu_{E},\\mu_{I},k_{I} \\right)} + \\epsilon \\chi_{\\beta}{\\left(c,\\beta,\\delta,\\epsilon,\\mu_{S},\\mu_{E},\\mu_{I},k_{I} \\right)}&=0\\,,\\label{eq:det_eq_8}\\\\\n",
      "\\end{align}\n",
      "\n"
     ]
    }
   ],
   "source": [
    "# For manipulating monomials\n",
    "from sympy.polys.monomials import itermonomials\n",
    "from sympy.polys.orderings import monomial_key\n",
    "\n",
    "# Ok, we construct some monomials\n",
    "monomials = sorted(itermonomials([S,E,y_I], 4),key=monomial_key('grlex', [S, E,y_I]))\n",
    "# States\n",
    "states = [S,E, y_I]\n",
    "# Allocate our determining equations\n",
    "det_eqs = []\n",
    "# Allocate a temporary equation\n",
    "temp_eq = 0\n",
    "# Allocate a temp equation\n",
    "# Loop over the linearised symmetry conditions:\n",
    "for index,lin_sym in enumerate(lin_syms):\n",
    "    # Loop over monomials and extract determining equations\n",
    "    for monomial in monomials:\n",
    "        # Extract a symmetry condition\n",
    "        temp_eq = lin_sym.rhs\n",
    "        # Special case when the monomial is 1\n",
    "        if monomial==1:\n",
    "            # For this special case we save only the constant term\n",
    "            # by setting all derivatives and states to zero\n",
    "            for state in states:\n",
    "                temp_eq = temp_eq.subs(state,0).doit()\n",
    "        else:\n",
    "            # Extract the coefficient\n",
    "            temp_eq = temp_eq.coeff(monomial)\n",
    "            # Just to be sure we only save the constant thingy\n",
    "            for state in states:\n",
    "                temp_eq = temp_eq.subs(state,0).doit()\n",
    "        # Save all non-zero determining equations\n",
    "        if temp_eq != 0:\n",
    "            det_eqs.append((index+1,monomial,temp_eq))\n",
    "\n",
    "# Print this in latex\n",
    "latex_string = \"\"\n",
    "# Allocate the previous index\n",
    "index_previous = 1\n",
    "# Loop over determining equations\n",
    "for index,tuple_temp in enumerate(det_eqs):\n",
    "    # Symmetry condition, monomial and determining equation\n",
    "    lin_sym,monomial,det_eq = tuple_temp\n",
    "    # Print that we are \n",
    "    if index == 0:\n",
    "        latex_string += \"Determining equations for symmetry condition \" + str(lin_sym) + \":\\n\"\n",
    "        latex_string += \"\\\\begin{align}\\n\"\n",
    "    elif lin_sym > index_previous:\n",
    "        latex_string += \"\\n\\\\end{align}\\n\"\n",
    "        latex_string += \"Determining equations for symmetry condition \" + str(lin_sym) + \":\\n\"\n",
    "        latex_string += \"\\\\begin{align}\\n\"\n",
    "    # Add the equation itself\n",
    "    latex_string += latex(monomial) + \":&\" + latex(det_eq) + \"&=0\\\\,,\\\\label{eq:det_eq_\" + str(index+1) + \"}\\\\\\\\\"\n",
    "    # Update the previous index    \n",
    "    index_previous = lin_sym\n",
    "# Add an end aling, hey?\n",
    "latex_string += \"\\n\\\\end{align}\\n\"\n",
    "# Lastly, fix the notation in the string\n",
    "latex_string = latex_string.replace(\"k I\",\"k_{I}\").replace(\"k E\",\"k_{E}\").replace(\"\\\\mu I\",\"\\\\mu_{I}\").replace(\"\\\\mu E\",\"\\\\mu_{E}\").replace(\"\\\\mu S\",\"\\\\mu_{S}\").replace(\"{\\\\left(c,\\\\beta,\\\\delta,\\\\epsilon,\\\\mu_{S},\\\\mu_{E},\\\\mu_{I},k_{I},k_{E} \\\\right)}\",\"\")\n",
    "# Print the equations we are dealing with\n",
    "print(latex_string)"
   ]
  },
  {
   "cell_type": "markdown",
   "metadata": {},
   "source": [
    "Determining equations for symmetry condition 1:\n",
    "\\begin{align}\n",
    "1:&\\chi_{c}&=0\\,,\\label{eq:det_eq_1}\\\\S{\\left(t \\right)}:&- \\chi_{\\mu_{S}}&=0\\,,\\label{eq:det_eq_2}\\\\S{\\left(t \\right)} \\operatorname{y_{I}}{\\left(t \\right)}:&\\frac{\\beta \\chi_{k_{I}}}{k_{I}^{2}} - \\frac{\\chi_{\\beta}}{k_{I}}&=0\\,.\\label{eq:det_eq_3}\\\\\n",
    "\\end{align}\n",
    "Determining equations for symmetry condition 2:\n",
    "\\begin{align}\n",
    "E{\\left(t \\right)}:&- k_{I}^{2} \\chi_{\\delta} - k_{I}^{2} \\chi_{\\mu_{E}}&=0\\,,\\label{eq:det_eq_4}\\\\S{\\left(t \\right)} \\operatorname{y_{I}}{\\left(t \\right)}:&\\beta \\epsilon \\chi_{k_{I}} - \\beta k_{I} \\chi_{\\epsilon} - \\beta \\chi_{k_{I}} - \\epsilon k_{I} \\chi_{\\beta} + k_{I} \\chi_{\\beta}&=0\\,.\\label{eq:det_eq_5}\\\\\n",
    "\\end{align}\n",
    "Determining equations for symmetry condition 3:\n",
    "\\begin{align}\n",
    "\\operatorname{y_{I}}{\\left(t \\right)}:&- \\chi_{\\mu_{I}}&=0\\,,\\label{eq:det_eq_6}\\\\E{\\left(t \\right)}:&\\delta \\chi_{k_{I}} + k_{I} \\chi_{\\delta}&=0\\,,\\label{eq:det_eq_7}\\\\S{\\left(t \\right)} \\operatorname{y_{I}}{\\left(t \\right)}:&\\beta \\chi_{\\epsilon} + \\epsilon \\chi_{\\beta}&=0\\,.\\label{eq:det_eq_8}\\\\\n",
    "\\end{align}\n",
    "\n"
   ]
  },
  {
   "cell_type": "code",
   "execution_count": 6,
   "metadata": {},
   "outputs": [
    {
     "name": "stdout",
     "output_type": "stream",
     "text": [
      "Matrix for the linear system:\n",
      "\\begin{equation}\n",
      "\\left[\\begin{matrix}1 & 0 & 0 & 0 & 0 & 0 & 0 & 0\\\\0 & 0 & 0 & 0 & -1 & 0 & 0 & 0\\\\0 & - \\frac{1}{k_{I}} & 0 & 0 & 0 & 0 & 0 & \\frac{\\beta}{k_{I}^{2}}\\\\0 & 0 & - k_{I}^{2} & 0 & 0 & - k_{I}^{2} & 0 & 0\\\\0 & - \\epsilon k_{I} + k_{I} & 0 & - \\beta k_{I} & 0 & 0 & 0 & \\beta \\epsilon - \\beta\\\\0 & 0 & 0 & 0 & 0 & 0 & -1 & 0\\\\0 & 0 & k_{I} & 0 & 0 & 0 & 0 & \\delta\\\\0 & \\epsilon & 0 & \\beta & 0 & 0 & 0 & 0\\end{matrix}\\right]\\left[\\begin{matrix}\\chi_{c}{\\left(c,\\beta,\\delta,\\epsilon,\\mu_{S},\\mu_{E},\\mu_{I},k_{I} \\right)}\\\\\\chi_{\\beta}{\\left(c,\\beta,\\delta,\\epsilon,\\mu_{S},\\mu_{E},\\mu_{I},k_{I} \\right)}\\\\\\chi_{\\delta}{\\left(c,\\beta,\\delta,\\epsilon,\\mu_{S},\\mu_{E},\\mu_{I},k_{I} \\right)}\\\\\\chi_{\\epsilon}{\\left(c,\\beta,\\delta,\\epsilon,\\mu_{S},\\mu_{E},\\mu_{I},k_{I} \\right)}\\\\\\chi_{\\mu_{S}}{\\left(c,\\beta,\\delta,\\epsilon,\\mu_{S},\\mu_{E},\\mu_{I},k_{I} \\right)}\\\\\\chi_{\\mu_{E}}{\\left(c,\\beta,\\delta,\\epsilon,\\mu_{S},\\mu_{E},\\mu_{I},k_{I} \\right)}\\\\\\chi_{\\mu_{I}}{\\left(c,\\beta,\\delta,\\epsilon,\\mu_{S},\\mu_{E},\\mu_{I},k_{I} \\right)}\\\\\\chi_{k_{I}}{\\left(c,\\beta,\\delta,\\epsilon,\\mu_{S},\\mu_{E},\\mu_{I},k_{I} \\right)}\\end{matrix}\\right]=\\left[\\begin{matrix}0\\\\0\\\\0\\\\0\\\\0\\\\0\\\\0\\\\0\\end{matrix}\\right]\\,,\\label{eq:SEI_example_2_matrix}\n",
      "\\end{equation}\n"
     ]
    }
   ],
   "source": [
    "# Define our infinitesimals\n",
    "infinitesimals = [chi_c, chi_beta, chi_delta, chi_epsilon, chi_mu_S, chi_mu_E, chi_mu_I, chi_k_I]\n",
    "# Define our matrix as a list of list\n",
    "M = []\n",
    "# Allocate a temporary equation\n",
    "temp_eq = 0\n",
    "# Loop over the determining equations, create a row and save it in the matrix\n",
    "for det_eq in det_eqs:\n",
    "    temp_eq = det_eq[-1]\n",
    "    row = []\n",
    "    for infinitesimal in infinitesimals:\n",
    "        row.append(temp_eq.coeff(infinitesimal))\n",
    "    M.append(row)\n",
    "# Cast the matrix as a matrix\n",
    "M = Matrix(M)\n",
    "inf_matrix = Matrix(infinitesimals)\n",
    "inf_matrix = inf_matrix\n",
    "RHS_matrix = zeros(len(infinitesimals),1)\n",
    "# Print the matrix as well\n",
    "print(\"Matrix for the linear system:\")\n",
    "matrix_string = \"\\\\begin{equation}\\n\"\n",
    "matrix_string += latex(M)\n",
    "matrix_string += latex(inf_matrix)\n",
    "matrix_string += \"=\"\n",
    "matrix_string += latex(RHS_matrix)\n",
    "matrix_string += \"\\\\,,\\\\label{eq:SEI_example_2_matrix}\\n\\\\end{equation}\"\n",
    "\n",
    "matrix_string = matrix_string.replace(\"k I\",\"k_{I}\").replace(\"k E\",\"k_{E}\").replace(\"\\\\mu I\",\"\\\\mu_{I}\").replace(\"\\\\mu E\",\"\\\\mu_{E}\").replace(\"\\\\mu S\",\"\\\\mu_{S}\").replace(\"{\\\\left(c,\\\\beta,\\\\delta,\\\\epsilon,\\\\mu_{S},\\\\mu_{E},\\\\mu_{I},k_{I},k_{E} \\\\right)}\",\"\")\n",
    "print(matrix_string)"
   ]
  },
  {
   "cell_type": "markdown",
   "metadata": {},
   "source": [
    "Matrix for the linear system:\n",
    "\\begin{equation}\n",
    "\\left[\\begin{matrix}1 & 0 & 0 & 0 & 0 & 0 & 0 & 0\\\\0 & 0 & 0 & 0 & -1 & 0 & 0 & 0\\\\0 & - \\frac{1}{k_{I}} & 0 & 0 & 0 & 0 & 0 & \\frac{\\beta}{k_{I}^{2}}\\\\0 & 0 & - k_{I}^{2} & 0 & 0 & - k_{I}^{2} & 0 & 0\\\\0 & - \\epsilon k_{I} + k_{I} & 0 & - \\beta k_{I} & 0 & 0 & 0 & \\beta \\epsilon - \\beta\\\\0 & 0 & 0 & 0 & 0 & 0 & -1 & 0\\\\0 & 0 & k_{I} & 0 & 0 & 0 & 0 & \\delta\\\\0 & \\epsilon & 0 & \\beta & 0 & 0 & 0 & 0\\end{matrix}\\right]\\left[\\begin{matrix}\\chi_{c}\\\\\\chi_{\\beta}\\\\\\chi_{\\delta}\\\\\\chi_{\\epsilon}\\\\\\chi_{\\mu_{S}}\\\\\\chi_{\\mu_{E}}\\\\\\chi_{\\mu_{I}}\\\\\\chi_{k_{I}}\\end{matrix}\\right]=\\left[\\begin{matrix}0\\\\0\\\\0\\\\0\\\\0\\\\0\\\\0\\\\0\\end{matrix}\\right]\\,.\\label{eq:SEI_example_2_matrix}\n",
    "\\end{equation}\n",
    "\n",
    "So what we want is a basis for the null space? Or, any solution can be written as a linear combination of the basis vectors of the null space! Let's see if we can work this out using the method of characteristics!"
   ]
  },
  {
   "cell_type": "code",
   "execution_count": 8,
   "metadata": {},
   "outputs": [
    {
     "name": "stdout",
     "output_type": "stream",
     "text": [
      "[]\n",
      "(Matrix([\n",
      "[1, 0, 0, 0, 0, 0, 0, 0],\n",
      "[0, 1, 0, 0, 0, 0, 0, 0],\n",
      "[0, 0, 1, 0, 0, 0, 0, 0],\n",
      "[0, 0, 0, 1, 0, 0, 0, 0],\n",
      "[0, 0, 0, 0, 1, 0, 0, 0],\n",
      "[0, 0, 0, 0, 0, 1, 0, 0],\n",
      "[0, 0, 0, 0, 0, 0, 1, 0],\n",
      "[0, 0, 0, 0, 0, 0, 0, 1]]), (0, 1, 2, 3, 4, 5, 6, 7))\n"
     ]
    }
   ],
   "source": [
    "print(M.nullspace())\n",
    "print(M.rref())\n",
    "# Null space solution\n",
    "#b = simplify(M.nullspace()[0])\n",
    "# Write our equation\n",
    "#final_matrix_solution = Eq(infinitesimals,b)\n",
    "#print(k_I*M.nullspace()[0])\n",
    "#Let's print the null space\n",
    "#matrix_string = \"\\\\begin{equation}\\n\"\n",
    "#matrix_string+= latex(Matrix(infinitesimals)).replace(\"k I\",\"k_{I}\").replace(\"k E\",\"k_{E}\").replace(\"\\\\mu I\",\"\\\\mu_{I}\").replace(\"\\\\mu E\",\"\\\\mu_{E}\").replace(\"\\\\mu S\",\"\\\\mu_{S}\").replace(\"{\\\\left(c,\\\\beta,\\\\delta,\\\\epsilon,\\\\mu_{S},\\\\mu_{E},\\\\mu_{I},k_{I},k_{E} \\\\right)}\",\"\") + \"=\" + latex(b) + \"\\\\,,\\\\label{eq:null_space_solution}\\n\\\\end{equation}\\n\"\n",
    "#print(\"The infinitesimals are given by:\")\n",
    "#print(matrix_string)"
   ]
  },
  {
   "cell_type": "code",
   "execution_count": null,
   "metadata": {},
   "outputs": [],
   "source": []
  }
 ],
 "metadata": {
  "kernelspec": {
   "display_name": "Python 3 (ipykernel)",
   "language": "python",
   "name": "python3"
  },
  "language_info": {
   "codemirror_mode": {
    "name": "ipython",
    "version": 3
   },
   "file_extension": ".py",
   "mimetype": "text/x-python",
   "name": "python",
   "nbconvert_exporter": "python",
   "pygments_lexer": "ipython3",
   "version": "3.8.3"
  }
 },
 "nbformat": 4,
 "nbformat_minor": 4
}
