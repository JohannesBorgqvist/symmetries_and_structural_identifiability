{
 "cells": [
  {
   "cell_type": "markdown",
   "id": "2aae1eab",
   "metadata": {},
   "source": [
    "# Structural identifiability analysis of the SEI model \n",
    "Date: 2023-09-07,<br>\n",
    "Written by: Johannes Borgqvist.<br>\n",
    "We study the following SEI model:\n",
    "\\begin{align}\n",
    "\\dfrac{\\mathrm{d}S}{\\mathrm{d}t}&=c-\\beta SI-\\mu_{S}S\\,,\\label{eq:S}\\\\\n",
    "\\dfrac{\\mathrm{d}E}{\\mathrm{d}t}&=(1-\\epsilon)\\beta SI-\\delta E-\\mu_{E}E\\,,\\label{eq:E}\\\\\n",
    "\\dfrac{\\mathrm{d}I}{\\mathrm{d}t}&=\\epsilon\\beta SI+\\delta E-\\mu_{I}I\\,.\\label{eq:I}\\\\\n",
    "\\end{align}\n",
    "Let's implement this model in SymPy!"
   ]
  },
  {
   "cell_type": "code",
   "execution_count": 1,
   "id": "084d71ad",
   "metadata": {},
   "outputs": [
    {
     "name": "stdout",
     "output_type": "stream",
     "text": [
      "ODE for $S$:\n",
      "\\begin{equation}\n",
      "\\frac{d}{d t} S{\\left(t \\right)} = - \\beta I{\\left(t \\right)} S{\\left(t \\right)} + c - \\mu_{S} S{\\left(t \\right)}\\quad\\,,\\label{eq:ODE_S}\n",
      "\\end{equation}\n",
      "\n",
      "ODE for $E$:\n",
      "\\begin{equation}\n",
      "\\frac{d}{d t} E{\\left(t \\right)} = \\beta \\left(1 - \\epsilon\\right) I{\\left(t \\right)} S{\\left(t \\right)} - \\delta E{\\left(t \\right)} - \\mu_{E} E{\\left(t \\right)}\\quad\\,,\\label{eq:ODE_E}\n",
      "\\end{equation}\n",
      "\n",
      "ODE for $I$:\n",
      "\\begin{equation}\n",
      "\\frac{d}{d t} I{\\left(t \\right)} = \\beta \\epsilon I{\\left(t \\right)} S{\\left(t \\right)} + \\delta E{\\left(t \\right)} - \\mu_{I} I{\\left(t \\right)}\\quad\\,.\\label{eq:ODE_I}\n",
      "\\end{equation}\n",
      "\n"
     ]
    }
   ],
   "source": [
    "# Import sympy\n",
    "from sympy import *\n",
    "# Define all parameters as symbols\n",
    "c, beta, mu_S, mu_E, mu_I, delta, epsilon = symbols('c, beta, mu_S, mu_E, mu_I, delta, epsilon')\n",
    "# Define our independent variable time\n",
    "t = symbols('t')\n",
    "# Define our three dependent variables being the states\n",
    "S = Function('S')(t)\n",
    "E = Function('E')(t)\n",
    "I = Function('I')(t)\n",
    "# Now, we define our three ODEs\n",
    "# ODE for S\n",
    "ODE_S = c - beta*S*I - mu_S*S\n",
    "ODE_S = Eq(Derivative(S,t,1),ODE_S)\n",
    "print(\"ODE for $S$:\")\n",
    "print(latex(ODE_S,mode='equation').replace(\"\\\\begin{equation}\",\"\\\\begin{equation}\\n\").replace(\"\\\\end{equation}\",\"\\\\quad\\\\,,\\\\label{eq:ODE_S}\\n\\\\end{equation}\\n\"))\n",
    "# ODE for E\n",
    "ODE_E = (1-epsilon)*beta*S*I - delta*E - mu_E*E\n",
    "ODE_E = Eq(Derivative(E,t,1),ODE_E)\n",
    "print(\"ODE for $E$:\")\n",
    "print(latex(ODE_E,mode='equation').replace(\"\\\\begin{equation}\",\"\\\\begin{equation}\\n\").replace(\"\\\\end{equation}\",\"\\\\quad\\\\,,\\\\label{eq:ODE_E}\\n\\\\end{equation}\\n\"))\n",
    "# ODE for I\n",
    "ODE_I = epsilon*beta*S*I + delta*E - mu_I*I\n",
    "ODE_I = Eq(Derivative(I,t,1),ODE_I)\n",
    "print(\"ODE for $I$:\")\n",
    "print(latex(ODE_I,mode='equation').replace(\"\\\\begin{equation}\",\"\\\\begin{equation}\\n\").replace(\"\\\\end{equation}\",\"\\\\quad\\\\,.\\\\label{eq:ODE_I}\\n\\\\end{equation}\\n\"))"
   ]
  },
  {
   "cell_type": "markdown",
   "id": "7963a576",
   "metadata": {},
   "source": [
    "ODE for $S$:\n",
    "\\begin{equation}\n",
    "\\frac{d}{d t} S{\\left(t \\right)} = - \\beta I{\\left(t \\right)} S{\\left(t \\right)} + c - \\mu_{S} S{\\left(t \\right)}\\quad\\,,\\label{eq:ODE_S}\n",
    "\\end{equation}\n",
    "\n",
    "ODE for $E$:\n",
    "\\begin{equation}\n",
    "\\frac{d}{d t} E{\\left(t \\right)} = \\beta \\left(1 - \\epsilon\\right) I{\\left(t \\right)} S{\\left(t \\right)} - \\delta E{\\left(t \\right)} - \\mu_{E} E{\\left(t \\right)}\\quad\\,,\\label{eq:ODE_E}\n",
    "\\end{equation}\n",
    "\n",
    "ODE for $I$:\n",
    "\\begin{equation}\n",
    "\\frac{d}{d t} I{\\left(t \\right)} = \\beta \\epsilon I{\\left(t \\right)} S{\\left(t \\right)} + \\delta E{\\left(t \\right)} - \\mu_{I} I{\\left(t \\right)}\\quad\\,.\\label{eq:ODE_I}\n",
    "\\end{equation}\n",
    "\n",
    "## Introducing observed outputs\n",
    "Next, we assume that we can observe two states denoted by $y_{I}$ and $y_{E}$. Specifically, these are given by:\n",
    "\\begin{equation}\n",
    "y_{E}=k_{E}E\\,,\\quad y_{I}=k_{I}I\\,,\n",
    "\\label{eq:output_input}\n",
    "\\end{equation}\n",
    "which means that we can observe a proportion of the exposed and infected individuals. Let's express the original ODE system in terms of these outputs!\n"
   ]
  },
  {
   "cell_type": "code",
   "execution_count": 2,
   "id": "70eacb81",
   "metadata": {},
   "outputs": [
    {
     "name": "stdout",
     "output_type": "stream",
     "text": [
      "Equation for $y_{E}$:\n",
      "\\begin{equation}\n",
      "\\operatorname{y_{E}}{\\left(t \\right)} = k_{E} E{\\left(t \\right)}\\quad\\,.\\label{eq:yE}\n",
      "\\end{equation}\n",
      "\n",
      "Equation for $y_{I}$:\n",
      "\\begin{equation}\n",
      "\\operatorname{y_{I}}{\\left(t \\right)} = k_{I} I{\\left(t \\right)}\\quad\\,.\\label{eq:yI}\n",
      "\\end{equation}\n",
      "\n"
     ]
    }
   ],
   "source": [
    "# Allocate two new parameters\n",
    "k_E, k_I = symbols('k_E k_I')\n",
    "# Allocate two new functions\n",
    "y_E = Function('y_E')(t)\n",
    "y_I = Function('y_I')(t)\n",
    "# Equations for the input and outputs\n",
    "y_E_eq = Eq(y_E,k_E*E)\n",
    "y_I_eq = Eq(y_I,k_I*I)\n",
    "# Print them\n",
    "print('Equation for $y_{E}$:')\n",
    "print(latex(y_E_eq,mode='equation').replace(\"\\\\begin{equation}\",\"\\\\begin{equation}\\n\").replace(\"\\\\end{equation}\",\"\\\\quad\\\\,.\\\\label{eq:yE}\\n\\\\end{equation}\\n\"))\n",
    "print('Equation for $y_{I}$:')\n",
    "print(latex(y_I_eq,mode='equation').replace(\"\\\\begin{equation}\",\"\\\\begin{equation}\\n\").replace(\"\\\\end{equation}\",\"\\\\quad\\\\,.\\\\label{eq:yI}\\n\\\\end{equation}\\n\"))"
   ]
  },
  {
   "cell_type": "markdown",
   "id": "6712b709",
   "metadata": {},
   "source": [
    "Equation for $y_{E}$:\n",
    "\\begin{equation}\n",
    "\\operatorname{y_{E}}{\\left(t \\right)} = k_{E} E{\\left(t \\right)}\\quad\\,.\\label{eq:yE}\n",
    "\\end{equation}\n",
    "\n",
    "Equation for $y_{I}$:\n",
    "\\begin{equation}\n",
    "\\operatorname{y_{I}}{\\left(t \\right)} = k_{I} I{\\left(t \\right)}\\quad\\,.\\label{eq:yI}\n",
    "\\end{equation}\n",
    "\n",
    "## Re-write the ODE system in terms of outputs\n",
    "Next, we rewrite the ODE system in terms of these inputs and outputs."
   ]
  },
  {
   "cell_type": "code",
   "execution_count": 3,
   "id": "95332dd1",
   "metadata": {},
   "outputs": [
    {
     "name": "stdout",
     "output_type": "stream",
     "text": [
      "ODE for $S$:\n",
      "\\begin{equation}\n",
      "\\frac{d}{d t} S{\\left(t \\right)} = - \\frac{\\beta S{\\left(t \\right)} \\operatorname{y_{I}}{\\left(t \\right)}}{k_{I}} + c - \\mu_{S} S{\\left(t \\right)}\\quad\\,,\\label{eq:ODE_S}\n",
      "\\end{equation}\n",
      "\n",
      "ODE for $y_E$:\n",
      "\\begin{equation}\n",
      "\\frac{d}{d t} \\operatorname{y_{E}}{\\left(t \\right)} = - \\frac{\\beta \\epsilon k_{E} S{\\left(t \\right)} \\operatorname{y_{I}}{\\left(t \\right)}}{k_{I}} + \\frac{\\beta k_{E} S{\\left(t \\right)} \\operatorname{y_{I}}{\\left(t \\right)}}{k_{I}} - \\delta \\operatorname{y_{E}}{\\left(t \\right)} - \\mu_{E} \\operatorname{y_{E}}{\\left(t \\right)}\\quad\\,,\\label{eq:ODE_y_E}\n",
      "\\end{equation}\n",
      "\n",
      "ODE for $y_I$:\n",
      "\\begin{equation}\n",
      "\\frac{d}{d t} \\operatorname{y_{I}}{\\left(t \\right)} = \\beta \\epsilon S{\\left(t \\right)} \\operatorname{y_{I}}{\\left(t \\right)} + \\frac{\\delta k_{I} \\operatorname{y_{E}}{\\left(t \\right)}}{k_{E}} - \\mu_{I} \\operatorname{y_{I}}{\\left(t \\right)}\\quad\\,.\\label{eq:ODE_y_I}\n",
      "\\end{equation}\n",
      "\n"
     ]
    }
   ],
   "source": [
    "# Define an equation for E\n",
    "E_eq = Eq(E,solve(y_E_eq,E)[0])\n",
    "# Define an equation for I\n",
    "I_eq = Eq(I,solve(y_I_eq,I)[0])\n",
    "# Define the derivative for y_E\n",
    "ODE_y_E = Eq(Derivative(y_E_eq.lhs,t).doit(),Derivative(y_E_eq.rhs,t).doit())\n",
    "ODE_y_E = ODE_y_E.subs(ODE_E.lhs,ODE_E.rhs)\n",
    "ODE_y_E = ODE_y_E.subs(E_eq.lhs,E_eq.rhs)\n",
    "ODE_y_E = expand(ODE_y_E.subs(I_eq.lhs,I_eq.rhs))\n",
    "# Define the derivative for y_I\n",
    "ODE_y_I = Eq(Derivative(y_I_eq.lhs,t).doit(),Derivative(y_I_eq.rhs,t).doit())\n",
    "ODE_y_I = ODE_y_I.subs(ODE_I.lhs,ODE_I.rhs)\n",
    "ODE_y_I = ODE_y_I.subs(E_eq.lhs,E_eq.rhs)\n",
    "ODE_y_I = expand(ODE_y_I.subs(I_eq.lhs,I_eq.rhs))\n",
    "# Re-define our ODE for S as well in terms of our new states\n",
    "ODE_S = ODE_S.subs(E_eq.lhs,E_eq.rhs)\n",
    "ODE_S = expand(ODE_S.subs(I_eq.lhs,I_eq.rhs))\n",
    "# Now, print our new ODEs\n",
    "# ODE for S\n",
    "print(\"ODE for $S$:\")\n",
    "print(latex(ODE_S,mode='equation').replace(\"\\\\begin{equation}\",\"\\\\begin{equation}\\n\").replace(\"\\\\end{equation}\",\"\\\\quad\\\\,,\\\\label{eq:ODE_S}\\n\\\\end{equation}\\n\"))\n",
    "# ODE for y_E\n",
    "print(\"ODE for $y_E$:\")\n",
    "print(latex(ODE_y_E,mode='equation').replace(\"\\\\begin{equation}\",\"\\\\begin{equation}\\n\").replace(\"\\\\end{equation}\",\"\\\\quad\\\\,,\\\\label{eq:ODE_y_E}\\n\\\\end{equation}\\n\"))\n",
    "# ODE for y_I\n",
    "print(\"ODE for $y_I$:\")\n",
    "print(latex(ODE_y_I,mode='equation').replace(\"\\\\begin{equation}\",\"\\\\begin{equation}\\n\").replace(\"\\\\end{equation}\",\"\\\\quad\\\\,.\\\\label{eq:ODE_y_I}\\n\\\\end{equation}\\n\"))"
   ]
  },
  {
   "cell_type": "markdown",
   "id": "419794c5",
   "metadata": {},
   "source": [
    "ODE for $S$:\n",
    "\\begin{equation}\n",
    "\\frac{d}{d t} S{\\left(t \\right)} = - \\frac{\\beta S{\\left(t \\right)} \\operatorname{y_{I}}{\\left(t \\right)}}{k_{I}} + c - \\mu_{S} S{\\left(t \\right)}\\quad\\,,\\label{eq:ODE_S}\n",
    "\\end{equation}\n",
    "\n",
    "ODE for $y_E$:\n",
    "\\begin{equation}\n",
    "\\frac{d}{d t} \\operatorname{y_{E}}{\\left(t \\right)} = - \\frac{\\beta \\epsilon k_{E} S{\\left(t \\right)} \\operatorname{y_{I}}{\\left(t \\right)}}{k_{I}} + \\frac{\\beta k_{E} S{\\left(t \\right)} \\operatorname{y_{I}}{\\left(t \\right)}}{k_{I}} - \\delta \\operatorname{y_{E}}{\\left(t \\right)} - \\mu_{E} \\operatorname{y_{E}}{\\left(t \\right)}\\quad\\,,\\label{eq:ODE_y_E}\n",
    "\\end{equation}\n",
    "\n",
    "ODE for $y_I$:\n",
    "\\begin{equation}\n",
    "\\frac{d}{d t} \\operatorname{y_{I}}{\\left(t \\right)} = \\beta \\epsilon S{\\left(t \\right)} \\operatorname{y_{I}}{\\left(t \\right)} + \\frac{\\delta k_{I} \\operatorname{y_{E}}{\\left(t \\right)}}{k_{E}} - \\mu_{I} \\operatorname{y_{I}}{\\left(t \\right)}\\quad\\,.\\label{eq:ODE_y_I}\n",
    "\\end{equation}\n",
    "\n",
    "\n",
    "\n",
    "\n",
    "## Solve our last ODE for $S$\n"
   ]
  },
  {
   "cell_type": "code",
   "execution_count": 4,
   "id": "59dae0fc",
   "metadata": {},
   "outputs": [
    {
     "name": "stdout",
     "output_type": "stream",
     "text": [
      "Equation for $S$:\n",
      "\\begin{equation}\n",
      "S{\\left(t \\right)} = \\frac{- \\delta k_{I} \\operatorname{y_{E}}{\\left(t \\right)} + k_{E} \\mu_{I} \\operatorname{y_{I}}{\\left(t \\right)} + k_{E} \\frac{d}{d t} \\operatorname{y_{I}}{\\left(t \\right)}}{\\beta \\epsilon k_{E} \\operatorname{y_{I}}{\\left(t \\right)}}\\quad\\,.\\label{eq:S_eq}\n",
      "\\end{equation}\n",
      "\n"
     ]
    }
   ],
   "source": [
    "# Solve the ODE for y_I for S\n",
    "S_eq = Eq(S,solve(ODE_y_I,S)[0])\n",
    "# Print this equation\n",
    "print(\"Equation for $S$:\")\n",
    "print(latex(S_eq,mode='equation').replace(\"\\\\begin{equation}\",\"\\\\begin{equation}\\n\").replace(\"\\\\end{equation}\",\"\\\\quad\\\\,.\\\\label{eq:S_eq}\\n\\\\end{equation}\\n\"))"
   ]
  },
  {
   "cell_type": "markdown",
   "id": "ed5551c4",
   "metadata": {},
   "source": [
    "Equation for $S$:\n",
    "\\begin{equation}\n",
    "S{\\left(t \\right)} = \\frac{- \\delta k_{I} \\operatorname{y_{E}}{\\left(t \\right)} + k_{E} \\mu_{I} \\operatorname{y_{I}}{\\left(t \\right)} + k_{E} \\frac{d}{d t} \\operatorname{y_{I}}{\\left(t \\right)}}{\\beta \\epsilon k_{E} \\operatorname{y_{I}}{\\left(t \\right)}}\\quad\\,.\\label{eq:S_eq}\n",
    "\\end{equation}\n",
    "\n"
   ]
  },
  {
   "cell_type": "markdown",
   "id": "549011cc",
   "metadata": {},
   "source": [
    "\n",
    "# Increase the order of the ODE for $y_I$\n",
    "Next, we differentiate the ODE for $y_{I}$ w.r.t. to t, we substitute the ODE for S, and then substitute the above equation for S."
   ]
  },
  {
   "cell_type": "code",
   "execution_count": 5,
   "id": "99e7f70d",
   "metadata": {},
   "outputs": [
    {
     "name": "stdout",
     "output_type": "stream",
     "text": [
      "ODE for $y_I$:\n",
      "\\begin{equation}\n",
      "\\frac{d^{2}}{d t^{2}} \\operatorname{y_{I}}{\\left(t \\right)} = \\beta c \\epsilon \\operatorname{y_{I}}{\\left(t \\right)} + \\frac{\\beta \\delta \\operatorname{y_{E}}{\\left(t \\right)} \\operatorname{y_{I}}{\\left(t \\right)}}{k_{E}} - \\frac{\\beta \\mu_{I} \\operatorname{y_{I}}^{2}{\\left(t \\right)}}{k_{I}} - \\frac{\\beta \\operatorname{y_{I}}{\\left(t \\right)} \\frac{d}{d t} \\operatorname{y_{I}}{\\left(t \\right)}}{k_{I}} + \\frac{\\delta k_{I} \\mu_{S} \\operatorname{y_{E}}{\\left(t \\right)}}{k_{E}} - \\frac{\\delta k_{I} \\operatorname{y_{E}}{\\left(t \\right)} \\frac{d}{d t} \\operatorname{y_{I}}{\\left(t \\right)}}{k_{E} \\operatorname{y_{I}}{\\left(t \\right)}} + \\frac{\\delta k_{I} \\frac{d}{d t} \\operatorname{y_{E}}{\\left(t \\right)}}{k_{E}} - \\mu_{I} \\mu_{S} \\operatorname{y_{I}}{\\left(t \\right)} - \\mu_{S} \\frac{d}{d t} \\operatorname{y_{I}}{\\left(t \\right)} + \\frac{\\left(\\frac{d}{d t} \\operatorname{y_{I}}{\\left(t \\right)}\\right)^{2}}{\\operatorname{y_{I}}{\\left(t \\right)}}\\quad\\,.\\label{eq:ODE_y_I_2}\n",
      "\\end{equation}\n",
      "\n",
      "ODE for $y_E$:\n",
      "\\begin{equation}\n",
      "\\frac{d}{d t} \\operatorname{y_{E}}{\\left(t \\right)} = - \\frac{\\delta \\operatorname{y_{E}}{\\left(t \\right)}}{\\epsilon} - \\frac{k_{E} \\mu_{I} \\operatorname{y_{I}}{\\left(t \\right)}}{k_{I}} - \\frac{k_{E} \\frac{d}{d t} \\operatorname{y_{I}}{\\left(t \\right)}}{k_{I}} - \\mu_{E} \\operatorname{y_{E}}{\\left(t \\right)} + \\frac{k_{E} \\mu_{I} \\operatorname{y_{I}}{\\left(t \\right)}}{\\epsilon k_{I}} + \\frac{k_{E} \\frac{d}{d t} \\operatorname{y_{I}}{\\left(t \\right)}}{\\epsilon k_{I}}\\quad\\,.\\label{eq:ODE_y_E_2}\n",
      "\\end{equation}\n",
      "\n"
     ]
    }
   ],
   "source": [
    "ODE_y_I = Eq(Derivative(ODE_y_I.lhs,t).doit(),Derivative(ODE_y_I.rhs,t).doit())\n",
    "ODE_y_I = ODE_y_I.subs(ODE_S.lhs,ODE_S.rhs)\n",
    "ODE_y_I = expand(ODE_y_I.subs(S_eq.lhs,S_eq.rhs))\n",
    "# ODE for y_I\n",
    "print(\"ODE for $y_I$:\")\n",
    "print(latex(ODE_y_I,mode='equation').replace(\"\\\\begin{equation}\",\"\\\\begin{equation}\\n\").replace(\"\\\\end{equation}\",\"\\\\quad\\\\,.\\\\label{eq:ODE_y_I_2}\\n\\\\end{equation}\\n\"))\n",
    "# Also substite S in the ODE for y_E\n",
    "print(\"ODE for $y_E$:\")\n",
    "ODE_y_E = expand(ODE_y_E.subs(S_eq.lhs,S_eq.rhs))\n",
    "print(latex(ODE_y_E,mode='equation').replace(\"\\\\begin{equation}\",\"\\\\begin{equation}\\n\").replace(\"\\\\end{equation}\",\"\\\\quad\\\\,.\\\\label{eq:ODE_y_E_2}\\n\\\\end{equation}\\n\"))"
   ]
  },
  {
   "cell_type": "markdown",
   "id": "b7b2a189",
   "metadata": {},
   "source": [
    "ODE for $y_I$:\n",
    "\\begin{equation}\n",
    "\\frac{d^{2}}{d t^{2}} \\operatorname{y_{I}}{\\left(t \\right)} = \\beta c \\epsilon \\operatorname{y_{I}}{\\left(t \\right)} + \\frac{\\beta \\delta \\operatorname{y_{E}}{\\left(t \\right)} \\operatorname{y_{I}}{\\left(t \\right)}}{k_{E}} - \\frac{\\beta \\mu_{I} \\operatorname{y_{I}}^{2}{\\left(t \\right)}}{k_{I}} - \\frac{\\beta \\operatorname{y_{I}}{\\left(t \\right)} \\frac{d}{d t} \\operatorname{y_{I}}{\\left(t \\right)}}{k_{I}} + \\frac{\\delta k_{I} \\mu_{S} \\operatorname{y_{E}}{\\left(t \\right)}}{k_{E}} - \\frac{\\delta k_{I} \\operatorname{y_{E}}{\\left(t \\right)} \\frac{d}{d t} \\operatorname{y_{I}}{\\left(t \\right)}}{k_{E} \\operatorname{y_{I}}{\\left(t \\right)}} + \\frac{\\delta k_{I} \\frac{d}{d t} \\operatorname{y_{E}}{\\left(t \\right)}}{k_{E}} - \\mu_{I} \\mu_{S} \\operatorname{y_{I}}{\\left(t \\right)} - \\mu_{S} \\frac{d}{d t} \\operatorname{y_{I}}{\\left(t \\right)} + \\frac{\\left(\\frac{d}{d t} \\operatorname{y_{I}}{\\left(t \\right)}\\right)^{2}}{\\operatorname{y_{I}}{\\left(t \\right)}}\\quad\\,.\\label{eq:ODE_y_I_2}\n",
    "\\end{equation}\n",
    "\n",
    "ODE for $y_E$:\n",
    "\\begin{equation}\n",
    "\\frac{d}{d t} \\operatorname{y_{E}}{\\left(t \\right)} = - \\frac{\\delta \\operatorname{y_{E}}{\\left(t \\right)}}{\\epsilon} - \\frac{k_{E} \\mu_{I} \\operatorname{y_{I}}{\\left(t \\right)}}{k_{I}} - \\frac{k_{E} \\frac{d}{d t} \\operatorname{y_{I}}{\\left(t \\right)}}{k_{I}} - \\mu_{E} \\operatorname{y_{E}}{\\left(t \\right)} + \\frac{k_{E} \\mu_{I} \\operatorname{y_{I}}{\\left(t \\right)}}{\\epsilon k_{I}} + \\frac{k_{E} \\frac{d}{d t} \\operatorname{y_{I}}{\\left(t \\right)}}{\\epsilon k_{I}}\\quad\\,.\\label{eq:ODE_y_E_2}\n",
    "\\end{equation}\n",
    "\n",
    "# The infinitesimal generator of the Lie group for a parameter symmetry\n",
    "Next, we are looking at the second porlongation of the infinitesimal generator of the Lie group $X^{(2)}$ which differentiate this equation with respect to the parameters $(c,\\beta,\\delta,\\epsilon,\\mu_{S},\\mu_{E},\\mu_{I},k_{I},k_{E})$. Let's define tangents for all of these characters! Basically the second prolongation of the generator looks as follows:\n",
    "\n",
    "\\begin{equation}\n",
    "X=\\chi_{c}\\partial_{c}+\\chi_{\\beta}\\partial_{\\beta}+\\chi_{\\epsilon}\\partial_{\\epsilon}+\\chi_{\\mu_S}\\partial_{\\mu_S}+\\chi_{\\mu_E}\\partial_{\\mu_E}+\\chi_{\\mu_I}\\partial_{\\mu_I}+\\chi_{k_{I}}\\partial_{k_{I}}+\\chi_{k_{E}}\\partial_{k_{E}}\\,.\n",
    "\\label{eq:generator}\n",
    "\\end{equation}\n",
    "Next, we want $X$ to be able to act on our two ODEs. In order for this to work we need to be able to differentiate our ODEs with respect to the independent variable, the dependent variables, the derivatives of the dependent variables and all parameters. Let's explore how this is done next!"
   ]
  },
  {
   "cell_type": "code",
   "execution_count": 6,
   "id": "7471bee4",
   "metadata": {},
   "outputs": [
    {
     "name": "stdout",
     "output_type": "stream",
     "text": [
      "frac((beta*k_E**2*k_I**2*(c*chi_epsilon(c, beta, delta, epsilon, mu_S, mu_E, mu_I, k_I, k_E) + epsilon*chi_c(c, beta, delta, epsilon, mu_S, mu_E, mu_I, k_I, k_E))*y_I(t)**2 - delta*k_I**2*(-k_I*y_E(t)*Derivative(y_I(t), t) + (beta*y_E(t)*y_I(t) + k_I*mu_S*y_E(t) + k_I*Derivative(y_E(t), t))*y_I(t))*chi_k_E(c, beta, delta, epsilon, mu_S, mu_E, mu_I, k_I, k_E) - k_E**2*k_I*(beta*y_I(t) + k_I*mu_S)*chi_mu_I(c, beta, delta, epsilon, mu_S, mu_E, mu_I, k_I, k_E)*y_I(t)**2 - k_E*k_I**2*(-delta*k_I*y_E(t) + k_E*(mu_I*y_I(t) + Derivative(y_I(t), t)))*chi_mu_S(c, beta, delta, epsilon, mu_S, mu_E, mu_I, k_I, k_E)*y_I(t) + k_E*k_I**2*(-k_I*y_E(t)*Derivative(y_I(t), t) + (beta*y_E(t)*y_I(t) + k_I*mu_S*y_E(t) + k_I*Derivative(y_E(t), t))*y_I(t))*chi_delta(c, beta, delta, epsilon, mu_S, mu_E, mu_I, k_I, k_E) + k_E*k_I*(c*epsilon*k_E*k_I + delta*k_I*y_E(t) - k_E*(mu_I*y_I(t) + Derivative(y_I(t), t)))*chi_beta(c, beta, delta, epsilon, mu_S, mu_E, mu_I, k_I, k_E)*y_I(t)**2 + k_E*(beta*k_E*(mu_I*y_I(t) + Derivative(y_I(t), t))*y_I(t)**2 + delta*k_I**2*(mu_S*y_E(t) + Derivative(y_E(t), t))*y_I(t) - delta*k_I**2*y_E(t)*Derivative(y_I(t), t))*chi_k_I(c, beta, delta, epsilon, mu_S, mu_E, mu_I, k_I, k_E))/(k_E**2*k_I**2*y_I(t)))\n",
      "frac((-epsilon**2*k_I**2*chi_mu_E(c, beta, delta, epsilon, mu_S, mu_E, mu_I, k_I, k_E)*y_E(t) + epsilon*k_E*(epsilon*(mu_I*y_I(t) + Derivative(y_I(t), t)) - mu_I*y_I(t) - Derivative(y_I(t), t))*chi_k_I(c, beta, delta, epsilon, mu_S, mu_E, mu_I, k_I, k_E) - epsilon*k_I**2*chi_delta(c, beta, delta, epsilon, mu_S, mu_E, mu_I, k_I, k_E)*y_E(t) - epsilon*k_I*(k_E*(epsilon - 1)*chi_mu_I(c, beta, delta, epsilon, mu_S, mu_E, mu_I, k_I, k_E)*y_I(t) + (epsilon*(mu_I*y_I(t) + Derivative(y_I(t), t)) - mu_I*y_I(t) - Derivative(y_I(t), t))*chi_k_E(c, beta, delta, epsilon, mu_S, mu_E, mu_I, k_I, k_E)) - k_I*(-delta*k_I*y_E(t) + k_E*(mu_I*y_I(t) + Derivative(y_I(t), t)))*chi_epsilon(c, beta, delta, epsilon, mu_S, mu_E, mu_I, k_I, k_E))/(epsilon**2*k_I**2))\n",
      "The linearised symmetry conditions:\n",
      "\\begin{align}\n",
      "0 = \\beta c k_{E}^{2} k_{I}^{2} \\chi_{\\epsilon} \\operatorname{y_{I}}^{2}{\\left(t \\right)} - \\beta \\delta k_{I}^{2} \\chi_{k E} \\operatorname{y_{E}}{\\left(t \\right)} \\operatorname{y_{I}}^{2}{\\left(t \\right)} + \\beta \\epsilon k_{E}^{2} k_{I}^{2} \\chi_{c} \\operatorname{y_{I}}^{2}{\\left(t \\right)} - \\beta k_{E}^{2} k_{I} \\chi_{\\mu I} \\operatorname{y_{I}}^{3}{\\left(t \\right)} + \\beta k_{E}^{2} \\mu_{I} \\chi_{k I} \\operatorname{y_{I}}^{3}{\\left(t \\right)} + \\beta k_{E}^{2} \\chi_{k I} \\operatorname{y_{I}}^{2}{\\left(t \\right)} \\frac{d}{d t} \\operatorname{y_{I}}{\\left(t \\right)} + \\beta k_{E} k_{I}^{2} \\chi_{\\delta} \\operatorname{y_{E}}{\\left(t \\right)} \\operatorname{y_{I}}^{2}{\\left(t \\right)} + c \\epsilon k_{E}^{2} k_{I}^{2} \\chi_{\\beta} \\operatorname{y_{I}}^{2}{\\left(t \\right)} + \\delta k_{E} k_{I}^{3} \\chi_{\\mu S} \\operatorname{y_{E}}{\\left(t \\right)} \\operatorname{y_{I}}{\\left(t \\right)} + \\delta k_{E} k_{I}^{2} \\mu_{S} \\chi_{k I} \\operatorname{y_{E}}{\\left(t \\right)} \\operatorname{y_{I}}{\\left(t \\right)} + \\delta k_{E} k_{I}^{2} \\chi_{\\beta} \\operatorname{y_{E}}{\\left(t \\right)} \\operatorname{y_{I}}^{2}{\\left(t \\right)} - \\delta k_{E} k_{I}^{2} \\chi_{k I} \\operatorname{y_{E}}{\\left(t \\right)} \\frac{d}{d t} \\operatorname{y_{I}}{\\left(t \\right)} + \\delta k_{E} k_{I}^{2} \\chi_{k I} \\operatorname{y_{I}}{\\left(t \\right)} \\frac{d}{d t} \\operatorname{y_{E}}{\\left(t \\right)} - \\delta k_{I}^{3} \\mu_{S} \\chi_{k E} \\operatorname{y_{E}}{\\left(t \\right)} \\operatorname{y_{I}}{\\left(t \\right)} + \\delta k_{I}^{3} \\chi_{k E} \\operatorname{y_{E}}{\\left(t \\right)} \\frac{d}{d t} \\operatorname{y_{I}}{\\left(t \\right)} - \\delta k_{I}^{3} \\chi_{k E} \\operatorname{y_{I}}{\\left(t \\right)} \\frac{d}{d t} \\operatorname{y_{E}}{\\left(t \\right)} - k_{E}^{2} k_{I}^{2} \\mu_{I} \\chi_{\\mu S} \\operatorname{y_{I}}^{2}{\\left(t \\right)} - k_{E}^{2} k_{I}^{2} \\mu_{S} \\chi_{\\mu I} \\operatorname{y_{I}}^{2}{\\left(t \\right)} - k_{E}^{2} k_{I}^{2} \\chi_{\\mu S} \\operatorname{y_{I}}{\\left(t \\right)} \\frac{d}{d t} \\operatorname{y_{I}}{\\left(t \\right)} - k_{E}^{2} k_{I} \\mu_{I} \\chi_{\\beta} \\operatorname{y_{I}}^{3}{\\left(t \\right)} - k_{E}^{2} k_{I} \\chi_{\\beta} \\operatorname{y_{I}}^{2}{\\left(t \\right)} \\frac{d}{d t} \\operatorname{y_{I}}{\\left(t \\right)} + k_{E} k_{I}^{3} \\mu_{S} \\chi_{\\delta} \\operatorname{y_{E}}{\\left(t \\right)} \\operatorname{y_{I}}{\\left(t \\right)} - k_{E} k_{I}^{3} \\chi_{\\delta} \\operatorname{y_{E}}{\\left(t \\right)} \\frac{d}{d t} \\operatorname{y_{I}}{\\left(t \\right)} + k_{E} k_{I}^{3} \\chi_{\\delta} \\operatorname{y_{I}}{\\left(t \\right)} \\frac{d}{d t} \\operatorname{y_{E}}{\\left(t \\right)}\\,,\\label{eq:lin_sym_1}\\\\\n",
      "0 = \\delta k_{I}^{2} \\chi_{\\epsilon} \\operatorname{y_{E}}{\\left(t \\right)} - \\epsilon^{2} k_{E} k_{I} \\chi_{\\mu I} \\operatorname{y_{I}}{\\left(t \\right)} + \\epsilon^{2} k_{E} \\mu_{I} \\chi_{k I} \\operatorname{y_{I}}{\\left(t \\right)} + \\epsilon^{2} k_{E} \\chi_{k I} \\frac{d}{d t} \\operatorname{y_{I}}{\\left(t \\right)} - \\epsilon^{2} k_{I}^{2} \\chi_{\\mu E} \\operatorname{y_{E}}{\\left(t \\right)} - \\epsilon^{2} k_{I} \\mu_{I} \\chi_{k E} \\operatorname{y_{I}}{\\left(t \\right)} - \\epsilon^{2} k_{I} \\chi_{k E} \\frac{d}{d t} \\operatorname{y_{I}}{\\left(t \\right)} + \\epsilon k_{E} k_{I} \\chi_{\\mu I} \\operatorname{y_{I}}{\\left(t \\right)} - \\epsilon k_{E} \\mu_{I} \\chi_{k I} \\operatorname{y_{I}}{\\left(t \\right)} - \\epsilon k_{E} \\chi_{k I} \\frac{d}{d t} \\operatorname{y_{I}}{\\left(t \\right)} - \\epsilon k_{I}^{2} \\chi_{\\delta} \\operatorname{y_{E}}{\\left(t \\right)} + \\epsilon k_{I} \\mu_{I} \\chi_{k E} \\operatorname{y_{I}}{\\left(t \\right)} + \\epsilon k_{I} \\chi_{k E} \\frac{d}{d t} \\operatorname{y_{I}}{\\left(t \\right)} - k_{E} k_{I} \\mu_{I} \\chi_{\\epsilon} \\operatorname{y_{I}}{\\left(t \\right)} - k_{E} k_{I} \\chi_{\\epsilon} \\frac{d}{d t} \\operatorname{y_{I}}{\\left(t \\right)}\\,,\\label{eq:lin_sym_2}\\\\\n",
      "\\end{align}\n"
     ]
    }
   ],
   "source": [
    "# Define our lovely infinitesimals in the parameter directions\n",
    "chi_c = Function('chi_c')(c,beta,delta,epsilon,mu_S,mu_E,mu_I,k_I,k_E) # infinitesimal in c\n",
    "chi_beta = Function('chi_beta')(c,beta,delta,epsilon,mu_S,mu_E,mu_I,k_I,k_E) # infinitesimal in beta\n",
    "chi_delta = Function('chi_delta')(c,beta,delta,epsilon,mu_S,mu_E,mu_I,k_I,k_E) # infinitesimal in delta\n",
    "chi_epsilon = Function('chi_epsilon')(c,beta,delta,epsilon,mu_S,mu_E,mu_I,k_I,k_E) # infinitesimal in epsilon\n",
    "chi_mu_S = Function('chi_mu_S')(c,beta,delta,epsilon,mu_S,mu_E,mu_I,k_I,k_E) # infinitesimal in mu_S\n",
    "chi_mu_E = Function('chi_mu_E')(c,beta,delta,epsilon,mu_S,mu_E,mu_I,k_I,k_E) # infinitesimal in mu_E\n",
    "chi_mu_I = Function('chi_mu_I')(c,beta,delta,epsilon,mu_S,mu_E,mu_I,k_I,k_E) # infinitesimal in mu_I\n",
    "chi_k_I = Function('chi_k_I')(c,beta,delta,epsilon,mu_S,mu_E,mu_I,k_I,k_E) # infinitesimal in k_I\n",
    "chi_k_E = Function('chi_k_E')(c,beta,delta,epsilon,mu_S,mu_E,mu_I,k_I,k_E) # infinitesimal in k_E\n",
    "# Ok, define a giant vector with the infinitesimals and the thing we are differentiating with respect to\n",
    "# Parameters\n",
    "differentiation_vector = [(c, chi_c)]\n",
    "differentiation_vector.append((beta, chi_beta))\n",
    "differentiation_vector.append((delta, chi_delta))\n",
    "differentiation_vector.append((epsilon, chi_epsilon))\n",
    "differentiation_vector.append((mu_S, chi_mu_S))\n",
    "differentiation_vector.append((mu_E, chi_mu_E))\n",
    "differentiation_vector.append((mu_I, chi_mu_I))\n",
    "differentiation_vector.append((k_I, chi_k_I))\n",
    "differentiation_vector.append((k_E, chi_k_E))\n",
    "\n",
    "# Allocate memory for our linearised symmetry condition! \n",
    "lin_syms = []\n",
    "# Allocate an ODE list\n",
    "ODEs = [ODE_y_I, ODE_y_E]\n",
    "# Allocate a LHS and a RHS\n",
    "LHS = 0\n",
    "RHS = 0\n",
    "# Loop over the ODEs\n",
    "for ODE in ODEs:\n",
    "    # Allocate a LHS and a RHS\n",
    "    LHS = 0\n",
    "    RHS = 0\n",
    "    # Loop over the things we differentiate w.r.t. called x and multiply by the coefficient k.\n",
    "    # Then, we add to the the product k*x to our linearised symmetry condition.\n",
    "    for x,k in differentiation_vector:\n",
    "        LHS += k*Derivative(ODE.lhs,x).doit()\n",
    "        RHS += k*Derivative(ODE.rhs,x).doit()\n",
    "    # Simplify our RHS\n",
    "    print(frac(simplify(RHS)))\n",
    "    RHS,denom = fraction(simplify(RHS))\n",
    "    # Lastly, we save our newly synthesised linearised symmetry condition\n",
    "    lin_syms.append(Eq(expand(LHS),expand(RHS)))\n",
    "# Print the linearised symmetry conditions\n",
    "lin_sym_str = \"\\\\begin{align}\\n\"\n",
    "for index,lin_sym in enumerate(lin_syms):\n",
    "    lin_sym_str += latex(lin_sym)\n",
    "    lin_sym_str += \"\\\\,,\\\\label{eq:lin_sym_\" + str(index+1) + \"}\\\\\\\\\\n\"\n",
    "lin_sym_str += \"\\\\end{align}\"    \n",
    "lin_sym_str = lin_sym_str.replace(\"{\\\\left(c,\\\\beta,\\\\delta,\\\\epsilon,\\\\mu_{S},\\\\mu_{E},\\\\mu_{I},k_{I},k_{E} \\\\right)}\",\"\").replace(\"\\frac{d}{d t}\",\"\\frac{\\\\mathrm{d}{\\\\mathrm{d} t}\".replace(\"=\",\"&=\").replace(\"mu \",\"mu\\\\_\"))\n",
    "print(\"The linearised symmetry conditions:\")\n",
    "print(lin_sym_str)"
   ]
  },
  {
   "cell_type": "markdown",
   "id": "ed533e7f",
   "metadata": {},
   "source": [
    "\\begin{align}\n",
    "0 = \\beta c k_{E}^{2} k_{I}^{2} \\chi_{\\epsilon} \\operatorname{y_{I}}^{2}{\\left(t \\right)} - \\beta \\delta k_{I}^{2} \\chi_{k E} \\operatorname{y_{E}}{\\left(t \\right)} \\operatorname{y_{I}}^{2}{\\left(t \\right)} + \\beta \\epsilon k_{E}^{2} k_{I}^{2} \\chi_{c} \\operatorname{y_{I}}^{2}{\\left(t \\right)} - \\beta k_{E}^{2} k_{I} \\chi_{\\mu I} \\operatorname{y_{I}}^{3}{\\left(t \\right)} + \\beta k_{E}^{2} \\mu_{I} \\chi_{k I} \\operatorname{y_{I}}^{3}{\\left(t \\right)} + \\beta k_{E}^{2} \\chi_{k I} \\operatorname{y_{I}}^{2}{\\left(t \\right)} \\frac{d}{d t} \\operatorname{y_{I}}{\\left(t \\right)} + \\beta k_{E} k_{I}^{2} \\chi_{\\delta} \\operatorname{y_{E}}{\\left(t \\right)} \\operatorname{y_{I}}^{2}{\\left(t \\right)} + c \\epsilon k_{E}^{2} k_{I}^{2} \\chi_{\\beta} \\operatorname{y_{I}}^{2}{\\left(t \\right)} + \\delta k_{E} k_{I}^{3} \\chi_{\\mu S} \\operatorname{y_{E}}{\\left(t \\right)} \\operatorname{y_{I}}{\\left(t \\right)} + \\delta k_{E} k_{I}^{2} \\mu_{S} \\chi_{k I} \\operatorname{y_{E}}{\\left(t \\right)} \\operatorname{y_{I}}{\\left(t \\right)} + \\delta k_{E} k_{I}^{2} \\chi_{\\beta} \\operatorname{y_{E}}{\\left(t \\right)} \\operatorname{y_{I}}^{2}{\\left(t \\right)} - \\delta k_{E} k_{I}^{2} \\chi_{k I} \\operatorname{y_{E}}{\\left(t \\right)} \\frac{d}{d t} \\operatorname{y_{I}}{\\left(t \\right)} + \\delta k_{E} k_{I}^{2} \\chi_{k I} \\operatorname{y_{I}}{\\left(t \\right)} \\frac{d}{d t} \\operatorname{y_{E}}{\\left(t \\right)} - \\delta k_{I}^{3} \\mu_{S} \\chi_{k E} \\operatorname{y_{E}}{\\left(t \\right)} \\operatorname{y_{I}}{\\left(t \\right)} + \\delta k_{I}^{3} \\chi_{k E} \\operatorname{y_{E}}{\\left(t \\right)} \\frac{d}{d t} \\operatorname{y_{I}}{\\left(t \\right)} - \\delta k_{I}^{3} \\chi_{k E} \\operatorname{y_{I}}{\\left(t \\right)} \\frac{d}{d t} \\operatorname{y_{E}}{\\left(t \\right)} - k_{E}^{2} k_{I}^{2} \\mu_{I} \\chi_{\\mu S} \\operatorname{y_{I}}^{2}{\\left(t \\right)} - k_{E}^{2} k_{I}^{2} \\mu_{S} \\chi_{\\mu I} \\operatorname{y_{I}}^{2}{\\left(t \\right)} - k_{E}^{2} k_{I}^{2} \\chi_{\\mu S} \\operatorname{y_{I}}{\\left(t \\right)} \\frac{d}{d t} \\operatorname{y_{I}}{\\left(t \\right)} - k_{E}^{2} k_{I} \\mu_{I} \\chi_{\\beta} \\operatorname{y_{I}}^{3}{\\left(t \\right)} - k_{E}^{2} k_{I} \\chi_{\\beta} \\operatorname{y_{I}}^{2}{\\left(t \\right)} \\frac{d}{d t} \\operatorname{y_{I}}{\\left(t \\right)} + k_{E} k_{I}^{3} \\mu_{S} \\chi_{\\delta} \\operatorname{y_{E}}{\\left(t \\right)} \\operatorname{y_{I}}{\\left(t \\right)} - k_{E} k_{I}^{3} \\chi_{\\delta} \\operatorname{y_{E}}{\\left(t \\right)} \\frac{d}{d t} \\operatorname{y_{I}}{\\left(t \\right)} + k_{E} k_{I}^{3} \\chi_{\\delta} \\operatorname{y_{I}}{\\left(t \\right)} \\frac{d}{d t} \\operatorname{y_{E}}{\\left(t \\right)}\\,,\\label{eq:lin_sym_1}\\\\\n",
    "0 = \\delta k_{I}^{2} \\chi_{\\epsilon} \\operatorname{y_{E}}{\\left(t \\right)} - \\epsilon^{2} k_{E} k_{I} \\chi_{\\mu I} \\operatorname{y_{I}}{\\left(t \\right)} + \\epsilon^{2} k_{E} \\mu_{I} \\chi_{k I} \\operatorname{y_{I}}{\\left(t \\right)} + \\epsilon^{2} k_{E} \\chi_{k I} \\frac{d}{d t} \\operatorname{y_{I}}{\\left(t \\right)} - \\epsilon^{2} k_{I}^{2} \\chi_{\\mu E} \\operatorname{y_{E}}{\\left(t \\right)} - \\epsilon^{2} k_{I} \\mu_{I} \\chi_{k E} \\operatorname{y_{I}}{\\left(t \\right)} - \\epsilon^{2} k_{I} \\chi_{k E} \\frac{d}{d t} \\operatorname{y_{I}}{\\left(t \\right)} + \\epsilon k_{E} k_{I} \\chi_{\\mu I} \\operatorname{y_{I}}{\\left(t \\right)} - \\epsilon k_{E} \\mu_{I} \\chi_{k I} \\operatorname{y_{I}}{\\left(t \\right)} - \\epsilon k_{E} \\chi_{k I} \\frac{d}{d t} \\operatorname{y_{I}}{\\left(t \\right)} - \\epsilon k_{I}^{2} \\chi_{\\delta} \\operatorname{y_{E}}{\\left(t \\right)} + \\epsilon k_{I} \\mu_{I} \\chi_{k E} \\operatorname{y_{I}}{\\left(t \\right)} + \\epsilon k_{I} \\chi_{k E} \\frac{d}{d t} \\operatorname{y_{I}}{\\left(t \\right)} - k_{E} k_{I} \\mu_{I} \\chi_{\\epsilon} \\operatorname{y_{I}}{\\left(t \\right)} - k_{E} k_{I} \\chi_{\\epsilon} \\frac{d}{d t} \\operatorname{y_{I}}{\\left(t \\right)}\\,,\\label{eq:lin_sym_2}\\\\\n",
    "\\end{align}"
   ]
  },
  {
   "cell_type": "code",
   "execution_count": 7,
   "id": "058e7e42",
   "metadata": {},
   "outputs": [
    {
     "name": "stdout",
     "output_type": "stream",
     "text": [
      "Determining equations for symmetry condition 1:\n",
      "\\begin{align}\n",
      "\\operatorname{y_{E}}{\\left(t \\right)} \\frac{d}{d t} \\operatorname{y_{I}}{\\left(t \\right)}:&- \\delta k_{E} k_{I}^{2} \\chi_{k I} + \\delta k_{I}^{3} \\chi_{k E} - k_{E} k_{I}^{3} \\chi_{\\delta}&=0\\,,\\label{eq:det_eq_1}\\\\\\operatorname{y_{I}}{\\left(t \\right)} \\frac{d}{d t} \\operatorname{y_{E}}{\\left(t \\right)}:&\\delta k_{E} k_{I}^{2} \\chi_{k I} - \\delta k_{I}^{3} \\chi_{k E} + k_{E} k_{I}^{3} \\chi_{\\delta}&=0\\,,\\label{eq:det_eq_2}\\\\\\operatorname{y_{I}}{\\left(t \\right)} \\frac{d}{d t} \\operatorname{y_{I}}{\\left(t \\right)}:&- k_{E}^{2} k_{I}^{2} \\chi_{\\mu S}&=0\\,,\\label{eq:det_eq_3}\\\\\\operatorname{y_{E}}{\\left(t \\right)} \\operatorname{y_{I}}{\\left(t \\right)}:&\\delta k_{E} k_{I}^{3} \\chi_{\\mu S} + \\delta k_{E} k_{I}^{2} \\mu_{S} \\chi_{k I} - \\delta k_{I}^{3} \\mu_{S} \\chi_{k E} + k_{E} k_{I}^{3} \\mu_{S} \\chi_{\\delta}&=0\\,,\\label{eq:det_eq_4}\\\\\\operatorname{y_{I}}^{2}{\\left(t \\right)}:&\\beta c k_{E}^{2} k_{I}^{2} \\chi_{\\epsilon} + \\beta \\epsilon k_{E}^{2} k_{I}^{2} \\chi_{c} + c \\epsilon k_{E}^{2} k_{I}^{2} \\chi_{\\beta} - k_{E}^{2} k_{I}^{2} \\mu_{I} \\chi_{\\mu S} - k_{E}^{2} k_{I}^{2} \\mu_{S} \\chi_{\\mu I}&=0\\,,\\label{eq:det_eq_5}\\\\\\operatorname{y_{I}}^{2}{\\left(t \\right)} \\frac{d}{d t} \\operatorname{y_{I}}{\\left(t \\right)}:&\\beta k_{E}^{2} \\chi_{k I} - k_{E}^{2} k_{I} \\chi_{\\beta}&=0\\,,\\label{eq:det_eq_6}\\\\\\operatorname{y_{E}}{\\left(t \\right)} \\operatorname{y_{I}}^{2}{\\left(t \\right)}:&- \\beta \\delta k_{I}^{2} \\chi_{k E} + \\beta k_{E} k_{I}^{2} \\chi_{\\delta} + \\delta k_{E} k_{I}^{2} \\chi_{\\beta}&=0\\,,\\label{eq:det_eq_7}\\\\\\operatorname{y_{I}}^{3}{\\left(t \\right)}:&- \\beta k_{E}^{2} k_{I} \\chi_{\\mu I} + \\beta k_{E}^{2} \\mu_{I} \\chi_{k I} - k_{E}^{2} k_{I} \\mu_{I} \\chi_{\\beta}&=0\\,,\\label{eq:det_eq_8}\\\\\n",
      "\\end{align}\n",
      "Determining equations for symmetry condition 2:\n",
      "\\begin{align}\n",
      "\\frac{d}{d t} \\operatorname{y_{I}}{\\left(t \\right)}:&\\epsilon^{2} k_{E} \\chi_{k I} - \\epsilon^{2} k_{I} \\chi_{k E} - \\epsilon k_{E} \\chi_{k I} + \\epsilon k_{I} \\chi_{k E} - k_{E} k_{I} \\chi_{\\epsilon}&=0\\,,\\label{eq:det_eq_9}\\\\\\operatorname{y_{E}}{\\left(t \\right)}:&\\delta k_{I}^{2} \\chi_{\\epsilon} - \\epsilon^{2} k_{I}^{2} \\chi_{\\mu E} - \\epsilon k_{I}^{2} \\chi_{\\delta}&=0\\,,\\label{eq:det_eq_10}\\\\\\operatorname{y_{I}}{\\left(t \\right)}:&- \\epsilon^{2} k_{E} k_{I} \\chi_{\\mu I} + \\epsilon^{2} k_{E} \\mu_{I} \\chi_{k I} - \\epsilon^{2} k_{I} \\mu_{I} \\chi_{k E} + \\epsilon k_{E} k_{I} \\chi_{\\mu I} - \\epsilon k_{E} \\mu_{I} \\chi_{k I} + \\epsilon k_{I} \\mu_{I} \\chi_{k E} - k_{E} k_{I} \\mu_{I} \\chi_{\\epsilon}&=0\\,,\\label{eq:det_eq_11}\\\\\n",
      "\\end{align}\n",
      "\n"
     ]
    }
   ],
   "source": [
    "# For manipulating monomials\n",
    "from sympy.polys.monomials import itermonomials\n",
    "from sympy.polys.orderings import monomial_key\n",
    "\n",
    "# Ok, we construct some monomials\n",
    "monomials = sorted(itermonomials([y_I, y_E, Derivative(y_I,t,1),Derivative(y_E,t,1)], 4),key=monomial_key('grlex', [y_I, y_E, Derivative(y_I,t,1), Derivative(y_E,t,1)]))\n",
    "# States\n",
    "states = [y_I, y_E, Derivative(y_I,t,1),Derivative(y_E,t,1)]\n",
    "# Allocate our determining equations\n",
    "det_eqs = []\n",
    "# Allocate a temporary equation\n",
    "temp_eq = 0\n",
    "# Allocate a temp equation\n",
    "# Loop over the linearised symmetry conditions:\n",
    "for index,lin_sym in enumerate(lin_syms):\n",
    "    # Loop over monomials and extract determining equations\n",
    "    for monomial in monomials:\n",
    "        # Extract a symmetry condition\n",
    "        temp_eq = lin_sym.rhs\n",
    "        # Special case when the monomial is 1\n",
    "        if monomial==1:\n",
    "            # For this special case we save only the constant term\n",
    "            # by setting all derivatives and states to zero\n",
    "            for state in states:\n",
    "                temp_eq = temp_eq.subs(state,0).doit()\n",
    "        else:\n",
    "            # Extract the coefficient\n",
    "            temp_eq = temp_eq.coeff(monomial)\n",
    "            # Just to be sure we only save the constant thingy\n",
    "            for state in states:\n",
    "                temp_eq = temp_eq.subs(state,0).doit()\n",
    "        # Save all non-zero determining equations\n",
    "        if temp_eq != 0:\n",
    "            det_eqs.append((index+1,monomial,temp_eq))\n",
    "\n",
    "# Print this in latex\n",
    "latex_string = \"\"\n",
    "# Allocate the previous index\n",
    "index_previous = 1\n",
    "# Loop over determining equations\n",
    "for index,tuple_temp in enumerate(det_eqs):\n",
    "    # Symmetry condition, monomial and determining equation\n",
    "    lin_sym,monomial,det_eq = tuple_temp\n",
    "    # Print that we are \n",
    "    if index == 0:\n",
    "        latex_string += \"Determining equations for symmetry condition \" + str(lin_sym) + \":\\n\"\n",
    "        latex_string += \"\\\\begin{align}\\n\"\n",
    "    elif lin_sym > index_previous:\n",
    "        latex_string += \"\\n\\\\end{align}\\n\"\n",
    "        latex_string += \"Determining equations for symmetry condition \" + str(lin_sym) + \":\\n\"\n",
    "        latex_string += \"\\\\begin{align}\\n\"\n",
    "    # Add the equation itself\n",
    "    latex_string += latex(monomial) + \":&\" + latex(det_eq) + \"&=0\\\\,,\\\\label{eq:det_eq_\" + str(index+1) + \"}\\\\\\\\\"\n",
    "    # Update the previous index    \n",
    "    index_previous = lin_sym\n",
    "# Add an end aling, hey?\n",
    "latex_string += \"\\n\\\\end{align}\\n\"\n",
    "# Lastly, fix the notation in the string\n",
    "latex_string = latex_string.replace(\"{\\\\left(c,\\\\beta,\\\\delta,\\\\epsilon,\\\\mu_{S},\\\\mu_{E},\\\\mu_{I},k_{I},k_{E} \\\\right)}\",\"\")\n",
    "# Print the equations we are dealing with\n",
    "print(latex_string)"
   ]
  },
  {
   "cell_type": "markdown",
   "id": "a127c38f",
   "metadata": {},
   "source": [
    "Determining equations for symmetry condition 1:\n",
    "\\begin{align}\n",
    "\\operatorname{y_{E}}{\\left(t \\right)} \\frac{d}{d t} \\operatorname{y_{I}}{\\left(t \\right)}:&- \\delta k_{E} k_{I}^{2} \\chi_{k I} + \\delta k_{I}^{3} \\chi_{k E} - k_{E} k_{I}^{3} \\chi_{\\delta}&=0\\,,\\label{eq:det_eq_1}\\\\\\operatorname{y_{I}}{\\left(t \\right)} \\frac{d}{d t} \\operatorname{y_{E}}{\\left(t \\right)}:&\\delta k_{E} k_{I}^{2} \\chi_{k I} - \\delta k_{I}^{3} \\chi_{k E} + k_{E} k_{I}^{3} \\chi_{\\delta}&=0\\,,\\label{eq:det_eq_2}\\\\\\operatorname{y_{I}}{\\left(t \\right)} \\frac{d}{d t} \\operatorname{y_{I}}{\\left(t \\right)}:&- k_{E}^{2} k_{I}^{2} \\chi_{\\mu S}&=0\\,,\\label{eq:det_eq_3}\\\\\\operatorname{y_{E}}{\\left(t \\right)} \\operatorname{y_{I}}{\\left(t \\right)}:&\\delta k_{E} k_{I}^{3} \\chi_{\\mu S} + \\delta k_{E} k_{I}^{2} \\mu_{S} \\chi_{k I} - \\delta k_{I}^{3} \\mu_{S} \\chi_{k E} + k_{E} k_{I}^{3} \\mu_{S} \\chi_{\\delta}&=0\\,,\\label{eq:det_eq_4}\\\\\\operatorname{y_{I}}^{2}{\\left(t \\right)}:&\\beta c k_{E}^{2} k_{I}^{2} \\chi_{\\epsilon} + \\beta \\epsilon k_{E}^{2} k_{I}^{2} \\chi_{c} + c \\epsilon k_{E}^{2} k_{I}^{2} \\chi_{\\beta} - k_{E}^{2} k_{I}^{2} \\mu_{I} \\chi_{\\mu S} - k_{E}^{2} k_{I}^{2} \\mu_{S} \\chi_{\\mu I}&=0\\,,\\label{eq:det_eq_5}\\\\\\operatorname{y_{I}}^{2}{\\left(t \\right)} \\frac{d}{d t} \\operatorname{y_{I}}{\\left(t \\right)}:&\\beta k_{E}^{2} \\chi_{k I} - k_{E}^{2} k_{I} \\chi_{\\beta}&=0\\,,\\label{eq:det_eq_6}\\\\\\operatorname{y_{E}}{\\left(t \\right)} \\operatorname{y_{I}}^{2}{\\left(t \\right)}:&- \\beta \\delta k_{I}^{2} \\chi_{k E} + \\beta k_{E} k_{I}^{2} \\chi_{\\delta} + \\delta k_{E} k_{I}^{2} \\chi_{\\beta}&=0\\,,\\label{eq:det_eq_7}\\\\\\operatorname{y_{I}}^{3}{\\left(t \\right)}:&- \\beta k_{E}^{2} k_{I} \\chi_{\\mu I} + \\beta k_{E}^{2} \\mu_{I} \\chi_{k I} - k_{E}^{2} k_{I} \\mu_{I} \\chi_{\\beta}&=0\\,,\\label{eq:det_eq_8}\\\\\n",
    "\\end{align}\n",
    "Determining equations for symmetry condition 2:\n",
    "\\begin{align}\n",
    "\\frac{d}{d t} \\operatorname{y_{I}}{\\left(t \\right)}:&\\epsilon^{2} k_{E} \\chi_{k I} - \\epsilon^{2} k_{I} \\chi_{k E} - \\epsilon k_{E} \\chi_{k I} + \\epsilon k_{I} \\chi_{k E} - k_{E} k_{I} \\chi_{\\epsilon}&=0\\,,\\label{eq:det_eq_9}\\\\\\operatorname{y_{E}}{\\left(t \\right)}:&\\delta k_{I}^{2} \\chi_{\\epsilon} - \\epsilon^{2} k_{I}^{2} \\chi_{\\mu E} - \\epsilon k_{I}^{2} \\chi_{\\delta}&=0\\,,\\label{eq:det_eq_10}\\\\\\operatorname{y_{I}}{\\left(t \\right)}:&- \\epsilon^{2} k_{E} k_{I} \\chi_{\\mu I} + \\epsilon^{2} k_{E} \\mu_{I} \\chi_{k I} - \\epsilon^{2} k_{I} \\mu_{I} \\chi_{k E} + \\epsilon k_{E} k_{I} \\chi_{\\mu I} - \\epsilon k_{E} \\mu_{I} \\chi_{k I} + \\epsilon k_{I} \\mu_{I} \\chi_{k E} - k_{E} k_{I} \\mu_{I} \\chi_{\\epsilon}&=0\\,,\\label{eq:det_eq_11}\\\\\n",
    "\\end{align}\n",
    "This is a linear algebra problem which we solve by some matrix manipulations!\n",
    "\n",
    "\n"
   ]
  },
  {
   "cell_type": "code",
   "execution_count": 8,
   "id": "5ca5b536",
   "metadata": {},
   "outputs": [
    {
     "name": "stdout",
     "output_type": "stream",
     "text": [
      "Matrix for the linear system:\n",
      "\\begin{equation}\n",
      "\\left[\\begin{matrix}0 & 0 & - k_{E} k_{I}^{3} & 0 & 0 & 0 & 0 & - \\delta k_{E} k_{I}^{2} & \\delta k_{I}^{3}\\\\0 & 0 & k_{E} k_{I}^{3} & 0 & 0 & 0 & 0 & \\delta k_{E} k_{I}^{2} & - \\delta k_{I}^{3}\\\\0 & 0 & 0 & 0 & - k_{E}^{2} k_{I}^{2} & 0 & 0 & 0 & 0\\\\0 & 0 & k_{E} k_{I}^{3} \\mu_{S} & 0 & \\delta k_{E} k_{I}^{3} & 0 & 0 & \\delta k_{E} k_{I}^{2} \\mu_{S} & - \\delta k_{I}^{3} \\mu_{S}\\\\\\beta \\epsilon k_{E}^{2} k_{I}^{2} & c \\epsilon k_{E}^{2} k_{I}^{2} & 0 & \\beta c k_{E}^{2} k_{I}^{2} & - k_{E}^{2} k_{I}^{2} \\mu_{I} & 0 & - k_{E}^{2} k_{I}^{2} \\mu_{S} & 0 & 0\\\\0 & - k_{E}^{2} k_{I} & 0 & 0 & 0 & 0 & 0 & \\beta k_{E}^{2} & 0\\\\0 & \\delta k_{E} k_{I}^{2} & \\beta k_{E} k_{I}^{2} & 0 & 0 & 0 & 0 & 0 & - \\beta \\delta k_{I}^{2}\\\\0 & - k_{E}^{2} k_{I} \\mu_{I} & 0 & 0 & 0 & 0 & - \\beta k_{E}^{2} k_{I} & \\beta k_{E}^{2} \\mu_{I} & 0\\\\0 & 0 & 0 & - k_{E} k_{I} & 0 & 0 & 0 & \\epsilon^{2} k_{E} - \\epsilon k_{E} & - \\epsilon^{2} k_{I} + \\epsilon k_{I}\\\\0 & 0 & - \\epsilon k_{I}^{2} & \\delta k_{I}^{2} & 0 & - \\epsilon^{2} k_{I}^{2} & 0 & 0 & 0\\\\0 & 0 & 0 & - k_{E} k_{I} \\mu_{I} & 0 & 0 & - \\epsilon^{2} k_{E} k_{I} + \\epsilon k_{E} k_{I} & \\epsilon^{2} k_{E} \\mu_{I} - \\epsilon k_{E} \\mu_{I} & - \\epsilon^{2} k_{I} \\mu_{I} + \\epsilon k_{I} \\mu_{I}\\end{matrix}\\right]\\left[\\begin{matrix}\\chi_{c}\\\\\\chi_{\\beta}\\\\\\chi_{\\delta}\\\\\\chi_{\\epsilon}\\\\\\chi_{\\mu S}\\\\\\chi_{\\mu E}\\\\\\chi_{\\mu I}\\\\\\chi_{k I}\\\\\\chi_{k E}\\end{matrix}\\right]=\\left[\\begin{matrix}0\\\\0\\\\0\\\\0\\\\0\\\\0\\\\0\\\\0\\\\0\\end{matrix}\\right]\\,,\\label{eq:SEI_example_1_matrix}\n",
      "\\end{equation}\n"
     ]
    }
   ],
   "source": [
    "# Define our infinitesimals\n",
    "infinitesimals = [chi_c, chi_beta, chi_delta, chi_epsilon, chi_mu_S, chi_mu_E, chi_mu_I, chi_k_I, chi_k_E]\n",
    "# Define our matrix as a list of list\n",
    "M = []\n",
    "# Allocate a temporary equation\n",
    "temp_eq = 0\n",
    "# Loop over the determining equations, create a row and save it in the matrix\n",
    "for det_eq in det_eqs:\n",
    "    temp_eq = det_eq[-1]\n",
    "    row = []\n",
    "    for infinitesimal in infinitesimals:\n",
    "        row.append(temp_eq.coeff(infinitesimal))\n",
    "    M.append(row)\n",
    "# Cast the matrix as a matrix\n",
    "M = Matrix(M)\n",
    "inf_matrix = Matrix(infinitesimals)\n",
    "inf_matrix = inf_matrix\n",
    "RHS_matrix = zeros(len(infinitesimals),1)\n",
    "# Print the matrix as well\n",
    "print(\"Matrix for the linear system:\")\n",
    "matrix_string = \"\\\\begin{equation}\\n\"\n",
    "matrix_string += latex(M)\n",
    "matrix_string += latex(inf_matrix)\n",
    "matrix_string += \"=\"\n",
    "matrix_string += latex(RHS_matrix)\n",
    "matrix_string += \"\\\\,,\\\\label{eq:SEI_example_1_matrix}\\n\\\\end{equation}\"\n",
    "\n",
    "matrix_string = matrix_string.replace(\"{\\\\left(c,\\\\beta,\\\\delta,\\\\epsilon,\\\\mu_{S},\\\\mu_{E},\\\\mu_{I},k_{I},k_{E} \\\\right)}\",\"\")\n",
    "print(matrix_string)"
   ]
  },
  {
   "cell_type": "markdown",
   "id": "2bec6e43",
   "metadata": {},
   "source": [
    "Matrix for the linear system:\n",
    "\\begin{equation}\n",
    "\\left[\\begin{matrix}0 & 0 & - k_{E} k_{I}^{3} & 0 & 0 & 0 & 0 & - \\delta k_{E} k_{I}^{2} & \\delta k_{I}^{3}\\\\0 & 0 & k_{E} k_{I}^{3} & 0 & 0 & 0 & 0 & \\delta k_{E} k_{I}^{2} & - \\delta k_{I}^{3}\\\\0 & 0 & 0 & 0 & - k_{E}^{2} k_{I}^{2} & 0 & 0 & 0 & 0\\\\0 & 0 & k_{E} k_{I}^{3} \\mu_{S} & 0 & \\delta k_{E} k_{I}^{3} & 0 & 0 & \\delta k_{E} k_{I}^{2} \\mu_{S} & - \\delta k_{I}^{3} \\mu_{S}\\\\\\beta \\epsilon k_{E}^{2} k_{I}^{2} & c \\epsilon k_{E}^{2} k_{I}^{2} & 0 & \\beta c k_{E}^{2} k_{I}^{2} & - k_{E}^{2} k_{I}^{2} \\mu_{I} & 0 & - k_{E}^{2} k_{I}^{2} \\mu_{S} & 0 & 0\\\\0 & - k_{E}^{2} k_{I} & 0 & 0 & 0 & 0 & 0 & \\beta k_{E}^{2} & 0\\\\0 & \\delta k_{E} k_{I}^{2} & \\beta k_{E} k_{I}^{2} & 0 & 0 & 0 & 0 & 0 & - \\beta \\delta k_{I}^{2}\\\\0 & - k_{E}^{2} k_{I} \\mu_{I} & 0 & 0 & 0 & 0 & - \\beta k_{E}^{2} k_{I} & \\beta k_{E}^{2} \\mu_{I} & 0\\\\0 & 0 & 0 & - k_{E} k_{I} & 0 & 0 & 0 & \\epsilon^{2} k_{E} - \\epsilon k_{E} & - \\epsilon^{2} k_{I} + \\epsilon k_{I}\\\\0 & 0 & - \\epsilon k_{I}^{2} & \\delta k_{I}^{2} & 0 & - \\epsilon^{2} k_{I}^{2} & 0 & 0 & 0\\\\0 & 0 & 0 & - k_{E} k_{I} \\mu_{I} & 0 & 0 & - \\epsilon^{2} k_{E} k_{I} + \\epsilon k_{E} k_{I} & \\epsilon^{2} k_{E} \\mu_{I} - \\epsilon k_{E} \\mu_{I} & - \\epsilon^{2} k_{I} \\mu_{I} + \\epsilon k_{I} \\mu_{I}\\end{matrix}\\right]\\left[\\begin{matrix}\\chi_{c}\\\\\\chi_{\\beta}\\\\\\chi_{\\delta}\\\\\\chi_{\\epsilon}\\\\\\chi_{\\mu S}\\\\\\chi_{\\mu E}\\\\\\chi_{\\mu I}\\\\\\chi_{k I}\\\\\\chi_{k E}\\end{matrix}\\right]=\\left[\\begin{matrix}0\\\\0\\\\0\\\\0\\\\0\\\\0\\\\0\\\\0\\\\0\\end{matrix}\\right]\\,,\\label{eq:SEI_example_1_matrix}\n",
    "\\end{equation}\n",
    "\n",
    "So what we want is a basis for the null space? Or, any solution can be written as a linear combination of the basis vectors of the null space! Let's see if we can work this out using the method of characteristics!\n"
   ]
  },
  {
   "cell_type": "markdown",
   "metadata": {},
   "source": [
    "New attempt involving null-spaces..."
   ]
  },
  {
   "cell_type": "code",
   "execution_count": null,
   "id": "968ece60",
   "metadata": {},
   "outputs": [],
   "source": [
    "# Introduce two arbitrary parameters\n",
    "s, t = symbols('s t')\n",
    "# Null space solution\n",
    "b = simplify(s*k_I*M.nullspace()[0]+t*k_E*M.nullspace()[1])\n",
    "# Write our equation\n",
    "#final_matrix_solution = Eq(infinitesimals,b)\n",
    "#print(k_I*M.nullspace()[0])\n",
    "#Let's print the null space\n",
    "matrix_string = \"\\\\begin{equation}\\n\"\n",
    "matrix_string+= latex(Matrix(infinitesimals)).replace(\"{\\\\left(c,\\\\beta,\\\\delta,\\\\epsilon,\\\\mu_{S},\\\\mu_{E},\\\\mu_{I},k_{I},k_{E} \\\\right)}\",\"\") + \"=s\" + latex(simplify(k_I*M.nullspace()[0])) + \"+t\" + latex(simplify(k_E*M.nullspace()[1])) + \"=\" + latex(b) + \"\\\\,,\\\\label{eq:null_space_solution}\\n\\\\end{equation}\\n\"\n",
    "print(\"The infinitesimals are given by:\")\n",
    "print(matrix_string)\n",
    "\n",
    "#print(latex(M.nullspace(),mode='equation'))"
   ]
  },
  {
   "cell_type": "markdown",
   "id": "58edf15a",
   "metadata": {},
   "source": [
    "The infinitesimals are given by:\n",
    "\n",
    "\n",
    "\\begin{equation}\n",
    "\\left[\\begin{matrix}\\chi_{c}\\\\\\chi_{\\beta}\\\\\\chi_{\\delta}\\\\\\chi_{\\epsilon}\\\\\\chi_{\\mu_S}\\\\\\chi_{\\mu_E}\\\\\\chi_{\\mu_I}\\\\\\chi_{k_I}\\\\\\chi_{k_E}\\end{matrix}\\right]=s\\left[\\begin{matrix}- c \\epsilon\\\\\\beta\\\\- \\delta\\\\\\epsilon \\left(\\epsilon - 1\\right)\\\\0\\\\\\delta\\\\0\\\\k_{I}\\\\0\\end{matrix}\\right]+t\\left[\\begin{matrix}c \\left(\\epsilon - 1\\right)\\\\0\\\\\\delta\\\\\\epsilon \\left(1 - \\epsilon\\right)\\\\0\\\\- \\delta\\\\0\\\\0\\\\k_{E}\\end{matrix}\\right]=\\left[\\begin{matrix}c \\left(- \\epsilon s + t \\left(\\epsilon - 1\\right)\\right)\\\\\\beta s\\\\\\delta \\left(- s + t\\right)\\\\\\epsilon \\left(\\epsilon - 1\\right) \\left(s - t\\right)\\\\0\\\\\\delta \\left(s - t\\right)\\\\0\\\\k_{I} s\\\\k_{E} t\\end{matrix}\\right]\\,,\\label{eq:null_space_solution}\n",
    "\\end{equation}\n",
    "\n",
    "\n",
    "\n",
    "where $s,t$ are two arbitrary parameters. Now, we can use these infinitesimals to find the invariants using the method of characteristics."
   ]
  },
  {
   "cell_type": "markdown",
   "id": "84cd97ec",
   "metadata": {},
   "source": [
    "# Finding invariants using the method of characteristics.\n",
    "We are looking for all non-constant functions $I=I(c,\\beta,\\delta,\\epsilon,\\mu_{S},\\mu_{E},\\mu_{I},k_{I},k_{E})$ that satisfy:\n",
    "\\begin{equation}\n",
    "c \\left(t \\left(\\epsilon - 1\\right)- \\epsilon s\\right)\\frac{\\partial I}{\\partial c}+\\beta s\\frac{\\partial I}{\\partial\\beta}+\\delta \\left(t-s\\right)\\frac{\\partial I}{\\partial\\delta}+\\epsilon \\left(\\epsilon - 1\\right) \\left(s - t\\right)\\frac{\\partial I}{\\partial\\epsilon}+\\delta(s-t)\\frac{\\partial I}{\\partial \\mu_{E}}+k_{I}s\\frac{\\partial I}{\\partial k_{I}}+k_{E}t\\frac{\\partial I}{\\partial k_{E}}=0\\,.\n",
    "\\label{eq:invariant_equation}\n",
    "\\end{equation}\n",
    "Let $I$ be a curve that is parameterised by a parameter $x$, i.e. $I(x)=I(c(x),\\beta(x),\\delta(x),\\epsilon(x),\\mu_{S}(x),\\mu_{E}(x),\\mu_{I}(x),k_{I}(x),k_{E}(x))$. By the chain rule it follows that:\n",
    "\\begin{equation}\n",
    "\\frac{\\mathrm{d}I}{\\mathrm{d}x}=\\frac{\\mathrm{d}c}{\\mathrm{d}x}\\frac{\\partial I}{\\partial c}+\\frac{\\mathrm{d}\\beta}{\\mathrm{d}x}\\frac{\\partial I}{\\partial \\beta}+\\frac{\\mathrm{d}\\delta}{\\mathrm{d}x}\\frac{\\partial I}{\\partial \\delta}+\\frac{\\mathrm{d}\\epsilon}{\\mathrm{d}x}\\frac{\\partial I}{\\partial\\epsilon}+\\frac{\\mathrm{d}\\mu_{S}}{\\mathrm{d}x}\\frac{\\partial I}{\\partial \\mu_{S}}+\\frac{\\mathrm{d}\\mu_{E}}{\\mathrm{d}x}\\frac{\\partial I}{\\partial \\mu_{E}}+\\frac{\\mathrm{d}\\mu_{I}}{\\mathrm{d}x}\\frac{\\partial I}{\\partial \\mu_{I}}+\\frac{\\mathrm{d}k_{I}}{\\mathrm{d}x}\\frac{\\partial I}{\\partial k_{I}}+\\frac{\\mathrm{d}k_{E}}{\\mathrm{d}x}\\frac{\\partial I}{\\partial k_{E}}\n",
    "\\label{eq:chain_rule_SEI}\n",
    "\\end{equation}\n",
    "By comparing these two equations we obtain the following characteristic equations:\n",
    "\\begin{align}\n",
    "\\frac{\\mathrm{d}I}{\\mathrm{d}x}&=0\\,,\\label{eq:chara_I}\\\\\n",
    "\\frac{\\mathrm{d}c}{\\mathrm{d}x}&=c \\left(- \\epsilon s + t \\left(\\epsilon - 1\\right)\\right),\\label{eq:chara_c}\\\\\n",
    "\\frac{\\mathrm{d}\\beta}{\\mathrm{d}x}&=\\beta s\\,,\\label{eq:chara_beta}\\\\\n",
    "\\frac{\\mathrm{d}\\delta}{\\mathrm{d}x}&=\\delta(t-s)\\,,\\label{eq:chara_delta}\\\\\n",
    "\\frac{\\mathrm{d}\\epsilon}{\\mathrm{d}x}&=\\epsilon(\\epsilon-1)(s-t)\\,,\\label{eq:chara_epsilon}\\\\\n",
    "\\frac{\\mathrm{d}\\mu_{S}}{\\mathrm{d}x}&=0\\,,\\label{eq:chara_mu_S}\\\\\n",
    "\\frac{\\mathrm{d}\\mu_{E}}{\\mathrm{d}x}&=\\delta(s-t)\\,,\\label{eq:chara_mu_E}\\\\\n",
    "\\frac{\\mathrm{d}\\mu_{I}}{\\mathrm{d}x}&=0\\,,\\label{eq:chara_mu_I}\\\\\n",
    "\\frac{\\mathrm{d}k_{I}}{\\mathrm{d}x}&=k_{I}s\\,,\\label{eq:chara_k_I}\\\\\n",
    "\\frac{\\mathrm{d}k_{E}}{\\mathrm{d}x}&=k_{E}t\\,.\\label{eq:chara_k_E}\\\\\n",
    "\\end{align}\n",
    "From the first equation we see that all invariants are arbitrary integration constants, i.e. $I=C$, so we are looking for first integrals of all of these equations. \n",
    "\n",
    "Immediately, we see that two invariants are given by:\n",
    "\\begin{equation}\n",
    "r_{1}=\\mu_{S}\\quad,r_{2}=\\mu_{I}\\,,\n",
    "\\label{eq:pure_invariants}\n",
    "\\end{equation}\n",
    "which are the only pure invariants if you will. From the last two equations, we have that\n",
    "\\begin{equation}\n",
    "\\frac{\\mathrm{d}k_{I}}{\\mathrm{d}k_{E}}=\\left(\\frac{s}{t}\\right)\\frac{k_{I}}{k_{E}}\\,,\n",
    "\\end{equation}\n",
    "and the corresponding first integral is given by:\n",
    "\\begin{equation}\n",
    "r_{3}=\\frac{k_{I}^{t}}{k_{E}^{s}}\\,.\n",
    "\\end{equation}\n",
    "Also, we have that\n",
    "\\begin{equation}\n",
    "\\frac{\\mathrm{d}\\delta}{\\mathrm{d}\\mu_{E}}=-1\\,,\n",
    "\\end{equation}\n",
    "and the corresponding first integral is given by:\n",
    "\\begin{equation}\n",
    "r_{4}=\\delta+\\mu_{E}\\,.\n",
    "\\end{equation}\n",
    "Also, we have that\n",
    "\\begin{equation}\n",
    "\\frac{\\mathrm{d}\\beta}{\\mathrm{d}k_{I}}=\\frac{\\beta}{k_{I}}\\,,\n",
    "\\end{equation}\n",
    "and the corresponding first integral is given by\n",
    "\\begin{equation}\n",
    "r_{5}=\\frac{\\beta}{k_{I}}\\,.\n",
    "\\end{equation}\n",
    "Lastly, we have that\n",
    "\\begin{equation}\n",
    "\\frac{\\mathrm{d}\\epsilon}{\\mathrm{d}\\delta}=\\frac{\\epsilon(1-\\epsilon)}{\\delta}\\,,\n",
    "\\end{equation}\n",
    "and the first integral is given by:\n",
    "\\begin{equation}\n",
    "r_{6}=\\frac{\\epsilon}{\\delta(1-\\epsilon)}\\,.\n",
    "\\end{equation}\n",
    "I wonder if these are the correct invariants?"
   ]
  },
  {
   "cell_type": "markdown",
   "id": "8cf1bb6d",
   "metadata": {},
   "source": [
    "\n",
    "\n"
   ]
  }
 ],
 "metadata": {
  "kernelspec": {
   "display_name": "Python 3 (ipykernel)",
   "language": "python",
   "name": "python3"
  },
  "language_info": {
   "codemirror_mode": {
    "name": "ipython",
    "version": 3
   },
   "file_extension": ".py",
   "mimetype": "text/x-python",
   "name": "python",
   "nbconvert_exporter": "python",
   "pygments_lexer": "ipython3",
   "version": "3.8.3"
  }
 },
 "nbformat": 4,
 "nbformat_minor": 5
}
