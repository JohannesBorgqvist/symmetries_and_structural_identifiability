{
 "cells": [
  {
   "cell_type": "markdown",
   "id": "912341d0",
   "metadata": {},
   "source": [
    "# Structural identifiability analysis of the SEI model \n",
    "Date: 2023-10-09,<br>\n",
    "Written by: Johannes Borgqvist.<br>\n",
    "We study the following SEI model:\n",
    "\\begin{align}\n",
    "\\dfrac{\\mathrm{d}S}{\\mathrm{d}t}&=c-\\beta SI-\\mu_{S}S\\,,\\label{eq:S}\\\\\n",
    "\\dfrac{\\mathrm{d}E}{\\mathrm{d}t}&=(1-\\epsilon)\\beta SI-\\delta E-\\mu_{E}E\\,,\\label{eq:E}\\\\\n",
    "\\dfrac{\\mathrm{d}I}{\\mathrm{d}t}&=\\epsilon\\beta SI+\\delta E-\\mu_{I}I\\,.\\label{eq:I}\\\\\n",
    "\\end{align}\n",
    "Let's implement this model in SymPy!"
   ]
  },
  {
   "cell_type": "code",
   "execution_count": 2,
   "id": "91e6f369",
   "metadata": {},
   "outputs": [
    {
     "name": "stdout",
     "output_type": "stream",
     "text": [
      "ODE for $S$:\n",
      "\\begin{equation}\n",
      "\\frac{d}{d t} S{\\left(t \\right)} = - \\beta I{\\left(t \\right)} S{\\left(t \\right)} + c - \\mu_{S} S{\\left(t \\right)}\\quad\\,,\\label{eq:ODE_S}\n",
      "\\end{equation}\n",
      "\n",
      "ODE for $E$:\n",
      "\\begin{equation}\n",
      "\\frac{d}{d t} E{\\left(t \\right)} = \\beta \\left(1 - \\epsilon\\right) I{\\left(t \\right)} S{\\left(t \\right)} - \\delta E{\\left(t \\right)} - \\mu_{E} E{\\left(t \\right)}\\quad\\,,\\label{eq:ODE_E}\n",
      "\\end{equation}\n",
      "\n",
      "ODE for $I$:\n",
      "\\begin{equation}\n",
      "\\frac{d}{d t} I{\\left(t \\right)} = \\beta \\epsilon I{\\left(t \\right)} S{\\left(t \\right)} + \\delta E{\\left(t \\right)} - \\mu_{I} I{\\left(t \\right)}\\quad\\,.\\label{eq:ODE_I}\n",
      "\\end{equation}\n",
      "\n"
     ]
    }
   ],
   "source": [
    "# Import sympy\n",
    "from sympy import *\n",
    "# Define all parameters as symbols\n",
    "c, beta, mu_S, mu_E, mu_I, delta, epsilon = symbols('c, beta, mu_S, mu_E, mu_I, delta, epsilon')\n",
    "# Define our independent variable time\n",
    "t = symbols('t')\n",
    "# Define our three dependent variables being the states\n",
    "S = Function('S')(t)\n",
    "E = Function('E')(t)\n",
    "I = Function('I')(t)\n",
    "# Now, we define our three ODEs\n",
    "# ODE for S\n",
    "ODE_S = c - beta*S*I - mu_S*S\n",
    "ODE_S = Eq(Derivative(S,t,1),ODE_S)\n",
    "print(\"ODE for $S$:\")\n",
    "print(latex(ODE_S,mode='equation').replace(\"\\\\begin{equation}\",\"\\\\begin{equation}\\n\").replace(\"\\\\end{equation}\",\"\\\\quad\\\\,,\\\\label{eq:ODE_S}\\n\\\\end{equation}\\n\"))\n",
    "# ODE for E\n",
    "ODE_E = (1-epsilon)*beta*S*I - delta*E - mu_E*E\n",
    "ODE_E = Eq(Derivative(E,t,1),ODE_E)\n",
    "print(\"ODE for $E$:\")\n",
    "print(latex(ODE_E,mode='equation').replace(\"\\\\begin{equation}\",\"\\\\begin{equation}\\n\").replace(\"\\\\end{equation}\",\"\\\\quad\\\\,,\\\\label{eq:ODE_E}\\n\\\\end{equation}\\n\"))\n",
    "# ODE for I\n",
    "ODE_I = epsilon*beta*S*I + delta*E - mu_I*I\n",
    "ODE_I = Eq(Derivative(I,t,1),ODE_I)\n",
    "print(\"ODE for $I$:\")\n",
    "print(latex(ODE_I,mode='equation').replace(\"\\\\begin{equation}\",\"\\\\begin{equation}\\n\").replace(\"\\\\end{equation}\",\"\\\\quad\\\\,.\\\\label{eq:ODE_I}\\n\\\\end{equation}\\n\"))"
   ]
  },
  {
   "cell_type": "markdown",
   "id": "8829dcfa",
   "metadata": {},
   "source": [
    "ODE for $S$:\n",
    "\\begin{equation}\n",
    "\\frac{d}{d t} S{\\left(t \\right)} = - \\beta I{\\left(t \\right)} S{\\left(t \\right)} + c - \\mu_{S} S{\\left(t \\right)}\\quad\\,,\\label{eq:ODE_S}\n",
    "\\end{equation}\n",
    "\n",
    "ODE for $E$:\n",
    "\\begin{equation}\n",
    "\\frac{d}{d t} E{\\left(t \\right)} = \\beta \\left(1 - \\epsilon\\right) I{\\left(t \\right)} S{\\left(t \\right)} - \\delta E{\\left(t \\right)} - \\mu_{E} E{\\left(t \\right)}\\quad\\,,\\label{eq:ODE_E}\n",
    "\\end{equation}\n",
    "\n",
    "ODE for $I$:\n",
    "\\begin{equation}\n",
    "\\frac{d}{d t} I{\\left(t \\right)} = \\beta \\epsilon I{\\left(t \\right)} S{\\left(t \\right)} + \\delta E{\\left(t \\right)} - \\mu_{I} I{\\left(t \\right)}\\quad\\,.\\label{eq:ODE_I}\n",
    "\\end{equation}\n",
    "\n",
    "## Introducing observed outputs\n",
    "This time, we assume that we can observe the sum $y_{S}$ given by:\n",
    "\\begin{equation}\n",
    "y_{S}=k_{S}(I+E)\\,,\n",
    "\\label{eq:output_input}\n",
    "\\end{equation}\n",
    "which means that we can observe a proportion of the exposed and infected individuals. Let's express the original ODE system in terms of these outputs!"
   ]
  },
  {
   "cell_type": "code",
   "execution_count": 3,
   "id": "0b494559",
   "metadata": {},
   "outputs": [
    {
     "name": "stdout",
     "output_type": "stream",
     "text": [
      "Equation for $y_{S}$:\n",
      "\\begin{equation}\n",
      "\\operatorname{y_{S}}{\\left(t \\right)} = k_{S} \\left(E{\\left(t \\right)} + I{\\left(t \\right)}\\right)\\quad\\,.\\label{eq:yS}\n",
      "\\end{equation}\n",
      "\n"
     ]
    }
   ],
   "source": [
    "# Allocate two new parameters\n",
    "k_S = symbols('k_S')\n",
    "# Allocate two new functions\n",
    "y_S = Function('y_S')(t)\n",
    "# Equations for the input and outputs\n",
    "y_S_eq = Eq(y_S,k_S*(I+E))\n",
    "# Print them\n",
    "print('Equation for $y_{S}$:')\n",
    "print(latex(y_S_eq,mode='equation').replace(\"\\\\begin{equation}\",\"\\\\begin{equation}\\n\").replace(\"\\\\end{equation}\",\"\\\\quad\\\\,.\\\\label{eq:yS}\\n\\\\end{equation}\\n\"))"
   ]
  },
  {
   "cell_type": "markdown",
   "id": "6d032443",
   "metadata": {},
   "source": [
    "Equation for $y_{S}$:\n",
    "\\begin{equation}\n",
    "\\operatorname{y_{S}}{\\left(t \\right)} = k_{S} \\left(E{\\left(t \\right)} + I{\\left(t \\right)}\\right)\\quad\\,.\\label{eq:yS}\n",
    "\\end{equation}\n",
    "## Re-write the ODE system in terms of outputs\n",
    "Next, we rewrite the ODE system in terms of these inputs and outputs.\n"
   ]
  },
  {
   "cell_type": "code",
   "execution_count": 4,
   "id": "72833b60",
   "metadata": {},
   "outputs": [
    {
     "name": "stdout",
     "output_type": "stream",
     "text": [
      "ODE for $S$:\n",
      "\\begin{equation}\n",
      "\\frac{d}{d t} S{\\left(t \\right)} = - \\beta I{\\left(t \\right)} S{\\left(t \\right)} + c - \\mu_{S} S{\\left(t \\right)}\\quad\\,,\\label{eq:ODE_S}\n",
      "\\end{equation}\n",
      "\n",
      "ODE for $I$:\n",
      "\\begin{equation}\n",
      "\\frac{d}{d t} I{\\left(t \\right)} = \\beta \\epsilon I{\\left(t \\right)} S{\\left(t \\right)} - \\delta I{\\left(t \\right)} + \\frac{\\delta \\operatorname{y_{S}}{\\left(t \\right)}}{k_{S}} - \\mu_{I} I{\\left(t \\right)}\\quad\\,,\\label{eq:ODE_I}\n",
      "\\end{equation}\n",
      "\n",
      "ODE for $y_S$:\n",
      "\\begin{equation}\n",
      "\\frac{d}{d t} \\operatorname{y_{S}}{\\left(t \\right)} = \\beta k_{S} I{\\left(t \\right)} S{\\left(t \\right)} + k_{S} \\mu_{E} I{\\left(t \\right)} - k_{S} \\mu_{I} I{\\left(t \\right)} - \\mu_{E} \\operatorname{y_{S}}{\\left(t \\right)}\\quad\\,.\\label{eq:ODE_y_S}\n",
      "\\end{equation}\n",
      "\n"
     ]
    }
   ],
   "source": [
    "# Define an equation for E\n",
    "E_eq = Eq(E,solve(y_S_eq,E)[0])\n",
    "# Define the derivative for y_S\n",
    "ODE_y_S = Eq(Derivative(y_S_eq.lhs,t).doit(),Derivative(y_S_eq.rhs,t).doit())\n",
    "ODE_y_S = ODE_y_S.subs(ODE_E.lhs,ODE_E.rhs)\n",
    "ODE_y_S = ODE_y_S.subs(ODE_I.lhs,ODE_I.rhs)\n",
    "ODE_y_S = expand(ODE_y_S.subs(E_eq.lhs,E_eq.rhs))\n",
    "# Update ODE for I\n",
    "ODE_I = expand(ODE_I.subs(E_eq.lhs,E_eq.rhs))\n",
    "# Update ODE for S\n",
    "ODE_S = expand(ODE_S.subs(E_eq.lhs,E_eq.rhs))\n",
    "# Now, print our new ODEs\n",
    "# ODE for S\n",
    "print(\"ODE for $S$:\")\n",
    "print(latex(ODE_S,mode='equation').replace(\"\\\\begin{equation}\",\"\\\\begin{equation}\\n\").replace(\"\\\\end{equation}\",\"\\\\quad\\\\,,\\\\label{eq:ODE_S}\\n\\\\end{equation}\\n\"))\n",
    "# ODE for y_E\n",
    "print(\"ODE for $I$:\")\n",
    "print(latex(ODE_I,mode='equation').replace(\"\\\\begin{equation}\",\"\\\\begin{equation}\\n\").replace(\"\\\\end{equation}\",\"\\\\quad\\\\,,\\\\label{eq:ODE_I}\\n\\\\end{equation}\\n\"))\n",
    "# ODE for y_I\n",
    "print(\"ODE for $y_S$:\")\n",
    "print(latex(ODE_y_S,mode='equation').replace(\"\\\\begin{equation}\",\"\\\\begin{equation}\\n\").replace(\"\\\\end{equation}\",\"\\\\quad\\\\,.\\\\label{eq:ODE_y_S}\\n\\\\end{equation}\\n\"))"
   ]
  },
  {
   "cell_type": "markdown",
   "id": "72141385",
   "metadata": {},
   "source": [
    "ODE for $S$:\n",
    "\\begin{equation}\n",
    "\\frac{d}{d t} S{\\left(t \\right)} = - \\beta I{\\left(t \\right)} S{\\left(t \\right)} + c - \\mu_{S} S{\\left(t \\right)}\\quad\\,,\\label{eq:ODE_S}\n",
    "\\end{equation}\n",
    "\n",
    "ODE for $I$:\n",
    "\\begin{equation}\n",
    "\\frac{d}{d t} I{\\left(t \\right)} = \\beta \\epsilon I{\\left(t \\right)} S{\\left(t \\right)} - \\delta I{\\left(t \\right)} + \\frac{\\delta \\operatorname{y_{S}}{\\left(t \\right)}}{k_{S}} - \\mu_{I} I{\\left(t \\right)}\\quad\\,,\\label{eq:ODE_I}\n",
    "\\end{equation}\n",
    "\n",
    "ODE for $y_S$:\n",
    "\\begin{equation}\n",
    "\\frac{d}{d t} \\operatorname{y_{S}}{\\left(t \\right)} = \\beta k_{S} I{\\left(t \\right)} S{\\left(t \\right)} + k_{S} \\mu_{E} I{\\left(t \\right)} - k_{S} \\mu_{I} I{\\left(t \\right)} - \\mu_{E} \\operatorname{y_{S}}{\\left(t \\right)}\\quad\\,.\\label{eq:ODE_y_S}\n",
    "\\end{equation}\n",
    "Ok, I don't see how we can directly eliminate states from the third equation. So maybe we just differentiate this equation directly with respect to the states? Let's try this and see what comes of it.\n",
    "\n",
    "\n",
    "# Try to find the parameter symmetries on the single linearised symmetry condition that we have to work with\n",
    "\n",
    "We consider the following parameters:\n",
    "\n",
    "\\begin{equation}\n",
    "\\vec{\\theta}=(c,\\beta,\\delta,\\epsilon,\\mu_{S},\\mu_{E},\\mu_{I},k_{S})\\,.\n",
    "\\label{eq:parameters_sum}\n",
    "\\end{equation}\n",
    "Given this vector we differentiate the system of three ODEs with respect to each parameter in order to define our linearised symmetry conditions."
   ]
  },
  {
   "cell_type": "code",
   "execution_count": 9,
   "id": "8c2de68a",
   "metadata": {},
   "outputs": [
    {
     "name": "stdout",
     "output_type": "stream",
     "text": [
      "frac(-I(t)*S(t)*chi_beta(c, beta, delta, epsilon, mu_S, mu_E, mu_I, k_S) - S(t)*chi_mu_S(c, beta, delta, epsilon, mu_S, mu_E, mu_I, k_S) + chi_c(c, beta, delta, epsilon, mu_S, mu_E, mu_I, k_S))\n",
      "frac((-delta*chi_k_S(c, beta, delta, epsilon, mu_S, mu_E, mu_I, k_S)*y_S(t) + k_S**2*(beta*S(t)*chi_epsilon(c, beta, delta, epsilon, mu_S, mu_E, mu_I, k_S) + epsilon*S(t)*chi_beta(c, beta, delta, epsilon, mu_S, mu_E, mu_I, k_S) - chi_mu_I(c, beta, delta, epsilon, mu_S, mu_E, mu_I, k_S))*I(t) - k_S*(k_S*I(t) - y_S(t))*chi_delta(c, beta, delta, epsilon, mu_S, mu_E, mu_I, k_S))/k_S**2)\n",
      "frac(beta*k_S*(beta*S(t) + mu_E - mu_I)*I(t)*S(t)*chi_epsilon(c, beta, delta, epsilon, mu_S, mu_E, mu_I, k_S) - beta*k_S*I(t)*S(t)*chi_mu_S(c, beta, delta, epsilon, mu_S, mu_E, mu_I, k_S) + beta*k_S*I(t)*chi_c(c, beta, delta, epsilon, mu_S, mu_E, mu_I, k_S) - (-beta*epsilon*k_S*I(t)*S(t) + delta*k_S*I(t) - delta*y_S(t) + k_S*mu_I*I(t) + Derivative(y_S(t), t))*chi_mu_E(c, beta, delta, epsilon, mu_S, mu_E, mu_I, k_S) - (beta*k_S*I(t)*S(t) - beta*S(t)*y_S(t) + k_S*mu_E*I(t) - k_S*mu_I*I(t) - mu_E*y_S(t) + mu_I*y_S(t))*chi_delta(c, beta, delta, epsilon, mu_S, mu_E, mu_I, k_S) - (beta*epsilon*k_S*I(t)*S(t) + beta*k_S*I(t)*S(t) - delta*k_S*I(t) + delta*y_S(t) + k_S*mu_E*I(t) - 2*k_S*mu_I*I(t))*chi_mu_I(c, beta, delta, epsilon, mu_S, mu_E, mu_I, k_S) - (-2*beta*epsilon*k_S*I(t)*S(t)**2 + 2*beta*k_S*I(t)**2*S(t) - c*k_S*I(t) + delta*k_S*I(t)*S(t) - delta*S(t)*y_S(t) - epsilon*k_S*mu_E*I(t)*S(t) + epsilon*k_S*mu_I*I(t)*S(t) + k_S*mu_I*I(t)*S(t) + k_S*mu_S*I(t)*S(t))*chi_beta(c, beta, delta, epsilon, mu_S, mu_E, mu_I, k_S) - (-beta**2*epsilon*S(t)**2 + beta**2*I(t)*S(t) - beta*c + beta*delta*S(t) - beta*epsilon*mu_E*S(t) + beta*epsilon*mu_I*S(t) + beta*mu_I*S(t) + beta*mu_S*S(t) + delta*mu_E - delta*mu_I + mu_E*mu_I - mu_I**2)*I(t)*chi_k_S(c, beta, delta, epsilon, mu_S, mu_E, mu_I, k_S))\n",
      "The linearised symmetry conditions:\n",
      "\\begin{align}\n",
      "0 = - I{\\left(t \\right)} S{\\left(t \\right)} \\chi_{\\beta}{\\left(c,\\beta,\\delta,\\epsilon,\\mu_{S},\\mu_{E},\\mu_{I},k_{S} \\right)} - S{\\left(t \\right)} \\chi_{\\mu S}{\\left(c,\\beta,\\delta,\\epsilon,\\mu_{S},\\mu_{E},\\mu_{I},k_{S} \\right)} + \\chi_{c}{\\left(c,\\beta,\\delta,\\epsilon,\\mu_{S},\\mu_{E},\\mu_{I},k_{S} \\right)}\\,,\\label{eq:lin_sym_1}\\\\\n",
      "0 = \\beta k_{S}^{2} I{\\left(t \\right)} S{\\left(t \\right)} \\chi_{\\epsilon}{\\left(c,\\beta,\\delta,\\epsilon,\\mu_{S},\\mu_{E},\\mu_{I},k_{S} \\right)} - \\delta \\chi_{k S}{\\left(c,\\beta,\\delta,\\epsilon,\\mu_{S},\\mu_{E},\\mu_{I},k_{S} \\right)} \\operatorname{y_{S}}{\\left(t \\right)} + \\epsilon k_{S}^{2} I{\\left(t \\right)} S{\\left(t \\right)} \\chi_{\\beta}{\\left(c,\\beta,\\delta,\\epsilon,\\mu_{S},\\mu_{E},\\mu_{I},k_{S} \\right)} - k_{S}^{2} I{\\left(t \\right)} \\chi_{\\delta}{\\left(c,\\beta,\\delta,\\epsilon,\\mu_{S},\\mu_{E},\\mu_{I},k_{S} \\right)} - k_{S}^{2} I{\\left(t \\right)} \\chi_{\\mu I}{\\left(c,\\beta,\\delta,\\epsilon,\\mu_{S},\\mu_{E},\\mu_{I},k_{S} \\right)} + k_{S} \\chi_{\\delta}{\\left(c,\\beta,\\delta,\\epsilon,\\mu_{S},\\mu_{E},\\mu_{I},k_{S} \\right)} \\operatorname{y_{S}}{\\left(t \\right)}\\,,\\label{eq:lin_sym_2}\\\\\n",
      "0 = \\beta^{2} \\epsilon I{\\left(t \\right)} S^{2}{\\left(t \\right)} \\chi_{k S}{\\left(c,\\beta,\\delta,\\epsilon,\\mu_{S},\\mu_{E},\\mu_{I},k_{S} \\right)} + \\beta^{2} k_{S} I{\\left(t \\right)} S^{2}{\\left(t \\right)} \\chi_{\\epsilon}{\\left(c,\\beta,\\delta,\\epsilon,\\mu_{S},\\mu_{E},\\mu_{I},k_{S} \\right)} - \\beta^{2} I^{2}{\\left(t \\right)} S{\\left(t \\right)} \\chi_{k S}{\\left(c,\\beta,\\delta,\\epsilon,\\mu_{S},\\mu_{E},\\mu_{I},k_{S} \\right)} + \\beta c I{\\left(t \\right)} \\chi_{k S}{\\left(c,\\beta,\\delta,\\epsilon,\\mu_{S},\\mu_{E},\\mu_{I},k_{S} \\right)} - \\beta \\delta I{\\left(t \\right)} S{\\left(t \\right)} \\chi_{k S}{\\left(c,\\beta,\\delta,\\epsilon,\\mu_{S},\\mu_{E},\\mu_{I},k_{S} \\right)} + 2 \\beta \\epsilon k_{S} I{\\left(t \\right)} S^{2}{\\left(t \\right)} \\chi_{\\beta}{\\left(c,\\beta,\\delta,\\epsilon,\\mu_{S},\\mu_{E},\\mu_{I},k_{S} \\right)} + \\beta \\epsilon k_{S} I{\\left(t \\right)} S{\\left(t \\right)} \\chi_{\\mu E}{\\left(c,\\beta,\\delta,\\epsilon,\\mu_{S},\\mu_{E},\\mu_{I},k_{S} \\right)} - \\beta \\epsilon k_{S} I{\\left(t \\right)} S{\\left(t \\right)} \\chi_{\\mu I}{\\left(c,\\beta,\\delta,\\epsilon,\\mu_{S},\\mu_{E},\\mu_{I},k_{S} \\right)} + \\beta \\epsilon \\mu_{E} I{\\left(t \\right)} S{\\left(t \\right)} \\chi_{k S}{\\left(c,\\beta,\\delta,\\epsilon,\\mu_{S},\\mu_{E},\\mu_{I},k_{S} \\right)} - \\beta \\epsilon \\mu_{I} I{\\left(t \\right)} S{\\left(t \\right)} \\chi_{k S}{\\left(c,\\beta,\\delta,\\epsilon,\\mu_{S},\\mu_{E},\\mu_{I},k_{S} \\right)} + \\beta k_{S} \\mu_{E} I{\\left(t \\right)} S{\\left(t \\right)} \\chi_{\\epsilon}{\\left(c,\\beta,\\delta,\\epsilon,\\mu_{S},\\mu_{E},\\mu_{I},k_{S} \\right)} - \\beta k_{S} \\mu_{I} I{\\left(t \\right)} S{\\left(t \\right)} \\chi_{\\epsilon}{\\left(c,\\beta,\\delta,\\epsilon,\\mu_{S},\\mu_{E},\\mu_{I},k_{S} \\right)} - 2 \\beta k_{S} I^{2}{\\left(t \\right)} S{\\left(t \\right)} \\chi_{\\beta}{\\left(c,\\beta,\\delta,\\epsilon,\\mu_{S},\\mu_{E},\\mu_{I},k_{S} \\right)} - \\beta k_{S} I{\\left(t \\right)} S{\\left(t \\right)} \\chi_{\\delta}{\\left(c,\\beta,\\delta,\\epsilon,\\mu_{S},\\mu_{E},\\mu_{I},k_{S} \\right)} - \\beta k_{S} I{\\left(t \\right)} S{\\left(t \\right)} \\chi_{\\mu I}{\\left(c,\\beta,\\delta,\\epsilon,\\mu_{S},\\mu_{E},\\mu_{I},k_{S} \\right)} - \\beta k_{S} I{\\left(t \\right)} S{\\left(t \\right)} \\chi_{\\mu S}{\\left(c,\\beta,\\delta,\\epsilon,\\mu_{S},\\mu_{E},\\mu_{I},k_{S} \\right)} + \\beta k_{S} I{\\left(t \\right)} \\chi_{c}{\\left(c,\\beta,\\delta,\\epsilon,\\mu_{S},\\mu_{E},\\mu_{I},k_{S} \\right)} - \\beta \\mu_{I} I{\\left(t \\right)} S{\\left(t \\right)} \\chi_{k S}{\\left(c,\\beta,\\delta,\\epsilon,\\mu_{S},\\mu_{E},\\mu_{I},k_{S} \\right)} - \\beta \\mu_{S} I{\\left(t \\right)} S{\\left(t \\right)} \\chi_{k S}{\\left(c,\\beta,\\delta,\\epsilon,\\mu_{S},\\mu_{E},\\mu_{I},k_{S} \\right)} + \\beta S{\\left(t \\right)} \\chi_{\\delta}{\\left(c,\\beta,\\delta,\\epsilon,\\mu_{S},\\mu_{E},\\mu_{I},k_{S} \\right)} \\operatorname{y_{S}}{\\left(t \\right)} + c k_{S} I{\\left(t \\right)} \\chi_{\\beta}{\\left(c,\\beta,\\delta,\\epsilon,\\mu_{S},\\mu_{E},\\mu_{I},k_{S} \\right)} - \\delta k_{S} I{\\left(t \\right)} S{\\left(t \\right)} \\chi_{\\beta}{\\left(c,\\beta,\\delta,\\epsilon,\\mu_{S},\\mu_{E},\\mu_{I},k_{S} \\right)} - \\delta k_{S} I{\\left(t \\right)} \\chi_{\\mu E}{\\left(c,\\beta,\\delta,\\epsilon,\\mu_{S},\\mu_{E},\\mu_{I},k_{S} \\right)} + \\delta k_{S} I{\\left(t \\right)} \\chi_{\\mu I}{\\left(c,\\beta,\\delta,\\epsilon,\\mu_{S},\\mu_{E},\\mu_{I},k_{S} \\right)} - \\delta \\mu_{E} I{\\left(t \\right)} \\chi_{k S}{\\left(c,\\beta,\\delta,\\epsilon,\\mu_{S},\\mu_{E},\\mu_{I},k_{S} \\right)} + \\delta \\mu_{I} I{\\left(t \\right)} \\chi_{k S}{\\left(c,\\beta,\\delta,\\epsilon,\\mu_{S},\\mu_{E},\\mu_{I},k_{S} \\right)} + \\delta S{\\left(t \\right)} \\chi_{\\beta}{\\left(c,\\beta,\\delta,\\epsilon,\\mu_{S},\\mu_{E},\\mu_{I},k_{S} \\right)} \\operatorname{y_{S}}{\\left(t \\right)} + \\delta \\chi_{\\mu E}{\\left(c,\\beta,\\delta,\\epsilon,\\mu_{S},\\mu_{E},\\mu_{I},k_{S} \\right)} \\operatorname{y_{S}}{\\left(t \\right)} - \\delta \\chi_{\\mu I}{\\left(c,\\beta,\\delta,\\epsilon,\\mu_{S},\\mu_{E},\\mu_{I},k_{S} \\right)} \\operatorname{y_{S}}{\\left(t \\right)} + \\epsilon k_{S} \\mu_{E} I{\\left(t \\right)} S{\\left(t \\right)} \\chi_{\\beta}{\\left(c,\\beta,\\delta,\\epsilon,\\mu_{S},\\mu_{E},\\mu_{I},k_{S} \\right)} - \\epsilon k_{S} \\mu_{I} I{\\left(t \\right)} S{\\left(t \\right)} \\chi_{\\beta}{\\left(c,\\beta,\\delta,\\epsilon,\\mu_{S},\\mu_{E},\\mu_{I},k_{S} \\right)} - k_{S} \\mu_{E} I{\\left(t \\right)} \\chi_{\\delta}{\\left(c,\\beta,\\delta,\\epsilon,\\mu_{S},\\mu_{E},\\mu_{I},k_{S} \\right)} - k_{S} \\mu_{E} I{\\left(t \\right)} \\chi_{\\mu I}{\\left(c,\\beta,\\delta,\\epsilon,\\mu_{S},\\mu_{E},\\mu_{I},k_{S} \\right)} - k_{S} \\mu_{I} I{\\left(t \\right)} S{\\left(t \\right)} \\chi_{\\beta}{\\left(c,\\beta,\\delta,\\epsilon,\\mu_{S},\\mu_{E},\\mu_{I},k_{S} \\right)} + k_{S} \\mu_{I} I{\\left(t \\right)} \\chi_{\\delta}{\\left(c,\\beta,\\delta,\\epsilon,\\mu_{S},\\mu_{E},\\mu_{I},k_{S} \\right)} - k_{S} \\mu_{I} I{\\left(t \\right)} \\chi_{\\mu E}{\\left(c,\\beta,\\delta,\\epsilon,\\mu_{S},\\mu_{E},\\mu_{I},k_{S} \\right)} + 2 k_{S} \\mu_{I} I{\\left(t \\right)} \\chi_{\\mu I}{\\left(c,\\beta,\\delta,\\epsilon,\\mu_{S},\\mu_{E},\\mu_{I},k_{S} \\right)} - k_{S} \\mu_{S} I{\\left(t \\right)} S{\\left(t \\right)} \\chi_{\\beta}{\\left(c,\\beta,\\delta,\\epsilon,\\mu_{S},\\mu_{E},\\mu_{I},k_{S} \\right)} - \\mu_{E} \\mu_{I} I{\\left(t \\right)} \\chi_{k S}{\\left(c,\\beta,\\delta,\\epsilon,\\mu_{S},\\mu_{E},\\mu_{I},k_{S} \\right)} + \\mu_{E} \\chi_{\\delta}{\\left(c,\\beta,\\delta,\\epsilon,\\mu_{S},\\mu_{E},\\mu_{I},k_{S} \\right)} \\operatorname{y_{S}}{\\left(t \\right)} + \\mu_{I}^{2} I{\\left(t \\right)} \\chi_{k S}{\\left(c,\\beta,\\delta,\\epsilon,\\mu_{S},\\mu_{E},\\mu_{I},k_{S} \\right)} - \\mu_{I} \\chi_{\\delta}{\\left(c,\\beta,\\delta,\\epsilon,\\mu_{S},\\mu_{E},\\mu_{I},k_{S} \\right)} \\operatorname{y_{S}}{\\left(t \\right)} - \\chi_{\\mu E}{\\left(c,\\beta,\\delta,\\epsilon,\\mu_{S},\\mu_{E},\\mu_{I},k_{S} \\right)} \\frac{d}{d t} \\operatorname{y_{S}}{\\left(t \\right)}\\,,\\label{eq:lin_sym_3}\\\\\n",
      "\\end{align}\n"
     ]
    }
   ],
   "source": [
    "# Define our lovely infinitesimals in the parameter directions\n",
    "chi_c = Function('chi_c')(c,beta,delta,epsilon,mu_S,mu_E,mu_I,k_S) # infinitesimal in c\n",
    "chi_beta = Function('chi_beta')(c,beta,delta,epsilon,mu_S,mu_E,mu_I,k_S) # infinitesimal in beta\n",
    "chi_delta = Function('chi_delta')(c,beta,delta,epsilon,mu_S,mu_E,mu_I,k_S) # infinitesimal in delta\n",
    "chi_epsilon = Function('chi_epsilon')(c,beta,delta,epsilon,mu_S,mu_E,mu_I,k_S) # infinitesimal in epsilon\n",
    "chi_mu_S = Function('chi_mu_S')(c,beta,delta,epsilon,mu_S,mu_E,mu_I,k_S) # infinitesimal in mu_S\n",
    "chi_mu_E = Function('chi_mu_E')(c,beta,delta,epsilon,mu_S,mu_E,mu_I,k_S) # infinitesimal in mu_E\n",
    "chi_mu_I = Function('chi_mu_I')(c,beta,delta,epsilon,mu_S,mu_E,mu_I,k_S) # infinitesimal in mu_I\n",
    "chi_k_S = Function('chi_k_S')(c,beta,delta,epsilon,mu_S,mu_E,mu_I,k_S) # infinitesimal in k_I\n",
    "# Ok, define a giant vector with the infinitesimals and the thing we are differentiating with respect to\n",
    "# Parameters\n",
    "differentiation_vector = [(c, chi_c)]\n",
    "differentiation_vector.append((beta, chi_beta))\n",
    "differentiation_vector.append((delta, chi_delta))\n",
    "differentiation_vector.append((epsilon, chi_epsilon))\n",
    "differentiation_vector.append((mu_S, chi_mu_S))\n",
    "differentiation_vector.append((mu_E, chi_mu_E))\n",
    "differentiation_vector.append((mu_I, chi_mu_I))\n",
    "differentiation_vector.append((k_S, chi_k_S))\n",
    "# Allocate memory for our linearised symmetry condition! \n",
    "lin_syms = []\n",
    "# Allocate an ODE list\n",
    "ODEs = [ODE_S, ODE_I, ODE_y_S]\n",
    "# Allocate a LHS and a RHS\n",
    "LHS = 0\n",
    "RHS = 0\n",
    "# Loop over the ODEs\n",
    "for ODE in ODEs:\n",
    "    # Allocate a LHS and a RHS\n",
    "    LHS = 0\n",
    "    RHS = 0\n",
    "    # Loop over the things we differentiate w.r.t. called x and multiply by the coefficient k.\n",
    "    # Then, we add to the the product k*x to our linearised symmetry condition.\n",
    "    for x,k in differentiation_vector:\n",
    "        LHS += k*Derivative(ODE.lhs,x).doit()\n",
    "        RHS += k*Derivative(ODE.rhs,x).doit()\n",
    "    # Simplify our RHS\n",
    "    print(frac(simplify(RHS)))\n",
    "    RHS,denom = fraction(simplify(RHS))\n",
    "    # Lastly, we save our newly synthesised linearised symmetry condition\n",
    "    lin_syms.append(Eq(expand(LHS),expand(RHS)))\n",
    "# Print the linearised symmetry conditions\n",
    "lin_sym_str = \"\\\\begin{align}\\n\"\n",
    "for index,lin_sym in enumerate(lin_syms):\n",
    "    lin_sym_str += latex(lin_sym)\n",
    "    lin_sym_str += \"\\\\,,\\\\label{eq:lin_sym_\" + str(index+1) + \"}\\\\\\\\\\n\"\n",
    "lin_sym_str += \"\\\\end{align}\"    \n",
    "lin_sym_str = lin_sym_str.replace(\"{\\\\left(c,\\\\beta,\\\\delta,\\epsilon,\\\\mu_{S},\\\\mu_{E},\\\\mu_{I},k_{S} \\\\right)}\",\"\").replace(\"\\frac{d}{d t}\",\"\\frac{\\\\mathrm{d}{\\\\mathrm{d} t}\".replace(\"=\",\"&=\").replace(\"mu \",\"mu\\\\_\"))\n",
    "print(\"The linearised symmetry conditions:\")\n",
    "print(lin_sym_str)"
   ]
  },
  {
   "cell_type": "code",
   "execution_count": null,
   "id": "a004ad02",
   "metadata": {},
   "outputs": [],
   "source": []
  }
 ],
 "metadata": {
  "kernelspec": {
   "display_name": "Python 3",
   "language": "python",
   "name": "python3"
  },
  "language_info": {
   "codemirror_mode": {
    "name": "ipython",
    "version": 3
   },
   "file_extension": ".py",
   "mimetype": "text/x-python",
   "name": "python",
   "nbconvert_exporter": "python",
   "pygments_lexer": "ipython3",
   "version": "3.8.8"
  }
 },
 "nbformat": 4,
 "nbformat_minor": 5
}
