{
 "cells": [
  {
   "cell_type": "markdown",
   "id": "6ce853a9",
   "metadata": {},
   "source": [
    "# Structural identifiability analysis of the SEI model \n",
    "Date: 2023-10-24,<br>\n",
    "Written by: Johannes Borgqvist.<br>\n",
    "We study the following SEI model:\n",
    "\\begin{align}\n",
    "\\dfrac{\\mathrm{d}S}{\\mathrm{d}t}&=c-\\beta SI-\\mu_{S}S\\,,\\label{eq:S}\\\\\n",
    "\\dfrac{\\mathrm{d}E}{\\mathrm{d}t}&=(1-\\epsilon)\\beta SI-\\delta E-\\mu_{E}E\\,,\\label{eq:E}\\\\\n",
    "\\dfrac{\\mathrm{d}I}{\\mathrm{d}t}&=\\epsilon\\beta SI+\\delta E-\\mu_{I}I\\,.\\label{eq:I}\\\\\n",
    "\\end{align}\n",
    "Let's implement this model in *SymPy*!"
   ]
  },
  {
   "cell_type": "code",
   "execution_count": 1,
   "id": "1e44d280",
   "metadata": {},
   "outputs": [
    {
     "name": "stdout",
     "output_type": "stream",
     "text": [
      "ODE for $S$:\n",
      "\\begin{equation}\n",
      "\\frac{d}{d t} S{\\left(t \\right)} = - \\beta I{\\left(t \\right)} S{\\left(t \\right)} + c - \\mu_{S} S{\\left(t \\right)}\\quad\\,,\\label{eq:ODE_S}\n",
      "\\end{equation}\n",
      "\n",
      "ODE for $E$:\n",
      "\\begin{equation}\n",
      "\\frac{d}{d t} E{\\left(t \\right)} = \\beta \\left(1 - \\epsilon\\right) I{\\left(t \\right)} S{\\left(t \\right)} - \\delta E{\\left(t \\right)} - \\mu_{E} E{\\left(t \\right)}\\quad\\,,\\label{eq:ODE_E}\n",
      "\\end{equation}\n",
      "\n",
      "ODE for $I$:\n",
      "\\begin{equation}\n",
      "\\frac{d}{d t} I{\\left(t \\right)} = \\beta \\epsilon I{\\left(t \\right)} S{\\left(t \\right)} + \\delta E{\\left(t \\right)} - \\mu_{I} I{\\left(t \\right)}\\quad\\,.\\label{eq:ODE_I}\n",
      "\\end{equation}\n",
      "\n"
     ]
    }
   ],
   "source": [
    "# Import sympy\n",
    "from sympy import *\n",
    "# Define all parameters as symbols\n",
    "c, beta, mu_S, mu_E, mu_I, delta, epsilon = symbols('c, beta, mu_S, mu_E, mu_I, delta, epsilon')\n",
    "# Define our independent variable time\n",
    "t = symbols('t')\n",
    "# Define our three dependent variables being the states\n",
    "S = Function('S')(t)\n",
    "E = Function('E')(t)\n",
    "I = Function('I')(t)\n",
    "# Now, we define our three ODEs\n",
    "# ODE for S\n",
    "ODE_S = c - beta*S*I - mu_S*S\n",
    "ODE_S = Eq(Derivative(S,t,1),ODE_S)\n",
    "print(\"ODE for $S$:\")\n",
    "print(latex(ODE_S,mode='equation').replace(\"\\\\begin{equation}\",\"\\\\begin{equation}\\n\").replace(\"\\\\end{equation}\",\"\\\\quad\\\\,,\\\\label{eq:ODE_S}\\n\\\\end{equation}\\n\"))\n",
    "# ODE for E\n",
    "ODE_E = (1-epsilon)*beta*S*I - delta*E - mu_E*E\n",
    "ODE_E = Eq(Derivative(E,t,1),ODE_E)\n",
    "print(\"ODE for $E$:\")\n",
    "print(latex(ODE_E,mode='equation').replace(\"\\\\begin{equation}\",\"\\\\begin{equation}\\n\").replace(\"\\\\end{equation}\",\"\\\\quad\\\\,,\\\\label{eq:ODE_E}\\n\\\\end{equation}\\n\"))\n",
    "# ODE for I\n",
    "ODE_I = epsilon*beta*S*I + delta*E - mu_I*I\n",
    "ODE_I = Eq(Derivative(I,t,1),ODE_I)\n",
    "print(\"ODE for $I$:\")\n",
    "print(latex(ODE_I,mode='equation').replace(\"\\\\begin{equation}\",\"\\\\begin{equation}\\n\").replace(\"\\\\end{equation}\",\"\\\\quad\\\\,.\\\\label{eq:ODE_I}\\n\\\\end{equation}\\n\"))"
   ]
  },
  {
   "cell_type": "markdown",
   "id": "b569c51f",
   "metadata": {},
   "source": [
    "ODE for $S$:\n",
    "\\begin{equation}\n",
    "\\frac{d}{d t} S{\\left(t \\right)} = - \\beta I{\\left(t \\right)} S{\\left(t \\right)} + c - \\mu_{S} S{\\left(t \\right)}\\quad\\,,\\label{eq:ODE_S}\n",
    "\\end{equation}\n",
    "\n",
    "ODE for $E$:\n",
    "\\begin{equation}\n",
    "\\frac{d}{d t} E{\\left(t \\right)} = \\beta \\left(1 - \\epsilon\\right) I{\\left(t \\right)} S{\\left(t \\right)} - \\delta E{\\left(t \\right)} - \\mu_{E} E{\\left(t \\right)}\\quad\\,,\\label{eq:ODE_E}\n",
    "\\end{equation}\n",
    "\n",
    "ODE for $I$:\n",
    "\\begin{equation}\n",
    "\\frac{d}{d t} I{\\left(t \\right)} = \\beta \\epsilon I{\\left(t \\right)} S{\\left(t \\right)} + \\delta E{\\left(t \\right)} - \\mu_{I} I{\\left(t \\right)}\\quad\\,.\\label{eq:ODE_I}\n",
    "\\end{equation}\n",
    "\n",
    "Equation for $y_{I}$:\n",
    "\\begin{equation}\n",
    "\\operatorname{y_{I}}{\\left(t \\right)} = k_{I} I{\\left(t \\right)}\\quad\\,.\\label{eq:yI}\n",
    "\\end{equation}\n"
   ]
  },
  {
   "cell_type": "code",
   "execution_count": 3,
   "id": "726fedee",
   "metadata": {},
   "outputs": [
    {
     "name": "stdout",
     "output_type": "stream",
     "text": [
      "Equation for $y_{I}$:\n",
      "\\begin{equation}\n",
      "\\operatorname{y_{I}}{\\left(t \\right)} = k_{I} I{\\left(t \\right)}\\quad\\,.\\label{eq:yI}\n",
      "\\end{equation}\n",
      "\n"
     ]
    }
   ],
   "source": [
    "# Allocate two new parameters\n",
    "k_I = symbols('k_I')\n",
    "# Allocate two new functions\n",
    "y_I = Function('y_I')(t)\n",
    "# Equations for the input and outputs\n",
    "y_I_eq = Eq(y_I,k_I*I)\n",
    "# Print the equation for the output\n",
    "print('Equation for $y_{I}$:')\n",
    "print(latex(y_I_eq,mode='equation').replace(\"\\\\begin{equation}\",\"\\\\begin{equation}\\n\").replace(\"\\\\end{equation}\",\"\\\\quad\\\\,.\\\\label{eq:yI}\\n\\\\end{equation}\\n\"))"
   ]
  },
  {
   "cell_type": "markdown",
   "id": "71078dcc",
   "metadata": {},
   "source": [
    "Equation for $y_{I}$:\n",
    "\\begin{equation}\n",
    "\\operatorname{y_{I}}{\\left(t \\right)} = k_{I} I{\\left(t \\right)}\\quad\\,.\\label{eq:yI}\n",
    "\\end{equation}\n",
    "\n",
    "\n",
    "\n",
    "## Re-write the ODE system in terms of outputs\n",
    "Next, we rewrite the ODE system in terms of these inputs and outputs."
   ]
  },
  {
   "cell_type": "code",
   "execution_count": 4,
   "id": "129d01ad",
   "metadata": {},
   "outputs": [
    {
     "name": "stdout",
     "output_type": "stream",
     "text": [
      "ODE for $S$:\n",
      "\\begin{equation}\n",
      "\\frac{d}{d t} S{\\left(t \\right)} = - \\frac{\\beta S{\\left(t \\right)} \\operatorname{y_{I}}{\\left(t \\right)}}{k_{I}} + c - \\mu_{S} S{\\left(t \\right)}\\quad\\,,\\label{eq:ODE_S}\n",
      "\\end{equation}\n",
      "\n",
      "ODE for $E$:\n",
      "\\begin{equation}\n",
      "\\frac{d}{d t} E{\\left(t \\right)} = - \\frac{\\beta \\epsilon S{\\left(t \\right)} \\operatorname{y_{I}}{\\left(t \\right)}}{k_{I}} + \\frac{\\beta S{\\left(t \\right)} \\operatorname{y_{I}}{\\left(t \\right)}}{k_{I}} - \\delta E{\\left(t \\right)} - \\mu_{E} E{\\left(t \\right)}\\quad\\,,\\label{eq:ODE_y_E}\n",
      "\\end{equation}\n",
      "\n",
      "ODE for $y_I$:\n",
      "\\begin{equation}\n",
      "\\frac{d}{d t} \\operatorname{y_{I}}{\\left(t \\right)} = \\beta \\epsilon S{\\left(t \\right)} \\operatorname{y_{I}}{\\left(t \\right)} + \\delta k_{I} E{\\left(t \\right)} - \\mu_{I} \\operatorname{y_{I}}{\\left(t \\right)}\\quad\\,.\\label{eq:ODE_y_I}\n",
      "\\end{equation}\n",
      "\n"
     ]
    }
   ],
   "source": [
    "# Define an equation for I\n",
    "I_eq = Eq(I,solve(y_I_eq,I)[0])\n",
    "# Define the derivative for y_I\n",
    "ODE_y_I = Eq(Derivative(y_I_eq.lhs,t).doit(),Derivative(y_I_eq.rhs,t).doit())\n",
    "ODE_y_I = ODE_y_I.subs(ODE_I.lhs,ODE_I.rhs)\n",
    "ODE_y_I = expand(ODE_y_I.subs(I_eq.lhs,I_eq.rhs))\n",
    "# Re-define our ODEs for S and E as well in terms of our new state\n",
    "ODE_S = expand(ODE_S.subs(I_eq.lhs,I_eq.rhs))\n",
    "ODE_E = expand(ODE_E.subs(I_eq.lhs,I_eq.rhs))\n",
    "# Now, print our new ODEs\n",
    "# ODE for S\n",
    "print(\"ODE for $S$:\")\n",
    "print(latex(ODE_S,mode='equation').replace(\"\\\\begin{equation}\",\"\\\\begin{equation}\\n\").replace(\"\\\\end{equation}\",\"\\\\quad\\\\,,\\\\label{eq:ODE_S}\\n\\\\end{equation}\\n\"))\n",
    "# ODE for y_E\n",
    "print(\"ODE for $E$:\")\n",
    "print(latex(ODE_E,mode='equation').replace(\"\\\\begin{equation}\",\"\\\\begin{equation}\\n\").replace(\"\\\\end{equation}\",\"\\\\quad\\\\,,\\\\label{eq:ODE_y_E}\\n\\\\end{equation}\\n\"))\n",
    "# ODE for y_I\n",
    "print(\"ODE for $y_I$:\")\n",
    "print(latex(ODE_y_I,mode='equation').replace(\"\\\\begin{equation}\",\"\\\\begin{equation}\\n\").replace(\"\\\\end{equation}\",\"\\\\quad\\\\,.\\\\label{eq:ODE_y_I}\\n\\\\end{equation}\\n\"))"
   ]
  },
  {
   "cell_type": "markdown",
   "id": "6a6c1486",
   "metadata": {},
   "source": [
    "ODE for $S$:\n",
    "\\begin{equation}\n",
    "\\frac{d}{d t} S{\\left(t \\right)} = - \\frac{\\beta S{\\left(t \\right)} \\operatorname{y_{I}}{\\left(t \\right)}}{k_{I}} + c - \\mu_{S} S{\\left(t \\right)}\\quad\\,,\\label{eq:ODE_S}\n",
    "\\end{equation}\n",
    "\n",
    "ODE for $E$:\n",
    "\\begin{equation}\n",
    "\\frac{d}{d t} E{\\left(t \\right)} = - \\frac{\\beta \\epsilon S{\\left(t \\right)} \\operatorname{y_{I}}{\\left(t \\right)}}{k_{I}} + \\frac{\\beta S{\\left(t \\right)} \\operatorname{y_{I}}{\\left(t \\right)}}{k_{I}} - \\delta E{\\left(t \\right)} - \\mu_{E} E{\\left(t \\right)}\\quad\\,,\\label{eq:ODE_y_E}\n",
    "\\end{equation}\n",
    "\n",
    "ODE for $y_I$:\n",
    "\\begin{equation}\n",
    "\\frac{d}{d t} \\operatorname{y_{I}}{\\left(t \\right)} = \\beta \\epsilon S{\\left(t \\right)} \\operatorname{y_{I}}{\\left(t \\right)} + \\delta k_{I} E{\\left(t \\right)} - \\mu_{I} \\operatorname{y_{I}}{\\left(t \\right)}\\quad\\,.\\label{eq:ODE_y_I}\n",
    "\\end{equation}\n",
    "\n",
    "Ok, now we must isolate $y_I$ somehow. And I think this can be done by differentiating the Last ODE, sufficiently many times. Let's play around with this...\n"
   ]
  },
  {
   "cell_type": "code",
   "execution_count": 16,
   "id": "9501e230",
   "metadata": {},
   "outputs": [
    {
     "name": "stdout",
     "output_type": "stream",
     "text": [
      "New ODE of order 2\n",
      "\\begin{equation}\\frac{d^{2}}{d t^{2}} \\operatorname{y_{I}}{\\left(t \\right)} = - \\frac{\\beta^{2} \\epsilon S{\\left(t \\right)} \\operatorname{y_{I}}^{2}{\\left(t \\right)}}{k_{I}} + \\beta c \\epsilon \\operatorname{y_{I}}{\\left(t \\right)} - \\beta \\delta \\epsilon S{\\left(t \\right)} \\operatorname{y_{I}}{\\left(t \\right)} + \\beta \\delta S{\\left(t \\right)} \\operatorname{y_{I}}{\\left(t \\right)} - \\beta \\epsilon \\mu_{S} S{\\left(t \\right)} \\operatorname{y_{I}}{\\left(t \\right)} + \\beta \\epsilon S{\\left(t \\right)} \\frac{d}{d t} \\operatorname{y_{I}}{\\left(t \\right)} - \\delta^{2} k_{I} E{\\left(t \\right)} - \\delta k_{I} \\mu_{E} E{\\left(t \\right)} - \\mu_{I} \\frac{d}{d t} \\operatorname{y_{I}}{\\left(t \\right)}\\end{equation}\n",
      "New ODE of order 3\n",
      "\\begin{equation}\\frac{d^{3}}{d t^{3}} \\operatorname{y_{I}}{\\left(t \\right)} = \\frac{\\beta^{3} \\epsilon S{\\left(t \\right)} \\operatorname{y_{I}}^{3}{\\left(t \\right)}}{k_{I}^{2}} - \\frac{\\beta^{2} c \\epsilon \\operatorname{y_{I}}^{2}{\\left(t \\right)}}{k_{I}} + \\frac{\\beta^{2} \\delta \\epsilon S{\\left(t \\right)} \\operatorname{y_{I}}^{2}{\\left(t \\right)}}{k_{I}} - \\frac{\\beta^{2} \\delta S{\\left(t \\right)} \\operatorname{y_{I}}^{2}{\\left(t \\right)}}{k_{I}} + \\frac{2 \\beta^{2} \\epsilon \\mu_{S} S{\\left(t \\right)} \\operatorname{y_{I}}^{2}{\\left(t \\right)}}{k_{I}} - \\frac{3 \\beta^{2} \\epsilon S{\\left(t \\right)} \\operatorname{y_{I}}{\\left(t \\right)} \\frac{d}{d t} \\operatorname{y_{I}}{\\left(t \\right)}}{k_{I}} - \\beta c \\delta \\epsilon \\operatorname{y_{I}}{\\left(t \\right)} + \\beta c \\delta \\operatorname{y_{I}}{\\left(t \\right)} - \\beta c \\epsilon \\mu_{S} \\operatorname{y_{I}}{\\left(t \\right)} + 2 \\beta c \\epsilon \\frac{d}{d t} \\operatorname{y_{I}}{\\left(t \\right)} + \\beta \\delta^{2} \\epsilon S{\\left(t \\right)} \\operatorname{y_{I}}{\\left(t \\right)} - \\beta \\delta^{2} S{\\left(t \\right)} \\operatorname{y_{I}}{\\left(t \\right)} + \\beta \\delta \\epsilon \\mu_{E} S{\\left(t \\right)} \\operatorname{y_{I}}{\\left(t \\right)} + \\beta \\delta \\epsilon \\mu_{S} S{\\left(t \\right)} \\operatorname{y_{I}}{\\left(t \\right)} - \\beta \\delta \\epsilon S{\\left(t \\right)} \\frac{d}{d t} \\operatorname{y_{I}}{\\left(t \\right)} - \\beta \\delta \\mu_{E} S{\\left(t \\right)} \\operatorname{y_{I}}{\\left(t \\right)} - \\beta \\delta \\mu_{S} S{\\left(t \\right)} \\operatorname{y_{I}}{\\left(t \\right)} + \\beta \\delta S{\\left(t \\right)} \\frac{d}{d t} \\operatorname{y_{I}}{\\left(t \\right)} + \\beta \\epsilon \\mu_{S}^{2} S{\\left(t \\right)} \\operatorname{y_{I}}{\\left(t \\right)} - 2 \\beta \\epsilon \\mu_{S} S{\\left(t \\right)} \\frac{d}{d t} \\operatorname{y_{I}}{\\left(t \\right)} + \\beta \\epsilon S{\\left(t \\right)} \\frac{d^{2}}{d t^{2}} \\operatorname{y_{I}}{\\left(t \\right)} + \\delta^{3} k_{I} E{\\left(t \\right)} + 2 \\delta^{2} k_{I} \\mu_{E} E{\\left(t \\right)} + \\delta k_{I} \\mu_{E}^{2} E{\\left(t \\right)} - \\mu_{I} \\frac{d^{2}}{d t^{2}} \\operatorname{y_{I}}{\\left(t \\right)}\\end{equation}\n"
     ]
    }
   ],
   "source": [
    "# Print the new ODE\n",
    "ODE_y_I_2 = Eq(Derivative(ODE_y_I.lhs,t).doit(),expand(Derivative(ODE_y_I.rhs,t).doit().subs(ODE_S.lhs,ODE_S.rhs).subs(ODE_E.lhs,ODE_E.rhs)))\n",
    "print(\"New ODE of order 2\")\n",
    "print(latex(ODE_y_I_2,mode='equation'))\n",
    "ODE_y_I_3 = Eq(Derivative(ODE_y_I_2.lhs,t).doit(),expand(Derivative(ODE_y_I_2.rhs,t).doit().subs(ODE_S.lhs,ODE_S.rhs).subs(ODE_E.lhs,ODE_E.rhs)))\n",
    "print(\"New ODE of order 3\")\n",
    "print(latex(ODE_y_I_3,mode='equation'))"
   ]
  },
  {
   "cell_type": "markdown",
   "id": "8c01b76c",
   "metadata": {},
   "source": [
    "New ODE of order 2\n",
    "\\begin{equation}\\frac{d^{2}}{d t^{2}} \\operatorname{y_{I}}{\\left(t \\right)} = - \\frac{\\beta^{2} \\epsilon S{\\left(t \\right)} \\operatorname{y_{I}}^{2}{\\left(t \\right)}}{k_{I}} + \\beta c \\epsilon \\operatorname{y_{I}}{\\left(t \\right)} - \\beta \\delta \\epsilon S{\\left(t \\right)} \\operatorname{y_{I}}{\\left(t \\right)} + \\beta \\delta S{\\left(t \\right)} \\operatorname{y_{I}}{\\left(t \\right)} - \\beta \\epsilon \\mu_{S} S{\\left(t \\right)} \\operatorname{y_{I}}{\\left(t \\right)} + \\beta \\epsilon S{\\left(t \\right)} \\frac{d}{d t} \\operatorname{y_{I}}{\\left(t \\right)} - \\delta^{2} k_{I} E{\\left(t \\right)} - \\delta k_{I} \\mu_{E} E{\\left(t \\right)} - \\mu_{I} \\frac{d}{d t} \\operatorname{y_{I}}{\\left(t \\right)}\\end{equation}\n",
    "New ODE of order 3\n",
    "\\begin{equation}\\frac{d^{3}}{d t^{3}} \\operatorname{y_{I}}{\\left(t \\right)} = \\frac{\\beta^{3} \\epsilon S{\\left(t \\right)} \\operatorname{y_{I}}^{3}{\\left(t \\right)}}{k_{I}^{2}} - \\frac{\\beta^{2} c \\epsilon \\operatorname{y_{I}}^{2}{\\left(t \\right)}}{k_{I}} + \\frac{\\beta^{2} \\delta \\epsilon S{\\left(t \\right)} \\operatorname{y_{I}}^{2}{\\left(t \\right)}}{k_{I}} - \\frac{\\beta^{2} \\delta S{\\left(t \\right)} \\operatorname{y_{I}}^{2}{\\left(t \\right)}}{k_{I}} + \\frac{2 \\beta^{2} \\epsilon \\mu_{S} S{\\left(t \\right)} \\operatorname{y_{I}}^{2}{\\left(t \\right)}}{k_{I}} - \\frac{3 \\beta^{2} \\epsilon S{\\left(t \\right)} \\operatorname{y_{I}}{\\left(t \\right)} \\frac{d}{d t} \\operatorname{y_{I}}{\\left(t \\right)}}{k_{I}} - \\beta c \\delta \\epsilon \\operatorname{y_{I}}{\\left(t \\right)} + \\beta c \\delta \\operatorname{y_{I}}{\\left(t \\right)} - \\beta c \\epsilon \\mu_{S} \\operatorname{y_{I}}{\\left(t \\right)} + 2 \\beta c \\epsilon \\frac{d}{d t} \\operatorname{y_{I}}{\\left(t \\right)} + \\beta \\delta^{2} \\epsilon S{\\left(t \\right)} \\operatorname{y_{I}}{\\left(t \\right)} - \\beta \\delta^{2} S{\\left(t \\right)} \\operatorname{y_{I}}{\\left(t \\right)} + \\beta \\delta \\epsilon \\mu_{E} S{\\left(t \\right)} \\operatorname{y_{I}}{\\left(t \\right)} + \\beta \\delta \\epsilon \\mu_{S} S{\\left(t \\right)} \\operatorname{y_{I}}{\\left(t \\right)} - \\beta \\delta \\epsilon S{\\left(t \\right)} \\frac{d}{d t} \\operatorname{y_{I}}{\\left(t \\right)} - \\beta \\delta \\mu_{E} S{\\left(t \\right)} \\operatorname{y_{I}}{\\left(t \\right)} - \\beta \\delta \\mu_{S} S{\\left(t \\right)} \\operatorname{y_{I}}{\\left(t \\right)} + \\beta \\delta S{\\left(t \\right)} \\frac{d}{d t} \\operatorname{y_{I}}{\\left(t \\right)} + \\beta \\epsilon \\mu_{S}^{2} S{\\left(t \\right)} \\operatorname{y_{I}}{\\left(t \\right)} - 2 \\beta \\epsilon \\mu_{S} S{\\left(t \\right)} \\frac{d}{d t} \\operatorname{y_{I}}{\\left(t \\right)} + \\beta \\epsilon S{\\left(t \\right)} \\frac{d^{2}}{d t^{2}} \\operatorname{y_{I}}{\\left(t \\right)} + \\delta^{3} k_{I} E{\\left(t \\right)} + 2 \\delta^{2} k_{I} \\mu_{E} E{\\left(t \\right)} + \\delta k_{I} \\mu_{E}^{2} E{\\left(t \\right)} - \\mu_{I} \\frac{d^{2}}{d t^{2}} \\operatorname{y_{I}}{\\left(t \\right)}\\end{equation}\n",
    "\n"
   ]
  },
  {
   "cell_type": "code",
   "execution_count": null,
   "id": "87afe111",
   "metadata": {},
   "outputs": [],
   "source": []
  }
 ],
 "metadata": {
  "kernelspec": {
   "display_name": "Python 3",
   "language": "python",
   "name": "python3"
  },
  "language_info": {
   "codemirror_mode": {
    "name": "ipython",
    "version": 3
   },
   "file_extension": ".py",
   "mimetype": "text/x-python",
   "name": "python",
   "nbconvert_exporter": "python",
   "pygments_lexer": "ipython3",
   "version": "3.8.8"
  }
 },
 "nbformat": 4,
 "nbformat_minor": 5
}
