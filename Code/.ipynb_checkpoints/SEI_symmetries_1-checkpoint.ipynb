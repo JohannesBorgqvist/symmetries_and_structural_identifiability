{
 "cells": [
  {
   "cell_type": "markdown",
   "id": "b93c7037",
   "metadata": {},
   "source": [
    "# Structural identifiability analysis of the SEI model \n",
    "Date: 2023-09-05,<br>\n",
    "Written by: Johannes Borgqvist.<br>\n",
    "We study the following SEI model:\n",
    "\\begin{align}\n",
    "\\dfrac{\\mathrm{d}S}{\\mathrm{d}t}&=c-\\beta SI-\\mu_{S}S\\,,\\label{eq:S}\\\\\n",
    "\\dfrac{\\mathrm{d}E}{\\mathrm{d}t}&=(1-\\epsilon)\\beta SI-\\delta E-\\mu_{E}E\\,,\\label{eq:E}\\\\\n",
    "\\dfrac{\\mathrm{d}I}{\\mathrm{d}t}&=\\epsilon\\beta SI+\\delta E-\\mu_{I}I\\,.\\label{eq:I}\\\\\n",
    "\\end{align}\n",
    "Let's implement this model in SymPy!"
   ]
  },
  {
   "cell_type": "code",
   "execution_count": 1,
   "id": "3baee788",
   "metadata": {},
   "outputs": [
    {
     "name": "stdout",
     "output_type": "stream",
     "text": [
      "ODE for $S$:\n",
      "\\begin{equation}\n",
      "\\frac{d}{d t} S{\\left(t \\right)} = - \\beta I{\\left(t \\right)} S{\\left(t \\right)} + c - \\mu_{S} S{\\left(t \\right)}\\quad\\,,\\label{eq:ODE_S}\n",
      "\\end{equation}\n",
      "\n",
      "ODE for $E$:\n",
      "\\begin{equation}\n",
      "\\frac{d}{d t} E{\\left(t \\right)} = \\beta \\left(1 - \\epsilon\\right) I{\\left(t \\right)} S{\\left(t \\right)} - \\delta E{\\left(t \\right)} - \\mu_{E} E{\\left(t \\right)}\\quad\\,,\\label{eq:ODE_E}\n",
      "\\end{equation}\n",
      "\n",
      "ODE for $I$:\n",
      "\\begin{equation}\n",
      "\\frac{d}{d t} I{\\left(t \\right)} = \\beta \\epsilon I{\\left(t \\right)} S{\\left(t \\right)} + \\delta E{\\left(t \\right)} - \\mu_{I} I{\\left(t \\right)}\\quad\\,.\\label{eq:ODE_I}\n",
      "\\end{equation}\n",
      "\n"
     ]
    }
   ],
   "source": [
    "# Import sympy\n",
    "from sympy import *\n",
    "# Define all parameters as symbols\n",
    "c, beta, mu_S, mu_E, mu_I, delta, epsilon = symbols('c, beta, mu_S, mu_E, mu_I, delta, epsilon')\n",
    "# Define our independent variable time\n",
    "t = symbols('t')\n",
    "# Define our three dependent variables being the states\n",
    "S = Function('S')(t)\n",
    "E = Function('E')(t)\n",
    "I = Function('I')(t)\n",
    "# Now, we define our three ODEs\n",
    "# ODE for S\n",
    "ODE_S = c - beta*S*I - mu_S*S\n",
    "ODE_S = Eq(Derivative(S,t,1),ODE_S)\n",
    "print(\"ODE for $S$:\")\n",
    "print(latex(ODE_S,mode='equation').replace(\"\\\\begin{equation}\",\"\\\\begin{equation}\\n\").replace(\"\\\\end{equation}\",\"\\\\quad\\\\,,\\\\label{eq:ODE_S}\\n\\\\end{equation}\\n\"))\n",
    "# ODE for E\n",
    "ODE_E = (1-epsilon)*beta*S*I - delta*E - mu_E*E\n",
    "ODE_E = Eq(Derivative(E,t,1),ODE_E)\n",
    "print(\"ODE for $E$:\")\n",
    "print(latex(ODE_E,mode='equation').replace(\"\\\\begin{equation}\",\"\\\\begin{equation}\\n\").replace(\"\\\\end{equation}\",\"\\\\quad\\\\,,\\\\label{eq:ODE_E}\\n\\\\end{equation}\\n\"))\n",
    "# ODE for I\n",
    "ODE_I = epsilon*beta*S*I + delta*E - mu_I*I\n",
    "ODE_I = Eq(Derivative(I,t,1),ODE_I)\n",
    "print(\"ODE for $I$:\")\n",
    "print(latex(ODE_I,mode='equation').replace(\"\\\\begin{equation}\",\"\\\\begin{equation}\\n\").replace(\"\\\\end{equation}\",\"\\\\quad\\\\,.\\\\label{eq:ODE_I}\\n\\\\end{equation}\\n\"))"
   ]
  },
  {
   "cell_type": "markdown",
   "id": "494deb9d",
   "metadata": {},
   "source": [
    "ODE for $S$:\n",
    "\\begin{equation}\n",
    "\\frac{d}{d t} S{\\left(t \\right)} = - \\beta I{\\left(t \\right)} S{\\left(t \\right)} + c - \\mu_{S} S{\\left(t \\right)}\\quad\\,,\\label{eq:ODE_S}\n",
    "\\end{equation}\n",
    "\n",
    "ODE for $E$:\n",
    "\\begin{equation}\n",
    "\\frac{d}{d t} E{\\left(t \\right)} = \\beta \\left(1 - \\epsilon\\right) I{\\left(t \\right)} S{\\left(t \\right)} - \\delta E{\\left(t \\right)} - \\mu_{E} E{\\left(t \\right)}\\quad\\,,\\label{eq:ODE_E}\n",
    "\\end{equation}\n",
    "\n",
    "ODE for $I$:\n",
    "\\begin{equation}\n",
    "\\frac{d}{d t} I{\\left(t \\right)} = \\beta \\epsilon I{\\left(t \\right)} S{\\left(t \\right)} + \\delta E{\\left(t \\right)} - \\mu_{I} I{\\left(t \\right)}\\quad\\,.\\label{eq:ODE_I}\n",
    "\\end{equation}\n",
    "\n",
    "## Introducing observed outputs\n",
    "Next, we assume that we can observe two states denoted by $y_{I}$ and $y_{E}$. Specifically, these are given by:\n",
    "\\begin{equation}\n",
    "y_{E}=k_{E}E\\,,\\quad y_{I}=k_{I}I\\,,\n",
    "\\label{eq:output_input}\n",
    "\\end{equation}\n",
    "which means that we can observe a proportion of the exposed and infected individuals. Let's express the original ODE system in terms of these outputs!"
   ]
  },
  {
   "cell_type": "code",
   "execution_count": 2,
   "id": "7a66a923",
   "metadata": {},
   "outputs": [
    {
     "name": "stdout",
     "output_type": "stream",
     "text": [
      "Equation for $y_{E}$:\n",
      "\\begin{equation}\n",
      "\\operatorname{y_{E}}{\\left(t \\right)} = k_{E} E{\\left(t \\right)}\\quad\\,.\\label{eq:yE}\n",
      "\\end{equation}\n",
      "\n",
      "Equation for $y_{I}$:\n",
      "\\begin{equation}\n",
      "\\operatorname{y_{I}}{\\left(t \\right)} = k_{I} I{\\left(t \\right)}\\quad\\,.\\label{eq:yI}\n",
      "\\end{equation}\n",
      "\n"
     ]
    }
   ],
   "source": [
    "# Allocate two new parameters\n",
    "k_E, k_I = symbols('k_E k_I')\n",
    "# Allocate two new functions\n",
    "y_E = Function('y_E')(t)\n",
    "y_I = Function('y_I')(t)\n",
    "# Equations for the input and outputs\n",
    "y_E_eq = Eq(y_E,k_E*E)\n",
    "y_I_eq = Eq(y_I,k_I*I)\n",
    "# Print them\n",
    "print('Equation for $y_{E}$:')\n",
    "print(latex(y_E_eq,mode='equation').replace(\"\\\\begin{equation}\",\"\\\\begin{equation}\\n\").replace(\"\\\\end{equation}\",\"\\\\quad\\\\,.\\\\label{eq:yE}\\n\\\\end{equation}\\n\"))\n",
    "print('Equation for $y_{I}$:')\n",
    "print(latex(y_I_eq,mode='equation').replace(\"\\\\begin{equation}\",\"\\\\begin{equation}\\n\").replace(\"\\\\end{equation}\",\"\\\\quad\\\\,.\\\\label{eq:yI}\\n\\\\end{equation}\\n\"))"
   ]
  },
  {
   "cell_type": "markdown",
   "id": "d24629aa",
   "metadata": {},
   "source": [
    "Equation for $y_{E}$:\n",
    "\\begin{equation}\n",
    "\\operatorname{y_{E}}{\\left(t \\right)} = k_{E} E{\\left(t \\right)}\\quad\\,.\\label{eq:yE}\n",
    "\\end{equation}\n",
    "\n",
    "Equation for $y_{I}$:\n",
    "\\begin{equation}\n",
    "\\operatorname{y_{I}}{\\left(t \\right)} = k_{I} I{\\left(t \\right)}\\quad\\,.\\label{eq:yI}\n",
    "\\end{equation}\n",
    "## Re-write the ODE system in terms of outputs\n",
    "Next, we rewrite the ODE system in terms of these inputs and outputs. \n"
   ]
  },
  {
   "cell_type": "code",
   "execution_count": 3,
   "id": "940e3017",
   "metadata": {},
   "outputs": [
    {
     "name": "stdout",
     "output_type": "stream",
     "text": [
      "ODE for $S$:\n",
      "\\begin{equation}\n",
      "\\frac{d}{d t} S{\\left(t \\right)} = - \\frac{\\beta S{\\left(t \\right)} \\operatorname{y_{I}}{\\left(t \\right)}}{k_{I}} + c - \\mu_{S} S{\\left(t \\right)}\\quad\\,,\\label{eq:ODE_S}\n",
      "\\end{equation}\n",
      "\n",
      "ODE for $y_E$:\n",
      "\\begin{equation}\n",
      "\\frac{d}{d t} \\operatorname{y_{E}}{\\left(t \\right)} = - \\frac{\\beta \\epsilon k_{E} S{\\left(t \\right)} \\operatorname{y_{I}}{\\left(t \\right)}}{k_{I}} + \\frac{\\beta k_{E} S{\\left(t \\right)} \\operatorname{y_{I}}{\\left(t \\right)}}{k_{I}} - \\delta \\operatorname{y_{E}}{\\left(t \\right)} - \\mu_{E} \\operatorname{y_{E}}{\\left(t \\right)}\\quad\\,,\\label{eq:ODE_y_E}\n",
      "\\end{equation}\n",
      "\n",
      "ODE for $y_I$:\n",
      "\\begin{equation}\n",
      "\\frac{d}{d t} \\operatorname{y_{I}}{\\left(t \\right)} = \\beta \\epsilon S{\\left(t \\right)} \\operatorname{y_{I}}{\\left(t \\right)} + \\frac{\\delta k_{I} \\operatorname{y_{E}}{\\left(t \\right)}}{k_{E}} - \\mu_{I} \\operatorname{y_{I}}{\\left(t \\right)}\\quad\\,.\\label{eq:ODE_y_I}\n",
      "\\end{equation}\n",
      "\n"
     ]
    }
   ],
   "source": [
    "# Define an equation for E\n",
    "E_eq = Eq(E,solve(y_E_eq,E)[0])\n",
    "# Define an equation for I\n",
    "I_eq = Eq(I,solve(y_I_eq,I)[0])\n",
    "# Define the derivative for y_E\n",
    "ODE_y_E = Eq(Derivative(y_E_eq.lhs,t).doit(),Derivative(y_E_eq.rhs,t).doit())\n",
    "ODE_y_E = ODE_y_E.subs(ODE_E.lhs,ODE_E.rhs)\n",
    "ODE_y_E = ODE_y_E.subs(E_eq.lhs,E_eq.rhs)\n",
    "ODE_y_E = expand(ODE_y_E.subs(I_eq.lhs,I_eq.rhs))\n",
    "# Define the derivative for y_I\n",
    "ODE_y_I = Eq(Derivative(y_I_eq.lhs,t).doit(),Derivative(y_I_eq.rhs,t).doit())\n",
    "ODE_y_I = ODE_y_I.subs(ODE_I.lhs,ODE_I.rhs)\n",
    "ODE_y_I = ODE_y_I.subs(E_eq.lhs,E_eq.rhs)\n",
    "ODE_y_I = expand(ODE_y_I.subs(I_eq.lhs,I_eq.rhs))\n",
    "# Re-define our ODE for S as well in terms of our new states\n",
    "ODE_S = ODE_S.subs(E_eq.lhs,E_eq.rhs)\n",
    "ODE_S = expand(ODE_S.subs(I_eq.lhs,I_eq.rhs))\n",
    "# Now, print our new ODEs\n",
    "# ODE for S\n",
    "print(\"ODE for $S$:\")\n",
    "print(latex(ODE_S,mode='equation').replace(\"\\\\begin{equation}\",\"\\\\begin{equation}\\n\").replace(\"\\\\end{equation}\",\"\\\\quad\\\\,,\\\\label{eq:ODE_S}\\n\\\\end{equation}\\n\"))\n",
    "# ODE for y_E\n",
    "print(\"ODE for $y_E$:\")\n",
    "print(latex(ODE_y_E,mode='equation').replace(\"\\\\begin{equation}\",\"\\\\begin{equation}\\n\").replace(\"\\\\end{equation}\",\"\\\\quad\\\\,,\\\\label{eq:ODE_y_E}\\n\\\\end{equation}\\n\"))\n",
    "# ODE for y_I\n",
    "print(\"ODE for $y_I$:\")\n",
    "print(latex(ODE_y_I,mode='equation').replace(\"\\\\begin{equation}\",\"\\\\begin{equation}\\n\").replace(\"\\\\end{equation}\",\"\\\\quad\\\\,.\\\\label{eq:ODE_y_I}\\n\\\\end{equation}\\n\"))"
   ]
  },
  {
   "cell_type": "markdown",
   "id": "3fa550ef",
   "metadata": {},
   "source": [
    "ODE for $S$:\n",
    "\\begin{equation}\n",
    "\\frac{d}{d t} S{\\left(t \\right)} = - \\frac{\\beta S{\\left(t \\right)} \\operatorname{y_{I}}{\\left(t \\right)}}{k_{I}} + c - \\mu_{S} S{\\left(t \\right)}\\quad\\,,\\label{eq:ODE_S}\n",
    "\\end{equation}\n",
    "\n",
    "ODE for $y_E$:\n",
    "\\begin{equation}\n",
    "\\frac{d}{d t} \\operatorname{y_{E}}{\\left(t \\right)} = - \\frac{\\beta \\epsilon k_{E} S{\\left(t \\right)} \\operatorname{y_{I}}{\\left(t \\right)}}{k_{I}} + \\frac{\\beta k_{E} S{\\left(t \\right)} \\operatorname{y_{I}}{\\left(t \\right)}}{k_{I}} - \\delta \\operatorname{y_{E}}{\\left(t \\right)} - \\mu_{E} \\operatorname{y_{E}}{\\left(t \\right)}\\quad\\,,\\label{eq:ODE_y_E}\n",
    "\\end{equation}\n",
    "\n",
    "ODE for $y_I$:\n",
    "\\begin{equation}\n",
    "\\frac{d}{d t} \\operatorname{y_{I}}{\\left(t \\right)} = \\beta \\epsilon S{\\left(t \\right)} \\operatorname{y_{I}}{\\left(t \\right)} + \\frac{\\delta k_{I} \\operatorname{y_{E}}{\\left(t \\right)}}{k_{E}} - \\mu_{I} \\operatorname{y_{I}}{\\left(t \\right)}\\quad\\,.\\label{eq:ODE_y_I}\n",
    "\\end{equation}\n",
    "\n",
    "\n",
    "\n",
    "\n",
    "\n",
    "## Solve our last ODE for $S$\n",
    "\n",
    "\n"
   ]
  },
  {
   "cell_type": "code",
   "execution_count": 4,
   "id": "1ed1398c",
   "metadata": {},
   "outputs": [
    {
     "name": "stdout",
     "output_type": "stream",
     "text": [
      "Equation for $S$:\n",
      "\\begin{equation}\n",
      "S{\\left(t \\right)} = \\frac{- \\delta k_{I} \\operatorname{y_{E}}{\\left(t \\right)} + k_{E} \\mu_{I} \\operatorname{y_{I}}{\\left(t \\right)} + k_{E} \\frac{d}{d t} \\operatorname{y_{I}}{\\left(t \\right)}}{\\beta \\epsilon k_{E} \\operatorname{y_{I}}{\\left(t \\right)}}\\quad\\,.\\label{eq:S_eq}\n",
      "\\end{equation}\n",
      "\n"
     ]
    }
   ],
   "source": [
    "# Solve the ODE for y_I for S\n",
    "S_eq = Eq(S,solve(ODE_y_I,S)[0])\n",
    "# Print this equation\n",
    "print(\"Equation for $S$:\")\n",
    "print(latex(S_eq,mode='equation').replace(\"\\\\begin{equation}\",\"\\\\begin{equation}\\n\").replace(\"\\\\end{equation}\",\"\\\\quad\\\\,.\\\\label{eq:S_eq}\\n\\\\end{equation}\\n\"))"
   ]
  },
  {
   "cell_type": "markdown",
   "id": "79833170",
   "metadata": {},
   "source": [
    "Equation for $S$:\n",
    "\\begin{equation}\n",
    "S{\\left(t \\right)} = \\frac{- \\delta k_{I} \\operatorname{y_{E}}{\\left(t \\right)} + k_{E} \\mu_{I} \\operatorname{y_{I}}{\\left(t \\right)} + k_{E} \\frac{d}{d t} \\operatorname{y_{I}}{\\left(t \\right)}}{\\beta \\epsilon k_{E} \\operatorname{y_{I}}{\\left(t \\right)}}\\quad\\,.\\label{eq:S_eq}\n",
    "\\end{equation}\n",
    "\n",
    "\n",
    "\n",
    "# Increase the order of the ODE for $y_I$\n",
    "Next, we differentiate the ODE for $y_{I}$ w.r.t. to t, we substitute the ODE for S, and then substitute the above equation for S."
   ]
  },
  {
   "cell_type": "code",
   "execution_count": 5,
   "id": "f024381c",
   "metadata": {},
   "outputs": [
    {
     "name": "stdout",
     "output_type": "stream",
     "text": [
      "ODE for $y_I$:\n",
      "\\begin{equation}\n",
      "\\frac{d^{2}}{d t^{2}} \\operatorname{y_{I}}{\\left(t \\right)} = \\beta c \\epsilon \\operatorname{y_{I}}{\\left(t \\right)} + \\frac{\\beta \\delta \\operatorname{y_{E}}{\\left(t \\right)} \\operatorname{y_{I}}{\\left(t \\right)}}{k_{E}} - \\frac{\\beta \\mu_{I} \\operatorname{y_{I}}^{2}{\\left(t \\right)}}{k_{I}} - \\frac{\\beta \\operatorname{y_{I}}{\\left(t \\right)} \\frac{d}{d t} \\operatorname{y_{I}}{\\left(t \\right)}}{k_{I}} + \\frac{\\delta k_{I} \\mu_{S} \\operatorname{y_{E}}{\\left(t \\right)}}{k_{E}} - \\frac{\\delta k_{I} \\operatorname{y_{E}}{\\left(t \\right)} \\frac{d}{d t} \\operatorname{y_{I}}{\\left(t \\right)}}{k_{E} \\operatorname{y_{I}}{\\left(t \\right)}} + \\frac{\\delta k_{I} \\frac{d}{d t} \\operatorname{y_{E}}{\\left(t \\right)}}{k_{E}} - \\mu_{I} \\mu_{S} \\operatorname{y_{I}}{\\left(t \\right)} - \\mu_{S} \\frac{d}{d t} \\operatorname{y_{I}}{\\left(t \\right)} + \\frac{\\left(\\frac{d}{d t} \\operatorname{y_{I}}{\\left(t \\right)}\\right)^{2}}{\\operatorname{y_{I}}{\\left(t \\right)}}\\quad\\,.\\label{eq:ODE_y_I_2}\n",
      "\\end{equation}\n",
      "\n",
      "ODE for $y_E$:\n",
      "\\begin{equation}\n",
      "\\frac{d}{d t} \\operatorname{y_{E}}{\\left(t \\right)} = - \\frac{\\delta \\operatorname{y_{E}}{\\left(t \\right)}}{\\epsilon} - \\frac{k_{E} \\mu_{I} \\operatorname{y_{I}}{\\left(t \\right)}}{k_{I}} - \\frac{k_{E} \\frac{d}{d t} \\operatorname{y_{I}}{\\left(t \\right)}}{k_{I}} - \\mu_{E} \\operatorname{y_{E}}{\\left(t \\right)} + \\frac{k_{E} \\mu_{I} \\operatorname{y_{I}}{\\left(t \\right)}}{\\epsilon k_{I}} + \\frac{k_{E} \\frac{d}{d t} \\operatorname{y_{I}}{\\left(t \\right)}}{\\epsilon k_{I}}\\quad\\,.\\label{eq:ODE_y_E_2}\n",
      "\\end{equation}\n",
      "\n"
     ]
    }
   ],
   "source": [
    "ODE_y_I = Eq(Derivative(ODE_y_I.lhs,t).doit(),Derivative(ODE_y_I.rhs,t).doit())\n",
    "ODE_y_I = ODE_y_I.subs(ODE_S.lhs,ODE_S.rhs)\n",
    "ODE_y_I = expand(ODE_y_I.subs(S_eq.lhs,S_eq.rhs))\n",
    "# ODE for y_I\n",
    "print(\"ODE for $y_I$:\")\n",
    "print(latex(ODE_y_I,mode='equation').replace(\"\\\\begin{equation}\",\"\\\\begin{equation}\\n\").replace(\"\\\\end{equation}\",\"\\\\quad\\\\,.\\\\label{eq:ODE_y_I_2}\\n\\\\end{equation}\\n\"))\n",
    "# Also substite S in the ODE for y_E\n",
    "print(\"ODE for $y_E$:\")\n",
    "ODE_y_E = expand(ODE_y_E.subs(S_eq.lhs,S_eq.rhs))\n",
    "print(latex(ODE_y_E,mode='equation').replace(\"\\\\begin{equation}\",\"\\\\begin{equation}\\n\").replace(\"\\\\end{equation}\",\"\\\\quad\\\\,.\\\\label{eq:ODE_y_E_2}\\n\\\\end{equation}\\n\"))"
   ]
  },
  {
   "cell_type": "markdown",
   "id": "d14f39b2",
   "metadata": {},
   "source": [
    "ODE for $y_I$:\n",
    "\\begin{equation}\n",
    "\\frac{d^{2}}{d t^{2}} \\operatorname{y_{I}}{\\left(t \\right)} = \\beta c \\epsilon \\operatorname{y_{I}}{\\left(t \\right)} + \\frac{\\beta \\delta \\operatorname{y_{E}}{\\left(t \\right)} \\operatorname{y_{I}}{\\left(t \\right)}}{k_{E}} - \\frac{\\beta \\mu_{I} \\operatorname{y_{I}}^{2}{\\left(t \\right)}}{k_{I}} - \\frac{\\beta \\operatorname{y_{I}}{\\left(t \\right)} \\frac{d}{d t} \\operatorname{y_{I}}{\\left(t \\right)}}{k_{I}} + \\frac{\\delta k_{I} \\mu_{S} \\operatorname{y_{E}}{\\left(t \\right)}}{k_{E}} - \\frac{\\delta k_{I} \\operatorname{y_{E}}{\\left(t \\right)} \\frac{d}{d t} \\operatorname{y_{I}}{\\left(t \\right)}}{k_{E} \\operatorname{y_{I}}{\\left(t \\right)}} + \\frac{\\delta k_{I} \\frac{d}{d t} \\operatorname{y_{E}}{\\left(t \\right)}}{k_{E}} - \\mu_{I} \\mu_{S} \\operatorname{y_{I}}{\\left(t \\right)} - \\mu_{S} \\frac{d}{d t} \\operatorname{y_{I}}{\\left(t \\right)} + \\frac{\\left(\\frac{d}{d t} \\operatorname{y_{I}}{\\left(t \\right)}\\right)^{2}}{\\operatorname{y_{I}}{\\left(t \\right)}}\\quad\\,.\\label{eq:ODE_y_I_2}\n",
    "\\end{equation}\n",
    "\n",
    "ODE for $y_E$:\n",
    "\\begin{equation}\n",
    "\\frac{d}{d t} \\operatorname{y_{E}}{\\left(t \\right)} = - \\frac{\\delta \\operatorname{y_{E}}{\\left(t \\right)}}{\\epsilon} - \\frac{k_{E} \\mu_{I} \\operatorname{y_{I}}{\\left(t \\right)}}{k_{I}} - \\frac{k_{E} \\frac{d}{d t} \\operatorname{y_{I}}{\\left(t \\right)}}{k_{I}} - \\mu_{E} \\operatorname{y_{E}}{\\left(t \\right)} + \\frac{k_{E} \\mu_{I} \\operatorname{y_{I}}{\\left(t \\right)}}{\\epsilon k_{I}} + \\frac{k_{E} \\frac{d}{d t} \\operatorname{y_{I}}{\\left(t \\right)}}{\\epsilon k_{I}}\\quad\\,.\\label{eq:ODE_y_E_2}\n",
    "\\end{equation}\n",
    "Let's re-write the latter ODE for $y_{E}$ as a second order ODE as well. \n"
   ]
  },
  {
   "cell_type": "code",
   "execution_count": 6,
   "id": "6362186b",
   "metadata": {},
   "outputs": [
    {
     "name": "stdout",
     "output_type": "stream",
     "text": [
      "ODE for $y_I$:\n",
      "\\begin{equation}\n",
      "\\frac{d^{2}}{d t^{2}} \\operatorname{y_{I}}{\\left(t \\right)} = \\beta c \\epsilon \\operatorname{y_{I}}{\\left(t \\right)} + \\frac{\\beta \\delta \\operatorname{y_{E}}{\\left(t \\right)} \\operatorname{y_{I}}{\\left(t \\right)}}{k_{E}} - \\frac{\\beta \\mu_{I} \\operatorname{y_{I}}^{2}{\\left(t \\right)}}{k_{I}} - \\frac{\\beta \\operatorname{y_{I}}{\\left(t \\right)} \\frac{d}{d t} \\operatorname{y_{I}}{\\left(t \\right)}}{k_{I}} + \\frac{\\delta k_{I} \\mu_{S} \\operatorname{y_{E}}{\\left(t \\right)}}{k_{E}} - \\frac{\\delta k_{I} \\operatorname{y_{E}}{\\left(t \\right)} \\frac{d}{d t} \\operatorname{y_{I}}{\\left(t \\right)}}{k_{E} \\operatorname{y_{I}}{\\left(t \\right)}} + \\frac{\\delta k_{I} \\frac{d}{d t} \\operatorname{y_{E}}{\\left(t \\right)}}{k_{E}} - \\mu_{I} \\mu_{S} \\operatorname{y_{I}}{\\left(t \\right)} - \\mu_{S} \\frac{d}{d t} \\operatorname{y_{I}}{\\left(t \\right)} + \\frac{\\left(\\frac{d}{d t} \\operatorname{y_{I}}{\\left(t \\right)}\\right)^{2}}{\\operatorname{y_{I}}{\\left(t \\right)}}\\quad\\,.\\label{eq:ODE_y_I_2}\n",
      "\\end{equation}\n",
      "\n",
      "ODE for $y_E$:\n",
      "\\begin{equation}\n",
      "\\frac{d^{2}}{d t^{2}} \\operatorname{y_{E}}{\\left(t \\right)} = - \\frac{\\beta c \\epsilon k_{E} \\operatorname{y_{I}}{\\left(t \\right)}}{k_{I}} + \\frac{\\beta c k_{E} \\operatorname{y_{I}}{\\left(t \\right)}}{k_{I}} - \\frac{\\beta \\delta \\operatorname{y_{E}}{\\left(t \\right)} \\operatorname{y_{I}}{\\left(t \\right)}}{k_{I}} + \\frac{\\beta \\delta \\operatorname{y_{E}}{\\left(t \\right)} \\operatorname{y_{I}}{\\left(t \\right)}}{\\epsilon k_{I}} + \\frac{\\beta k_{E} \\mu_{I} \\operatorname{y_{I}}^{2}{\\left(t \\right)}}{k_{I}^{2}} + \\frac{\\beta k_{E} \\operatorname{y_{I}}{\\left(t \\right)} \\frac{d}{d t} \\operatorname{y_{I}}{\\left(t \\right)}}{k_{I}^{2}} - \\frac{\\beta k_{E} \\mu_{I} \\operatorname{y_{I}}^{2}{\\left(t \\right)}}{\\epsilon k_{I}^{2}} - \\frac{\\beta k_{E} \\operatorname{y_{I}}{\\left(t \\right)} \\frac{d}{d t} \\operatorname{y_{I}}{\\left(t \\right)}}{\\epsilon k_{I}^{2}} - \\delta \\mu_{S} \\operatorname{y_{E}}{\\left(t \\right)} + \\frac{\\delta \\operatorname{y_{E}}{\\left(t \\right)} \\frac{d}{d t} \\operatorname{y_{I}}{\\left(t \\right)}}{\\operatorname{y_{I}}{\\left(t \\right)}} - \\delta \\frac{d}{d t} \\operatorname{y_{E}}{\\left(t \\right)} + \\frac{\\delta \\mu_{S} \\operatorname{y_{E}}{\\left(t \\right)}}{\\epsilon} - \\frac{\\delta \\operatorname{y_{E}}{\\left(t \\right)} \\frac{d}{d t} \\operatorname{y_{I}}{\\left(t \\right)}}{\\epsilon \\operatorname{y_{I}}{\\left(t \\right)}} + \\frac{k_{E} \\mu_{I} \\mu_{S} \\operatorname{y_{I}}{\\left(t \\right)}}{k_{I}} - \\frac{k_{E} \\mu_{I} \\frac{d}{d t} \\operatorname{y_{I}}{\\left(t \\right)}}{k_{I}} + \\frac{k_{E} \\mu_{S} \\frac{d}{d t} \\operatorname{y_{I}}{\\left(t \\right)}}{k_{I}} - \\frac{k_{E} \\left(\\frac{d}{d t} \\operatorname{y_{I}}{\\left(t \\right)}\\right)^{2}}{k_{I} \\operatorname{y_{I}}{\\left(t \\right)}} - \\mu_{E} \\frac{d}{d t} \\operatorname{y_{E}}{\\left(t \\right)} - \\frac{k_{E} \\mu_{I} \\mu_{S} \\operatorname{y_{I}}{\\left(t \\right)}}{\\epsilon k_{I}} + \\frac{k_{E} \\mu_{I} \\frac{d}{d t} \\operatorname{y_{I}}{\\left(t \\right)}}{\\epsilon k_{I}} - \\frac{k_{E} \\mu_{S} \\frac{d}{d t} \\operatorname{y_{I}}{\\left(t \\right)}}{\\epsilon k_{I}} + \\frac{k_{E} \\left(\\frac{d}{d t} \\operatorname{y_{I}}{\\left(t \\right)}\\right)^{2}}{\\epsilon k_{I} \\operatorname{y_{I}}{\\left(t \\right)}}\\quad\\,.\\label{eq:ODE_y_E_2}\n",
      "\\end{equation}\n",
      "\n"
     ]
    }
   ],
   "source": [
    "ODE_y_E = Eq(Derivative(ODE_y_E.lhs,t).doit(),Derivative(ODE_y_E.rhs,t).doit())\n",
    "ODE_y_E = ODE_y_E.subs(ODE_y_I.lhs,ODE_y_I.rhs)\n",
    "ODE_y_E = expand(simplify(ODE_y_E.subs(S_eq.lhs,S_eq.rhs)))\n",
    "# ODE for y_I\n",
    "print(\"ODE for $y_I$:\")\n",
    "print(latex(ODE_y_I,mode='equation').replace(\"\\\\begin{equation}\",\"\\\\begin{equation}\\n\").replace(\"\\\\end{equation}\",\"\\\\quad\\\\,.\\\\label{eq:ODE_y_I_2}\\n\\\\end{equation}\\n\"))\n",
    "# Also substite S in the ODE for y_E\n",
    "print(\"ODE for $y_E$:\")\n",
    "ODE_y_E = expand(ODE_y_E.subs(S_eq.lhs,S_eq.rhs))\n",
    "print(latex(ODE_y_E,mode='equation').replace(\"\\\\begin{equation}\",\"\\\\begin{equation}\\n\").replace(\"\\\\end{equation}\",\"\\\\quad\\\\,.\\\\label{eq:ODE_y_E_2}\\n\\\\end{equation}\\n\"))"
   ]
  },
  {
   "cell_type": "markdown",
   "id": "8863ad25",
   "metadata": {},
   "source": [
    "# The final system we want to do a symmetry analysis of\n",
    "ODE for $y_I$:\n",
    "\\begin{equation}\n",
    "\\frac{d^{2}}{d t^{2}} \\operatorname{y_{I}}{\\left(t \\right)} = \\beta c \\epsilon \\operatorname{y_{I}}{\\left(t \\right)} + \\frac{\\beta \\delta \\operatorname{y_{E}}{\\left(t \\right)} \\operatorname{y_{I}}{\\left(t \\right)}}{k_{E}} - \\frac{\\beta \\mu_{I} \\operatorname{y_{I}}^{2}{\\left(t \\right)}}{k_{I}} - \\frac{\\beta \\operatorname{y_{I}}{\\left(t \\right)} \\frac{d}{d t} \\operatorname{y_{I}}{\\left(t \\right)}}{k_{I}} + \\frac{\\delta k_{I} \\mu_{S} \\operatorname{y_{E}}{\\left(t \\right)}}{k_{E}} - \\frac{\\delta k_{I} \\operatorname{y_{E}}{\\left(t \\right)} \\frac{d}{d t} \\operatorname{y_{I}}{\\left(t \\right)}}{k_{E} \\operatorname{y_{I}}{\\left(t \\right)}} + \\frac{\\delta k_{I} \\frac{d}{d t} \\operatorname{y_{E}}{\\left(t \\right)}}{k_{E}} - \\mu_{I} \\mu_{S} \\operatorname{y_{I}}{\\left(t \\right)} - \\mu_{S} \\frac{d}{d t} \\operatorname{y_{I}}{\\left(t \\right)} + \\frac{\\left(\\frac{d}{d t} \\operatorname{y_{I}}{\\left(t \\right)}\\right)^{2}}{\\operatorname{y_{I}}{\\left(t \\right)}}\\quad\\,.\\label{eq:ODE_y_I_2}\n",
    "\\end{equation}\n",
    "\n",
    "ODE for $y_E$:\n",
    "\\begin{equation}\n",
    "\\frac{d^{2}}{d t^{2}} \\operatorname{y_{E}}{\\left(t \\right)} = - \\frac{\\beta c \\epsilon k_{E} \\operatorname{y_{I}}{\\left(t \\right)}}{k_{I}} + \\frac{\\beta c k_{E} \\operatorname{y_{I}}{\\left(t \\right)}}{k_{I}} - \\frac{\\beta \\delta \\operatorname{y_{E}}{\\left(t \\right)} \\operatorname{y_{I}}{\\left(t \\right)}}{k_{I}} + \\frac{\\beta \\delta \\operatorname{y_{E}}{\\left(t \\right)} \\operatorname{y_{I}}{\\left(t \\right)}}{\\epsilon k_{I}} + \\frac{\\beta k_{E} \\mu_{I} \\operatorname{y_{I}}^{2}{\\left(t \\right)}}{k_{I}^{2}} + \\frac{\\beta k_{E} \\operatorname{y_{I}}{\\left(t \\right)} \\frac{d}{d t} \\operatorname{y_{I}}{\\left(t \\right)}}{k_{I}^{2}} - \\frac{\\beta k_{E} \\mu_{I} \\operatorname{y_{I}}^{2}{\\left(t \\right)}}{\\epsilon k_{I}^{2}} - \\frac{\\beta k_{E} \\operatorname{y_{I}}{\\left(t \\right)} \\frac{d}{d t} \\operatorname{y_{I}}{\\left(t \\right)}}{\\epsilon k_{I}^{2}} - \\delta \\mu_{S} \\operatorname{y_{E}}{\\left(t \\right)} + \\frac{\\delta \\operatorname{y_{E}}{\\left(t \\right)} \\frac{d}{d t} \\operatorname{y_{I}}{\\left(t \\right)}}{\\operatorname{y_{I}}{\\left(t \\right)}} - \\delta \\frac{d}{d t} \\operatorname{y_{E}}{\\left(t \\right)} + \\frac{\\delta \\mu_{S} \\operatorname{y_{E}}{\\left(t \\right)}}{\\epsilon} - \\frac{\\delta \\operatorname{y_{E}}{\\left(t \\right)} \\frac{d}{d t} \\operatorname{y_{I}}{\\left(t \\right)}}{\\epsilon \\operatorname{y_{I}}{\\left(t \\right)}} + \\frac{k_{E} \\mu_{I} \\mu_{S} \\operatorname{y_{I}}{\\left(t \\right)}}{k_{I}} - \\frac{k_{E} \\mu_{I} \\frac{d}{d t} \\operatorname{y_{I}}{\\left(t \\right)}}{k_{I}} + \\frac{k_{E} \\mu_{S} \\frac{d}{d t} \\operatorname{y_{I}}{\\left(t \\right)}}{k_{I}} - \\frac{k_{E} \\left(\\frac{d}{d t} \\operatorname{y_{I}}{\\left(t \\right)}\\right)^{2}}{k_{I} \\operatorname{y_{I}}{\\left(t \\right)}} - \\mu_{E} \\frac{d}{d t} \\operatorname{y_{E}}{\\left(t \\right)} - \\frac{k_{E} \\mu_{I} \\mu_{S} \\operatorname{y_{I}}{\\left(t \\right)}}{\\epsilon k_{I}} + \\frac{k_{E} \\mu_{I} \\frac{d}{d t} \\operatorname{y_{I}}{\\left(t \\right)}}{\\epsilon k_{I}} - \\frac{k_{E} \\mu_{S} \\frac{d}{d t} \\operatorname{y_{I}}{\\left(t \\right)}}{\\epsilon k_{I}} + \\frac{k_{E} \\left(\\frac{d}{d t} \\operatorname{y_{I}}{\\left(t \\right)}\\right)^{2}}{\\epsilon k_{I} \\operatorname{y_{I}}{\\left(t \\right)}}\\quad\\,.\\label{eq:ODE_y_E_2}\n",
    "\\end{equation}\n",
    "\n",
    "\n",
    "# The infinitesimal generator of the Lie group\n",
    "Next, we are looking at the second porlongation of the infinitesimal generator of the Lie group $X^{(2)}$ which differentiate this equation with respect to the independent variable $t$, the dependent variables $y_I,y_{E}$, the derivatives of the dependent variables $y_I',y_{I}''$ and all parameters $(c,\\beta,\\delta,\\epsilon,\\mu_{S},\\mu_{E},\\mu_{I},k_{I},k_{E})$. Let's define tangents for all of these characters! Basically the second prolongation of the generator looks as follows:\n",
    "\n",
    "\\begin{equation}\n",
    "X^{(2)}=\\xi\\partial_t+\\eta_{y_E}\\partial_{y_E}+\\eta_{y_E}^{(1)}\\partial_{y_E'}+\\eta_{y_E}^{(2)}\\partial_{y_E''}+\\eta_{y_I}\\partial_{y_I}+\\eta_{y_I}^{(1)}\\partial_{y_I'}+\\eta_{y_I}^{(2)}\\partial_{y_I''}+\\chi_{c}\\partial_{c}+\\chi_{\\beta}\\partial_{\\beta}+\\chi_{\\epsilon}\\partial_{\\epsilon}+\\chi_{\\mu_S}\\partial_{\\mu_S}+\\chi_{\\mu_E}\\partial_{\\mu_E}+\\chi_{\\mu_I}\\partial_{\\mu_I}+\\chi_{k_{I}}\\partial_{k_{I}}+\\chi_{k_{E}}\\partial_{k_{E}}\\,.\n",
    "\\label{eq:generator}\n",
    "\\end{equation}\n",
    "Next, we want $X^{(2)}$ to be able to act on our two ODEs. In order for this to work we need to be able to differentiate our ODEs with respect to the independent variable, the dependent variables, the derivatives of the dependent variables and all parameters. Let's explore how this is done next!\n",
    "\n",
    "\n",
    "\n"
   ]
  },
  {
   "cell_type": "code",
   "execution_count": 7,
   "id": "8a9db854",
   "metadata": {},
   "outputs": [
    {
     "name": "stdout",
     "output_type": "stream",
     "text": [
      "ODE y_I: Diff. wrt y_I'' without .doit():\n",
      "Derivative(y_I(t), (t, 2), Derivative(y_I(t), (t, 2)))\n",
      "ODE y_I: Diff. wrt y_I'' with .doit():\n",
      "1\n",
      "ODE y_I: Diff. wrt y_I':\n",
      "-beta*y_I(t)/k_I - delta*k_I*y_E(t)/(k_E*y_I(t)) - mu_S + 2*Derivative(y_I(t), t)/y_I(t)\n",
      "ODE y_I: LHS of ODE for y_E wrt y_E:\n",
      "beta*delta*y_I(t)/k_E + delta*k_I*mu_S/k_E - delta*k_I*Derivative(y_I(t), t)/(k_E*y_I(t))\n",
      "ODE y_I: RHS of ODE for y_I wrt beta:\n",
      "c*epsilon*y_I(t) + delta*y_E(t)*y_I(t)/k_E - mu_I*y_I(t)**2/k_I - y_I(t)*Derivative(y_I(t), t)/k_I\n",
      "ODE y_E: Diff. wrt y_E'':\n",
      "1\n",
      "ODE y_E: Diff. wrt y_E':\n",
      "-delta - mu_E\n"
     ]
    }
   ],
   "source": [
    "# Differentiate the LHS of the ODE for y_I with respect to y_I''\n",
    "print(\"ODE y_I: Diff. wrt y_I'' without .doit():\")\n",
    "print(Derivative(ODE_y_I.lhs,Derivative(y_I,t,2)))\n",
    "# Nothing happens because we need to evaluate the differentiation using .doit()\n",
    "print(\"ODE y_I: Diff. wrt y_I'' with .doit():\")\n",
    "print(Derivative(ODE_y_I.lhs,Derivative(y_I,t,2)).doit())\n",
    "# First derivative\n",
    "print(\"ODE y_I: Diff. wrt y_I':\")\n",
    "print(Derivative(ODE_y_I.rhs,Derivative(y_I,t,1)).doit())\n",
    "# Differentiate LHS of the second ODE\n",
    "print(\"ODE y_I: LHS of ODE for y_E wrt y_E:\")\n",
    "print(Derivative(ODE_y_I.rhs,y_E).doit())\n",
    "# Differentiate wrt to the parameter c\n",
    "print(\"ODE y_I: RHS of ODE for y_I wrt beta:\")\n",
    "print(Derivative(ODE_y_I.rhs,beta).doit())\n",
    "# Nothing happens because we need to evaluate the differentiation using .doit()\n",
    "print(\"ODE y_E: Diff. wrt y_E'':\")\n",
    "print(Derivative(ODE_y_E.lhs,Derivative(y_E,t,2)).doit())\n",
    "# Diff. wrt y_E''\n",
    "print(\"ODE y_E: Diff. wrt y_E':\")\n",
    "print(Derivative(ODE_y_E.rhs,Derivative(y_E,t,1)).doit())"
   ]
  },
  {
   "cell_type": "markdown",
   "id": "ab1c4914",
   "metadata": {},
   "source": [
    "Ok, so now we have a good idea of how this is implemented in SymPy. Next, we will create a massive vector containing tuples such as $(y_I'',\\eta_{y_I}^{(2)})$ and then we will differentiate a given ODE with respect to the first element of the tuple and then multiply by the second element of the tuple. This is how we assemble our two linearised symmetry conditions! In the last step, we substitute the lhs of our ODEs with the right hand sides as well.\n",
    "\n",
    "We begin by allocating all infinitesimals and creating a differentiation vector!"
   ]
  },
  {
   "cell_type": "code",
   "execution_count": 8,
   "id": "00fd7c0a",
   "metadata": {},
   "outputs": [],
   "source": [
    "# Allocate an infinitesimal for the independent variable\n",
    "xi = Function('xi')(t,y_I,y_E)\n",
    "# Allocate two infinitesimals for the dependent variables\n",
    "eta_yI = Function('eta_yI')(t,y_I,y_E)\n",
    "eta_yE = Function('eta_yE')(t,y_I,y_E)\n",
    "# Calculate our dear prolongations for y_I\n",
    "eta_yI_1 = Derivative(eta_yI,t,1).doit() - Derivative(y_I,t,1)*Derivative(xi,t,1).doit()\n",
    "eta_yI_2 = Derivative(eta_yI_1,t,1).doit() - Derivative(y_E,t, 2)*Derivative(xi,t,1).doit()\n",
    "# Substitute our ODEs into the second prolongation so that it does not contain any second\n",
    "# derivatives\n",
    "eta_yI_2 = eta_yI_2.subs(ODE_y_I.lhs,ODE_y_I.rhs)\n",
    "eta_yI_2 = eta_yI_2.subs(ODE_y_E.lhs,ODE_y_E.rhs)\n",
    "# Calculate our dear prolongations for y_E\n",
    "eta_yE_1 = Derivative(eta_yE,t,1).doit() - Derivative(y_E,t,1)*Derivative(xi,t,1).doit()\n",
    "eta_yE_2 = Derivative(eta_yE_1,t,1).doit() - Derivative(y_E,t,2)*Derivative(xi,t,1).doit()\n",
    "# Substitute our ODEs into the prolongations so that it does not contain any second\n",
    "# derivatives\n",
    "eta_yE_2 = eta_yE_2.subs(ODE_y_I.lhs,ODE_y_I.rhs)\n",
    "eta_yE_2 = eta_yE_2.subs(ODE_y_E.lhs,ODE_y_E.rhs)\n",
    "# Define our lovely infinitesimals in the parameter directions\n",
    "chi_c = Function('chi_c')(c,beta,delta,epsilon,mu_S,mu_E,mu_I,k_I,k_E) # infinitesimal in c\n",
    "chi_beta = Function('chi_beta')(c,beta,delta,epsilon,mu_S,mu_E,mu_I,k_I,k_E) # infinitesimal in beta\n",
    "chi_delta = Function('chi_delta')(c,beta,delta,epsilon,mu_S,mu_E,mu_I,k_I,k_E) # infinitesimal in delta\n",
    "chi_epsilon = Function('chi_epsilon')(c,beta,delta,epsilon,mu_S,mu_E,mu_I,k_I,k_E) # infinitesimal in epsilon\n",
    "chi_mu_S = Function('chi_mu_S')(c,beta,delta,epsilon,mu_S,mu_E,mu_I,k_I,k_E) # infinitesimal in mu_S\n",
    "chi_mu_E = Function('chi_mu_E')(c,beta,delta,epsilon,mu_S,mu_E,mu_I,k_I,k_E) # infinitesimal in mu_E\n",
    "chi_mu_I = Function('chi_mu_I')(c,beta,delta,epsilon,mu_S,mu_E,mu_I,k_I,k_E) # infinitesimal in mu_I\n",
    "chi_k_I = Function('chi_k_I')(c,beta,delta,epsilon,mu_S,mu_E,mu_I,k_I,k_E) # infinitesimal in k_I\n",
    "chi_k_E = Function('chi_k_E')(c,beta,delta,epsilon,mu_S,mu_E,mu_I,k_I,k_E) # infinitesimal in k_E\n",
    "# Ok, define a giant vector with the infinitesimals and the thing we are differentiating with respect to\n",
    "# Independent variable\n",
    "#differentiation_vector = [(t, xi)]\n",
    "# Dependent variables\n",
    "differentiation_vector = [(y_I, eta_yI)]\n",
    "#differentiation_vector.append((y_I, eta_yI))\n",
    "differentiation_vector.append((y_E, eta_yE))\n",
    "# Derivatives\n",
    "differentiation_vector.append((Derivative(y_I,t,1), eta_yI_1))\n",
    "differentiation_vector.append((Derivative(y_I,t,2), eta_yI_2))\n",
    "differentiation_vector.append((Derivative(y_E,t,1), eta_yE_1))\n",
    "differentiation_vector.append((Derivative(y_E,t,2), eta_yE_2))\n",
    "# Parameters\n",
    "differentiation_vector.append((c, chi_c))\n",
    "differentiation_vector.append((beta, chi_beta))\n",
    "differentiation_vector.append((delta, chi_delta))\n",
    "differentiation_vector.append((epsilon, chi_epsilon))\n",
    "differentiation_vector.append((mu_S, chi_mu_S))\n",
    "differentiation_vector.append((mu_E, chi_mu_E))\n",
    "differentiation_vector.append((mu_I, chi_mu_I))\n",
    "differentiation_vector.append((k_I, chi_k_I))\n",
    "differentiation_vector.append((k_E, chi_k_E))"
   ]
  },
  {
   "cell_type": "markdown",
   "id": "37017033",
   "metadata": {},
   "source": [
    "Now, we are ready to loop over the differntiation vector, differentiate our ODEs with respect to our various things in our differentiation vector and then form our linearised symmetry conditions!"
   ]
  },
  {
   "cell_type": "code",
   "execution_count": 9,
   "id": "9657b8eb",
   "metadata": {},
   "outputs": [],
   "source": [
    "# Allocate memory for our linearised symmetry condition! \n",
    "lin_syms = []\n",
    "# Allocate an ODE list\n",
    "ODEs = [ODE_y_I, ODE_y_E]\n",
    "# Allocate a LHS and a RHS\n",
    "LHS = 0\n",
    "RHS = 0\n",
    "# Loop over the ODEs\n",
    "for ODE in ODEs:\n",
    "    # Allocate a LHS and a RHS\n",
    "    LHS = 0\n",
    "    RHS = 0\n",
    "    # Loop over the things we differentiate w.r.t. called x and multiply by the coefficient k.\n",
    "    # Then, we add to the the product k*x to our linearised symmetry condition.\n",
    "    for x,k in differentiation_vector:\n",
    "        LHS += k*Derivative(ODE.lhs,x).doit()\n",
    "        RHS += k*Derivative(ODE.rhs,x).doit()\n",
    "    # Lastly, we save our newly synthesised linearised symmetry condition\n",
    "    lin_syms.append(Eq(expand(LHS),expand(RHS)))"
   ]
  },
  {
   "cell_type": "markdown",
   "id": "69282764",
   "metadata": {},
   "source": [
    "Ok, so now that the linearised symmetry conditions are assembled, we can find the determining equations.\n",
    "## Determining equations\n",
    "\n",
    "### Linearised symmetry condition 1\n",
    "Currently, both of the determining equations are polynomials of the first order derivatives $y_I'$ and $y_{E'}$. Since all of these derivatives are linearly independent, the coefficient in front of these monomials must be zero. So, we can just calmly extract coefficients of these derivatives and that will give us our determining equations!"
   ]
  },
  {
   "cell_type": "code",
   "execution_count": 10,
   "id": "358fa019",
   "metadata": {},
   "outputs": [
    {
     "name": "stdout",
     "output_type": "stream",
     "text": [
      "Det. eq. $1$:\n",
      "\\begin{equation}\n",
      "- \\beta c \\epsilon^{3} k_{E}^{3} k_{I} \\operatorname{y_{I}}^{2} \\frac{d}{d \\operatorname{y_{E}}} \\eta_{y_{I}} + \\beta c \\epsilon^{3} k_{E}^{3} k_{I} \\operatorname{y_{I}}^{2} \\frac{\\partial \\xi}{\\partial t} - \\beta c \\epsilon^{3} k_{E}^{2} k_{I}^{2} \\eta_{y_{I}} \\operatorname{y_{I}} + \\beta c \\epsilon^{3} k_{E}^{2} k_{I}^{2} \\operatorname{y_{I}}^{2} \\frac{\\partial \\eta_{y_{I}}}{\\partial y_{I}} - \\beta c \\epsilon^{3} k_{E}^{2} k_{I}^{2} \\operatorname{y_{I}}^{2} \\frac{\\partial \\xi}{\\partial t} + \\beta c \\epsilon^{2} k_{E}^{3} k_{I} \\operatorname{y_{I}}^{2} \\frac{d}{d \\operatorname{y_{E}}} \\eta_{y_{I}} - \\beta c \\epsilon^{2} k_{E}^{3} k_{I} \\operatorname{y_{I}}^{2} \\frac{\\partial \\xi}{\\partial t} - \\beta c \\epsilon^{2} k_{E}^{2} k_{I}^{2} \\chi_{\\epsilon} \\operatorname{y_{I}}^{2} - \\beta \\delta \\epsilon^{2} k_{E}^{2} k_{I} \\operatorname{y_{E}} \\operatorname{y_{I}}^{2} \\frac{d}{d \\operatorname{y_{E}}} \\eta_{y_{I}} + \\beta \\delta \\epsilon^{2} k_{E}^{2} k_{I} \\operatorname{y_{E}} \\operatorname{y_{I}}^{2} \\frac{\\partial \\xi}{\\partial t} - \\beta \\delta \\epsilon^{2} k_{E} k_{I}^{2} \\eta_{y_{E}} \\operatorname{y_{I}}^{2} - \\beta \\delta \\epsilon^{2} k_{E} k_{I}^{2} \\eta_{y_{I}} \\operatorname{y_{E}} \\operatorname{y_{I}} + \\beta \\delta \\epsilon^{2} k_{E} k_{I}^{2} \\operatorname{y_{E}} \\operatorname{y_{I}}^{2} \\frac{\\partial \\eta_{y_{I}}}{\\partial y_{I}} - \\beta \\delta \\epsilon^{2} k_{E} k_{I}^{2} \\operatorname{y_{E}} \\operatorname{y_{I}}^{2} \\frac{\\partial \\xi}{\\partial t} + \\beta \\delta \\epsilon^{2} k_{I}^{2} \\chi_{k E} \\operatorname{y_{E}} \\operatorname{y_{I}}^{2} + \\beta \\delta \\epsilon k_{E}^{2} k_{I} \\operatorname{y_{E}} \\operatorname{y_{I}}^{2} \\frac{d}{d \\operatorname{y_{E}}} \\eta_{y_{I}} - \\beta \\delta \\epsilon k_{E}^{2} k_{I} \\operatorname{y_{E}} \\operatorname{y_{I}}^{2} \\frac{\\partial \\xi}{\\partial t} - \\beta \\epsilon^{3} k_{E}^{2} k_{I}^{2} \\chi_{c} \\operatorname{y_{I}}^{2} + \\beta \\epsilon^{2} k_{E}^{3} \\mu_{I} \\operatorname{y_{I}}^{3} \\frac{d}{d \\operatorname{y_{E}}} \\eta_{y_{I}} - \\beta \\epsilon^{2} k_{E}^{3} \\mu_{I} \\operatorname{y_{I}}^{3} \\frac{\\partial \\xi}{\\partial t} + 2 \\beta \\epsilon^{2} k_{E}^{2} k_{I} \\mu_{I} \\eta_{y_{I}} \\operatorname{y_{I}}^{2} - \\beta \\epsilon^{2} k_{E}^{2} k_{I} \\mu_{I} \\operatorname{y_{I}}^{3} \\frac{\\partial \\eta_{y_{I}}}{\\partial y_{I}} + \\beta \\epsilon^{2} k_{E}^{2} k_{I} \\mu_{I} \\operatorname{y_{I}}^{3} \\frac{\\partial \\xi}{\\partial t} + \\beta \\epsilon^{2} k_{E}^{2} k_{I} \\chi_{\\mu I} \\operatorname{y_{I}}^{3} + \\beta \\epsilon^{2} k_{E}^{2} k_{I} \\operatorname{y_{I}}^{2} \\frac{\\partial \\eta_{y_{I}}}{\\partial t} - \\beta \\epsilon^{2} k_{E}^{2} \\mu_{I} \\chi_{k I} \\operatorname{y_{I}}^{3} - \\beta \\epsilon^{2} k_{E} k_{I}^{2} \\chi_{\\delta} \\operatorname{y_{E}} \\operatorname{y_{I}}^{2} - \\beta \\epsilon k_{E}^{3} \\mu_{I} \\operatorname{y_{I}}^{3} \\frac{d}{d \\operatorname{y_{E}}} \\eta_{y_{I}} + \\beta \\epsilon k_{E}^{3} \\mu_{I} \\operatorname{y_{I}}^{3} \\frac{\\partial \\xi}{\\partial t} - c \\epsilon^{3} k_{E}^{2} k_{I}^{2} \\chi_{\\beta} \\operatorname{y_{I}}^{2} - \\delta \\epsilon^{2} k_{E}^{2} k_{I}^{2} \\mu_{S} \\operatorname{y_{E}} \\operatorname{y_{I}} \\frac{d}{d \\operatorname{y_{E}}} \\eta_{y_{I}} + \\delta \\epsilon^{2} k_{E}^{2} k_{I}^{2} \\mu_{S} \\operatorname{y_{E}} \\operatorname{y_{I}} \\frac{\\partial \\xi}{\\partial t} - \\delta \\epsilon^{2} k_{E} k_{I}^{3} \\mu_{S} \\eta_{y_{E}} \\operatorname{y_{I}} + \\delta \\epsilon^{2} k_{E} k_{I}^{3} \\mu_{S} \\operatorname{y_{E}} \\operatorname{y_{I}} \\frac{\\partial \\eta_{y_{I}}}{\\partial y_{I}} - \\delta \\epsilon^{2} k_{E} k_{I}^{3} \\mu_{S} \\operatorname{y_{E}} \\operatorname{y_{I}} \\frac{\\partial \\xi}{\\partial t} - \\delta \\epsilon^{2} k_{E} k_{I}^{3} \\chi_{\\mu S} \\operatorname{y_{E}} \\operatorname{y_{I}} + \\delta \\epsilon^{2} k_{E} k_{I}^{3} \\operatorname{y_{E}} \\frac{\\partial \\eta_{y_{I}}}{\\partial t} - \\delta \\epsilon^{2} k_{E} k_{I}^{3} \\operatorname{y_{I}} \\frac{\\partial \\eta_{y_{E}}}{\\partial t} - \\delta \\epsilon^{2} k_{E} k_{I}^{2} \\mu_{S} \\chi_{k I} \\operatorname{y_{E}} \\operatorname{y_{I}} - \\delta \\epsilon^{2} k_{E} k_{I}^{2} \\chi_{\\beta} \\operatorname{y_{E}} \\operatorname{y_{I}}^{2} + \\delta \\epsilon^{2} k_{I}^{3} \\mu_{S} \\chi_{k E} \\operatorname{y_{E}} \\operatorname{y_{I}} + \\delta \\epsilon k_{E}^{2} k_{I}^{2} \\mu_{S} \\operatorname{y_{E}} \\operatorname{y_{I}} \\frac{d}{d \\operatorname{y_{E}}} \\eta_{y_{I}} - \\delta \\epsilon k_{E}^{2} k_{I}^{2} \\mu_{S} \\operatorname{y_{E}} \\operatorname{y_{I}} \\frac{\\partial \\xi}{\\partial t} + \\epsilon^{2} k_{E}^{3} k_{I} \\mu_{I} \\mu_{S} \\operatorname{y_{I}}^{2} \\frac{d}{d \\operatorname{y_{E}}} \\eta_{y_{I}} - \\epsilon^{2} k_{E}^{3} k_{I} \\mu_{I} \\mu_{S} \\operatorname{y_{I}}^{2} \\frac{\\partial \\xi}{\\partial t} + \\epsilon^{2} k_{E}^{2} k_{I}^{2} \\mu_{I} \\mu_{S} \\eta_{y_{I}} \\operatorname{y_{I}} - \\epsilon^{2} k_{E}^{2} k_{I}^{2} \\mu_{I} \\mu_{S} \\operatorname{y_{I}}^{2} \\frac{\\partial \\eta_{y_{I}}}{\\partial y_{I}} + \\epsilon^{2} k_{E}^{2} k_{I}^{2} \\mu_{I} \\mu_{S} \\operatorname{y_{I}}^{2} \\frac{\\partial \\xi}{\\partial t} + \\epsilon^{2} k_{E}^{2} k_{I}^{2} \\mu_{I} \\chi_{\\mu S} \\operatorname{y_{I}}^{2} + \\epsilon^{2} k_{E}^{2} k_{I}^{2} \\mu_{S} \\chi_{\\mu I} \\operatorname{y_{I}}^{2} + \\epsilon^{2} k_{E}^{2} k_{I}^{2} \\mu_{S} \\operatorname{y_{I}} \\frac{\\partial \\eta_{y_{I}}}{\\partial t} + \\epsilon^{2} k_{E}^{2} k_{I}^{2} \\operatorname{y_{I}} \\frac{\\partial ^{2}\\eta_{y_{I}}}{\\partial t^{2}} + \\epsilon^{2} k_{E}^{2} k_{I} \\mu_{I} \\chi_{\\beta} \\operatorname{y_{I}}^{3} - \\epsilon^{2} k_{E} k_{I}^{3} \\mu_{S} \\chi_{\\delta} \\operatorname{y_{E}} \\operatorname{y_{I}} - \\epsilon k_{E}^{3} k_{I} \\mu_{I} \\mu_{S} \\operatorname{y_{I}}^{2} \\frac{d}{d \\operatorname{y_{E}}} \\eta_{y_{I}} + \\epsilon k_{E}^{3} k_{I} \\mu_{I} \\mu_{S} \\operatorname{y_{I}}^{2} \\frac{\\partial \\xi}{\\partial t} = 0\\,.\\label{eq:d_1}\n",
      "\\end{equation}\n"
     ]
    }
   ],
   "source": [
    "# Allocate determining equations for the first linearised symmetry condition\n",
    "det_eq = []\n",
    "# Extract our linearised symmetry condition of interest\n",
    "lin_sym = lin_syms[0]\n",
    "# Exract the first linearised symmetry condition\n",
    "temp_lin_sym = lin_sym.lhs-lin_sym.rhs\n",
    "# Extract the zeroth coefficient of the first linearised symmetry condition\n",
    "temp_det_eq = temp_lin_sym.subs(Derivative(y_I,t,1),0).subs(Derivative(y_E,t,1),0).doit()\n",
    "temp_det_eq = expand(temp_det_eq*(k_E**2)*(y_I)*(k_I**2)*(epsilon**2))\n",
    "print(\"Det. eq. $1$:\")\n",
    "temp_str = latex(Eq(temp_det_eq,0),mode='equation').replace(\"{\\\\left(c,\\\\beta,\\\\delta,\\\\epsilon,\\\\mu_{S},\\\\mu_{E},\\\\mu_{I},k_{I},k_{E} \\\\right)}\",\"\").replace(\"{\\\\left(t,\\\\operatorname{y_{I}}{\\\\left(t \\\\right)},\\\\operatorname{y_{E}}{\\\\left(t \\\\right)} \\\\right)}\",\"\").replace(\"{\\\\left(t \\\\right)}\",\"\").replace(\"\\\\left. \\\\frac{\\\\partial}{\\\\partial \\\\xi_{1}} \\\\eta_{yI}{\\\\left(\\\\xi_{1},\\\\operatorname{y_{I}},\\\\operatorname{y_{E}} \\\\right)} \\\\right|_{\\\\substack{ \\\\xi_{1}=t }}\",\"\\\\frac{\\\\mathrm{d}\\\\eta_{y_{I}}}{\\\\mathrm{d}t}\").replace(\"\\\\left. \\\\frac{\\\\partial}{\\\\partial \\\\xi_{1}} \\\\xi{\\\\left(\\\\xi_{1},\\\\operatorname{y_{I}},\\\\operatorname{y_{E}} \\\\right)} \\\\right|_{\\\\substack{ \\\\xi_{1}=t }}\",\"\\\\frac{\\\\mathrm{d}\\\\xi}{\\\\mathrm{d}t}\").replace(\"\\\\eta_{yI}\",\"\\\\eta_{y_{I}}\").replace(\"\\\\eta_{yE}\",\"\\\\eta_{y_{E}}\").replace(\"\\\\left. \\\\frac{\\\\partial^{2}}{\\\\partial \\\\xi_{1}^{2}} \\\\eta_{y_{I}}{\\\\left(\\\\xi_{1},\\\\operatorname{y_{I}},\\\\operatorname{y_{E}} \\\\right)} \\\\right|_{\\\\substack{ \\\\xi_{1}=t }}\",\"\\\\frac{\\\\mathrm{d}^{2}\\\\eta_{y_{I}}}{\\\\mathrm{d}t^{2}}\").replace(\"\\\\left. \\\\frac{\\\\partial}{\\\\partial \\\\xi_{1}} \\\\eta_{y_{E}}{\\\\left(\\\\xi_{1},\\\\operatorname{y_{I}},\\\\operatorname{y_{E}} \\\\right)} \\\\right|_{\\\\substack{ \\\\xi_{1}=t }}\",\"\\\\frac{\\\\mathrm{d}\\\\eta_{y_{E}}}{\\\\mathrm{d}t}\").replace(\"\\\\frac{d}{d \\\\operatorname{y_{I}}} \\\\eta_{y_{I}}\",\"\\\\frac{\\\\mathrm{d}\\\\eta_{y_{I}}}{\\\\mathrm{d}y_{I}}\").replace(\"\\\\begin{equation}\",\"\\\\begin{equation}\\n\").replace(\"\\\\end{equation}\",\"\\\\,.\\\\label{eq:d_1}\\n\\\\end{equation}\")\n",
    "temp_str = temp_str.replace(\"\\\\mathrm{d}\",\"\\\\partial \")\n",
    "print(temp_str)\n",
    "# Add our determining equation to our list of determining equations as well\n",
    "det_eq.append((1,1,Eq(temp_det_eq,0)))\n",
    "# Note that we add a triplet (n,k,d) where n is the number of the lin.sym, monomial which the det_eq corresponds to\n",
    "# and then the determing equation itself."
   ]
  },
  {
   "cell_type": "markdown",
   "id": "ea9bf5df",
   "metadata": {},
   "source": [
    "Det. eq. $1$:\n",
    "\\begin{equation}\n",
    "- \\beta c \\epsilon^{3} k_{E}^{3} k_{I} \\operatorname{y_{I}}^{2} \\frac{d}{d \\operatorname{y_{E}}} \\eta_{y_{I}} + \\beta c \\epsilon^{3} k_{E}^{3} k_{I} \\operatorname{y_{I}}^{2} \\frac{\\partial \\xi}{\\partial t} - \\beta c \\epsilon^{3} k_{E}^{2} k_{I}^{2} \\eta_{y_{I}} \\operatorname{y_{I}} + \\beta c \\epsilon^{3} k_{E}^{2} k_{I}^{2} \\operatorname{y_{I}}^{2} \\frac{\\partial \\eta_{y_{I}}}{\\partial y_{I}} - \\beta c \\epsilon^{3} k_{E}^{2} k_{I}^{2} \\operatorname{y_{I}}^{2} \\frac{\\partial \\xi}{\\partial t} + \\beta c \\epsilon^{2} k_{E}^{3} k_{I} \\operatorname{y_{I}}^{2} \\frac{d}{d \\operatorname{y_{E}}} \\eta_{y_{I}} - \\beta c \\epsilon^{2} k_{E}^{3} k_{I} \\operatorname{y_{I}}^{2} \\frac{\\partial \\xi}{\\partial t} - \\beta c \\epsilon^{2} k_{E}^{2} k_{I}^{2} \\chi_{\\epsilon} \\operatorname{y_{I}}^{2} - \\beta \\delta \\epsilon^{2} k_{E}^{2} k_{I} \\operatorname{y_{E}} \\operatorname{y_{I}}^{2} \\frac{d}{d \\operatorname{y_{E}}} \\eta_{y_{I}} + \\beta \\delta \\epsilon^{2} k_{E}^{2} k_{I} \\operatorname{y_{E}} \\operatorname{y_{I}}^{2} \\frac{\\partial \\xi}{\\partial t} - \\beta \\delta \\epsilon^{2} k_{E} k_{I}^{2} \\eta_{y_{E}} \\operatorname{y_{I}}^{2} - \\beta \\delta \\epsilon^{2} k_{E} k_{I}^{2} \\eta_{y_{I}} \\operatorname{y_{E}} \\operatorname{y_{I}} + \\beta \\delta \\epsilon^{2} k_{E} k_{I}^{2} \\operatorname{y_{E}} \\operatorname{y_{I}}^{2} \\frac{\\partial \\eta_{y_{I}}}{\\partial y_{I}} - \\beta \\delta \\epsilon^{2} k_{E} k_{I}^{2} \\operatorname{y_{E}} \\operatorname{y_{I}}^{2} \\frac{\\partial \\xi}{\\partial t} + \\beta \\delta \\epsilon^{2} k_{I}^{2} \\chi_{k E} \\operatorname{y_{E}} \\operatorname{y_{I}}^{2} + \\beta \\delta \\epsilon k_{E}^{2} k_{I} \\operatorname{y_{E}} \\operatorname{y_{I}}^{2} \\frac{d}{d \\operatorname{y_{E}}} \\eta_{y_{I}} - \\beta \\delta \\epsilon k_{E}^{2} k_{I} \\operatorname{y_{E}} \\operatorname{y_{I}}^{2} \\frac{\\partial \\xi}{\\partial t} - \\beta \\epsilon^{3} k_{E}^{2} k_{I}^{2} \\chi_{c} \\operatorname{y_{I}}^{2} + \\beta \\epsilon^{2} k_{E}^{3} \\mu_{I} \\operatorname{y_{I}}^{3} \\frac{d}{d \\operatorname{y_{E}}} \\eta_{y_{I}} - \\beta \\epsilon^{2} k_{E}^{3} \\mu_{I} \\operatorname{y_{I}}^{3} \\frac{\\partial \\xi}{\\partial t} + 2 \\beta \\epsilon^{2} k_{E}^{2} k_{I} \\mu_{I} \\eta_{y_{I}} \\operatorname{y_{I}}^{2} - \\beta \\epsilon^{2} k_{E}^{2} k_{I} \\mu_{I} \\operatorname{y_{I}}^{3} \\frac{\\partial \\eta_{y_{I}}}{\\partial y_{I}} + \\beta \\epsilon^{2} k_{E}^{2} k_{I} \\mu_{I} \\operatorname{y_{I}}^{3} \\frac{\\partial \\xi}{\\partial t} + \\beta \\epsilon^{2} k_{E}^{2} k_{I} \\chi_{\\mu I} \\operatorname{y_{I}}^{3} + \\beta \\epsilon^{2} k_{E}^{2} k_{I} \\operatorname{y_{I}}^{2} \\frac{\\partial \\eta_{y_{I}}}{\\partial t} - \\beta \\epsilon^{2} k_{E}^{2} \\mu_{I} \\chi_{k I} \\operatorname{y_{I}}^{3} - \\beta \\epsilon^{2} k_{E} k_{I}^{2} \\chi_{\\delta} \\operatorname{y_{E}} \\operatorname{y_{I}}^{2} - \\beta \\epsilon k_{E}^{3} \\mu_{I} \\operatorname{y_{I}}^{3} \\frac{d}{d \\operatorname{y_{E}}} \\eta_{y_{I}} + \\beta \\epsilon k_{E}^{3} \\mu_{I} \\operatorname{y_{I}}^{3} \\frac{\\partial \\xi}{\\partial t} - c \\epsilon^{3} k_{E}^{2} k_{I}^{2} \\chi_{\\beta} \\operatorname{y_{I}}^{2} - \\delta \\epsilon^{2} k_{E}^{2} k_{I}^{2} \\mu_{S} \\operatorname{y_{E}} \\operatorname{y_{I}} \\frac{d}{d \\operatorname{y_{E}}} \\eta_{y_{I}} + \\delta \\epsilon^{2} k_{E}^{2} k_{I}^{2} \\mu_{S} \\operatorname{y_{E}} \\operatorname{y_{I}} \\frac{\\partial \\xi}{\\partial t} - \\delta \\epsilon^{2} k_{E} k_{I}^{3} \\mu_{S} \\eta_{y_{E}} \\operatorname{y_{I}} + \\delta \\epsilon^{2} k_{E} k_{I}^{3} \\mu_{S} \\operatorname{y_{E}} \\operatorname{y_{I}} \\frac{\\partial \\eta_{y_{I}}}{\\partial y_{I}} - \\delta \\epsilon^{2} k_{E} k_{I}^{3} \\mu_{S} \\operatorname{y_{E}} \\operatorname{y_{I}} \\frac{\\partial \\xi}{\\partial t} - \\delta \\epsilon^{2} k_{E} k_{I}^{3} \\chi_{\\mu S} \\operatorname{y_{E}} \\operatorname{y_{I}} + \\delta \\epsilon^{2} k_{E} k_{I}^{3} \\operatorname{y_{E}} \\frac{\\partial \\eta_{y_{I}}}{\\partial t} - \\delta \\epsilon^{2} k_{E} k_{I}^{3} \\operatorname{y_{I}} \\frac{\\partial \\eta_{y_{E}}}{\\partial t} - \\delta \\epsilon^{2} k_{E} k_{I}^{2} \\mu_{S} \\chi_{k I} \\operatorname{y_{E}} \\operatorname{y_{I}} - \\delta \\epsilon^{2} k_{E} k_{I}^{2} \\chi_{\\beta} \\operatorname{y_{E}} \\operatorname{y_{I}}^{2} + \\delta \\epsilon^{2} k_{I}^{3} \\mu_{S} \\chi_{k E} \\operatorname{y_{E}} \\operatorname{y_{I}} + \\delta \\epsilon k_{E}^{2} k_{I}^{2} \\mu_{S} \\operatorname{y_{E}} \\operatorname{y_{I}} \\frac{d}{d \\operatorname{y_{E}}} \\eta_{y_{I}} - \\delta \\epsilon k_{E}^{2} k_{I}^{2} \\mu_{S} \\operatorname{y_{E}} \\operatorname{y_{I}} \\frac{\\partial \\xi}{\\partial t} + \\epsilon^{2} k_{E}^{3} k_{I} \\mu_{I} \\mu_{S} \\operatorname{y_{I}}^{2} \\frac{d}{d \\operatorname{y_{E}}} \\eta_{y_{I}} - \\epsilon^{2} k_{E}^{3} k_{I} \\mu_{I} \\mu_{S} \\operatorname{y_{I}}^{2} \\frac{\\partial \\xi}{\\partial t} + \\epsilon^{2} k_{E}^{2} k_{I}^{2} \\mu_{I} \\mu_{S} \\eta_{y_{I}} \\operatorname{y_{I}} - \\epsilon^{2} k_{E}^{2} k_{I}^{2} \\mu_{I} \\mu_{S} \\operatorname{y_{I}}^{2} \\frac{\\partial \\eta_{y_{I}}}{\\partial y_{I}} + \\epsilon^{2} k_{E}^{2} k_{I}^{2} \\mu_{I} \\mu_{S} \\operatorname{y_{I}}^{2} \\frac{\\partial \\xi}{\\partial t} + \\epsilon^{2} k_{E}^{2} k_{I}^{2} \\mu_{I} \\chi_{\\mu S} \\operatorname{y_{I}}^{2} + \\epsilon^{2} k_{E}^{2} k_{I}^{2} \\mu_{S} \\chi_{\\mu I} \\operatorname{y_{I}}^{2} + \\epsilon^{2} k_{E}^{2} k_{I}^{2} \\mu_{S} \\operatorname{y_{I}} \\frac{\\partial \\eta_{y_{I}}}{\\partial t} + \\epsilon^{2} k_{E}^{2} k_{I}^{2} \\operatorname{y_{I}} \\frac{\\partial ^{2}\\eta_{y_{I}}}{\\partial t^{2}} + \\epsilon^{2} k_{E}^{2} k_{I} \\mu_{I} \\chi_{\\beta} \\operatorname{y_{I}}^{3} - \\epsilon^{2} k_{E} k_{I}^{3} \\mu_{S} \\chi_{\\delta} \\operatorname{y_{E}} \\operatorname{y_{I}} - \\epsilon k_{E}^{3} k_{I} \\mu_{I} \\mu_{S} \\operatorname{y_{I}}^{2} \\frac{d}{d \\operatorname{y_{E}}} \\eta_{y_{I}} + \\epsilon k_{E}^{3} k_{I} \\mu_{I} \\mu_{S} \\operatorname{y_{I}}^{2} \\frac{\\partial \\xi}{\\partial t} = 0\\,.\\label{eq:d_1}\n",
    "\\end{equation}\n",
    "\n",
    "\n",
    "\n",
    "\n",
    "\n",
    "Ok, let's see if we can extract the determining equation corresponding to $y_{I}'$.\n",
    "\n",
    "\n"
   ]
  },
  {
   "cell_type": "code",
   "execution_count": 11,
   "id": "1d86f9b2",
   "metadata": {},
   "outputs": [
    {
     "name": "stdout",
     "output_type": "stream",
     "text": [
      "Det. eq. $y_{I}'$:\n",
      "\\begin{equation}\n",
      "\\beta c \\epsilon^{3} k_{E}^{3} k_{I} \\operatorname{y_{I}}^{3} \\frac{d}{d \\operatorname{y_{E}}} \\xi + \\beta c \\epsilon^{3} k_{E}^{3} k_{I} \\operatorname{y_{I}}^{3} \\frac{\\partial \\xi}{\\partial y_{I}} - 2 \\beta c \\epsilon^{3} k_{E}^{2} k_{I}^{2} \\operatorname{y_{I}}^{3} \\frac{\\partial \\xi}{\\partial y_{I}} - \\beta c \\epsilon^{2} k_{E}^{3} k_{I} \\operatorname{y_{I}}^{3} \\frac{d}{d \\operatorname{y_{E}}} \\xi - \\beta c \\epsilon^{2} k_{E}^{3} k_{I} \\operatorname{y_{I}}^{3} \\frac{\\partial \\xi}{\\partial y_{I}} + \\beta \\delta \\epsilon^{2} k_{E}^{2} k_{I} \\operatorname{y_{E}} \\operatorname{y_{I}}^{3} \\frac{d}{d \\operatorname{y_{E}}} \\xi + \\beta \\delta \\epsilon^{2} k_{E}^{2} k_{I} \\operatorname{y_{E}} \\operatorname{y_{I}}^{3} \\frac{\\partial \\xi}{\\partial y_{I}} - 2 \\beta \\delta \\epsilon^{2} k_{E} k_{I}^{2} \\operatorname{y_{E}} \\operatorname{y_{I}}^{3} \\frac{\\partial \\xi}{\\partial y_{I}} - \\beta \\delta \\epsilon k_{E}^{2} k_{I} \\operatorname{y_{E}} \\operatorname{y_{I}}^{3} \\frac{d}{d \\operatorname{y_{E}}} \\xi - \\beta \\delta \\epsilon k_{E}^{2} k_{I} \\operatorname{y_{E}} \\operatorname{y_{I}}^{3} \\frac{\\partial \\xi}{\\partial y_{I}} - \\beta \\epsilon^{2} k_{E}^{3} \\mu_{I} \\operatorname{y_{I}}^{4} \\frac{d}{d \\operatorname{y_{E}}} \\xi - \\beta \\epsilon^{2} k_{E}^{3} \\mu_{I} \\operatorname{y_{I}}^{4} \\frac{\\partial \\xi}{\\partial y_{I}} + \\beta \\epsilon^{2} k_{E}^{3} \\operatorname{y_{I}}^{3} \\frac{d}{d \\operatorname{y_{E}}} \\eta_{y_{I}} - \\beta \\epsilon^{2} k_{E}^{3} \\operatorname{y_{I}}^{3} \\frac{\\partial \\xi}{\\partial t} + 2 \\beta \\epsilon^{2} k_{E}^{2} k_{I} \\mu_{I} \\operatorname{y_{I}}^{4} \\frac{\\partial \\xi}{\\partial y_{I}} + \\beta \\epsilon^{2} k_{E}^{2} k_{I} \\eta_{y_{I}} \\operatorname{y_{I}}^{2} - \\beta \\epsilon^{2} k_{E}^{2} \\chi_{k I} \\operatorname{y_{I}}^{3} + \\beta \\epsilon k_{E}^{3} \\mu_{I} \\operatorname{y_{I}}^{4} \\frac{d}{d \\operatorname{y_{E}}} \\xi + \\beta \\epsilon k_{E}^{3} \\mu_{I} \\operatorname{y_{I}}^{4} \\frac{\\partial \\xi}{\\partial y_{I}} - \\beta \\epsilon k_{E}^{3} \\operatorname{y_{I}}^{3} \\frac{d}{d \\operatorname{y_{E}}} \\eta_{y_{I}} + \\beta \\epsilon k_{E}^{3} \\operatorname{y_{I}}^{3} \\frac{\\partial \\xi}{\\partial t} + \\delta \\epsilon^{2} k_{E}^{2} k_{I}^{2} \\mu_{S} \\operatorname{y_{E}} \\operatorname{y_{I}}^{2} \\frac{d}{d \\operatorname{y_{E}}} \\xi + \\delta \\epsilon^{2} k_{E}^{2} k_{I}^{2} \\mu_{S} \\operatorname{y_{E}} \\operatorname{y_{I}}^{2} \\frac{\\partial \\xi}{\\partial y_{I}} + \\delta \\epsilon^{2} k_{E}^{2} k_{I}^{2} \\operatorname{y_{E}} \\operatorname{y_{I}} \\frac{d}{d \\operatorname{y_{E}}} \\eta_{y_{I}} - \\delta \\epsilon^{2} k_{E}^{2} k_{I}^{2} \\operatorname{y_{E}} \\operatorname{y_{I}} \\frac{\\partial \\xi}{\\partial t} - 2 \\delta \\epsilon^{2} k_{E} k_{I}^{3} \\mu_{S} \\operatorname{y_{E}} \\operatorname{y_{I}}^{2} \\frac{\\partial \\xi}{\\partial y_{I}} + \\delta \\epsilon^{2} k_{E} k_{I}^{3} \\eta_{y_{E}} \\operatorname{y_{I}} - \\delta \\epsilon^{2} k_{E} k_{I}^{3} \\eta_{y_{I}} \\operatorname{y_{E}} - \\delta \\epsilon^{2} k_{E} k_{I}^{3} \\operatorname{y_{I}}^{2} \\frac{\\partial \\eta_{y_{E}}}{\\partial y_{I}} + \\delta \\epsilon^{2} k_{E} k_{I}^{2} \\chi_{k I} \\operatorname{y_{E}} \\operatorname{y_{I}} - \\delta \\epsilon^{2} k_{I}^{3} \\chi_{k E} \\operatorname{y_{E}} \\operatorname{y_{I}} - \\delta \\epsilon k_{E}^{2} k_{I}^{2} \\mu_{S} \\operatorname{y_{E}} \\operatorname{y_{I}}^{2} \\frac{d}{d \\operatorname{y_{E}}} \\xi - \\delta \\epsilon k_{E}^{2} k_{I}^{2} \\mu_{S} \\operatorname{y_{E}} \\operatorname{y_{I}}^{2} \\frac{\\partial \\xi}{\\partial y_{I}} - \\delta \\epsilon k_{E}^{2} k_{I}^{2} \\operatorname{y_{E}} \\operatorname{y_{I}} \\frac{d}{d \\operatorname{y_{E}}} \\eta_{y_{I}} + \\delta \\epsilon k_{E}^{2} k_{I}^{2} \\operatorname{y_{E}} \\operatorname{y_{I}} \\frac{\\partial \\xi}{\\partial t} - \\epsilon^{2} k_{E}^{3} k_{I} \\mu_{I} \\mu_{S} \\operatorname{y_{I}}^{3} \\frac{d}{d \\operatorname{y_{E}}} \\xi - \\epsilon^{2} k_{E}^{3} k_{I} \\mu_{I} \\mu_{S} \\operatorname{y_{I}}^{3} \\frac{\\partial \\xi}{\\partial y_{I}} - \\epsilon^{2} k_{E}^{3} k_{I} \\mu_{I} \\operatorname{y_{I}}^{2} \\frac{d}{d \\operatorname{y_{E}}} \\eta_{y_{I}} + \\epsilon^{2} k_{E}^{3} k_{I} \\mu_{I} \\operatorname{y_{I}}^{2} \\frac{\\partial \\xi}{\\partial t} + \\epsilon^{2} k_{E}^{3} k_{I} \\mu_{S} \\operatorname{y_{I}}^{2} \\frac{d}{d \\operatorname{y_{E}}} \\eta_{y_{I}} - \\epsilon^{2} k_{E}^{3} k_{I} \\mu_{S} \\operatorname{y_{I}}^{2} \\frac{\\partial \\xi}{\\partial t} + 2 \\epsilon^{2} k_{E}^{2} k_{I}^{2} \\mu_{I} \\mu_{S} \\operatorname{y_{I}}^{3} \\frac{\\partial \\xi}{\\partial y_{I}} + \\epsilon^{2} k_{E}^{2} k_{I}^{2} \\chi_{\\mu S} \\operatorname{y_{I}}^{2} - \\epsilon^{2} k_{E}^{2} k_{I}^{2} \\operatorname{y_{I}}^{2} \\frac{\\partial ^{2}\\xi}{\\partial t^{2}} + 2 \\epsilon^{2} k_{E}^{2} k_{I}^{2} \\operatorname{y_{I}}^{2} \\frac{\\partial^{2}\\eta_{y_{I}}}{\\partial t\\partial y_{I}} - 2 \\epsilon^{2} k_{E}^{2} k_{I}^{2} \\operatorname{y_{I}} \\frac{\\partial \\eta_{y_{I}}}{\\partial t} + \\epsilon^{2} k_{E}^{2} k_{I} \\chi_{\\beta} \\operatorname{y_{I}}^{3} + \\epsilon^{2} k_{E} k_{I}^{3} \\chi_{\\delta} \\operatorname{y_{E}} \\operatorname{y_{I}} + \\epsilon k_{E}^{3} k_{I} \\mu_{I} \\mu_{S} \\operatorname{y_{I}}^{3} \\frac{d}{d \\operatorname{y_{E}}} \\xi + \\epsilon k_{E}^{3} k_{I} \\mu_{I} \\mu_{S} \\operatorname{y_{I}}^{3} \\frac{\\partial \\xi}{\\partial y_{I}} + \\epsilon k_{E}^{3} k_{I} \\mu_{I} \\operatorname{y_{I}}^{2} \\frac{d}{d \\operatorname{y_{E}}} \\eta_{y_{I}} - \\epsilon k_{E}^{3} k_{I} \\mu_{I} \\operatorname{y_{I}}^{2} \\frac{\\partial \\xi}{\\partial t} - \\epsilon k_{E}^{3} k_{I} \\mu_{S} \\operatorname{y_{I}}^{2} \\frac{d}{d \\operatorname{y_{E}}} \\eta_{y_{I}} + \\epsilon k_{E}^{3} k_{I} \\mu_{S} \\operatorname{y_{I}}^{2} \\frac{\\partial \\xi}{\\partial t} = 0\\,.\\label{eq:d_yIp}\n",
      "\\end{equation}\n"
     ]
    }
   ],
   "source": [
    "# Exract the first linearised symmetry condition\n",
    "temp_lin_sym = lin_sym.lhs-lin_sym.rhs\n",
    "# Extract the zeroth coefficient of the first linearised symmetry condition\n",
    "temp_det_eq = temp_lin_sym.coeff(Derivative(y_I,t,1))\n",
    "# Set the remaining derivatives to zero\n",
    "temp_det_eq = temp_det_eq.subs(Derivative(y_I,t,1),0).subs(Derivative(y_E,t,1),0).doit()\n",
    "# Simplify stuff as well\n",
    "temp_det_eq = expand(temp_det_eq*(k_E**2)*(y_I**2)*(k_I**2)*(epsilon**2))\n",
    "print(\"Det. eq. $y_{I}'$:\")\n",
    "temp_str = latex(Eq(temp_det_eq,0),mode='equation').replace(\"{\\\\left(c,\\\\beta,\\\\delta,\\\\epsilon,\\\\mu_{S},\\\\mu_{E},\\\\mu_{I},k_{I},k_{E} \\\\right)}\",\"\").replace(\"{\\\\left(t,\\\\operatorname{y_{I}}{\\\\left(t \\\\right)},\\\\operatorname{y_{E}}{\\\\left(t \\\\right)} \\\\right)}\",\"\").replace(\"{\\\\left(t \\\\right)}\",\"\").replace(\"\\\\left. \\\\frac{\\\\partial}{\\\\partial \\\\xi_{1}} \\\\eta_{yI}{\\\\left(\\\\xi_{1},\\\\operatorname{y_{I}},\\\\operatorname{y_{E}} \\\\right)} \\\\right|_{\\\\substack{ \\\\xi_{1}=t }}\",\"\\\\frac{\\\\mathrm{d}\\\\eta_{y_{I}}}{\\\\mathrm{d}t}\").replace(\"\\\\left. \\\\frac{\\\\partial}{\\\\partial \\\\xi_{1}} \\\\xi{\\\\left(\\\\xi_{1},\\\\operatorname{y_{I}},\\\\operatorname{y_{E}} \\\\right)} \\\\right|_{\\\\substack{ \\\\xi_{1}=t }}\",\"\\\\frac{\\\\mathrm{d}\\\\xi}{\\\\mathrm{d}t}\").replace(\"\\\\eta_{yI}\",\"\\\\eta_{y_{I}}\").replace(\"\\\\eta_{yE}\",\"\\\\eta_{y_{E}}\").replace(\"\\\\left. \\\\frac{\\\\partial^{2}}{\\\\partial \\\\xi_{1}^{2}} \\\\eta_{y_{I}}{\\\\left(\\\\xi_{1},\\\\operatorname{y_{I}},\\\\operatorname{y_{E}} \\\\right)} \\\\right|_{\\\\substack{ \\\\xi_{1}=t }}\",\"\\\\frac{\\\\mathrm{d}^{2}\\\\eta_{y_{I}}}{\\\\mathrm{d}t^{2}}\").replace(\"\\\\left. \\\\frac{\\\\partial}{\\\\partial \\\\xi_{1}} \\\\eta_{y_{E}}{\\\\left(\\\\xi_{1},\\\\operatorname{y_{I}},\\\\operatorname{y_{E}} \\\\right)} \\\\right|_{\\\\substack{ \\\\xi_{1}=t }}\",\"\\\\frac{\\\\mathrm{d}\\\\eta_{y_{E}}}{\\\\mathrm{d}t}\").replace(\"\\\\frac{d}{d \\\\operatorname{y_{I}}} \\\\eta_{y_{I}}\",\"\\\\frac{\\\\mathrm{d}\\\\eta_{y_{I}}}{\\\\mathrm{d}y_{I}}\").replace(\"\\\\begin{equation}\",\"\\\\begin{equation}\\n\").replace(\"\\\\end{equation}\",\"\\\\,.\\\\label{eq:d_yIp}\\n\\\\end{equation}\")\n",
    "temp_str = temp_str.replace(\"\\\\frac{d}{d \\\\operatorname{y_{I}}} \\\\xi\",\"\\\\frac{\\\\mathrm{d}\\\\xi}{\\\\mathrm{d}y_{I}}\").replace(\"\\\\frac{d}{d \\\\operatorname{y_{I}}} \\\\eta_{y_{E}}\",\"\\\\frac{\\\\mathrm{d}\\\\eta_{y_{E}}}{\\\\mathrm{d}y_{I}}\")\n",
    "temp_str = temp_str.replace(\"\\\\left. \\\\frac{\\\\partial^{2}}{\\\\partial \\\\operatorname{y_{I}}\\\\partial \\\\xi_{1}} \\eta_{y_{I}}{\\\\left(\\\\xi_{1},\\\\operatorname{y_{I}},\\\\operatorname{y_{E}} \\\\right)} \\\\right|_{\\\\substack{ \\\\xi_{1}=t }}\",\"\\\\frac{\\\\partial^{2}\\\\eta_{y_{I}}}{\\\\partial t\\\\partial y_{I}}\")\n",
    "temp_str = temp_str.replace(\"\\\\left. \\\\frac{\\\\partial^{2}}{\\\\partial \\\\xi_{1}^{2}} \\\\xi{\\\\left(\\\\xi_{1},\\\\operatorname{y_{I}},\\\\operatorname{y_{E}} \\\\right)} \\\\right|_{\\\\substack{ \\\\xi_{1}=t }}\",\"\\\\frac{\\\\mathrm{d}^{2}\\\\xi}{\\\\mathrm{d}t^{2}}\")\n",
    "temp_str = temp_str.replace(\"\\\\mathrm{d}\",\"\\\\partial \")\n",
    "print(temp_str)\n",
    "# Add our determining equation to our list of determining equations as well\n",
    "det_eq.append((1,Derivative(y_I,t,1),Eq(temp_det_eq,0)))"
   ]
  },
  {
   "cell_type": "markdown",
   "id": "797e00ea",
   "metadata": {},
   "source": [
    "Det. eq. $y_{I}'$:\n",
    "\\begin{equation}\n",
    "\\beta c \\epsilon^{3} k_{E}^{3} k_{I} \\operatorname{y_{I}}^{3} \\frac{d}{d \\operatorname{y_{E}}} \\xi + \\beta c \\epsilon^{3} k_{E}^{3} k_{I} \\operatorname{y_{I}}^{3} \\frac{\\partial \\xi}{\\partial y_{I}} - 2 \\beta c \\epsilon^{3} k_{E}^{2} k_{I}^{2} \\operatorname{y_{I}}^{3} \\frac{\\partial \\xi}{\\partial y_{I}} - \\beta c \\epsilon^{2} k_{E}^{3} k_{I} \\operatorname{y_{I}}^{3} \\frac{d}{d \\operatorname{y_{E}}} \\xi - \\beta c \\epsilon^{2} k_{E}^{3} k_{I} \\operatorname{y_{I}}^{3} \\frac{\\partial \\xi}{\\partial y_{I}} + \\beta \\delta \\epsilon^{2} k_{E}^{2} k_{I} \\operatorname{y_{E}} \\operatorname{y_{I}}^{3} \\frac{d}{d \\operatorname{y_{E}}} \\xi + \\beta \\delta \\epsilon^{2} k_{E}^{2} k_{I} \\operatorname{y_{E}} \\operatorname{y_{I}}^{3} \\frac{\\partial \\xi}{\\partial y_{I}} - 2 \\beta \\delta \\epsilon^{2} k_{E} k_{I}^{2} \\operatorname{y_{E}} \\operatorname{y_{I}}^{3} \\frac{\\partial \\xi}{\\partial y_{I}} - \\beta \\delta \\epsilon k_{E}^{2} k_{I} \\operatorname{y_{E}} \\operatorname{y_{I}}^{3} \\frac{d}{d \\operatorname{y_{E}}} \\xi - \\beta \\delta \\epsilon k_{E}^{2} k_{I} \\operatorname{y_{E}} \\operatorname{y_{I}}^{3} \\frac{\\partial \\xi}{\\partial y_{I}} - \\beta \\epsilon^{2} k_{E}^{3} \\mu_{I} \\operatorname{y_{I}}^{4} \\frac{d}{d \\operatorname{y_{E}}} \\xi - \\beta \\epsilon^{2} k_{E}^{3} \\mu_{I} \\operatorname{y_{I}}^{4} \\frac{\\partial \\xi}{\\partial y_{I}} + \\beta \\epsilon^{2} k_{E}^{3} \\operatorname{y_{I}}^{3} \\frac{d}{d \\operatorname{y_{E}}} \\eta_{y_{I}} - \\beta \\epsilon^{2} k_{E}^{3} \\operatorname{y_{I}}^{3} \\frac{\\partial \\xi}{\\partial t} + 2 \\beta \\epsilon^{2} k_{E}^{2} k_{I} \\mu_{I} \\operatorname{y_{I}}^{4} \\frac{\\partial \\xi}{\\partial y_{I}} + \\beta \\epsilon^{2} k_{E}^{2} k_{I} \\eta_{y_{I}} \\operatorname{y_{I}}^{2} - \\beta \\epsilon^{2} k_{E}^{2} \\chi_{k I} \\operatorname{y_{I}}^{3} + \\beta \\epsilon k_{E}^{3} \\mu_{I} \\operatorname{y_{I}}^{4} \\frac{d}{d \\operatorname{y_{E}}} \\xi + \\beta \\epsilon k_{E}^{3} \\mu_{I} \\operatorname{y_{I}}^{4} \\frac{\\partial \\xi}{\\partial y_{I}} - \\beta \\epsilon k_{E}^{3} \\operatorname{y_{I}}^{3} \\frac{d}{d \\operatorname{y_{E}}} \\eta_{y_{I}} + \\beta \\epsilon k_{E}^{3} \\operatorname{y_{I}}^{3} \\frac{\\partial \\xi}{\\partial t} + \\delta \\epsilon^{2} k_{E}^{2} k_{I}^{2} \\mu_{S} \\operatorname{y_{E}} \\operatorname{y_{I}}^{2} \\frac{d}{d \\operatorname{y_{E}}} \\xi + \\delta \\epsilon^{2} k_{E}^{2} k_{I}^{2} \\mu_{S} \\operatorname{y_{E}} \\operatorname{y_{I}}^{2} \\frac{\\partial \\xi}{\\partial y_{I}} + \\delta \\epsilon^{2} k_{E}^{2} k_{I}^{2} \\operatorname{y_{E}} \\operatorname{y_{I}} \\frac{d}{d \\operatorname{y_{E}}} \\eta_{y_{I}} - \\delta \\epsilon^{2} k_{E}^{2} k_{I}^{2} \\operatorname{y_{E}} \\operatorname{y_{I}} \\frac{\\partial \\xi}{\\partial t} - 2 \\delta \\epsilon^{2} k_{E} k_{I}^{3} \\mu_{S} \\operatorname{y_{E}} \\operatorname{y_{I}}^{2} \\frac{\\partial \\xi}{\\partial y_{I}} + \\delta \\epsilon^{2} k_{E} k_{I}^{3} \\eta_{y_{E}} \\operatorname{y_{I}} - \\delta \\epsilon^{2} k_{E} k_{I}^{3} \\eta_{y_{I}} \\operatorname{y_{E}} - \\delta \\epsilon^{2} k_{E} k_{I}^{3} \\operatorname{y_{I}}^{2} \\frac{\\partial \\eta_{y_{E}}}{\\partial y_{I}} + \\delta \\epsilon^{2} k_{E} k_{I}^{2} \\chi_{k I} \\operatorname{y_{E}} \\operatorname{y_{I}} - \\delta \\epsilon^{2} k_{I}^{3} \\chi_{k E} \\operatorname{y_{E}} \\operatorname{y_{I}} - \\delta \\epsilon k_{E}^{2} k_{I}^{2} \\mu_{S} \\operatorname{y_{E}} \\operatorname{y_{I}}^{2} \\frac{d}{d \\operatorname{y_{E}}} \\xi - \\delta \\epsilon k_{E}^{2} k_{I}^{2} \\mu_{S} \\operatorname{y_{E}} \\operatorname{y_{I}}^{2} \\frac{\\partial \\xi}{\\partial y_{I}} - \\delta \\epsilon k_{E}^{2} k_{I}^{2} \\operatorname{y_{E}} \\operatorname{y_{I}} \\frac{d}{d \\operatorname{y_{E}}} \\eta_{y_{I}} + \\delta \\epsilon k_{E}^{2} k_{I}^{2} \\operatorname{y_{E}} \\operatorname{y_{I}} \\frac{\\partial \\xi}{\\partial t} - \\epsilon^{2} k_{E}^{3} k_{I} \\mu_{I} \\mu_{S} \\operatorname{y_{I}}^{3} \\frac{d}{d \\operatorname{y_{E}}} \\xi - \\epsilon^{2} k_{E}^{3} k_{I} \\mu_{I} \\mu_{S} \\operatorname{y_{I}}^{3} \\frac{\\partial \\xi}{\\partial y_{I}} - \\epsilon^{2} k_{E}^{3} k_{I} \\mu_{I} \\operatorname{y_{I}}^{2} \\frac{d}{d \\operatorname{y_{E}}} \\eta_{y_{I}} + \\epsilon^{2} k_{E}^{3} k_{I} \\mu_{I} \\operatorname{y_{I}}^{2} \\frac{\\partial \\xi}{\\partial t} + \\epsilon^{2} k_{E}^{3} k_{I} \\mu_{S} \\operatorname{y_{I}}^{2} \\frac{d}{d \\operatorname{y_{E}}} \\eta_{y_{I}} - \\epsilon^{2} k_{E}^{3} k_{I} \\mu_{S} \\operatorname{y_{I}}^{2} \\frac{\\partial \\xi}{\\partial t} + 2 \\epsilon^{2} k_{E}^{2} k_{I}^{2} \\mu_{I} \\mu_{S} \\operatorname{y_{I}}^{3} \\frac{\\partial \\xi}{\\partial y_{I}} + \\epsilon^{2} k_{E}^{2} k_{I}^{2} \\chi_{\\mu S} \\operatorname{y_{I}}^{2} - \\epsilon^{2} k_{E}^{2} k_{I}^{2} \\operatorname{y_{I}}^{2} \\frac{\\partial ^{2}\\xi}{\\partial t^{2}} + 2 \\epsilon^{2} k_{E}^{2} k_{I}^{2} \\operatorname{y_{I}}^{2} \\frac{\\partial^{2}\\eta_{y_{I}}}{\\partial t\\partial y_{I}} - 2 \\epsilon^{2} k_{E}^{2} k_{I}^{2} \\operatorname{y_{I}} \\frac{\\partial \\eta_{y_{I}}}{\\partial t} + \\epsilon^{2} k_{E}^{2} k_{I} \\chi_{\\beta} \\operatorname{y_{I}}^{3} + \\epsilon^{2} k_{E} k_{I}^{3} \\chi_{\\delta} \\operatorname{y_{E}} \\operatorname{y_{I}} + \\epsilon k_{E}^{3} k_{I} \\mu_{I} \\mu_{S} \\operatorname{y_{I}}^{3} \\frac{d}{d \\operatorname{y_{E}}} \\xi + \\epsilon k_{E}^{3} k_{I} \\mu_{I} \\mu_{S} \\operatorname{y_{I}}^{3} \\frac{\\partial \\xi}{\\partial y_{I}} + \\epsilon k_{E}^{3} k_{I} \\mu_{I} \\operatorname{y_{I}}^{2} \\frac{d}{d \\operatorname{y_{E}}} \\eta_{y_{I}} - \\epsilon k_{E}^{3} k_{I} \\mu_{I} \\operatorname{y_{I}}^{2} \\frac{\\partial \\xi}{\\partial t} - \\epsilon k_{E}^{3} k_{I} \\mu_{S} \\operatorname{y_{I}}^{2} \\frac{d}{d \\operatorname{y_{E}}} \\eta_{y_{I}} + \\epsilon k_{E}^{3} k_{I} \\mu_{S} \\operatorname{y_{I}}^{2} \\frac{\\partial \\xi}{\\partial t} = 0\\,.\\label{eq:d_yIp}\n",
    "\\end{equation}\n",
    "\n",
    "\n",
    "\n",
    "\n",
    "\n",
    "\n",
    "\n",
    "\n",
    "Let's move on to $y_{E}'$!"
   ]
  },
  {
   "cell_type": "code",
   "execution_count": 12,
   "id": "e107a30d",
   "metadata": {},
   "outputs": [
    {
     "name": "stdout",
     "output_type": "stream",
     "text": [
      "Det. eq. $y_{E}'$:\n",
      "\\begin{equation}\n",
      "\\beta c \\epsilon^{2} k_{E}^{2} \\operatorname{y_{I}}^{2} \\frac{\\partial \\xi}{\\partial y_{E}} - \\beta c \\epsilon^{2} k_{E} k_{I} \\operatorname{y_{I}}^{2} \\frac{\\partial \\xi}{\\partial y_{E}} - \\beta c \\epsilon k_{E}^{2} \\operatorname{y_{I}}^{2} \\frac{\\partial \\xi}{\\partial y_{E}} + \\beta \\delta \\epsilon k_{E} \\operatorname{y_{E}} \\operatorname{y_{I}}^{2} \\frac{\\partial \\xi}{\\partial y_{E}} - \\beta \\delta \\epsilon k_{I} \\operatorname{y_{E}} \\operatorname{y_{I}}^{2} \\frac{\\partial \\xi}{\\partial y_{E}} - \\beta \\delta k_{E} \\operatorname{y_{E}} \\operatorname{y_{I}}^{2} \\frac{\\partial \\xi}{\\partial y_{E}} - \\frac{\\beta \\epsilon k_{E}^{2} \\mu_{I} \\operatorname{y_{I}}^{3} \\frac{\\partial \\xi}{\\partial y_{E}}}{k_{I}} + \\beta \\epsilon k_{E} \\mu_{I} \\operatorname{y_{I}}^{3} \\frac{\\partial \\xi}{\\partial y_{E}} + \\beta \\epsilon k_{E} \\operatorname{y_{I}}^{2} \\frac{\\partial \\eta_{y_{I}}}{\\partial y_{E}} + \\frac{\\beta k_{E}^{2} \\mu_{I} \\operatorname{y_{I}}^{3} \\frac{\\partial \\xi}{\\partial y_{E}}}{k_{I}} + \\delta \\epsilon k_{E} k_{I} \\mu_{S} \\operatorname{y_{E}} \\operatorname{y_{I}} \\frac{\\partial \\xi}{\\partial y_{E}} - \\delta \\epsilon k_{E} k_{I} \\operatorname{y_{I}} \\frac{\\partial \\eta_{y_{I}}}{\\partial y_{E}} + \\delta \\epsilon k_{E} k_{I} \\operatorname{y_{I}} \\frac{\\partial \\xi}{\\partial t} - \\delta \\epsilon k_{I}^{2} \\mu_{S} \\operatorname{y_{E}} \\operatorname{y_{I}} \\frac{\\partial \\xi}{\\partial y_{E}} + \\delta \\epsilon k_{I}^{2} \\operatorname{y_{E}} \\frac{\\partial \\eta_{y_{I}}}{\\partial y_{E}} - \\delta \\epsilon k_{I}^{2} \\operatorname{y_{I}} \\frac{d}{d \\operatorname{y_{E}}} \\eta_{y_{E}} + \\delta \\epsilon k_{I}^{2} \\operatorname{y_{I}} \\frac{\\partial \\eta_{y_{I}}}{\\partial y_{I}} - \\delta \\epsilon k_{I} \\chi_{k I} \\operatorname{y_{I}} + \\frac{\\delta \\epsilon k_{I}^{2} \\chi_{k E} \\operatorname{y_{I}}}{k_{E}} - \\delta k_{E} k_{I} \\mu_{S} \\operatorname{y_{E}} \\operatorname{y_{I}} \\frac{\\partial \\xi}{\\partial y_{E}} - \\epsilon k_{E}^{2} \\mu_{I} \\mu_{S} \\operatorname{y_{I}}^{2} \\frac{\\partial \\xi}{\\partial y_{E}} - \\epsilon k_{E} k_{I} \\mu_{E} \\operatorname{y_{I}} \\frac{\\partial \\eta_{y_{I}}}{\\partial y_{E}} + \\epsilon k_{E} k_{I} \\mu_{E} \\operatorname{y_{I}} \\frac{\\partial \\xi}{\\partial t} + \\epsilon k_{E} k_{I} \\mu_{I} \\mu_{S} \\operatorname{y_{I}}^{2} \\frac{\\partial \\xi}{\\partial y_{E}} + \\epsilon k_{E} k_{I} \\mu_{S} \\operatorname{y_{I}} \\frac{\\partial \\eta_{y_{I}}}{\\partial y_{E}} + 2 \\epsilon k_{E} k_{I} \\operatorname{y_{I}} \\frac{\\partial^{2}\\eta_{y_{I}}}{\\partial y_{E}\\partial t} - \\epsilon k_{I}^{2} \\chi_{\\delta} \\operatorname{y_{I}} + k_{E}^{2} \\mu_{I} \\mu_{S} \\operatorname{y_{I}}^{2} \\frac{\\partial \\xi}{\\partial y_{E}} = 0\\,.\\label{eq:det_yEp}\n",
      "\\end{equation}\n"
     ]
    }
   ],
   "source": [
    "# Exract the first linearised symmetry condition\n",
    "temp_lin_sym = lin_sym.lhs-lin_sym.rhs\n",
    "# Extract the zeroth coefficient of the first linearised symmetry condition\n",
    "temp_det_eq = temp_lin_sym.coeff(Derivative(y_E,t,1))\n",
    "# Set the remaining derivatives to zero\n",
    "temp_det_eq = temp_det_eq.subs(Derivative(y_I,t,1),0).subs(Derivative(y_E,t,1),0).doit()\n",
    "# Simplify stuff as well\n",
    "temp_det_eq = expand(temp_det_eq*(k_E**1)*(k_I**1)*(y_I)*epsilon)\n",
    "print(\"Det. eq. $y_{E}'$:\")\n",
    "temp_str = latex(Eq(temp_det_eq,0),mode='equation').replace(\"{\\\\left(c,\\\\beta,\\\\delta,\\\\epsilon,\\\\mu_{S},\\\\mu_{E},\\\\mu_{I},k_{I},k_{E} \\\\right)}\",\"\").replace(\"{\\\\left(t,\\\\operatorname{y_{I}}{\\\\left(t \\\\right)},\\\\operatorname{y_{E}}{\\\\left(t \\\\right)} \\\\right)}\",\"\").replace(\"{\\\\left(t \\\\right)}\",\"\").replace(\"\\\\left. \\\\frac{\\\\partial}{\\\\partial \\\\xi_{1}} \\\\eta_{yI}{\\\\left(\\\\xi_{1},\\\\operatorname{y_{I}},\\\\operatorname{y_{E}} \\\\right)} \\\\right|_{\\\\substack{ \\\\xi_{1}=t }}\",\"\\\\frac{\\\\mathrm{d}\\\\eta_{y_{I}}}{\\\\mathrm{d}t}\").replace(\"\\\\left. \\\\frac{\\\\partial}{\\\\partial \\\\xi_{1}} \\\\xi{\\\\left(\\\\xi_{1},\\\\operatorname{y_{I}},\\\\operatorname{y_{E}} \\\\right)} \\\\right|_{\\\\substack{ \\\\xi_{1}=t }}\",\"\\\\frac{\\\\mathrm{d}\\\\xi}{\\\\mathrm{d}t}\").replace(\"\\\\eta_{yI}\",\"\\\\eta_{y_{I}}\").replace(\"\\\\eta_{yE}\",\"\\\\eta_{y_{E}}\").replace(\"\\\\left. \\\\frac{\\\\partial^{2}}{\\\\partial \\\\xi_{1}^{2}} \\\\eta_{y_{I}}{\\\\left(\\\\xi_{1},\\\\operatorname{y_{I}},\\\\operatorname{y_{E}} \\\\right)} \\\\right|_{\\\\substack{ \\\\xi_{1}=t }}\",\"\\\\frac{\\\\mathrm{d}^{2}\\\\eta_{y_{I}}}{\\\\mathrm{d}t^{2}}\").replace(\"\\\\left. \\\\frac{\\\\partial}{\\\\partial \\\\xi_{1}} \\\\eta_{y_{E}}{\\\\left(\\\\xi_{1},\\\\operatorname{y_{I}},\\\\operatorname{y_{E}} \\\\right)} \\\\right|_{\\\\substack{ \\\\xi_{1}=t }}\",\"\\\\frac{\\\\mathrm{d}\\\\eta_{y_{E}}}{\\\\mathrm{d}t}\").replace(\"\\\\frac{d}{d \\\\operatorname{y_{I}}} \\\\eta_{y_{I}}\",\"\\\\frac{\\\\mathrm{d}\\\\eta_{y_{I}}}{\\\\mathrm{d}y_{I}}\").replace(\"\\\\begin{equation}\",\"\\\\begin{equation}\\n\").replace(\"\\\\end{equation}\",\"\\\\,.\\\\label{eq:det_yEp}\\n\\\\end{equation}\")\n",
    "temp_str = temp_str.replace(\"\\\\frac{d}{d \\\\operatorname{y_{I}}} \\\\xi\",\"\\\\frac{\\\\mathrm{d}\\\\xi}{\\\\mathrm{d}y_{I}}\").replace(\"\\\\frac{d}{d \\\\operatorname{y_{I}}} \\\\eta_{y_{E}}\",\"\\\\frac{\\\\mathrm{d}\\\\eta_{y_{E}}}{\\\\mathrm{d}y_{I}}\")\n",
    "temp_str = temp_str.replace(\"\\\\left. \\\\frac{\\\\partial^{2}}{\\\\partial \\\\operatorname{y_{I}}\\\\partial \\\\xi_{1}} \\eta_{y_{I}}{\\\\left(\\\\xi_{1},\\\\operatorname{y_{I}},\\\\operatorname{y_{E}} \\\\right)} \\\\right|_{\\\\substack{ \\\\xi_{1}=t }}\",\"\\\\frac{\\\\partial^{2}\\\\eta_{y_{I}}}{\\\\partial t\\\\partial y_{I}}\")\n",
    "temp_str = temp_str.replace(\"\\\\left. \\\\frac{\\\\partial^{2}}{\\\\partial \\\\xi_{1}^{2}} \\\\xi{\\\\left(\\\\xi_{1},\\\\operatorname{y_{I}},\\\\operatorname{y_{E}} \\\\right)} \\\\right|_{\\\\substack{ \\\\xi_{1}=t }}\",\"\\\\frac{\\\\mathrm{d}^{2}\\\\xi}{\\\\mathrm{d}t^{2}}\")\n",
    "temp_str = temp_str.replace(\"\\\\frac{d}{d \\\\operatorname{y_{E}}} \\\\xi\",\"\\\\frac{\\\\mathrm{d}\\\\xi}{\\\\mathrm{d}y_{E}}\")\n",
    "temp_str = temp_str.replace(\"\\\\left. \\\\frac{\\\\partial^{2}}{\\\\partial \\\\operatorname{y_{E}}\\\\partial \\\\xi_{1}} \\\\eta_{y_{I}}{\\\\left(\\\\xi_{1},\\\\operatorname{y_{I}},\\\\operatorname{y_{E}} \\\\right)} \\\\right|_{\\\\substack{ \\\\xi_{1}=t }}\",\"\\\\frac{\\\\partial^{2}\\\\eta_{y_{I}}}{\\\\partial y_{E}\\\\partial t}\")\n",
    "temp_str = temp_str.replace(\"\\\\frac{d}{d \\\\operatorname{y_{E}}} \\\\eta_{y_{I}}\",\"\\\\frac{\\\\mathrm{d}\\\\eta_{y_{I}}}{\\\\mathrm{d}y_{E}}\")\n",
    "temp_str = temp_str.replace(\"\\\\mathrm{d}\",\"\\\\partial \")\n",
    "print(temp_str)\n",
    "# Add our determining equation to our list of determining equations as well\n",
    "det_eq.append((1,Derivative(y_E,t,1),Eq(temp_det_eq,0)))"
   ]
  },
  {
   "cell_type": "markdown",
   "id": "7ec72150",
   "metadata": {},
   "source": [
    "Det. eq. $y_{E}'$:\n",
    "\\begin{equation}\n",
    "\\beta c \\epsilon^{2} k_{E}^{2} \\operatorname{y_{I}}^{2} \\frac{\\partial \\xi}{\\partial y_{E}} - \\beta c \\epsilon^{2} k_{E} k_{I} \\operatorname{y_{I}}^{2} \\frac{\\partial \\xi}{\\partial y_{E}} - \\beta c \\epsilon k_{E}^{2} \\operatorname{y_{I}}^{2} \\frac{\\partial \\xi}{\\partial y_{E}} + \\beta \\delta \\epsilon k_{E} \\operatorname{y_{E}} \\operatorname{y_{I}}^{2} \\frac{\\partial \\xi}{\\partial y_{E}} - \\beta \\delta \\epsilon k_{I} \\operatorname{y_{E}} \\operatorname{y_{I}}^{2} \\frac{\\partial \\xi}{\\partial y_{E}} - \\beta \\delta k_{E} \\operatorname{y_{E}} \\operatorname{y_{I}}^{2} \\frac{\\partial \\xi}{\\partial y_{E}} - \\frac{\\beta \\epsilon k_{E}^{2} \\mu_{I} \\operatorname{y_{I}}^{3} \\frac{\\partial \\xi}{\\partial y_{E}}}{k_{I}} + \\beta \\epsilon k_{E} \\mu_{I} \\operatorname{y_{I}}^{3} \\frac{\\partial \\xi}{\\partial y_{E}} + \\beta \\epsilon k_{E} \\operatorname{y_{I}}^{2} \\frac{\\partial \\eta_{y_{I}}}{\\partial y_{E}} + \\frac{\\beta k_{E}^{2} \\mu_{I} \\operatorname{y_{I}}^{3} \\frac{\\partial \\xi}{\\partial y_{E}}}{k_{I}} + \\delta \\epsilon k_{E} k_{I} \\mu_{S} \\operatorname{y_{E}} \\operatorname{y_{I}} \\frac{\\partial \\xi}{\\partial y_{E}} - \\delta \\epsilon k_{E} k_{I} \\operatorname{y_{I}} \\frac{\\partial \\eta_{y_{I}}}{\\partial y_{E}} + \\delta \\epsilon k_{E} k_{I} \\operatorname{y_{I}} \\frac{\\partial \\xi}{\\partial t} - \\delta \\epsilon k_{I}^{2} \\mu_{S} \\operatorname{y_{E}} \\operatorname{y_{I}} \\frac{\\partial \\xi}{\\partial y_{E}} + \\delta \\epsilon k_{I}^{2} \\operatorname{y_{E}} \\frac{\\partial \\eta_{y_{I}}}{\\partial y_{E}} - \\delta \\epsilon k_{I}^{2} \\operatorname{y_{I}} \\frac{d}{d \\operatorname{y_{E}}} \\eta_{y_{E}} + \\delta \\epsilon k_{I}^{2} \\operatorname{y_{I}} \\frac{\\partial \\eta_{y_{I}}}{\\partial y_{I}} - \\delta \\epsilon k_{I} \\chi_{k I} \\operatorname{y_{I}} + \\frac{\\delta \\epsilon k_{I}^{2} \\chi_{k E} \\operatorname{y_{I}}}{k_{E}} - \\delta k_{E} k_{I} \\mu_{S} \\operatorname{y_{E}} \\operatorname{y_{I}} \\frac{\\partial \\xi}{\\partial y_{E}} - \\epsilon k_{E}^{2} \\mu_{I} \\mu_{S} \\operatorname{y_{I}}^{2} \\frac{\\partial \\xi}{\\partial y_{E}} - \\epsilon k_{E} k_{I} \\mu_{E} \\operatorname{y_{I}} \\frac{\\partial \\eta_{y_{I}}}{\\partial y_{E}} + \\epsilon k_{E} k_{I} \\mu_{E} \\operatorname{y_{I}} \\frac{\\partial \\xi}{\\partial t} + \\epsilon k_{E} k_{I} \\mu_{I} \\mu_{S} \\operatorname{y_{I}}^{2} \\frac{\\partial \\xi}{\\partial y_{E}} + \\epsilon k_{E} k_{I} \\mu_{S} \\operatorname{y_{I}} \\frac{\\partial \\eta_{y_{I}}}{\\partial y_{E}} + 2 \\epsilon k_{E} k_{I} \\operatorname{y_{I}} \\frac{\\partial^{2}\\eta_{y_{I}}}{\\partial y_{E}\\partial t} - \\epsilon k_{I}^{2} \\chi_{\\delta} \\operatorname{y_{I}} + k_{E}^{2} \\mu_{I} \\mu_{S} \\operatorname{y_{I}}^{2} \\frac{\\partial \\xi}{\\partial y_{E}} = 0\\,.\\label{eq:det_yEp}\n",
    "\\end{equation}\n",
    "\n",
    "Now, we move on to the second order coefficients! Let's start with $y_{I}'^{2}$."
   ]
  },
  {
   "cell_type": "code",
   "execution_count": 13,
   "id": "facbfcb2",
   "metadata": {},
   "outputs": [
    {
     "name": "stdout",
     "output_type": "stream",
     "text": [
      "Det. eq. $(y_{I}')^{2}$:\n",
      "\\begin{equation}\n",
      "- \\frac{\\beta \\epsilon k_{E}^{2} \\operatorname{y_{I}}^{3} \\frac{\\partial \\xi}{\\partial y_{E}}}{k_{I}} - \\frac{\\beta \\epsilon k_{E}^{2} \\operatorname{y_{I}}^{3} \\frac{\\partial \\xi}{\\partial y_{I}}}{k_{I}} + \\beta \\epsilon k_{E} \\operatorname{y_{I}}^{3} \\frac{\\partial \\xi}{\\partial y_{I}} + \\frac{\\beta k_{E}^{2} \\operatorname{y_{I}}^{3} \\frac{\\partial \\xi}{\\partial y_{E}}}{k_{I}} + \\frac{\\beta k_{E}^{2} \\operatorname{y_{I}}^{3} \\frac{\\partial \\xi}{\\partial y_{I}}}{k_{I}} - \\delta \\epsilon k_{E} k_{I} \\operatorname{y_{E}} \\operatorname{y_{I}} \\frac{\\partial \\xi}{\\partial y_{E}} - \\delta \\epsilon k_{E} k_{I} \\operatorname{y_{E}} \\operatorname{y_{I}} \\frac{\\partial \\xi}{\\partial y_{I}} + \\delta \\epsilon k_{I}^{2} \\operatorname{y_{E}} \\operatorname{y_{I}} \\frac{\\partial \\xi}{\\partial y_{I}} + \\delta k_{E} k_{I} \\operatorname{y_{E}} \\operatorname{y_{I}} \\frac{\\partial \\xi}{\\partial y_{E}} + \\delta k_{E} k_{I} \\operatorname{y_{E}} \\operatorname{y_{I}} \\frac{\\partial \\xi}{\\partial y_{I}} + \\epsilon k_{E}^{2} \\mu_{I} \\operatorname{y_{I}}^{2} \\frac{\\partial \\xi}{\\partial y_{E}} + \\epsilon k_{E}^{2} \\mu_{I} \\operatorname{y_{I}}^{2} \\frac{\\partial \\xi}{\\partial y_{I}} - \\epsilon k_{E}^{2} \\mu_{S} \\operatorname{y_{I}}^{2} \\frac{\\partial \\xi}{\\partial y_{E}} - \\epsilon k_{E}^{2} \\mu_{S} \\operatorname{y_{I}}^{2} \\frac{\\partial \\xi}{\\partial y_{I}} - \\epsilon k_{E}^{2} \\operatorname{y_{I}} \\frac{\\partial \\eta_{y_{I}}}{\\partial y_{E}} + \\epsilon k_{E}^{2} \\operatorname{y_{I}} \\frac{\\partial \\xi}{\\partial t} + \\epsilon k_{E} k_{I} \\mu_{S} \\operatorname{y_{I}}^{2} \\frac{\\partial \\xi}{\\partial y_{I}} + \\epsilon k_{E} k_{I} \\eta_{y_{I}} + \\epsilon k_{E} k_{I} \\operatorname{y_{I}}^{2} \\frac{d^{2}}{d \\operatorname{y_{I}}^{2}} \\eta_{y_{I}} - 2 \\epsilon k_{E} k_{I} \\operatorname{y_{I}}^{2} \\frac{\\partial^{2}\\xi}{\\partial t\\partial y_{I}} - \\epsilon k_{E} k_{I} \\operatorname{y_{I}} \\frac{\\partial \\eta_{y_{I}}}{\\partial y_{I}} + \\epsilon k_{E} k_{I} \\operatorname{y_{I}} \\frac{\\partial \\xi}{\\partial t} - k_{E}^{2} \\mu_{I} \\operatorname{y_{I}}^{2} \\frac{\\partial \\xi}{\\partial y_{E}} - k_{E}^{2} \\mu_{I} \\operatorname{y_{I}}^{2} \\frac{\\partial \\xi}{\\partial y_{I}} + k_{E}^{2} \\mu_{S} \\operatorname{y_{I}}^{2} \\frac{\\partial \\xi}{\\partial y_{E}} + k_{E}^{2} \\mu_{S} \\operatorname{y_{I}}^{2} \\frac{\\partial \\xi}{\\partial y_{I}} + k_{E}^{2} \\operatorname{y_{I}} \\frac{\\partial \\eta_{y_{I}}}{\\partial y_{E}} - k_{E}^{2} \\operatorname{y_{I}} \\frac{\\partial \\xi}{\\partial t} = 0\\,.\\label{eq:d_yIps}\n",
      "\\end{equation}\n"
     ]
    }
   ],
   "source": [
    "# Exract the first linearised symmetry condition\n",
    "temp_lin_sym = lin_sym.lhs-lin_sym.rhs\n",
    "# Extract the zeroth coefficient of the first linearised symmetry condition\n",
    "temp_det_eq = temp_lin_sym.coeff(Derivative(y_I,t,1)**2)\n",
    "#temp_det_eq = temp_det_eq.coeff(Derivative(y_I,t,1))\n",
    "# Set the remaining derivatives to zero\n",
    "temp_det_eq = temp_det_eq.subs(Derivative(y_I,t,1),0).subs(Derivative(y_E,t,1),0).doit()\n",
    "# Simplify stuff as well\n",
    "temp_det_eq = expand(temp_det_eq*(k_E)*(y_I**2)*(k_I)*epsilon)\n",
    "print(\"Det. eq. $(y_{I}')^{2}$:\")\n",
    "temp_str = latex(Eq(temp_det_eq,0),mode='equation').replace(\"{\\\\left(c,\\\\beta,\\\\delta,\\\\epsilon,\\\\mu_{S},\\\\mu_{E},\\\\mu_{I},k_{I},k_{E} \\\\right)}\",\"\").replace(\"{\\\\left(t,\\\\operatorname{y_{I}}{\\\\left(t \\\\right)},\\\\operatorname{y_{E}}{\\\\left(t \\\\right)} \\\\right)}\",\"\").replace(\"{\\\\left(t \\\\right)}\",\"\").replace(\"\\\\left. \\\\frac{\\\\partial}{\\\\partial \\\\xi_{1}} \\\\eta_{yI}{\\\\left(\\\\xi_{1},\\\\operatorname{y_{I}},\\\\operatorname{y_{E}} \\\\right)} \\\\right|_{\\\\substack{ \\\\xi_{1}=t }}\",\"\\\\frac{\\\\mathrm{d}\\\\eta_{y_{I}}}{\\\\mathrm{d}t}\").replace(\"\\\\left. \\\\frac{\\\\partial}{\\\\partial \\\\xi_{1}} \\\\xi{\\\\left(\\\\xi_{1},\\\\operatorname{y_{I}},\\\\operatorname{y_{E}} \\\\right)} \\\\right|_{\\\\substack{ \\\\xi_{1}=t }}\",\"\\\\frac{\\\\mathrm{d}\\\\xi}{\\\\mathrm{d}t}\").replace(\"\\\\eta_{yI}\",\"\\\\eta_{y_{I}}\").replace(\"\\\\eta_{yE}\",\"\\\\eta_{y_{E}}\").replace(\"\\\\left. \\\\frac{\\\\partial^{2}}{\\\\partial \\\\xi_{1}^{2}} \\\\eta_{y_{I}}{\\\\left(\\\\xi_{1},\\\\operatorname{y_{I}},\\\\operatorname{y_{E}} \\\\right)} \\\\right|_{\\\\substack{ \\\\xi_{1}=t }}\",\"\\\\frac{\\\\mathrm{d}^{2}\\\\eta_{y_{I}}}{\\\\mathrm{d}t^{2}}\").replace(\"\\\\left. \\\\frac{\\\\partial}{\\\\partial \\\\xi_{1}} \\\\eta_{y_{E}}{\\\\left(\\\\xi_{1},\\\\operatorname{y_{I}},\\\\operatorname{y_{E}} \\\\right)} \\\\right|_{\\\\substack{ \\\\xi_{1}=t }}\",\"\\\\frac{\\\\mathrm{d}\\\\eta_{y_{E}}}{\\\\mathrm{d}t}\").replace(\"\\\\frac{d}{d \\\\operatorname{y_{I}}} \\\\eta_{y_{I}}\",\"\\\\frac{\\\\mathrm{d}\\\\eta_{y_{I}}}{\\\\mathrm{d}y_{I}}\").replace(\"\\\\begin{equation}\",\"\\\\begin{equation}\\n\").replace(\"\\\\end{equation}\",\"\\\\,.\\\\label{eq:d_yIps}\\n\\\\end{equation}\")\n",
    "temp_str = temp_str.replace(\"\\\\frac{d}{d \\\\operatorname{y_{I}}} \\\\xi\",\"\\\\frac{\\\\mathrm{d}\\\\xi}{\\\\mathrm{d}y_{I}}\").replace(\"\\\\frac{d}{d \\\\operatorname{y_{I}}} \\\\eta_{y_{E}}\",\"\\\\frac{\\\\mathrm{d}\\\\eta_{y_{E}}}{\\\\mathrm{d}y_{I}}\")\n",
    "temp_str = temp_str.replace(\"\\\\left. \\\\frac{\\\\partial^{2}}{\\\\partial \\\\operatorname{y_{I}}\\\\partial \\\\xi_{1}} \\eta_{y_{I}}{\\\\left(\\\\xi_{1},\\\\operatorname{y_{I}},\\\\operatorname{y_{E}} \\\\right)} \\\\right|_{\\\\substack{ \\\\xi_{1}=t }}\",\"\\\\frac{\\\\partial^{2}\\\\eta_{y_{I}}}{\\\\partial t\\\\partial y_{I}}\")\n",
    "temp_str = temp_str.replace(\"\\\\left. \\\\frac{\\\\partial^{2}}{\\\\partial \\\\xi_{1}^{2}} \\\\xi{\\\\left(\\\\xi_{1},\\\\operatorname{y_{I}},\\\\operatorname{y_{E}} \\\\right)} \\\\right|_{\\\\substack{ \\\\xi_{1}=t }}\",\"\\\\frac{\\\\mathrm{d}^{2}\\\\xi}{\\\\mathrm{d}t^{2}}\")\n",
    "temp_str = temp_str.replace(\"\\\\frac{d}{d \\\\operatorname{y_{E}}} \\\\xi\",\"\\\\frac{\\\\mathrm{d}\\\\xi}{\\\\mathrm{d}y_{E}}\")\n",
    "temp_str = temp_str.replace(\"\\\\left. \\\\frac{\\\\partial^{2}}{\\\\partial \\\\operatorname{y_{E}}\\\\partial \\\\xi_{1}} \\\\eta_{y_{I}}{\\\\left(\\\\xi_{1},\\\\operatorname{y_{I}},\\\\operatorname{y_{E}} \\\\right)} \\\\right|_{\\\\substack{ \\\\xi_{1}=t }}\",\"\\\\frac{\\\\partial^{2}\\\\eta_{y_{I}}}{\\\\partial y_{E}\\\\partial t}\")\n",
    "temp_str = temp_str.replace(\"\\\\frac{d}{d \\\\operatorname{y_{E}}} \\\\eta_{y_{I}}\",\"\\\\frac{\\\\mathrm{d}\\\\eta_{y_{I}}}{\\\\mathrm{d}y_{E}}\")\n",
    "temp_str = temp_str.replace(\"\\\\left. \\\\frac{\\\\partial^{2}}{\\\\partial \\\\operatorname{y_{I}}\\\\partial \\\\xi_{1}} \\\\xi{\\\\left(\\\\xi_{1},\\\\operatorname{y_{I}},\\\\operatorname{y_{E}} \\\\right)} \\\\right|_{\\\\substack{ \\\\xi_{1}=t }}\",\"\\\\frac{\\\\partial^{2}\\\\xi}{\\\\partial t\\\\partial y_{I}}\")\n",
    "temp_str = temp_str.replace(\"\\\\mathrm{d}\",\"\\\\partial \")\n",
    "print(temp_str)\n",
    "# Add our determining equation to our list of determining equations as well\n",
    "det_eq.append((1,Derivative(y_I,t,1)*Derivative(y_I,t,1),Eq(temp_det_eq,0)))"
   ]
  },
  {
   "cell_type": "markdown",
   "id": "436c18af",
   "metadata": {},
   "source": [
    "Det. eq. $(y_{I}')^{2}$:\n",
    "\\begin{equation}\n",
    "- \\frac{\\beta \\epsilon k_{E}^{2} \\operatorname{y_{I}}^{3} \\frac{\\partial \\xi}{\\partial y_{E}}}{k_{I}} - \\frac{\\beta \\epsilon k_{E}^{2} \\operatorname{y_{I}}^{3} \\frac{\\partial \\xi}{\\partial y_{I}}}{k_{I}} + \\beta \\epsilon k_{E} \\operatorname{y_{I}}^{3} \\frac{\\partial \\xi}{\\partial y_{I}} + \\frac{\\beta k_{E}^{2} \\operatorname{y_{I}}^{3} \\frac{\\partial \\xi}{\\partial y_{E}}}{k_{I}} + \\frac{\\beta k_{E}^{2} \\operatorname{y_{I}}^{3} \\frac{\\partial \\xi}{\\partial y_{I}}}{k_{I}} - \\delta \\epsilon k_{E} k_{I} \\operatorname{y_{E}} \\operatorname{y_{I}} \\frac{\\partial \\xi}{\\partial y_{E}} - \\delta \\epsilon k_{E} k_{I} \\operatorname{y_{E}} \\operatorname{y_{I}} \\frac{\\partial \\xi}{\\partial y_{I}} + \\delta \\epsilon k_{I}^{2} \\operatorname{y_{E}} \\operatorname{y_{I}} \\frac{\\partial \\xi}{\\partial y_{I}} + \\delta k_{E} k_{I} \\operatorname{y_{E}} \\operatorname{y_{I}} \\frac{\\partial \\xi}{\\partial y_{E}} + \\delta k_{E} k_{I} \\operatorname{y_{E}} \\operatorname{y_{I}} \\frac{\\partial \\xi}{\\partial y_{I}} + \\epsilon k_{E}^{2} \\mu_{I} \\operatorname{y_{I}}^{2} \\frac{\\partial \\xi}{\\partial y_{E}} + \\epsilon k_{E}^{2} \\mu_{I} \\operatorname{y_{I}}^{2} \\frac{\\partial \\xi}{\\partial y_{I}} - \\epsilon k_{E}^{2} \\mu_{S} \\operatorname{y_{I}}^{2} \\frac{\\partial \\xi}{\\partial y_{E}} - \\epsilon k_{E}^{2} \\mu_{S} \\operatorname{y_{I}}^{2} \\frac{\\partial \\xi}{\\partial y_{I}} - \\epsilon k_{E}^{2} \\operatorname{y_{I}} \\frac{\\partial \\eta_{y_{I}}}{\\partial y_{E}} + \\epsilon k_{E}^{2} \\operatorname{y_{I}} \\frac{\\partial \\xi}{\\partial t} + \\epsilon k_{E} k_{I} \\mu_{S} \\operatorname{y_{I}}^{2} \\frac{\\partial \\xi}{\\partial y_{I}} + \\epsilon k_{E} k_{I} \\eta_{y_{I}} + \\epsilon k_{E} k_{I} \\operatorname{y_{I}}^{2} \\frac{d^{2}}{d \\operatorname{y_{I}}^{2}} \\eta_{y_{I}} - 2 \\epsilon k_{E} k_{I} \\operatorname{y_{I}}^{2} \\frac{\\partial^{2}\\xi}{\\partial t\\partial y_{I}} - \\epsilon k_{E} k_{I} \\operatorname{y_{I}} \\frac{\\partial \\eta_{y_{I}}}{\\partial y_{I}} + \\epsilon k_{E} k_{I} \\operatorname{y_{I}} \\frac{\\partial \\xi}{\\partial t} - k_{E}^{2} \\mu_{I} \\operatorname{y_{I}}^{2} \\frac{\\partial \\xi}{\\partial y_{E}} - k_{E}^{2} \\mu_{I} \\operatorname{y_{I}}^{2} \\frac{\\partial \\xi}{\\partial y_{I}} + k_{E}^{2} \\mu_{S} \\operatorname{y_{I}}^{2} \\frac{\\partial \\xi}{\\partial y_{E}} + k_{E}^{2} \\mu_{S} \\operatorname{y_{I}}^{2} \\frac{\\partial \\xi}{\\partial y_{I}} + k_{E}^{2} \\operatorname{y_{I}} \\frac{\\partial \\eta_{y_{I}}}{\\partial y_{E}} - k_{E}^{2} \\operatorname{y_{I}} \\frac{\\partial \\xi}{\\partial t} = 0\\,.\\label{eq:d_yIps}\n",
    "\\end{equation}\n",
    "\n",
    "Let's move on to $(y_{E}')^{2}$!\n"
   ]
  },
  {
   "cell_type": "code",
   "execution_count": 14,
   "id": "45479468",
   "metadata": {},
   "outputs": [
    {
     "name": "stdout",
     "output_type": "stream",
     "text": [
      "Det. eq. $(y_{E}')^{2}$:\n",
      "\\begin{equation}\n",
      "\\delta \\frac{\\partial \\xi}{\\partial y_{E}} + \\mu_{E} \\frac{\\partial \\xi}{\\partial y_{E}} + \\frac{d^{2}}{d \\operatorname{y_{E}}^{2}} \\eta_{y_{I}} = 0\\,.\\label{eq:d_yEps}\n",
      "\\end{equation}\n"
     ]
    }
   ],
   "source": [
    "# Exract the first linearised symmetry condition\n",
    "temp_lin_sym = lin_sym.lhs-lin_sym.rhs\n",
    "# Extract the zeroth coefficient of the first linearised symmetry condition\n",
    "temp_det_eq = temp_lin_sym.coeff(Derivative(y_E,t,1)**2)\n",
    "#temp_det_eq = temp_det_eq.coeff(Derivative(y_E,t,1))\n",
    "# Set the remaining derivatives to zero\n",
    "temp_det_eq = temp_det_eq.subs(Derivative(y_I,t,1),0).subs(Derivative(y_E,t,1),0).doit()\n",
    "# Simplify stuff as well\n",
    "#temp_det_eq = expand(temp_det_eq*(k_E**2)*(y_I**2)*(k_I**2))\n",
    "print(\"Det. eq. $(y_{E}')^{2}$:\")\n",
    "temp_str = latex(Eq(temp_det_eq,0),mode='equation').replace(\"{\\\\left(c,\\\\beta,\\\\delta,\\\\epsilon,\\\\mu_{S},\\\\mu_{E},\\\\mu_{I},k_{I},k_{E} \\\\right)}\",\"\").replace(\"{\\\\left(t,\\\\operatorname{y_{I}}{\\\\left(t \\\\right)},\\\\operatorname{y_{E}}{\\\\left(t \\\\right)} \\\\right)}\",\"\").replace(\"{\\\\left(t \\\\right)}\",\"\").replace(\"\\\\left. \\\\frac{\\\\partial}{\\\\partial \\\\xi_{1}} \\\\eta_{yI}{\\\\left(\\\\xi_{1},\\\\operatorname{y_{I}},\\\\operatorname{y_{E}} \\\\right)} \\\\right|_{\\\\substack{ \\\\xi_{1}=t }}\",\"\\\\frac{\\\\mathrm{d}\\\\eta_{y_{I}}}{\\\\mathrm{d}t}\").replace(\"\\\\left. \\\\frac{\\\\partial}{\\\\partial \\\\xi_{1}} \\\\xi{\\\\left(\\\\xi_{1},\\\\operatorname{y_{I}},\\\\operatorname{y_{E}} \\\\right)} \\\\right|_{\\\\substack{ \\\\xi_{1}=t }}\",\"\\\\frac{\\\\mathrm{d}\\\\xi}{\\\\mathrm{d}t}\").replace(\"\\\\eta_{yI}\",\"\\\\eta_{y_{I}}\").replace(\"\\\\eta_{yE}\",\"\\\\eta_{y_{E}}\").replace(\"\\\\left. \\\\frac{\\\\partial^{2}}{\\\\partial \\\\xi_{1}^{2}} \\\\eta_{y_{I}}{\\\\left(\\\\xi_{1},\\\\operatorname{y_{I}},\\\\operatorname{y_{E}} \\\\right)} \\\\right|_{\\\\substack{ \\\\xi_{1}=t }}\",\"\\\\frac{\\\\mathrm{d}^{2}\\\\eta_{y_{I}}}{\\\\mathrm{d}t^{2}}\").replace(\"\\\\left. \\\\frac{\\\\partial}{\\\\partial \\\\xi_{1}} \\\\eta_{y_{E}}{\\\\left(\\\\xi_{1},\\\\operatorname{y_{I}},\\\\operatorname{y_{E}} \\\\right)} \\\\right|_{\\\\substack{ \\\\xi_{1}=t }}\",\"\\\\frac{\\\\mathrm{d}\\\\eta_{y_{E}}}{\\\\mathrm{d}t}\").replace(\"\\\\frac{d}{d \\\\operatorname{y_{I}}} \\\\eta_{y_{I}}\",\"\\\\frac{\\\\mathrm{d}\\\\eta_{y_{I}}}{\\\\mathrm{d}y_{I}}\").replace(\"\\\\begin{equation}\",\"\\\\begin{equation}\\n\").replace(\"\\\\end{equation}\",\"\\\\,.\\\\label{eq:d_yEps}\\n\\\\end{equation}\")\n",
    "temp_str = temp_str.replace(\"\\\\frac{d}{d \\\\operatorname{y_{I}}} \\\\xi\",\"\\\\frac{\\\\mathrm{d}\\\\xi}{\\\\mathrm{d}y_{I}}\").replace(\"\\\\frac{d}{d \\\\operatorname{y_{I}}} \\\\eta_{y_{E}}\",\"\\\\frac{\\\\mathrm{d}\\\\eta_{y_{E}}}{\\\\mathrm{d}y_{I}}\")\n",
    "temp_str = temp_str.replace(\"\\\\left. \\\\frac{\\\\partial^{2}}{\\\\partial \\\\operatorname{y_{I}}\\\\partial \\\\xi_{1}} \\eta_{y_{I}}{\\\\left(\\\\xi_{1},\\\\operatorname{y_{I}},\\\\operatorname{y_{E}} \\\\right)} \\\\right|_{\\\\substack{ \\\\xi_{1}=t }}\",\"\\\\frac{\\\\partial^{2}\\\\eta_{y_{I}}}{\\\\partial t\\\\partial y_{I}}\")\n",
    "temp_str = temp_str.replace(\"\\\\left. \\\\frac{\\\\partial^{2}}{\\\\partial \\\\xi_{1}^{2}} \\\\xi{\\\\left(\\\\xi_{1},\\\\operatorname{y_{I}},\\\\operatorname{y_{E}} \\\\right)} \\\\right|_{\\\\substack{ \\\\xi_{1}=t }}\",\"\\\\frac{\\\\mathrm{d}^{2}\\\\xi}{\\\\mathrm{d}t^{2}}\")\n",
    "temp_str = temp_str.replace(\"\\\\frac{d}{d \\\\operatorname{y_{E}}} \\\\xi\",\"\\\\frac{\\\\mathrm{d}\\\\xi}{\\\\mathrm{d}y_{E}}\")\n",
    "temp_str = temp_str.replace(\"\\\\left. \\\\frac{\\\\partial^{2}}{\\\\partial \\\\operatorname{y_{E}}\\\\partial \\\\xi_{1}} \\\\eta_{y_{I}}{\\\\left(\\\\xi_{1},\\\\operatorname{y_{I}},\\\\operatorname{y_{E}} \\\\right)} \\\\right|_{\\\\substack{ \\\\xi_{1}=t }}\",\"\\\\frac{\\\\partial^{2}\\\\eta_{y_{I}}}{\\\\partial y_{E}\\\\partial t}\")\n",
    "temp_str = temp_str.replace(\"\\\\frac{d}{d \\\\operatorname{y_{E}}} \\\\eta_{y_{I}}\",\"\\\\frac{\\\\mathrm{d}\\\\eta_{y_{I}}}{\\\\mathrm{d}y_{E}}\")\n",
    "temp_str = temp_str.replace(\"\\\\mathrm{d}\",\"\\\\partial \")\n",
    "print(temp_str)\n",
    "# Add our determining equation to our list of determining equations as well\n",
    "det_eq.append((1,Derivative(y_E,t,1)*Derivative(y_E,t,1),Eq(temp_det_eq,0)))"
   ]
  },
  {
   "cell_type": "markdown",
   "id": "f8858de1",
   "metadata": {},
   "source": [
    "Det. eq. $(y_{E}')^{2}$:\n",
    "\\begin{equation}\n",
    "\\delta \\frac{\\partial \\xi}{\\partial y_{E}} + \\mu_{E} \\frac{\\partial \\xi}{\\partial y_{E}} + \\frac{d^{2}}{d \\operatorname{y_{E}}^{2}} \\eta_{y_{I}} = 0\\,.\\label{eq:d_yEps}\n",
    "\\end{equation}\n",
    "\n",
    "Let's move on to $y_{I}'y_{E}'$!"
   ]
  },
  {
   "cell_type": "code",
   "execution_count": 15,
   "id": "ca1db06c",
   "metadata": {},
   "outputs": [
    {
     "name": "stdout",
     "output_type": "stream",
     "text": [
      "Det. eq. $y_{I}'y_{E}'$:\n",
      "\\begin{equation}\n",
      "- \\frac{\\beta \\epsilon k_{E}^{2} \\operatorname{y_{I}}^{2} \\frac{\\partial \\xi}{\\partial y_{E}}}{k_{I}} + \\frac{\\beta k_{E}^{2} \\operatorname{y_{I}}^{2} \\frac{\\partial \\xi}{\\partial y_{E}}}{k_{I}} - \\delta \\epsilon k_{E} k_{I} \\operatorname{y_{E}} \\frac{\\partial \\xi}{\\partial y_{E}} + \\delta \\epsilon k_{E} k_{I} \\operatorname{y_{I}} \\frac{\\partial \\xi}{\\partial y_{E}} + \\delta \\epsilon k_{E} k_{I} \\operatorname{y_{I}} \\frac{\\partial \\xi}{\\partial y_{I}} - \\delta \\epsilon k_{I}^{2} \\operatorname{y_{I}} \\frac{\\partial \\xi}{\\partial y_{I}} + \\delta k_{E} k_{I} \\operatorname{y_{E}} \\frac{\\partial \\xi}{\\partial y_{E}} + \\epsilon k_{E}^{2} \\mu_{I} \\operatorname{y_{I}} \\frac{\\partial \\xi}{\\partial y_{E}} - \\epsilon k_{E}^{2} \\mu_{S} \\operatorname{y_{I}} \\frac{\\partial \\xi}{\\partial y_{E}} + \\epsilon k_{E} k_{I} \\mu_{E} \\operatorname{y_{I}} \\frac{\\partial \\xi}{\\partial y_{E}} + \\epsilon k_{E} k_{I} \\mu_{E} \\operatorname{y_{I}} \\frac{\\partial \\xi}{\\partial y_{I}} + 2 \\epsilon k_{E} k_{I} \\operatorname{y_{I}} \\frac{\\partial^{2}\\eta_{y_{I}}}{\\partial y_{I}\\partial y_{E}} - 2 \\epsilon k_{E} k_{I} \\operatorname{y_{I}} \\frac{\\partial^{2}\\xi}{\\partial t\\partial y_{E}} - 2 \\epsilon k_{E} k_{I} \\frac{\\partial \\eta_{y_{I}}}{\\partial y_{E}} - k_{E}^{2} \\mu_{I} \\operatorname{y_{I}} \\frac{\\partial \\xi}{\\partial y_{E}} + k_{E}^{2} \\mu_{S} \\operatorname{y_{I}} \\frac{\\partial \\xi}{\\partial y_{E}} = 0\\,.\\label{eq:d_yIpyEp}\n",
      "\\end{equation}\n"
     ]
    }
   ],
   "source": [
    "# Exract the first linearised symmetry condition\n",
    "temp_lin_sym = lin_sym.lhs-lin_sym.rhs\n",
    "# Extract the zeroth coefficient of the first linearised symmetry condition\n",
    "temp_det_eq = temp_lin_sym.coeff(Derivative(y_E,t,1)*Derivative(y_I,t,1))\n",
    "#temp_det_eq = temp_det_eq.coeff(Derivative(y_I,t,1))\n",
    "# Set the remaining derivatives to zero\n",
    "temp_det_eq = temp_det_eq.subs(Derivative(y_I,t,1),0).subs(Derivative(y_E,t,1),0).doit()\n",
    "# Simplify stuff as well\n",
    "temp_det_eq = expand(temp_det_eq*(k_E)*(y_I)*(k_I)*epsilon)\n",
    "print(\"Det. eq. $y_{I}'y_{E}'$:\")\n",
    "temp_str = latex(Eq(temp_det_eq,0),mode='equation').replace(\"{\\\\left(c,\\\\beta,\\\\delta,\\\\epsilon,\\\\mu_{S},\\\\mu_{E},\\\\mu_{I},k_{I},k_{E} \\\\right)}\",\"\").replace(\"{\\\\left(t,\\\\operatorname{y_{I}}{\\\\left(t \\\\right)},\\\\operatorname{y_{E}}{\\\\left(t \\\\right)} \\\\right)}\",\"\").replace(\"{\\\\left(t \\\\right)}\",\"\").replace(\"\\\\left. \\\\frac{\\\\partial}{\\\\partial \\\\xi_{1}} \\\\eta_{yI}{\\\\left(\\\\xi_{1},\\\\operatorname{y_{I}},\\\\operatorname{y_{E}} \\\\right)} \\\\right|_{\\\\substack{ \\\\xi_{1}=t }}\",\"\\\\frac{\\\\mathrm{d}\\\\eta_{y_{I}}}{\\\\mathrm{d}t}\").replace(\"\\\\left. \\\\frac{\\\\partial}{\\\\partial \\\\xi_{1}} \\\\xi{\\\\left(\\\\xi_{1},\\\\operatorname{y_{I}},\\\\operatorname{y_{E}} \\\\right)} \\\\right|_{\\\\substack{ \\\\xi_{1}=t }}\",\"\\\\frac{\\\\mathrm{d}\\\\xi}{\\\\mathrm{d}t}\").replace(\"\\\\eta_{yI}\",\"\\\\eta_{y_{I}}\").replace(\"\\\\eta_{yE}\",\"\\\\eta_{y_{E}}\").replace(\"\\\\left. \\\\frac{\\\\partial^{2}}{\\\\partial \\\\xi_{1}^{2}} \\\\eta_{y_{I}}{\\\\left(\\\\xi_{1},\\\\operatorname{y_{I}},\\\\operatorname{y_{E}} \\\\right)} \\\\right|_{\\\\substack{ \\\\xi_{1}=t }}\",\"\\\\frac{\\\\mathrm{d}^{2}\\\\eta_{y_{I}}}{\\\\mathrm{d}t^{2}}\").replace(\"\\\\left. \\\\frac{\\\\partial}{\\\\partial \\\\xi_{1}} \\\\eta_{y_{E}}{\\\\left(\\\\xi_{1},\\\\operatorname{y_{I}},\\\\operatorname{y_{E}} \\\\right)} \\\\right|_{\\\\substack{ \\\\xi_{1}=t }}\",\"\\\\frac{\\\\mathrm{d}\\\\eta_{y_{E}}}{\\\\mathrm{d}t}\").replace(\"\\\\frac{d}{d \\\\operatorname{y_{I}}} \\\\eta_{y_{I}}\",\"\\\\frac{\\\\mathrm{d}\\\\eta_{y_{I}}}{\\\\mathrm{d}y_{I}}\").replace(\"\\\\begin{equation}\",\"\\\\begin{equation}\\n\").replace(\"\\\\end{equation}\",\"\\\\,.\\\\label{eq:d_yIpyEp}\\n\\\\end{equation}\")\n",
    "temp_str = temp_str.replace(\"\\\\frac{d}{d \\\\operatorname{y_{I}}} \\\\xi\",\"\\\\frac{\\\\mathrm{d}\\\\xi}{\\\\mathrm{d}y_{I}}\").replace(\"\\\\frac{d}{d \\\\operatorname{y_{I}}} \\\\eta_{y_{E}}\",\"\\\\frac{\\\\mathrm{d}\\\\eta_{y_{E}}}{\\\\mathrm{d}y_{I}}\")\n",
    "temp_str = temp_str.replace(\"\\\\left. \\\\frac{\\\\partial^{2}}{\\\\partial \\\\operatorname{y_{I}}\\\\partial \\\\xi_{1}} \\eta_{y_{I}}{\\\\left(\\\\xi_{1},\\\\operatorname{y_{I}},\\\\operatorname{y_{E}} \\\\right)} \\\\right|_{\\\\substack{ \\\\xi_{1}=t }}\",\"\\\\frac{\\\\partial^{2}\\\\eta_{y_{I}}}{\\\\partial t\\\\partial y_{I}}\")\n",
    "temp_str = temp_str.replace(\"\\\\left. \\\\frac{\\\\partial^{2}}{\\\\partial \\\\xi_{1}^{2}} \\\\xi{\\\\left(\\\\xi_{1},\\\\operatorname{y_{I}},\\\\operatorname{y_{E}} \\\\right)} \\\\right|_{\\\\substack{ \\\\xi_{1}=t }}\",\"\\\\frac{\\\\mathrm{d}^{2}\\\\xi}{\\\\mathrm{d}t^{2}}\")\n",
    "temp_str = temp_str.replace(\"\\\\frac{d}{d \\\\operatorname{y_{E}}} \\\\xi\",\"\\\\frac{\\\\mathrm{d}\\\\xi}{\\\\mathrm{d}y_{E}}\")\n",
    "temp_str = temp_str.replace(\"\\\\left. \\\\frac{\\\\partial^{2}}{\\\\partial \\\\operatorname{y_{E}}\\\\partial \\\\xi_{1}} \\\\eta_{y_{I}}{\\\\left(\\\\xi_{1},\\\\operatorname{y_{I}},\\\\operatorname{y_{E}} \\\\right)} \\\\right|_{\\\\substack{ \\\\xi_{1}=t }}\",\"\\\\frac{\\\\partial^{2}\\\\eta_{y_{I}}}{\\\\partial y_{E}\\\\partial t}\")\n",
    "temp_str = temp_str.replace(\"\\\\frac{d}{d \\\\operatorname{y_{E}}} \\\\eta_{y_{I}}\",\"\\\\frac{\\\\mathrm{d}\\\\eta_{y_{I}}}{\\\\mathrm{d}y_{E}}\")\n",
    "temp_str = temp_str.replace(\"\\\\left. \\\\frac{\\\\partial^{2}}{\\\\partial \\\\operatorname{y_{E}}\\\\partial \\\\xi_{1}} \\\\xi{\\\\left(\\\\xi_{1},\\\\operatorname{y_{I}},\\\\operatorname{y_{E}} \\\\right)} \\\\right|_{\\\\substack{ \\\\xi_{1}=t }}\",\"\\\\frac{\\\\partial^{2}\\\\xi}{\\\\partial t\\\\partial y_{E}}\")\n",
    "temp_str = temp_str.replace(\"\\\\frac{d^{2}}{d \\\\operatorname{y_{I}}d \\\\operatorname{y_{E}}} \\\\eta_{y_{I}}\",\"\\\\frac{\\\\partial^{2}\\\\eta_{y_{I}}}{\\\\partial y_{I}\\\\partial y_{E}}\")\n",
    "temp_str = temp_str.replace(\"\\\\mathrm{d}\",\"\\\\partial \")\n",
    "print(temp_str)\n",
    "# Add our determining equation to our list of determining equations as well\n",
    "det_eq.append((1,Derivative(y_I,t,1)*Derivative(y_E,t,1),Eq(temp_det_eq,0)))"
   ]
  },
  {
   "cell_type": "markdown",
   "id": "cf65493e",
   "metadata": {},
   "source": [
    "Det. eq. $y_{I}'y_{E}'$:\n",
    "\\begin{equation}\n",
    "- \\frac{\\beta \\epsilon k_{E}^{2} \\operatorname{y_{I}}^{2} \\frac{\\partial \\xi}{\\partial y_{E}}}{k_{I}} + \\frac{\\beta k_{E}^{2} \\operatorname{y_{I}}^{2} \\frac{\\partial \\xi}{\\partial y_{E}}}{k_{I}} - \\delta \\epsilon k_{E} k_{I} \\operatorname{y_{E}} \\frac{\\partial \\xi}{\\partial y_{E}} + \\delta \\epsilon k_{E} k_{I} \\operatorname{y_{I}} \\frac{\\partial \\xi}{\\partial y_{E}} + \\delta \\epsilon k_{E} k_{I} \\operatorname{y_{I}} \\frac{\\partial \\xi}{\\partial y_{I}} - \\delta \\epsilon k_{I}^{2} \\operatorname{y_{I}} \\frac{\\partial \\xi}{\\partial y_{I}} + \\delta k_{E} k_{I} \\operatorname{y_{E}} \\frac{\\partial \\xi}{\\partial y_{E}} + \\epsilon k_{E}^{2} \\mu_{I} \\operatorname{y_{I}} \\frac{\\partial \\xi}{\\partial y_{E}} - \\epsilon k_{E}^{2} \\mu_{S} \\operatorname{y_{I}} \\frac{\\partial \\xi}{\\partial y_{E}} + \\epsilon k_{E} k_{I} \\mu_{E} \\operatorname{y_{I}} \\frac{\\partial \\xi}{\\partial y_{E}} + \\epsilon k_{E} k_{I} \\mu_{E} \\operatorname{y_{I}} \\frac{\\partial \\xi}{\\partial y_{I}} + 2 \\epsilon k_{E} k_{I} \\operatorname{y_{I}} \\frac{\\partial^{2}\\eta_{y_{I}}}{\\partial y_{I}\\partial y_{E}} - 2 \\epsilon k_{E} k_{I} \\operatorname{y_{I}} \\frac{\\partial^{2}\\xi}{\\partial t\\partial y_{E}} - 2 \\epsilon k_{E} k_{I} \\frac{\\partial \\eta_{y_{I}}}{\\partial y_{E}} - k_{E}^{2} \\mu_{I} \\operatorname{y_{I}} \\frac{\\partial \\xi}{\\partial y_{E}} + k_{E}^{2} \\mu_{S} \\operatorname{y_{I}} \\frac{\\partial \\xi}{\\partial y_{E}} = 0\\,.\\label{eq:d_yIpyEp}\n",
    "\\end{equation}\n",
    "\n",
    "Ok, now we move on to the cubic polynomials. Let's start with $(y_{E}')^{3}$!"
   ]
  },
  {
   "cell_type": "code",
   "execution_count": 16,
   "id": "14f0a883",
   "metadata": {},
   "outputs": [
    {
     "name": "stdout",
     "output_type": "stream",
     "text": [
      "Det. eq. $(y_{E}')^{3}$:\n",
      "\\begin{equation}\n",
      "\\text{True}\\,.\\label{eq:d_yEpc}\n",
      "\\end{equation}\n"
     ]
    }
   ],
   "source": [
    "# Exract the first linearised symmetry condition\n",
    "temp_lin_sym = lin_sym.lhs-lin_sym.rhs\n",
    "# Extract the zeroth coefficient of the first linearised symmetry condition\n",
    "temp_det_eq = temp_lin_sym.coeff((Derivative(y_E,t,1)**3))\n",
    "#temp_det_eq = temp_det_eq.coeff(Derivative(y_E,t,1))\n",
    "#temp_det_eq = temp_det_eq.coeff(Derivative(y_E,t,1))\n",
    "# Set the remaining derivatives to zero\n",
    "temp_det_eq = temp_det_eq.subs(Derivative(y_I,t,1),0).subs(Derivative(y_E,t,1),0).doit()\n",
    "# Simplify stuff as well\n",
    "#temp_det_eq = expand(temp_det_eq*(k_E**2)*(y_I**2)*(k_I**2))\n",
    "print(\"Det. eq. $(y_{E}')^{3}$:\")\n",
    "temp_str = latex(Eq(temp_det_eq,0),mode='equation').replace(\"{\\\\left(c,\\\\beta,\\\\delta,\\\\epsilon,\\\\mu_{S},\\\\mu_{E},\\\\mu_{I},k_{I},k_{E} \\\\right)}\",\"\").replace(\"{\\\\left(t,\\\\operatorname{y_{I}}{\\\\left(t \\\\right)},\\\\operatorname{y_{E}}{\\\\left(t \\\\right)} \\\\right)}\",\"\").replace(\"{\\\\left(t \\\\right)}\",\"\").replace(\"\\\\left. \\\\frac{\\\\partial}{\\\\partial \\\\xi_{1}} \\\\eta_{yI}{\\\\left(\\\\xi_{1},\\\\operatorname{y_{I}},\\\\operatorname{y_{E}} \\\\right)} \\\\right|_{\\\\substack{ \\\\xi_{1}=t }}\",\"\\\\frac{\\\\mathrm{d}\\\\eta_{y_{I}}}{\\\\mathrm{d}t}\").replace(\"\\\\left. \\\\frac{\\\\partial}{\\\\partial \\\\xi_{1}} \\\\xi{\\\\left(\\\\xi_{1},\\\\operatorname{y_{I}},\\\\operatorname{y_{E}} \\\\right)} \\\\right|_{\\\\substack{ \\\\xi_{1}=t }}\",\"\\\\frac{\\\\mathrm{d}\\\\xi}{\\\\mathrm{d}t}\").replace(\"\\\\eta_{yI}\",\"\\\\eta_{y_{I}}\").replace(\"\\\\eta_{yE}\",\"\\\\eta_{y_{E}}\").replace(\"\\\\left. \\\\frac{\\\\partial^{2}}{\\\\partial \\\\xi_{1}^{2}} \\\\eta_{y_{I}}{\\\\left(\\\\xi_{1},\\\\operatorname{y_{I}},\\\\operatorname{y_{E}} \\\\right)} \\\\right|_{\\\\substack{ \\\\xi_{1}=t }}\",\"\\\\frac{\\\\mathrm{d}^{2}\\\\eta_{y_{I}}}{\\\\mathrm{d}t^{2}}\").replace(\"\\\\left. \\\\frac{\\\\partial}{\\\\partial \\\\xi_{1}} \\\\eta_{y_{E}}{\\\\left(\\\\xi_{1},\\\\operatorname{y_{I}},\\\\operatorname{y_{E}} \\\\right)} \\\\right|_{\\\\substack{ \\\\xi_{1}=t }}\",\"\\\\frac{\\\\mathrm{d}\\\\eta_{y_{E}}}{\\\\mathrm{d}t}\").replace(\"\\\\frac{d}{d \\\\operatorname{y_{I}}} \\\\eta_{y_{I}}\",\"\\\\frac{\\\\mathrm{d}\\\\eta_{y_{I}}}{\\\\mathrm{d}y_{I}}\").replace(\"\\\\begin{equation}\",\"\\\\begin{equation}\\n\").replace(\"\\\\end{equation}\",\"\\\\,.\\\\label{eq:d_yEpc}\\n\\\\end{equation}\")\n",
    "temp_str = temp_str.replace(\"\\\\frac{d}{d \\\\operatorname{y_{I}}} \\\\xi\",\"\\\\frac{\\\\mathrm{d}\\\\xi}{\\\\mathrm{d}y_{I}}\").replace(\"\\\\frac{d}{d \\\\operatorname{y_{I}}} \\\\eta_{y_{E}}\",\"\\\\frac{\\\\mathrm{d}\\\\eta_{y_{E}}}{\\\\mathrm{d}y_{I}}\")\n",
    "temp_str = temp_str.replace(\"\\\\left. \\\\frac{\\\\partial^{2}}{\\\\partial \\\\operatorname{y_{I}}\\\\partial \\\\xi_{1}} \\eta_{y_{I}}{\\\\left(\\\\xi_{1},\\\\operatorname{y_{I}},\\\\operatorname{y_{E}} \\\\right)} \\\\right|_{\\\\substack{ \\\\xi_{1}=t }}\",\"\\\\frac{\\\\partial^{2}\\\\eta_{y_{I}}}{\\\\partial t\\\\partial y_{I}}\")\n",
    "temp_str = temp_str.replace(\"\\\\left. \\\\frac{\\\\partial^{2}}{\\\\partial \\\\xi_{1}^{2}} \\\\xi{\\\\left(\\\\xi_{1},\\\\operatorname{y_{I}},\\\\operatorname{y_{E}} \\\\right)} \\\\right|_{\\\\substack{ \\\\xi_{1}=t }}\",\"\\\\frac{\\\\mathrm{d}^{2}\\\\xi}{\\\\mathrm{d}t^{2}}\")\n",
    "temp_str = temp_str.replace(\"\\\\frac{d}{d \\\\operatorname{y_{E}}} \\\\xi\",\"\\\\frac{\\\\mathrm{d}\\\\xi}{\\\\mathrm{d}y_{E}}\")\n",
    "temp_str = temp_str.replace(\"\\\\left. \\\\frac{\\\\partial^{2}}{\\\\partial \\\\operatorname{y_{E}}\\\\partial \\\\xi_{1}} \\\\eta_{y_{I}}{\\\\left(\\\\xi_{1},\\\\operatorname{y_{I}},\\\\operatorname{y_{E}} \\\\right)} \\\\right|_{\\\\substack{ \\\\xi_{1}=t }}\",\"\\\\frac{\\\\partial^{2}\\\\eta_{y_{I}}}{\\\\partial y_{E}\\\\partial t}\")\n",
    "temp_str = temp_str.replace(\"\\\\frac{d}{d \\\\operatorname{y_{E}}} \\\\eta_{y_{I}}\",\"\\\\frac{\\\\mathrm{d}\\\\eta_{y_{I}}}{\\\\mathrm{d}y_{E}}\")\n",
    "temp_str = temp_str.replace(\"\\\\left. \\\\frac{\\\\partial^{2}}{\\\\partial \\\\operatorname{y_{E}}\\\\partial \\\\xi_{1}} \\\\xi{\\\\left(\\\\xi_{1},\\\\operatorname{y_{I}},\\\\operatorname{y_{E}} \\\\right)} \\\\right|_{\\\\substack{ \\\\xi_{1}=t }}\",\"\\\\frac{\\\\partial^{2}\\\\xi}{\\\\partial t\\\\partial y_{E}}\")\n",
    "temp_str = temp_str.replace(\"\\\\frac{d^{2}}{d \\\\operatorname{y_{I}}d \\\\operatorname{y_{E}}} \\\\eta_{y_{I}}\",\"\\\\frac{\\\\partial^{2}\\\\eta_{y_{I}}}{\\\\partial y_{I}\\\\partial y_{E}}\")\n",
    "temp_str = temp_str.replace(\"\\\\mathrm{d}\",\"\\\\partial \")\n",
    "print(temp_str)\n",
    "# Add our determining equation to our list of determining equations as well\n",
    "#det_eq.append((1,Derivative(y_E,t,1)*Derivative(y_E,t,1)*Derivative(y_E,t,1),Eq(temp_det_eq,0)))"
   ]
  },
  {
   "cell_type": "markdown",
   "id": "2ba1e5e4",
   "metadata": {},
   "source": [
    "Det. eq. $(y_{E}')^{3}$:\n",
    "\\begin{equation}\n",
    "\\text{True}\\,.\\label{eq:d_yEpc}\n",
    "\\end{equation}\n",
    "\n",
    "\n",
    "\n",
    "Let's move on to $y_{I}'(y_{E}')^{2}$!"
   ]
  },
  {
   "cell_type": "code",
   "execution_count": 17,
   "id": "526fc19b",
   "metadata": {},
   "outputs": [
    {
     "name": "stdout",
     "output_type": "stream",
     "text": [
      "Det. eq. $y_{I}'(y_{E}')^{2}$:\n",
      "\\begin{equation}\n",
      "- \\frac{d^{2}}{d \\operatorname{y_{E}}^{2}} \\xi = 0\\,.\\label{eq:d_yIpyEps}\n",
      "\\end{equation}\n"
     ]
    }
   ],
   "source": [
    "# Exract the first linearised symmetry condition\n",
    "temp_lin_sym = lin_sym.lhs-lin_sym.rhs\n",
    "# Extract the zeroth coefficient of the first linearised symmetry condition\n",
    "temp_det_eq = temp_lin_sym.coeff((Derivative(y_E,t,1)**2)*Derivative(y_I,t,1))\n",
    "#temp_det_eq = temp_det_eq.coeff(Derivative(y_E,t,1))\n",
    "#temp_det_eq = temp_det_eq.coeff(Derivative(y_I,t,1))\n",
    "# Set the remaining derivatives to zero\n",
    "temp_det_eq = temp_det_eq.subs(Derivative(y_I,t,1),0).subs(Derivative(y_E,t,1),0).doit()\n",
    "# Simplify stuff as well\n",
    "#temp_det_eq = expand(temp_det_eq*(k_E**2)*(y_I**2)*(k_I**2))\n",
    "print(\"Det. eq. $y_{I}'(y_{E}')^{2}$:\")\n",
    "temp_str = latex(Eq(temp_det_eq,0),mode='equation').replace(\"{\\\\left(c,\\\\beta,\\\\delta,\\\\epsilon,\\\\mu_{S},\\\\mu_{E},\\\\mu_{I},k_{I},k_{E} \\\\right)}\",\"\").replace(\"{\\\\left(t,\\\\operatorname{y_{I}}{\\\\left(t \\\\right)},\\\\operatorname{y_{E}}{\\\\left(t \\\\right)} \\\\right)}\",\"\").replace(\"{\\\\left(t \\\\right)}\",\"\").replace(\"\\\\left. \\\\frac{\\\\partial}{\\\\partial \\\\xi_{1}} \\\\eta_{yI}{\\\\left(\\\\xi_{1},\\\\operatorname{y_{I}},\\\\operatorname{y_{E}} \\\\right)} \\\\right|_{\\\\substack{ \\\\xi_{1}=t }}\",\"\\\\frac{\\\\mathrm{d}\\\\eta_{y_{I}}}{\\\\mathrm{d}t}\").replace(\"\\\\left. \\\\frac{\\\\partial}{\\\\partial \\\\xi_{1}} \\\\xi{\\\\left(\\\\xi_{1},\\\\operatorname{y_{I}},\\\\operatorname{y_{E}} \\\\right)} \\\\right|_{\\\\substack{ \\\\xi_{1}=t }}\",\"\\\\frac{\\\\mathrm{d}\\\\xi}{\\\\mathrm{d}t}\").replace(\"\\\\eta_{yI}\",\"\\\\eta_{y_{I}}\").replace(\"\\\\eta_{yE}\",\"\\\\eta_{y_{E}}\").replace(\"\\\\left. \\\\frac{\\\\partial^{2}}{\\\\partial \\\\xi_{1}^{2}} \\\\eta_{y_{I}}{\\\\left(\\\\xi_{1},\\\\operatorname{y_{I}},\\\\operatorname{y_{E}} \\\\right)} \\\\right|_{\\\\substack{ \\\\xi_{1}=t }}\",\"\\\\frac{\\\\mathrm{d}^{2}\\\\eta_{y_{I}}}{\\\\mathrm{d}t^{2}}\").replace(\"\\\\left. \\\\frac{\\\\partial}{\\\\partial \\\\xi_{1}} \\\\eta_{y_{E}}{\\\\left(\\\\xi_{1},\\\\operatorname{y_{I}},\\\\operatorname{y_{E}} \\\\right)} \\\\right|_{\\\\substack{ \\\\xi_{1}=t }}\",\"\\\\frac{\\\\mathrm{d}\\\\eta_{y_{E}}}{\\\\mathrm{d}t}\").replace(\"\\\\frac{d}{d \\\\operatorname{y_{I}}} \\\\eta_{y_{I}}\",\"\\\\frac{\\\\mathrm{d}\\\\eta_{y_{I}}}{\\\\mathrm{d}y_{I}}\").replace(\"\\\\begin{equation}\",\"\\\\begin{equation}\\n\").replace(\"\\\\end{equation}\",\"\\\\,.\\\\label{eq:d_yIpyEps}\\n\\\\end{equation}\")\n",
    "temp_str = temp_str.replace(\"\\\\frac{d}{d \\\\operatorname{y_{I}}} \\\\xi\",\"\\\\frac{\\\\mathrm{d}\\\\xi}{\\\\mathrm{d}y_{I}}\").replace(\"\\\\frac{d}{d \\\\operatorname{y_{I}}} \\\\eta_{y_{E}}\",\"\\\\frac{\\\\mathrm{d}\\\\eta_{y_{E}}}{\\\\mathrm{d}y_{I}}\")\n",
    "temp_str = temp_str.replace(\"\\\\left. \\\\frac{\\\\partial^{2}}{\\\\partial \\\\operatorname{y_{I}}\\\\partial \\\\xi_{1}} \\eta_{y_{I}}{\\\\left(\\\\xi_{1},\\\\operatorname{y_{I}},\\\\operatorname{y_{E}} \\\\right)} \\\\right|_{\\\\substack{ \\\\xi_{1}=t }}\",\"\\\\frac{\\\\partial^{2}\\\\eta_{y_{I}}}{\\\\partial t\\\\partial y_{I}}\")\n",
    "temp_str = temp_str.replace(\"\\\\left. \\\\frac{\\\\partial^{2}}{\\\\partial \\\\xi_{1}^{2}} \\\\xi{\\\\left(\\\\xi_{1},\\\\operatorname{y_{I}},\\\\operatorname{y_{E}} \\\\right)} \\\\right|_{\\\\substack{ \\\\xi_{1}=t }}\",\"\\\\frac{\\\\mathrm{d}^{2}\\\\xi}{\\\\mathrm{d}t^{2}}\")\n",
    "temp_str = temp_str.replace(\"\\\\frac{d}{d \\\\operatorname{y_{E}}} \\\\xi\",\"\\\\frac{\\\\mathrm{d}\\\\xi}{\\\\mathrm{d}y_{E}}\")\n",
    "temp_str = temp_str.replace(\"\\\\left. \\\\frac{\\\\partial^{2}}{\\\\partial \\\\operatorname{y_{E}}\\\\partial \\\\xi_{1}} \\\\eta_{y_{I}}{\\\\left(\\\\xi_{1},\\\\operatorname{y_{I}},\\\\operatorname{y_{E}} \\\\right)} \\\\right|_{\\\\substack{ \\\\xi_{1}=t }}\",\"\\\\frac{\\\\partial^{2}\\\\eta_{y_{I}}}{\\\\partial y_{E}\\\\partial t}\")\n",
    "temp_str = temp_str.replace(\"\\\\frac{d}{d \\\\operatorname{y_{E}}} \\\\eta_{y_{I}}\",\"\\\\frac{\\\\mathrm{d}\\\\eta_{y_{I}}}{\\\\mathrm{d}y_{E}}\")\n",
    "temp_str = temp_str.replace(\"\\\\left. \\\\frac{\\\\partial^{2}}{\\\\partial \\\\operatorname{y_{E}}\\\\partial \\\\xi_{1}} \\\\xi{\\\\left(\\\\xi_{1},\\\\operatorname{y_{I}},\\\\operatorname{y_{E}} \\\\right)} \\\\right|_{\\\\substack{ \\\\xi_{1}=t }}\",\"\\\\frac{\\\\partial^{2}\\\\xi}{\\\\partial t\\\\partial y_{E}}\")\n",
    "temp_str = temp_str.replace(\"\\\\frac{d^{2}}{d \\\\operatorname{y_{I}}d \\\\operatorname{y_{E}}} \\\\eta_{y_{I}}\",\"\\\\frac{\\\\partial^{2}\\\\eta_{y_{I}}}{\\\\partial y_{I}\\\\partial y_{E}}\")\n",
    "temp_str = temp_str.replace(\"\\\\mathrm{d}\",\"\\\\partial \")\n",
    "print(temp_str)\n",
    "# Add our determining equation to our list of determining equations as well\n",
    "det_eq.append((1,(Derivative(y_E,t,1)**2)*Derivative(y_I,t,1),Eq(temp_det_eq,0)))"
   ]
  },
  {
   "cell_type": "markdown",
   "id": "107616c9",
   "metadata": {},
   "source": [
    "Det. eq. $y_{I}'(y_{E}')^{2}$:\n",
    "\\begin{equation}\n",
    "- \\frac{d^{2}}{d \\operatorname{y_{E}}^{2}} \\xi = 0\\,.\\label{eq:d_yIpyEps}\n",
    "\\end{equation}\n"
   ]
  },
  {
   "cell_type": "code",
   "execution_count": 18,
   "id": "d5c52633",
   "metadata": {},
   "outputs": [
    {
     "name": "stdout",
     "output_type": "stream",
     "text": [
      "Det. eq. $y_{E}'(y_{I}')^{2}$:\n",
      "\\begin{equation}\n",
      "\\frac{k_{E} \\frac{\\partial \\xi}{\\partial y_{E}}}{k_{I} \\operatorname{y_{I}}} - 2 \\frac{d^{2}}{d \\operatorname{y_{I}}d \\operatorname{y_{E}}} \\xi + \\frac{\\frac{\\partial \\xi}{\\partial y_{E}}}{\\operatorname{y_{I}}} - \\frac{k_{E} \\frac{\\partial \\xi}{\\partial y_{E}}}{\\epsilon k_{I} \\operatorname{y_{I}}} = 0\\,.\\label{eq:d_yEpyIps}\n",
      "\\end{equation}\n"
     ]
    }
   ],
   "source": [
    "# Exract the first linearised symmetry condition\n",
    "temp_lin_sym = lin_sym.lhs-lin_sym.rhs\n",
    "# Extract the zeroth coefficient of the first linearised symmetry condition\n",
    "temp_det_eq = temp_lin_sym.coeff(Derivative(y_E,t,1)*(Derivative(y_I,t,1)**2))\n",
    "#temp_det_eq = temp_det_eq.coeff(Derivative(y_I,t,1))\n",
    "#temp_det_eq = temp_det_eq.coeff(Derivative(y_I,t,1))\n",
    "# Set the remaining derivatives to zero\n",
    "temp_det_eq = temp_det_eq.subs(Derivative(y_I,t,1),0).subs(Derivative(y_E,t,1),0).doit()\n",
    "# Simplify stuff as well\n",
    "#temp_det_eq = expand(temp_det_eq*(k_E**2)*(y_I**2)*(k_I**2))\n",
    "print(\"Det. eq. $y_{E}'(y_{I}')^{2}$:\")\n",
    "temp_str = latex(Eq(temp_det_eq,0),mode='equation').replace(\"{\\\\left(c,\\\\beta,\\\\delta,\\\\epsilon,\\\\mu_{S},\\\\mu_{E},\\\\mu_{I},k_{I},k_{E} \\\\right)}\",\"\").replace(\"{\\\\left(t,\\\\operatorname{y_{I}}{\\\\left(t \\\\right)},\\\\operatorname{y_{E}}{\\\\left(t \\\\right)} \\\\right)}\",\"\").replace(\"{\\\\left(t \\\\right)}\",\"\").replace(\"\\\\left. \\\\frac{\\\\partial}{\\\\partial \\\\xi_{1}} \\\\eta_{yI}{\\\\left(\\\\xi_{1},\\\\operatorname{y_{I}},\\\\operatorname{y_{E}} \\\\right)} \\\\right|_{\\\\substack{ \\\\xi_{1}=t }}\",\"\\\\frac{\\\\mathrm{d}\\\\eta_{y_{I}}}{\\\\mathrm{d}t}\").replace(\"\\\\left. \\\\frac{\\\\partial}{\\\\partial \\\\xi_{1}} \\\\xi{\\\\left(\\\\xi_{1},\\\\operatorname{y_{I}},\\\\operatorname{y_{E}} \\\\right)} \\\\right|_{\\\\substack{ \\\\xi_{1}=t }}\",\"\\\\frac{\\\\mathrm{d}\\\\xi}{\\\\mathrm{d}t}\").replace(\"\\\\eta_{yI}\",\"\\\\eta_{y_{I}}\").replace(\"\\\\eta_{yE}\",\"\\\\eta_{y_{E}}\").replace(\"\\\\left. \\\\frac{\\\\partial^{2}}{\\\\partial \\\\xi_{1}^{2}} \\\\eta_{y_{I}}{\\\\left(\\\\xi_{1},\\\\operatorname{y_{I}},\\\\operatorname{y_{E}} \\\\right)} \\\\right|_{\\\\substack{ \\\\xi_{1}=t }}\",\"\\\\frac{\\\\mathrm{d}^{2}\\\\eta_{y_{I}}}{\\\\mathrm{d}t^{2}}\").replace(\"\\\\left. \\\\frac{\\\\partial}{\\\\partial \\\\xi_{1}} \\\\eta_{y_{E}}{\\\\left(\\\\xi_{1},\\\\operatorname{y_{I}},\\\\operatorname{y_{E}} \\\\right)} \\\\right|_{\\\\substack{ \\\\xi_{1}=t }}\",\"\\\\frac{\\\\mathrm{d}\\\\eta_{y_{E}}}{\\\\mathrm{d}t}\").replace(\"\\\\frac{d}{d \\\\operatorname{y_{I}}} \\\\eta_{y_{I}}\",\"\\\\frac{\\\\mathrm{d}\\\\eta_{y_{I}}}{\\\\mathrm{d}y_{I}}\").replace(\"\\\\begin{equation}\",\"\\\\begin{equation}\\n\").replace(\"\\\\end{equation}\",\"\\\\,.\\\\label{eq:d_yEpyIps}\\n\\\\end{equation}\")\n",
    "temp_str = temp_str.replace(\"\\\\frac{d}{d \\\\operatorname{y_{I}}} \\\\xi\",\"\\\\frac{\\\\mathrm{d}\\\\xi}{\\\\mathrm{d}y_{I}}\").replace(\"\\\\frac{d}{d \\\\operatorname{y_{I}}} \\\\eta_{y_{E}}\",\"\\\\frac{\\\\mathrm{d}\\\\eta_{y_{E}}}{\\\\mathrm{d}y_{I}}\")\n",
    "temp_str = temp_str.replace(\"\\\\left. \\\\frac{\\\\partial^{2}}{\\\\partial \\\\operatorname{y_{I}}\\\\partial \\\\xi_{1}} \\eta_{y_{I}}{\\\\left(\\\\xi_{1},\\\\operatorname{y_{I}},\\\\operatorname{y_{E}} \\\\right)} \\\\right|_{\\\\substack{ \\\\xi_{1}=t }}\",\"\\\\frac{\\\\partial^{2}\\\\eta_{y_{I}}}{\\\\partial t\\\\partial y_{I}}\")\n",
    "temp_str = temp_str.replace(\"\\\\left. \\\\frac{\\\\partial^{2}}{\\\\partial \\\\xi_{1}^{2}} \\\\xi{\\\\left(\\\\xi_{1},\\\\operatorname{y_{I}},\\\\operatorname{y_{E}} \\\\right)} \\\\right|_{\\\\substack{ \\\\xi_{1}=t }}\",\"\\\\frac{\\\\mathrm{d}^{2}\\\\xi}{\\\\mathrm{d}t^{2}}\")\n",
    "temp_str = temp_str.replace(\"\\\\frac{d}{d \\\\operatorname{y_{E}}} \\\\xi\",\"\\\\frac{\\\\mathrm{d}\\\\xi}{\\\\mathrm{d}y_{E}}\")\n",
    "temp_str = temp_str.replace(\"\\\\left. \\\\frac{\\\\partial^{2}}{\\\\partial \\\\operatorname{y_{E}}\\\\partial \\\\xi_{1}} \\\\eta_{y_{I}}{\\\\left(\\\\xi_{1},\\\\operatorname{y_{I}},\\\\operatorname{y_{E}} \\\\right)} \\\\right|_{\\\\substack{ \\\\xi_{1}=t }}\",\"\\\\frac{\\\\partial^{2}\\\\eta_{y_{I}}}{\\\\partial y_{E}\\\\partial t}\")\n",
    "temp_str = temp_str.replace(\"\\\\frac{d}{d \\\\operatorname{y_{E}}} \\\\eta_{y_{I}}\",\"\\\\frac{\\\\mathrm{d}\\\\eta_{y_{I}}}{\\\\mathrm{d}y_{E}}\")\n",
    "temp_str = temp_str.replace(\"\\\\left. \\\\frac{\\\\partial^{2}}{\\\\partial \\\\operatorname{y_{E}}\\\\partial \\\\xi_{1}} \\\\xi{\\\\left(\\\\xi_{1},\\\\operatorname{y_{I}},\\\\operatorname{y_{E}} \\\\right)} \\\\right|_{\\\\substack{ \\\\xi_{1}=t }}\",\"\\\\frac{\\\\partial^{2}\\\\xi}{\\\\partial t\\\\partial y_{E}}\")\n",
    "temp_str = temp_str.replace(\"\\\\frac{d^{2}}{d \\\\operatorname{y_{I}}d \\\\operatorname{y_{E}}} \\\\eta_{y_{I}}\",\"\\\\frac{\\\\partial^{2}\\\\eta_{y_{I}}}{\\\\partial y_{I}\\\\partial y_{E}}\")\n",
    "temp_str = temp_str.replace(\"\\\\mathrm{d}\",\"\\\\partial \")\n",
    "print(temp_str)\n",
    "# Add our determining equation to our list of determining equations as well\n",
    "det_eq.append((1,Derivative(y_E,t,1)*(Derivative(y_I,t,1)**2),Eq(temp_det_eq,0)))"
   ]
  },
  {
   "cell_type": "markdown",
   "id": "ead873e6",
   "metadata": {},
   "source": [
    "Det. eq. $y_{E}'(y_{I}')^{2}$:\n",
    "\\begin{equation}\n",
    "\\frac{k_{E} \\frac{\\partial \\xi}{\\partial y_{E}}}{k_{I} \\operatorname{y_{I}}} - 2 \\frac{d^{2}}{d \\operatorname{y_{I}}d \\operatorname{y_{E}}} \\xi + \\frac{\\frac{\\partial \\xi}{\\partial y_{E}}}{\\operatorname{y_{I}}} - \\frac{k_{E} \\frac{\\partial \\xi}{\\partial y_{E}}}{\\epsilon k_{I} \\operatorname{y_{I}}} = 0\\,.\\label{eq:d_yEpyIps}\n",
    "\\end{equation}\n",
    "\n",
    "Lastly, we do $(y_{I}')^{3}$!"
   ]
  },
  {
   "cell_type": "code",
   "execution_count": 19,
   "id": "fa774b06",
   "metadata": {},
   "outputs": [
    {
     "name": "stdout",
     "output_type": "stream",
     "text": [
      "Det. eq. $(y_{I}')^{3}$:\n",
      "\\begin{equation}\n",
      "\\frac{k_{E} \\frac{\\partial \\xi}{\\partial y_{E}}}{k_{I} \\operatorname{y_{I}}} + \\frac{k_{E} \\frac{\\partial \\xi}{\\partial y_{I}}}{k_{I} \\operatorname{y_{I}}} - \\frac{d^{2}}{d \\operatorname{y_{I}}^{2}} \\xi - \\frac{k_{E} \\frac{\\partial \\xi}{\\partial y_{E}}}{\\epsilon k_{I} \\operatorname{y_{I}}} - \\frac{k_{E} \\frac{\\partial \\xi}{\\partial y_{I}}}{\\epsilon k_{I} \\operatorname{y_{I}}} = 0\\,.\\label{eq:d_yIpc}\n",
      "\\end{equation}\n"
     ]
    }
   ],
   "source": [
    "# Exract the first linearised symmetry condition\n",
    "temp_lin_sym = lin_sym.lhs-lin_sym.rhs\n",
    "# Extract the zeroth coefficient of the first linearised symmetry condition\n",
    "temp_det_eq = temp_lin_sym.coeff(Derivative(y_I,t,1)**3)\n",
    "#temp_det_eq = temp_det_eq.coeff(Derivative(y_I,t,1))\n",
    "#temp_det_eq = temp_det_eq.coeff(Derivative(y_I,t,1))\n",
    "# Set the remaining derivatives to zero\n",
    "temp_det_eq = temp_det_eq.subs(Derivative(y_I,t,1),0).subs(Derivative(y_E,t,1),0).doit()\n",
    "# Simplify stuff as well\n",
    "#temp_det_eq = expand(temp_det_eq*(k_E**2)*(k_I**2))\n",
    "print(\"Det. eq. $(y_{I}')^{3}$:\")\n",
    "temp_str = latex(Eq(temp_det_eq,0),mode='equation').replace(\"{\\\\left(c,\\\\beta,\\\\delta,\\\\epsilon,\\\\mu_{S},\\\\mu_{E},\\\\mu_{I},k_{I},k_{E} \\\\right)}\",\"\").replace(\"{\\\\left(t,\\\\operatorname{y_{I}}{\\\\left(t \\\\right)},\\\\operatorname{y_{E}}{\\\\left(t \\\\right)} \\\\right)}\",\"\").replace(\"{\\\\left(t \\\\right)}\",\"\").replace(\"\\\\left. \\\\frac{\\\\partial}{\\\\partial \\\\xi_{1}} \\\\eta_{yI}{\\\\left(\\\\xi_{1},\\\\operatorname{y_{I}},\\\\operatorname{y_{E}} \\\\right)} \\\\right|_{\\\\substack{ \\\\xi_{1}=t }}\",\"\\\\frac{\\\\mathrm{d}\\\\eta_{y_{I}}}{\\\\mathrm{d}t}\").replace(\"\\\\left. \\\\frac{\\\\partial}{\\\\partial \\\\xi_{1}} \\\\xi{\\\\left(\\\\xi_{1},\\\\operatorname{y_{I}},\\\\operatorname{y_{E}} \\\\right)} \\\\right|_{\\\\substack{ \\\\xi_{1}=t }}\",\"\\\\frac{\\\\mathrm{d}\\\\xi}{\\\\mathrm{d}t}\").replace(\"\\\\eta_{yI}\",\"\\\\eta_{y_{I}}\").replace(\"\\\\eta_{yE}\",\"\\\\eta_{y_{E}}\").replace(\"\\\\left. \\\\frac{\\\\partial^{2}}{\\\\partial \\\\xi_{1}^{2}} \\\\eta_{y_{I}}{\\\\left(\\\\xi_{1},\\\\operatorname{y_{I}},\\\\operatorname{y_{E}} \\\\right)} \\\\right|_{\\\\substack{ \\\\xi_{1}=t }}\",\"\\\\frac{\\\\mathrm{d}^{2}\\\\eta_{y_{I}}}{\\\\mathrm{d}t^{2}}\").replace(\"\\\\left. \\\\frac{\\\\partial}{\\\\partial \\\\xi_{1}} \\\\eta_{y_{E}}{\\\\left(\\\\xi_{1},\\\\operatorname{y_{I}},\\\\operatorname{y_{E}} \\\\right)} \\\\right|_{\\\\substack{ \\\\xi_{1}=t }}\",\"\\\\frac{\\\\mathrm{d}\\\\eta_{y_{E}}}{\\\\mathrm{d}t}\").replace(\"\\\\frac{d}{d \\\\operatorname{y_{I}}} \\\\eta_{y_{I}}\",\"\\\\frac{\\\\mathrm{d}\\\\eta_{y_{I}}}{\\\\mathrm{d}y_{I}}\").replace(\"\\\\begin{equation}\",\"\\\\begin{equation}\\n\").replace(\"\\\\end{equation}\",\"\\\\,.\\\\label{eq:d_yIpc}\\n\\\\end{equation}\")\n",
    "temp_str = temp_str.replace(\"\\\\frac{d}{d \\\\operatorname{y_{I}}} \\\\xi\",\"\\\\frac{\\\\mathrm{d}\\\\xi}{\\\\mathrm{d}y_{I}}\").replace(\"\\\\frac{d}{d \\\\operatorname{y_{I}}} \\\\eta_{y_{E}}\",\"\\\\frac{\\\\mathrm{d}\\\\eta_{y_{E}}}{\\\\mathrm{d}y_{I}}\")\n",
    "temp_str = temp_str.replace(\"\\\\left. \\\\frac{\\\\partial^{2}}{\\\\partial \\\\operatorname{y_{I}}\\\\partial \\\\xi_{1}} \\eta_{y_{I}}{\\\\left(\\\\xi_{1},\\\\operatorname{y_{I}},\\\\operatorname{y_{E}} \\\\right)} \\\\right|_{\\\\substack{ \\\\xi_{1}=t }}\",\"\\\\frac{\\\\partial^{2}\\\\eta_{y_{I}}}{\\\\partial t\\\\partial y_{I}}\")\n",
    "temp_str = temp_str.replace(\"\\\\left. \\\\frac{\\\\partial^{2}}{\\\\partial \\\\xi_{1}^{2}} \\\\xi{\\\\left(\\\\xi_{1},\\\\operatorname{y_{I}},\\\\operatorname{y_{E}} \\\\right)} \\\\right|_{\\\\substack{ \\\\xi_{1}=t }}\",\"\\\\frac{\\\\mathrm{d}^{2}\\\\xi}{\\\\mathrm{d}t^{2}}\")\n",
    "temp_str = temp_str.replace(\"\\\\frac{d}{d \\\\operatorname{y_{E}}} \\\\xi\",\"\\\\frac{\\\\mathrm{d}\\\\xi}{\\\\mathrm{d}y_{E}}\")\n",
    "temp_str = temp_str.replace(\"\\\\left. \\\\frac{\\\\partial^{2}}{\\\\partial \\\\operatorname{y_{E}}\\\\partial \\\\xi_{1}} \\\\eta_{y_{I}}{\\\\left(\\\\xi_{1},\\\\operatorname{y_{I}},\\\\operatorname{y_{E}} \\\\right)} \\\\right|_{\\\\substack{ \\\\xi_{1}=t }}\",\"\\\\frac{\\\\partial^{2}\\\\eta_{y_{I}}}{\\\\partial y_{E}\\\\partial t}\")\n",
    "temp_str = temp_str.replace(\"\\\\frac{d}{d \\\\operatorname{y_{E}}} \\\\eta_{y_{I}}\",\"\\\\frac{\\\\mathrm{d}\\\\eta_{y_{I}}}{\\\\mathrm{d}y_{E}}\")\n",
    "temp_str = temp_str.replace(\"\\\\left. \\\\frac{\\\\partial^{2}}{\\\\partial \\\\operatorname{y_{E}}\\\\partial \\\\xi_{1}} \\\\xi{\\\\left(\\\\xi_{1},\\\\operatorname{y_{I}},\\\\operatorname{y_{E}} \\\\right)} \\\\right|_{\\\\substack{ \\\\xi_{1}=t }}\",\"\\\\frac{\\\\partial^{2}\\\\xi}{\\\\partial t\\\\partial y_{E}}\")\n",
    "temp_str = temp_str.replace(\"\\\\frac{d^{2}}{d \\\\operatorname{y_{I}}d \\\\operatorname{y_{E}}} \\\\eta_{y_{I}}\",\"\\\\frac{\\\\partial^{2}\\\\eta_{y_{I}}}{\\\\partial y_{I}\\\\partial y_{E}}\")\n",
    "temp_str = temp_str.replace(\"\\\\mathrm{d}\",\"\\\\partial \")\n",
    "print(temp_str)\n",
    "# Add our determining equation to our list of determining equations as well\n",
    "det_eq.append((1,Derivative(y_I,t,1)*Derivative(y_I,t,1)*Derivative(y_I,t,1),Eq(temp_det_eq,0)))"
   ]
  },
  {
   "cell_type": "markdown",
   "id": "0f44d7c6",
   "metadata": {},
   "source": [
    "Det. eq. $(y_{I}')^{3}$:\n",
    "\\begin{equation}\n",
    "\\frac{k_{E} \\frac{\\partial \\xi}{\\partial y_{E}}}{k_{I} \\operatorname{y_{I}}} + \\frac{k_{E} \\frac{\\partial \\xi}{\\partial y_{I}}}{k_{I} \\operatorname{y_{I}}} - \\frac{d^{2}}{d \\operatorname{y_{I}}^{2}} \\xi - \\frac{k_{E} \\frac{\\partial \\xi}{\\partial y_{E}}}{\\epsilon k_{I} \\operatorname{y_{I}}} - \\frac{k_{E} \\frac{\\partial \\xi}{\\partial y_{I}}}{\\epsilon k_{I} \\operatorname{y_{I}}} = 0\\,.\\label{eq:d_yIpc}\n",
    "\\end{equation}\n",
    "Let's make sure that we do not have any fourth order terms here!\n"
   ]
  },
  {
   "cell_type": "code",
   "execution_count": 23,
   "id": "eeef1130",
   "metadata": {},
   "outputs": [
    {
     "name": "stdout",
     "output_type": "stream",
     "text": [
      "0\n",
      "0\n",
      "0\n",
      "0\n",
      "0\n"
     ]
    }
   ],
   "source": [
    "# Exract the first linearised symmetry condition\n",
    "temp_lin_sym = lin_sym.lhs-lin_sym.rhs\n",
    "# Extract the zeroth coefficient of the first linearised symmetry condition\n",
    "temp_det_eq = temp_lin_sym.coeff(Derivative(y_I,t,1)**4)\n",
    "print(temp_det_eq)\n",
    "temp_det_eq = temp_lin_sym.coeff(Derivative(y_E,t,1)**4)\n",
    "print(temp_det_eq)\n",
    "temp_det_eq = temp_lin_sym.coeff((Derivative(y_I,t,1)**3)*Derivative(y_E,t,1))\n",
    "print(temp_det_eq)\n",
    "temp_det_eq = temp_lin_sym.coeff((Derivative(y_E,t,1)**3)*Derivative(y_I,t,1))\n",
    "print(temp_det_eq)\n",
    "temp_det_eq = temp_lin_sym.coeff((Derivative(y_E,t,1)**2)*(Derivative(y_I,t,1)**2))\n",
    "print(temp_det_eq)"
   ]
  },
  {
   "cell_type": "markdown",
   "id": "1b2c18da",
   "metadata": {},
   "source": [
    "This means that we have gathered all determining equations and we can now start solving these determining equations systematically one by one. Before we do that, let's check how many determining equations we have! "
   ]
  },
  {
   "cell_type": "code",
   "execution_count": 24,
   "id": "cebdfe93",
   "metadata": {},
   "outputs": [
    {
     "name": "stdout",
     "output_type": "stream",
     "text": [
      "The number of determining equations corresponding to the first linearised symmetry condition are:\t9\n",
      "\n"
     ]
    }
   ],
   "source": [
    "print(\"The number of determining equations corresponding to the first linearised symmetry condition are:\\t%d\\n\"%(len(det_eq)))"
   ]
  },
  {
   "cell_type": "markdown",
   "id": "ed236509",
   "metadata": {},
   "source": [
    "Ok, so let's work through them one in reverse order more or less! \n",
    "## Calculating xi using Determining equations 9-7"
   ]
  },
  {
   "cell_type": "code",
   "execution_count": 25,
   "id": "de574288",
   "metadata": {},
   "outputs": [
    {
     "name": "stdout",
     "output_type": "stream",
     "text": [
      "Here, are the last three equations:\n",
      "\\begin{align}\n",
      "\\left(\\left(\\frac{d}{d t} \\operatorname{y_{E}}\\right)^{2} \\frac{d}{d t} \\operatorname{y_{I}}\\right)&:- \\frac{d^{2}}{d \\operatorname{y_{E}}^{2}} \\xi &= 0\\,,\\label{eq:det_eq_7}\\\\\n",
      "\\left(\\frac{d}{d t} \\operatorname{y_{E}} \\left(\\frac{d}{d t} \\operatorname{y_{I}}\\right)^{2}\\right)&:\\frac{k_{E} \\frac{d}{d \\operatorname{y_{E}}} \\xi}{k_{I} \\operatorname{y_{I}}} - 2 \\frac{d^{2}}{d \\operatorname{y_{I}}d \\operatorname{y_{E}}} \\xi + \\frac{\\frac{d}{d \\operatorname{y_{E}}} \\xi}{\\operatorname{y_{I}}} - \\frac{k_{E} \\frac{d}{d \\operatorname{y_{E}}} \\xi}{\\epsilon k_{I} \\operatorname{y_{I}}} &= 0\\,,\\label{eq:det_eq_8}\\\\\n",
      "\\left(\\left(\\frac{d}{d t} \\operatorname{y_{I}}\\right)^{3}\\right)&:\\frac{k_{E} \\frac{d}{d \\operatorname{y_{E}}} \\xi}{k_{I} \\operatorname{y_{I}}} + \\frac{k_{E} \\frac{d}{d \\operatorname{y_{I}}} \\xi}{k_{I} \\operatorname{y_{I}}} - \\frac{d^{2}}{d \\operatorname{y_{I}}^{2}} \\xi - \\frac{k_{E} \\frac{d}{d \\operatorname{y_{E}}} \\xi}{\\epsilon k_{I} \\operatorname{y_{I}}} - \\frac{k_{E} \\frac{d}{d \\operatorname{y_{I}}} \\xi}{\\epsilon k_{I} \\operatorname{y_{I}}} &= 0\\,,\\label{eq:det_eq_9}\\\\\n",
      "\\end{align}\n"
     ]
    }
   ],
   "source": [
    "print(\"Here, are the last three equations:\")\n",
    "print(\"\\\\begin{align}\")\n",
    "for index in range(6,9):\n",
    "    # Extract tuple\n",
    "    i,x,k = det_eq[index]\n",
    "    x_str = latex(x).replace(\"{\\\\left(c,\\\\beta,\\\\delta,\\\\epsilon,\\\\mu_{S},\\\\mu_{E},\\\\mu_{I},k_{I},k_{E} \\\\right)}\",\"\").replace(\"{\\\\left(t,\\\\operatorname{y_{I}}{\\\\left(t \\\\right)},\\\\operatorname{y_{E}}{\\\\left(t \\\\right)} \\\\right)}\",\"\").replace(\"{\\\\left(t \\\\right)}\",\"\").replace(\"\\\\left. \\\\frac{\\\\partial}{\\\\partial \\\\xi_{1}} \\\\eta_{yI}{\\\\left(\\\\xi_{1},\\\\operatorname{y_{I}},\\\\operatorname{y_{E}} \\\\right)} \\\\right|_{\\\\substack{ \\\\xi_{1}=t }}\",\"\\\\frac{\\\\mathrm{d}\\\\eta_{y_{I}}}{\\\\mathrm{d}t}\").replace(\"\\\\left. \\\\frac{\\\\partial}{\\\\partial \\\\xi_{1}} \\\\xi{\\\\left(\\\\xi_{1},\\\\operatorname{y_{I}},\\\\operatorname{y_{E}} \\\\right)} \\\\right|_{\\\\substack{ \\\\xi_{1}=t }}\",\"\\\\frac{\\\\mathrm{d}\\\\xi}{\\\\mathrm{d}t}\").replace(\"\\\\eta_{yI}\",\"\\\\eta_{y_{I}}\").replace(\"\\\\eta_{yE}\",\"\\\\eta_{y_{E}}\").replace(\"\\\\left. \\\\frac{\\\\partial^{2}}{\\\\partial \\\\xi_{1}^{2}} \\\\eta_{y_{I}}{\\\\left(\\\\xi_{1},\\\\operatorname{y_{I}},\\\\operatorname{y_{E}} \\\\right)} \\\\right|_{\\\\substack{ \\\\xi_{1}=t }}\",\"\\\\frac{\\\\mathrm{d}^{2}\\\\eta_{y_{I}}}{\\\\mathrm{d}t^{2}}\").replace(\"\\\\left. \\\\frac{\\\\partial}{\\\\partial \\\\xi_{1}} \\\\eta_{y_{E}}{\\\\left(\\\\xi_{1},\\\\operatorname{y_{I}},\\\\operatorname{y_{E}} \\\\right)} \\\\right|_{\\\\substack{ \\\\xi_{1}=t }}\",\"\\\\frac{\\\\mathrm{d}\\\\eta_{y_{E}}}{\\\\mathrm{d}t}\").replace(\"\\\\frac{d}{d \\\\operatorname{y_{I}}} \\\\eta_{y_{I}}\",\"\\\\frac{\\\\mathrm{d}\\\\eta_{y_{I}}}{\\\\mathrm{d}y_{I}}\")\n",
    "    k_str = latex(k).replace(\"{\\\\left(c,\\\\beta,\\\\delta,\\\\epsilon,\\\\mu_{S},\\\\mu_{E},\\\\mu_{I},k_{I},k_{E} \\\\right)}\",\"\").replace(\"{\\\\left(t,\\\\operatorname{y_{I}}{\\\\left(t \\\\right)},\\\\operatorname{y_{E}}{\\\\left(t \\\\right)} \\\\right)}\",\"\").replace(\"{\\\\left(t \\\\right)}\",\"\").replace(\"\\\\left. \\\\frac{\\\\partial}{\\\\partial \\\\xi_{1}} \\\\eta_{yI}{\\\\left(\\\\xi_{1},\\\\operatorname{y_{I}},\\\\operatorname{y_{E}} \\\\right)} \\\\right|_{\\\\substack{ \\\\xi_{1}=t }}\",\"\\\\frac{\\\\mathrm{d}\\\\eta_{y_{I}}}{\\\\mathrm{d}t}\").replace(\"\\\\left. \\\\frac{\\\\partial}{\\\\partial \\\\xi_{1}} \\\\xi{\\\\left(\\\\xi_{1},\\\\operatorname{y_{I}},\\\\operatorname{y_{E}} \\\\right)} \\\\right|_{\\\\substack{ \\\\xi_{1}=t }}\",\"\\\\frac{\\\\mathrm{d}\\\\xi}{\\\\mathrm{d}t}\").replace(\"\\\\eta_{yI}\",\"\\\\eta_{y_{I}}\").replace(\"\\\\eta_{yE}\",\"\\\\eta_{y_{E}}\").replace(\"\\\\left. \\\\frac{\\\\partial^{2}}{\\\\partial \\\\xi_{1}^{2}} \\\\eta_{y_{I}}{\\\\left(\\\\xi_{1},\\\\operatorname{y_{I}},\\\\operatorname{y_{E}} \\\\right)} \\\\right|_{\\\\substack{ \\\\xi_{1}=t }}\",\"\\\\frac{\\\\mathrm{d}^{2}\\\\eta_{y_{I}}}{\\\\mathrm{d}t^{2}}\").replace(\"\\\\left. \\\\frac{\\\\partial}{\\\\partial \\\\xi_{1}} \\\\eta_{y_{E}}{\\\\left(\\\\xi_{1},\\\\operatorname{y_{I}},\\\\operatorname{y_{E}} \\\\right)} \\\\right|_{\\\\substack{ \\\\xi_{1}=t }}\",\"\\\\frac{\\\\mathrm{d}\\\\eta_{y_{E}}}{\\\\mathrm{d}t}\").replace(\"\\\\frac{d}{d \\\\operatorname{y_{I}}} \\\\eta_{y_{I}}\",\"\\\\frac{\\\\mathrm{d}\\\\eta_{y_{I}}}{\\\\mathrm{d}y_{I}}\")\n",
    "    # Print this Latex style:\n",
    "    print(\"\\\\left(%s\\\\right)&:%s\\\\,,\\\\label{eq:det_eq_%d}\\\\\\\\\"%(x_str,k_str.replace(\"= 0\",\"&= 0\"),index+1))\n",
    "print(\"\\\\end{align}\")"
   ]
  },
  {
   "cell_type": "markdown",
   "id": "76fb05bb",
   "metadata": {},
   "source": [
    "Here, are the last three equations:\n",
    "\\begin{align}\n",
    "\\left(\\left(\\frac{d}{d t} \\operatorname{y_{E}}\\right)^{2} \\frac{d}{d t} \\operatorname{y_{I}}\\right)&:- \\frac{d^{2}}{d \\operatorname{y_{E}}^{2}} \\xi &= 0\\,,\\label{eq:det_eq_7}\\\\\n",
    "\\left(\\frac{d}{d t} \\operatorname{y_{E}} \\left(\\frac{d}{d t} \\operatorname{y_{I}}\\right)^{2}\\right)&:\\frac{k_{E} \\frac{d}{d \\operatorname{y_{E}}} \\xi}{k_{I} \\operatorname{y_{I}}} - 2 \\frac{d^{2}}{d \\operatorname{y_{I}}d \\operatorname{y_{E}}} \\xi + \\frac{\\frac{d}{d \\operatorname{y_{E}}} \\xi}{\\operatorname{y_{I}}} - \\frac{k_{E} \\frac{d}{d \\operatorname{y_{E}}} \\xi}{\\epsilon k_{I} \\operatorname{y_{I}}} &= 0\\,,\\label{eq:det_eq_8}\\\\\n",
    "\\left(\\left(\\frac{d}{d t} \\operatorname{y_{I}}\\right)^{3}\\right)&:\\frac{k_{E} \\frac{d}{d \\operatorname{y_{E}}} \\xi}{k_{I} \\operatorname{y_{I}}} + \\frac{k_{E} \\frac{d}{d \\operatorname{y_{I}}} \\xi}{k_{I} \\operatorname{y_{I}}} - \\frac{d^{2}}{d \\operatorname{y_{I}}^{2}} \\xi - \\frac{k_{E} \\frac{d}{d \\operatorname{y_{E}}} \\xi}{\\epsilon k_{I} \\operatorname{y_{I}}} - \\frac{k_{E} \\frac{d}{d \\operatorname{y_{I}}} \\xi}{\\epsilon k_{I} \\operatorname{y_{I}}} &= 0\\,,\\label{eq:det_eq_9}\\\\\n",
    "\\end{align}\n",
    "which we solve for $\\xi$."
   ]
  },
  {
   "cell_type": "markdown",
   "id": "aa27334e",
   "metadata": {},
   "source": [
    "Now, we move onto $\\eta_{y_{I}}$. \n",
    "## Calculate $\\eta_{y_{I}}$ using determining equations 4-6\n"
   ]
  },
  {
   "cell_type": "code",
   "execution_count": 26,
   "id": "d8818d36",
   "metadata": {},
   "outputs": [
    {
     "name": "stdout",
     "output_type": "stream",
     "text": [
      "Here, are equation 4 to 6:\n",
      "\\begin{align}\n",
      "\\left(\\left(\\frac{d}{d t} \\operatorname{y_{I}}\\right)^{2}\\right)&:- \\frac{\\beta \\epsilon k_{E}^{2} \\operatorname{y_{I}}^{3} \\frac{d}{d \\operatorname{y_{E}}} \\xi}{k_{I}} - \\frac{\\beta \\epsilon k_{E}^{2} \\operatorname{y_{I}}^{3} \\frac{d}{d \\operatorname{y_{I}}} \\xi}{k_{I}} + \\beta \\epsilon k_{E} \\operatorname{y_{I}}^{3} \\frac{d}{d \\operatorname{y_{I}}} \\xi + \\frac{\\beta k_{E}^{2} \\operatorname{y_{I}}^{3} \\frac{d}{d \\operatorname{y_{E}}} \\xi}{k_{I}} + \\frac{\\beta k_{E}^{2} \\operatorname{y_{I}}^{3} \\frac{d}{d \\operatorname{y_{I}}} \\xi}{k_{I}} - \\delta \\epsilon k_{E} k_{I} \\operatorname{y_{E}} \\operatorname{y_{I}} \\frac{d}{d \\operatorname{y_{E}}} \\xi - \\delta \\epsilon k_{E} k_{I} \\operatorname{y_{E}} \\operatorname{y_{I}} \\frac{d}{d \\operatorname{y_{I}}} \\xi + \\delta \\epsilon k_{I}^{2} \\operatorname{y_{E}} \\operatorname{y_{I}} \\frac{d}{d \\operatorname{y_{I}}} \\xi + \\delta k_{E} k_{I} \\operatorname{y_{E}} \\operatorname{y_{I}} \\frac{d}{d \\operatorname{y_{E}}} \\xi + \\delta k_{E} k_{I} \\operatorname{y_{E}} \\operatorname{y_{I}} \\frac{d}{d \\operatorname{y_{I}}} \\xi + \\epsilon k_{E}^{2} \\mu_{I} \\operatorname{y_{I}}^{2} \\frac{d}{d \\operatorname{y_{E}}} \\xi + \\epsilon k_{E}^{2} \\mu_{I} \\operatorname{y_{I}}^{2} \\frac{d}{d \\operatorname{y_{I}}} \\xi - \\epsilon k_{E}^{2} \\mu_{S} \\operatorname{y_{I}}^{2} \\frac{d}{d \\operatorname{y_{E}}} \\xi - \\epsilon k_{E}^{2} \\mu_{S} \\operatorname{y_{I}}^{2} \\frac{d}{d \\operatorname{y_{I}}} \\xi - \\epsilon k_{E}^{2} \\operatorname{y_{I}} \\frac{d}{d \\operatorname{y_{E}}} \\eta_{y_{I}} + \\epsilon k_{E}^{2} \\operatorname{y_{I}} \\frac{\\mathrm{d}\\xi}{\\mathrm{d}t} + \\epsilon k_{E} k_{I} \\mu_{S} \\operatorname{y_{I}}^{2} \\frac{d}{d \\operatorname{y_{I}}} \\xi + \\epsilon k_{E} k_{I} \\eta_{y_{I}} + \\epsilon k_{E} k_{I} \\operatorname{y_{I}}^{2} \\frac{d^{2}}{d \\operatorname{y_{I}}^{2}} \\eta_{y_{I}} - 2 \\epsilon k_{E} k_{I} \\operatorname{y_{I}}^{2} \\left. \\frac{\\partial^{2}}{\\partial \\operatorname{y_{I}}\\partial \\xi_{1}} \\xi{\\left(\\xi_{1},\\operatorname{y_{I}},\\operatorname{y_{E}} \\right)} \\right|_{\\substack{ \\xi_{1}=t }} - \\epsilon k_{E} k_{I} \\operatorname{y_{I}} \\frac{\\mathrm{d}\\eta_{y_{I}}}{\\mathrm{d}y_{I}} + \\epsilon k_{E} k_{I} \\operatorname{y_{I}} \\frac{\\mathrm{d}\\xi}{\\mathrm{d}t} - k_{E}^{2} \\mu_{I} \\operatorname{y_{I}}^{2} \\frac{d}{d \\operatorname{y_{E}}} \\xi - k_{E}^{2} \\mu_{I} \\operatorname{y_{I}}^{2} \\frac{d}{d \\operatorname{y_{I}}} \\xi + k_{E}^{2} \\mu_{S} \\operatorname{y_{I}}^{2} \\frac{d}{d \\operatorname{y_{E}}} \\xi + k_{E}^{2} \\mu_{S} \\operatorname{y_{I}}^{2} \\frac{d}{d \\operatorname{y_{I}}} \\xi + k_{E}^{2} \\operatorname{y_{I}} \\frac{d}{d \\operatorname{y_{E}}} \\eta_{y_{I}} - k_{E}^{2} \\operatorname{y_{I}} \\frac{\\mathrm{d}\\xi}{\\mathrm{d}t} &= 0\\,,\\label{eq:det_eq_4}\\\\\n",
      "\\left(\\left(\\frac{d}{d t} \\operatorname{y_{E}}\\right)^{2}\\right)&:\\delta \\frac{d}{d \\operatorname{y_{E}}} \\xi + \\mu_{E} \\frac{d}{d \\operatorname{y_{E}}} \\xi + \\frac{d^{2}}{d \\operatorname{y_{E}}^{2}} \\eta_{y_{I}} &= 0\\,,\\label{eq:det_eq_5}\\\\\n",
      "\\left(\\frac{d}{d t} \\operatorname{y_{E}} \\frac{d}{d t} \\operatorname{y_{I}}\\right)&:- \\frac{\\beta \\epsilon k_{E}^{2} \\operatorname{y_{I}}^{2} \\frac{d}{d \\operatorname{y_{E}}} \\xi}{k_{I}} + \\frac{\\beta k_{E}^{2} \\operatorname{y_{I}}^{2} \\frac{d}{d \\operatorname{y_{E}}} \\xi}{k_{I}} - \\delta \\epsilon k_{E} k_{I} \\operatorname{y_{E}} \\frac{d}{d \\operatorname{y_{E}}} \\xi + \\delta \\epsilon k_{E} k_{I} \\operatorname{y_{I}} \\frac{d}{d \\operatorname{y_{E}}} \\xi + \\delta \\epsilon k_{E} k_{I} \\operatorname{y_{I}} \\frac{d}{d \\operatorname{y_{I}}} \\xi - \\delta \\epsilon k_{I}^{2} \\operatorname{y_{I}} \\frac{d}{d \\operatorname{y_{I}}} \\xi + \\delta k_{E} k_{I} \\operatorname{y_{E}} \\frac{d}{d \\operatorname{y_{E}}} \\xi + \\epsilon k_{E}^{2} \\mu_{I} \\operatorname{y_{I}} \\frac{d}{d \\operatorname{y_{E}}} \\xi - \\epsilon k_{E}^{2} \\mu_{S} \\operatorname{y_{I}} \\frac{d}{d \\operatorname{y_{E}}} \\xi + \\epsilon k_{E} k_{I} \\mu_{E} \\operatorname{y_{I}} \\frac{d}{d \\operatorname{y_{E}}} \\xi + \\epsilon k_{E} k_{I} \\mu_{E} \\operatorname{y_{I}} \\frac{d}{d \\operatorname{y_{I}}} \\xi + 2 \\epsilon k_{E} k_{I} \\operatorname{y_{I}} \\frac{d^{2}}{d \\operatorname{y_{I}}d \\operatorname{y_{E}}} \\eta_{y_{I}} - 2 \\epsilon k_{E} k_{I} \\operatorname{y_{I}} \\left. \\frac{\\partial^{2}}{\\partial \\operatorname{y_{E}}\\partial \\xi_{1}} \\xi{\\left(\\xi_{1},\\operatorname{y_{I}},\\operatorname{y_{E}} \\right)} \\right|_{\\substack{ \\xi_{1}=t }} - 2 \\epsilon k_{E} k_{I} \\frac{d}{d \\operatorname{y_{E}}} \\eta_{y_{I}} - k_{E}^{2} \\mu_{I} \\operatorname{y_{I}} \\frac{d}{d \\operatorname{y_{E}}} \\xi + k_{E}^{2} \\mu_{S} \\operatorname{y_{I}} \\frac{d}{d \\operatorname{y_{E}}} \\xi &= 0\\,,\\label{eq:det_eq_6}\\\\\n",
      "\\end{align}\n"
     ]
    }
   ],
   "source": [
    "print(\"Here, are equation 4 to 6:\")\n",
    "print(\"\\\\begin{align}\")\n",
    "for index in range(3,6):\n",
    "    # Extract tuple\n",
    "    i,x,k = det_eq[index]\n",
    "    x_str = latex(x).replace(\"{\\\\left(c,\\\\beta,\\\\delta,\\\\epsilon,\\\\mu_{S},\\\\mu_{E},\\\\mu_{I},k_{I},k_{E} \\\\right)}\",\"\").replace(\"{\\\\left(t,\\\\operatorname{y_{I}}{\\\\left(t \\\\right)},\\\\operatorname{y_{E}}{\\\\left(t \\\\right)} \\\\right)}\",\"\").replace(\"{\\\\left(t \\\\right)}\",\"\").replace(\"\\\\left. \\\\frac{\\\\partial}{\\\\partial \\\\xi_{1}} \\\\eta_{yI}{\\\\left(\\\\xi_{1},\\\\operatorname{y_{I}},\\\\operatorname{y_{E}} \\\\right)} \\\\right|_{\\\\substack{ \\\\xi_{1}=t }}\",\"\\\\frac{\\\\mathrm{d}\\\\eta_{y_{I}}}{\\\\mathrm{d}t}\").replace(\"\\\\left. \\\\frac{\\\\partial}{\\\\partial \\\\xi_{1}} \\\\xi{\\\\left(\\\\xi_{1},\\\\operatorname{y_{I}},\\\\operatorname{y_{E}} \\\\right)} \\\\right|_{\\\\substack{ \\\\xi_{1}=t }}\",\"\\\\frac{\\\\mathrm{d}\\\\xi}{\\\\mathrm{d}t}\").replace(\"\\\\eta_{yI}\",\"\\\\eta_{y_{I}}\").replace(\"\\\\eta_{yE}\",\"\\\\eta_{y_{E}}\").replace(\"\\\\left. \\\\frac{\\\\partial^{2}}{\\\\partial \\\\xi_{1}^{2}} \\\\eta_{y_{I}}{\\\\left(\\\\xi_{1},\\\\operatorname{y_{I}},\\\\operatorname{y_{E}} \\\\right)} \\\\right|_{\\\\substack{ \\\\xi_{1}=t }}\",\"\\\\frac{\\\\mathrm{d}^{2}\\\\eta_{y_{I}}}{\\\\mathrm{d}t^{2}}\").replace(\"\\\\left. \\\\frac{\\\\partial}{\\\\partial \\\\xi_{1}} \\\\eta_{y_{E}}{\\\\left(\\\\xi_{1},\\\\operatorname{y_{I}},\\\\operatorname{y_{E}} \\\\right)} \\\\right|_{\\\\substack{ \\\\xi_{1}=t }}\",\"\\\\frac{\\\\mathrm{d}\\\\eta_{y_{E}}}{\\\\mathrm{d}t}\").replace(\"\\\\frac{d}{d \\\\operatorname{y_{I}}} \\\\eta_{y_{I}}\",\"\\\\frac{\\\\mathrm{d}\\\\eta_{y_{I}}}{\\\\mathrm{d}y_{I}}\")\n",
    "    k_str = latex(k).replace(\"{\\\\left(c,\\\\beta,\\\\delta,\\\\epsilon,\\\\mu_{S},\\\\mu_{E},\\\\mu_{I},k_{I},k_{E} \\\\right)}\",\"\").replace(\"{\\\\left(t,\\\\operatorname{y_{I}}{\\\\left(t \\\\right)},\\\\operatorname{y_{E}}{\\\\left(t \\\\right)} \\\\right)}\",\"\").replace(\"{\\\\left(t \\\\right)}\",\"\").replace(\"\\\\left. \\\\frac{\\\\partial}{\\\\partial \\\\xi_{1}} \\\\eta_{yI}{\\\\left(\\\\xi_{1},\\\\operatorname{y_{I}},\\\\operatorname{y_{E}} \\\\right)} \\\\right|_{\\\\substack{ \\\\xi_{1}=t }}\",\"\\\\frac{\\\\mathrm{d}\\\\eta_{y_{I}}}{\\\\mathrm{d}t}\").replace(\"\\\\left. \\\\frac{\\\\partial}{\\\\partial \\\\xi_{1}} \\\\xi{\\\\left(\\\\xi_{1},\\\\operatorname{y_{I}},\\\\operatorname{y_{E}} \\\\right)} \\\\right|_{\\\\substack{ \\\\xi_{1}=t }}\",\"\\\\frac{\\\\mathrm{d}\\\\xi}{\\\\mathrm{d}t}\").replace(\"\\\\eta_{yI}\",\"\\\\eta_{y_{I}}\").replace(\"\\\\eta_{yE}\",\"\\\\eta_{y_{E}}\").replace(\"\\\\left. \\\\frac{\\\\partial^{2}}{\\\\partial \\\\xi_{1}^{2}} \\\\eta_{y_{I}}{\\\\left(\\\\xi_{1},\\\\operatorname{y_{I}},\\\\operatorname{y_{E}} \\\\right)} \\\\right|_{\\\\substack{ \\\\xi_{1}=t }}\",\"\\\\frac{\\\\mathrm{d}^{2}\\\\eta_{y_{I}}}{\\\\mathrm{d}t^{2}}\").replace(\"\\\\left. \\\\frac{\\\\partial}{\\\\partial \\\\xi_{1}} \\\\eta_{y_{E}}{\\\\left(\\\\xi_{1},\\\\operatorname{y_{I}},\\\\operatorname{y_{E}} \\\\right)} \\\\right|_{\\\\substack{ \\\\xi_{1}=t }}\",\"\\\\frac{\\\\mathrm{d}\\\\eta_{y_{E}}}{\\\\mathrm{d}t}\").replace(\"\\\\frac{d}{d \\\\operatorname{y_{I}}} \\\\eta_{y_{I}}\",\"\\\\frac{\\\\mathrm{d}\\\\eta_{y_{I}}}{\\\\mathrm{d}y_{I}}\")\n",
    "    # Print this Latex style:\n",
    "    print(\"\\\\left(%s\\\\right)&:%s\\\\,,\\\\label{eq:det_eq_%d}\\\\\\\\\"%(x_str,k_str.replace(\"= 0\",\"&= 0\"),index+1))\n",
    "print(\"\\\\end{align}\")"
   ]
  },
  {
   "cell_type": "markdown",
   "id": "f8685bac",
   "metadata": {},
   "source": [
    "Here, are equation 4 to 6:\n",
    "\\begin{align}\n",
    "\\left(\\left(\\frac{d}{d t} \\operatorname{y_{I}}\\right)^{2}\\right)&:- \\frac{\\beta \\epsilon k_{E}^{2} \\operatorname{y_{I}}^{3} \\frac{d}{d \\operatorname{y_{E}}} \\xi}{k_{I}} - \\frac{\\beta \\epsilon k_{E}^{2} \\operatorname{y_{I}}^{3} \\frac{d}{d \\operatorname{y_{I}}} \\xi}{k_{I}} + \\beta \\epsilon k_{E} \\operatorname{y_{I}}^{3} \\frac{d}{d \\operatorname{y_{I}}} \\xi + \\frac{\\beta k_{E}^{2} \\operatorname{y_{I}}^{3} \\frac{d}{d \\operatorname{y_{E}}} \\xi}{k_{I}} + \\frac{\\beta k_{E}^{2} \\operatorname{y_{I}}^{3} \\frac{d}{d \\operatorname{y_{I}}} \\xi}{k_{I}} - \\delta \\epsilon k_{E} k_{I} \\operatorname{y_{E}} \\operatorname{y_{I}} \\frac{d}{d \\operatorname{y_{E}}} \\xi - \\delta \\epsilon k_{E} k_{I} \\operatorname{y_{E}} \\operatorname{y_{I}} \\frac{d}{d \\operatorname{y_{I}}} \\xi + \\delta \\epsilon k_{I}^{2} \\operatorname{y_{E}} \\operatorname{y_{I}} \\frac{d}{d \\operatorname{y_{I}}} \\xi + \\delta k_{E} k_{I} \\operatorname{y_{E}} \\operatorname{y_{I}} \\frac{d}{d \\operatorname{y_{E}}} \\xi + \\delta k_{E} k_{I} \\operatorname{y_{E}} \\operatorname{y_{I}} \\frac{d}{d \\operatorname{y_{I}}} \\xi + \\epsilon k_{E}^{2} \\mu_{I} \\operatorname{y_{I}}^{2} \\frac{d}{d \\operatorname{y_{E}}} \\xi + \\epsilon k_{E}^{2} \\mu_{I} \\operatorname{y_{I}}^{2} \\frac{d}{d \\operatorname{y_{I}}} \\xi - \\epsilon k_{E}^{2} \\mu_{S} \\operatorname{y_{I}}^{2} \\frac{d}{d \\operatorname{y_{E}}} \\xi - \\epsilon k_{E}^{2} \\mu_{S} \\operatorname{y_{I}}^{2} \\frac{d}{d \\operatorname{y_{I}}} \\xi - \\epsilon k_{E}^{2} \\operatorname{y_{I}} \\frac{d}{d \\operatorname{y_{E}}} \\eta_{y_{I}} + \\epsilon k_{E}^{2} \\operatorname{y_{I}} \\frac{\\mathrm{d}\\xi}{\\mathrm{d}t} + \\epsilon k_{E} k_{I} \\mu_{S} \\operatorname{y_{I}}^{2} \\frac{d}{d \\operatorname{y_{I}}} \\xi + \\epsilon k_{E} k_{I} \\eta_{y_{I}} + \\epsilon k_{E} k_{I} \\operatorname{y_{I}}^{2} \\frac{d^{2}}{d \\operatorname{y_{I}}^{2}} \\eta_{y_{I}} - 2 \\epsilon k_{E} k_{I} \\operatorname{y_{I}}^{2} \\left. \\frac{\\partial^{2}}{\\partial \\operatorname{y_{I}}\\partial \\xi_{1}} \\xi{\\left(\\xi_{1},\\operatorname{y_{I}},\\operatorname{y_{E}} \\right)} \\right|_{\\substack{ \\xi_{1}=t }} - \\epsilon k_{E} k_{I} \\operatorname{y_{I}} \\frac{\\mathrm{d}\\eta_{y_{I}}}{\\mathrm{d}y_{I}} + \\epsilon k_{E} k_{I} \\operatorname{y_{I}} \\frac{\\mathrm{d}\\xi}{\\mathrm{d}t} - k_{E}^{2} \\mu_{I} \\operatorname{y_{I}}^{2} \\frac{d}{d \\operatorname{y_{E}}} \\xi - k_{E}^{2} \\mu_{I} \\operatorname{y_{I}}^{2} \\frac{d}{d \\operatorname{y_{I}}} \\xi + k_{E}^{2} \\mu_{S} \\operatorname{y_{I}}^{2} \\frac{d}{d \\operatorname{y_{E}}} \\xi + k_{E}^{2} \\mu_{S} \\operatorname{y_{I}}^{2} \\frac{d}{d \\operatorname{y_{I}}} \\xi + k_{E}^{2} \\operatorname{y_{I}} \\frac{d}{d \\operatorname{y_{E}}} \\eta_{y_{I}} - k_{E}^{2} \\operatorname{y_{I}} \\frac{\\mathrm{d}\\xi}{\\mathrm{d}t} &= 0\\,,\\label{eq:det_eq_4}\\\\\n",
    "\\left(\\left(\\frac{d}{d t} \\operatorname{y_{E}}\\right)^{2}\\right)&:\\delta \\frac{d}{d \\operatorname{y_{E}}} \\xi + \\mu_{E} \\frac{d}{d \\operatorname{y_{E}}} \\xi + \\frac{d^{2}}{d \\operatorname{y_{E}}^{2}} \\eta_{y_{I}} &= 0\\,,\\label{eq:det_eq_5}\\\\\n",
    "\\left(\\frac{d}{d t} \\operatorname{y_{E}} \\frac{d}{d t} \\operatorname{y_{I}}\\right)&:- \\frac{\\beta \\epsilon k_{E}^{2} \\operatorname{y_{I}}^{2} \\frac{d}{d \\operatorname{y_{E}}} \\xi}{k_{I}} + \\frac{\\beta k_{E}^{2} \\operatorname{y_{I}}^{2} \\frac{d}{d \\operatorname{y_{E}}} \\xi}{k_{I}} - \\delta \\epsilon k_{E} k_{I} \\operatorname{y_{E}} \\frac{d}{d \\operatorname{y_{E}}} \\xi + \\delta \\epsilon k_{E} k_{I} \\operatorname{y_{I}} \\frac{d}{d \\operatorname{y_{E}}} \\xi + \\delta \\epsilon k_{E} k_{I} \\operatorname{y_{I}} \\frac{d}{d \\operatorname{y_{I}}} \\xi - \\delta \\epsilon k_{I}^{2} \\operatorname{y_{I}} \\frac{d}{d \\operatorname{y_{I}}} \\xi + \\delta k_{E} k_{I} \\operatorname{y_{E}} \\frac{d}{d \\operatorname{y_{E}}} \\xi + \\epsilon k_{E}^{2} \\mu_{I} \\operatorname{y_{I}} \\frac{d}{d \\operatorname{y_{E}}} \\xi - \\epsilon k_{E}^{2} \\mu_{S} \\operatorname{y_{I}} \\frac{d}{d \\operatorname{y_{E}}} \\xi + \\epsilon k_{E} k_{I} \\mu_{E} \\operatorname{y_{I}} \\frac{d}{d \\operatorname{y_{E}}} \\xi + \\epsilon k_{E} k_{I} \\mu_{E} \\operatorname{y_{I}} \\frac{d}{d \\operatorname{y_{I}}} \\xi + 2 \\epsilon k_{E} k_{I} \\operatorname{y_{I}} \\frac{d^{2}}{d \\operatorname{y_{I}}d \\operatorname{y_{E}}} \\eta_{y_{I}} - 2 \\epsilon k_{E} k_{I} \\operatorname{y_{I}} \\left. \\frac{\\partial^{2}}{\\partial \\operatorname{y_{E}}\\partial \\xi_{1}} \\xi{\\left(\\xi_{1},\\operatorname{y_{I}},\\operatorname{y_{E}} \\right)} \\right|_{\\substack{ \\xi_{1}=t }} - 2 \\epsilon k_{E} k_{I} \\frac{d}{d \\operatorname{y_{E}}} \\eta_{y_{I}} - k_{E}^{2} \\mu_{I} \\operatorname{y_{I}} \\frac{d}{d \\operatorname{y_{E}}} \\xi + k_{E}^{2} \\mu_{S} \\operatorname{y_{I}} \\frac{d}{d \\operatorname{y_{E}}} \\xi &= 0\\,,\\label{eq:det_eq_6}\\\\\n",
    "\\end{align}\n",
    "\n",
    "Let's plug our solution for $\\xi$ into the last equation."
   ]
  },
  {
   "cell_type": "code",
   "execution_count": null,
   "id": "1103e999",
   "metadata": {},
   "outputs": [],
   "source": []
  }
 ],
 "metadata": {
  "kernelspec": {
   "display_name": "Python 3",
   "language": "python",
   "name": "python3"
  },
  "language_info": {
   "codemirror_mode": {
    "name": "ipython",
    "version": 3
   },
   "file_extension": ".py",
   "mimetype": "text/x-python",
   "name": "python",
   "nbconvert_exporter": "python",
   "pygments_lexer": "ipython3",
   "version": "3.8.8"
  }
 },
 "nbformat": 4,
 "nbformat_minor": 5
}
