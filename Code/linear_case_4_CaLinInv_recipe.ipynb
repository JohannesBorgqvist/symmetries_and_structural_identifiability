{
 "cells": [
  {
   "cell_type": "markdown",
   "metadata": {},
   "source": [
    "# Structural identifiability analysis of the linear model case 4\n",
    "Date: 2023-12-29,<br>\n",
    "Written by: Johannes Borgqvist.<br>\n",
    "We study the following linear model\n",
    "\\begin{equation}\n",
    "    \\begin{split}\n",
    "    \\dot{u_{1}}&=a-bu_{1}\\\\    \n",
    "    \\dot{u_{2}}&=bu_{1}-cu_{2}\\\\    \n",
    "    \\dot{u_{3}}&=cu_{2}\\\\    \n",
    "    \\end{split}\\,, \n",
    "    \\label{eq:linear_model}\n",
    "\\end{equation}\n",
    "with the following output $y=ku_{1}u_{2}$ where $k$ is an additional parameter. The corresponding ODE for the output is given by\n",
    "\\begin{equation}\n",
    "  \\begin{split}\n",
    "    27 a^{4} b^{2} k^{2} y - 4 a^{2} b^{4} k y^{2} - 39 a^{2} b^{3} c k y^{2} - 39 a^{2} b^{3} k y \\dot{y} - 12 a^{2} b^{2} c^{2} k y^{2}&\\\\\n",
    "    - 51 a^{2} b^{2} c k y \\dot{y} - 27 a^{2} b^{2} k y \\ddot{y} - 9 a^{2} b^{2} k \\dot{y}^{2} - 4 a^{2} b c^{3} k y^{2} - 12 a^{2} b c^{2} k y \\dot{y}&\\\\\n",
    "    - 18 a^{2} b c k \\dot{y}^{2} - 9 a^{2} b k \\dot{y} \\ddot{y} + 4 b^{5} c y^{3} + 4 b^{5} y^{2} \\dot{y} + 12 b^{4} c^{2} y^{3}&\\\\\n",
    "    + 28 b^{4} c y^{2} \\dot{y} + 4 b^{4} y^{2} \\ddot{y} + 12 b^{4} y \\dot{y}^{2} + 12 b^{3} c^{3} y^{3} + 48 b^{3} c^{2} y^{2} \\dot{y}&\\\\\n",
    "    + 12 b^{3} c y^{2} \\ddot{y} + 49 b^{3} c y \\dot{y}^{2} + 16 b^{3} y \\dot{y} \\ddot{y} + 9 b^{3} \\dot{y}^{3} + 4 b^{2} c^{4} y^{3}&\\\\\n",
    "    + 28 b^{2} c^{3} y^{2} \\dot{y} + 12 b^{2} c^{2} y^{2} \\ddot{y} + 51 b^{2} c^{2} y \\dot{y}^{2} + 34 b^{2} c y \\dot{y} \\ddot{y} + 24 b^{2} c \\dot{y}^{3}&\\\\\n",
    "    + 4 b^{2} y \\ddot{y}^{2} + 15 b^{2} \\dot{y}^{2} \\ddot{y} + 4 b c^{4} y^{2} \\dot{y} + 4 b c^{3} y^{2} \\ddot{y} + 15 b c^{3} y \\dot{y}^{2}&\\\\\n",
    "    + 20 b c^{2} y \\dot{y} \\ddot{y} + 13 b c^{2} \\dot{y}^{3} + 5 b c y \\ddot{y}^{2} + 20 b c \\dot{y}^{2} \\ddot{y} + 7 b \\dot{y} \\ddot{y}^{2} &\\\\\n",
    "    + c^{4} y \\dot{y}^{2} + 2 c^{3} y \\dot{y} \\ddot{y} + 2 c^{3} \\dot{y}^{3} + c^{2} y \\ddot{y}^{2} + 5 c^{2} \\dot{y}^{2} \\ddot{y}+ 4 c \\dot{y} \\ddot{y}^{2} + \\ddot{y}^{3}&=0\\,.\\\\\n",
    "  \\end{split}\n",
    "\\label{eq:linear_case_4}\n",
    "\\end{equation}\n",
    "Next, we will implement part of the CaLinInv-recipe where we specifically solve the linearised symmetry conditions for the parameter symmetries. We will do this using *SymPy* specifically! \n",
    "\n",
    "# Initial step: Define parameters and variables in *SymPy*"
   ]
  },
  {
   "cell_type": "code",
   "execution_count": 1,
   "metadata": {},
   "outputs": [],
   "source": [
    "# Import SymPy\n",
    "from sympy import *\n",
    "# Define all rate parameters\n",
    "a, b, c, k = symbols(\"a, b, c, k\")\n",
    "# Define our independent variable time \n",
    "t = symbols(\"t\")\n",
    "# Define our states and derivatives\n",
    "y = Function(\"y\")(t)\n",
    "# Define our derivatives of y as well\n",
    "dot_y = Derivative(y,t,1)\n",
    "ddot_y = Derivative(y,t,2)\n",
    "dddot_y = Derivative(y,t,3)"
   ]
  },
  {
   "cell_type": "markdown",
   "metadata": {},
   "source": [
    "# Step 1: Set up the ODE for the output\n"
   ]
  },
  {
   "cell_type": "code",
   "execution_count": 2,
   "metadata": {},
   "outputs": [
    {
     "name": "stdout",
     "output_type": "stream",
     "text": [
      "27*a**4*b**2 - 4*a**2*b**4*k**2*y(t) - 39*a**2*b**3*k*y(t)*Derivative(y(t), t) - 12*a**2*b**2*c**2*k*y(t)**2 - 51*a**2*b**2*c*k*y(t)*Derivative(y(t), t) - 27*a**2*b**2*k*y(t)*Derivative(y(t), (t, 2)) - 9*a**2*b**2*k*Derivative(y(t), t)**2 - 4*a**2*b*c**3*k*y(t)**2 - 18*a**2*b*c*k*Derivative(y(t), t)**2 - 9*a**2*b*k*Derivative(y(t), t)*Derivative(y(t), (t, 2)) + 4*b**5*c*y(t)**3 + 4*b**5*y(t)**2*Derivative(y(t), t) + 12*b**4*c**2*y(t)**3 + 28*b**4*c*y(t)**2*Derivative(y(t), t) + 4*b**4*y(t)**2*Derivative(y(t), (t, 2)) + 12*b**4*y(t)*Derivative(y(t), t)**2 + 12*b**3*c**3*y(t)**3 + 48*b**3*c**2*y(t)**2*Derivative(y(t), t) + 12*b**3*c*y(t)**2*Derivative(y(t), (t, 2)) + 49*b**3*c*y(t)*Derivative(y(t), t)**2 + 16*b**3*y(t)*Derivative(y(t), t)*Derivative(y(t), (t, 2)) + 9*b**3*Derivative(y(t), t)**3 + 4*b**2*c**4*y(t)**3 + 28*b**2*c**3*y(t)**2*Derivative(y(t), t) + 12*b**2*c**2*y(t)**2*Derivative(y(t), (t, 2)) + 51*b**2*c**2*y(t)*Derivative(y(t), t)**2 + 34*b**2*c*y(t)*Derivative(y(t), t)*Derivative(y(t), (t, 2)) + 24*b**2*c*Derivative(y(t), t)**3 + 4*b**2*y(t)*Derivative(y(t), (t, 2))**2 + 15*b**2*Derivative(y(t), t)**2*Derivative(y(t), (t, 2)) + 4*b*c**4*y(t)**2*Derivative(y(t), t) + 4*b*c**3*y(t)**2*Derivative(y(t), (t, 2)) + 15*b*c**3*y(t)*Derivative(y(t), t)**2 + 20*b*c**2*y(t)*Derivative(y(t), t)*Derivative(y(t), (t, 2)) + 13*b*c**2*Derivative(y(t), t)**3 + 20*b*c**2*Derivative(y(t), t)**2*Derivative(y(t), (t, 2)) + 5*b*c*y(t)*Derivative(y(t), (t, 2))**2 + 7*b*Derivative(y(t), t)*Derivative(y(t), (t, 2))**2 + c**4*y(t)*Derivative(y(t), t)**2 + 2*c**3*y(t)*Derivative(y(t), t)*Derivative(y(t), (t, 2)) + 2*c**3*Derivative(y(t), t)**3 + c**2*y(t)*Derivative(y(t), (t, 2))**2 + 5*c**2*Derivative(y(t), t)**2*Derivative(y(t), (t, 2)) + 4*c*Derivative(y(t), t)*Derivative(y(t), (t, 2))**2 + Derivative(y(t), (t, 2))**3\n"
     ]
    }
   ],
   "source": [
    "# Set of terms 1 out of 9\n",
    "ODE_y = 27*(a**4)*(b**2) - 4*(a**2)*(b**4)*(k**2)*(y) - 39*(a**2)*(b**3)*(k)*y*dot_y - 12*(a**2)*(b**2)*(c**2)*k*(y**2)\n",
    "# Set of terms 2 out of 9\n",
    "ODE_y += -51*(a**2)*(b**2)*(c)*k*y*dot_y - 27*(a**2)*(b**2)*(k)*y*ddot_y - 9*(a**2)*(b**2)*k*((dot_y)**2) - 4*(a**2)*b*(c**3)*k*(y**2)\n",
    "# Set of terms 3 out of 9\n",
    "ODE_y += -18*(a**2)*b*c*k*(dot_y**2) - 9*(a**2)*b*k*(dot_y)*(ddot_y) + 4*(b**5)*c*(y**3) + 4*(b**5)*(y**2)*dot_y + 12*(b**4)*(c**2)*(y**3)\n",
    "# Set of terms 4 out of 9\n",
    "ODE_y += 28*(b**4)*(c)*(y**2)*dot_y + 4*(b**4)*(y**2)*ddot_y + 12*(b**4)*(y)*(dot_y**2) + 12*(b**3)*(c**3)*(y**3) + 48*(b**3)*(c**2)*(y**2)*(dot_y)\n",
    "# Set of terms 5 out of 9\n",
    "ODE_y += 12*(b**3)*c*(y**2)*ddot_y + 49*(b**3)*c*y*(dot_y**2) + 16*(b**3)*y*dot_y*ddot_y + 9*(b**3)*(dot_y**3) + 4*(b**2)*(c**4)*(y**3)\n",
    "# Set of terms 6 out of 9\n",
    "ODE_y += 28*(b**2)*(c**3)*(y**2)*dot_y + 12*(b**2)*(c**2)*(y**2)*ddot_y + 51*(b**2)*(c**2)*(y)*(dot_y**2) + 34*(b**2)*c*y*dot_y*ddot_y + 24*(b**2)*c*(dot_y**3)\n",
    "# Set of terms 7 out of 9\n",
    "ODE_y += 4*(b**2)*y*(ddot_y**2) + 15*(b**2)*(dot_y**2)*(ddot_y) + 4*b*(c**4)*(y**2)*(dot_y) + 4*b*(c**3)*(y**2)*(ddot_y) + 15*b*(c**3)*y*(dot_y**2)\n",
    "# Set of terms 8 out of 9\n",
    "ODE_y += 20*(b)*(c**2)*y*dot_y*ddot_y + 13*(b)*(c**2)*(dot_y**3) + 5*b*c*y*(ddot_y**2) + 20*b*(c**2)*(dot_y**2)*ddot_y + 7*b*dot_y*(ddot_y**2)\n",
    "# Set of terms 9 out of 9\n",
    "ODE_y += (c**4)*y*(dot_y**2) + 2*(c**3)*y*(dot_y)*(ddot_y) + 2*(c**3)*(dot_y**3) + (c**2)*y*(ddot_y**2) + 5*(c**2)*(dot_y**2)*(ddot_y) + 4*c*(dot_y)*(ddot_y**2) + (ddot_y**3)\n",
    "print(ODE_y)"
   ]
  },
  {
   "cell_type": "markdown",
   "metadata": {},
   "source": [
    "# Step 2: Set up the infinitesimal generator\n",
    "The infinitesimal generator of the Lie group for the parameter symmetry is given by\n",
    "\\begin{equation}\n",
    "X_{\\vec{\\theta}}=\\chi_{a}(a,b,c,k)\\partial{a}+\\chi_{b}(a,b,c,k)\\partial{b}+\\chi_{c}(a,b,c,k)\\partial{c}+\\chi_{k}(a,b,c,k)\\partial{k}\\,.\n",
    "    \\label{eq:X_linear}\n",
    "\\end{equation}"
   ]
  },
  {
   "cell_type": "code",
   "execution_count": 3,
   "metadata": {},
   "outputs": [],
   "source": [
    "# Define our lovely infinitesimals in the parameter directions\n",
    "chi_a = Function('chi_a')(a,b,c,k) # Infinitesimal for a \n",
    "chi_b = Function('chi_b')(a,b,c,k) # Infinitesimal for b\n",
    "chi_c = Function('chi_c')(a,b,c,k) # Infinitesimal for c\n",
    "chi_k = Function('chi_k')(a,b,c,k) # Infinitesimal for k\n",
    "# Create a differentiation vector\n",
    "differentiation_vector = [(a, chi_a)]\n",
    "differentiation_vector.append((b, chi_b))\n",
    "differentiation_vector.append((c, chi_c))\n",
    "differentiation_vector.append((k, chi_k))"
   ]
  },
  {
   "cell_type": "markdown",
   "metadata": {},
   "source": [
    "# Step 3: Set up the linearised symmetry condition"
   ]
  },
  {
   "cell_type": "code",
   "execution_count": 4,
   "metadata": {},
   "outputs": [],
   "source": [
    "# Allocate memory for our linearised symmetry condition! \n",
    "lin_sym = 0\n",
    "# Loop over the differentiation vector and save the linearised symmetry condition\n",
    "for x,k in differentiation_vector:\n",
    "    lin_sym += k*Derivative(ODE_y,x).doit()\n",
    "# And expand the whole equation in order to get the coeff command to work\n",
    "lin_sym = expand(lin_sym)"
   ]
  },
  {
   "cell_type": "markdown",
   "metadata": {},
   "source": [
    "# Step 4: Extract the sub equations into what we might refer to as the determining equations\n",
    "Next, we consider the monomials $\\{1,y,\\dot{y},\\ddot{y}\\}$ and order 3. "
   ]
  },
  {
   "cell_type": "code",
   "execution_count": 5,
   "metadata": {},
   "outputs": [],
   "source": [
    "# For manipulating monomials\n",
    "from sympy.polys.monomials import itermonomials\n",
    "from sympy.polys.orderings import monomial_key\n",
    "# States and derivatives\n",
    "states_and_derivatives = [y,dot_y,ddot_y, dddot_y]\n",
    "# Ok, we construct some monomials\n",
    "monomials = sorted(itermonomials(states_and_derivatives, 4),key=monomial_key('grlex', states_and_derivatives))\n",
    "# Allocate our determining equations\n",
    "det_eqs = []\n",
    "# Allocate a temporary equation\n",
    "#temp_eq = 0\n",
    "# Loop over monomials and extract determining equations\n",
    "for monomial in monomials:\n",
    "    # Extract a symmetry condition\n",
    "    temp_eq = lin_sym\n",
    "    # Special case when the monomial is 1\n",
    "    if monomial == 1:\n",
    "        # For this special case we save only the constant term\n",
    "        # by setting all derivatives and states to zero\n",
    "        for state in states_and_derivatives:\n",
    "            temp_eq = temp_eq.subs(state,0).doit()\n",
    "    else:\n",
    "        # Extract the coefficient\n",
    "        temp_eq = temp_eq.coeff(monomial)\n",
    "        # Just to be sure we only save the constant thingy\n",
    "        for state in states_and_derivatives:\n",
    "            temp_eq = temp_eq.subs(state,0).doit()\n",
    "    # Save all non-zero determining equations\n",
    "    if temp_eq != 0:\n",
    "        det_eqs.append((monomial,temp_eq))"
   ]
  },
  {
   "cell_type": "code",
   "execution_count": null,
   "metadata": {},
   "outputs": [],
   "source": []
  },
  {
   "cell_type": "markdown",
   "metadata": {},
   "source": [
    "# Step 5: Formulate the matrix equation\n",
    "Next, we formulate the matrix equation $M\\vec{\\chi}=\\mathbf{0}$."
   ]
  },
  {
   "cell_type": "code",
   "execution_count": 8,
   "metadata": {},
   "outputs": [
    {
     "name": "stdout",
     "output_type": "stream",
     "text": [
      "Matrix equation $M\\vec{\\chi}=\\mathbf{0}$:\n",
      "\\begin{equation}\n",
      "\\left[\\begin{matrix}108 a^{3} b^{2} & 54 a^{4} b & 0 & 0\\\\- 8 a b^{4} k^{2} & - 16 a^{2} b^{3} k^{2} & 0 & - 8 a^{2} b^{4} k\\\\- 18 a b k & - 9 a^{2} k & 0 & - 9 a^{2} b\\\\- 18 a b^{2} k - 36 a b c k & - 18 a^{2} b k - 18 a^{2} c k & - 18 a^{2} b k & - 9 a^{2} b^{2} - 18 a^{2} b c\\\\- 54 a b^{2} k & - 54 a^{2} b k & 0 & - 27 a^{2} b^{2}\\\\- 78 a b^{3} k - 102 a b^{2} c k & - 117 a^{2} b^{2} k - 102 a^{2} b c k & - 51 a^{2} b^{2} k & - 39 a^{2} b^{3} - 51 a^{2} b^{2} c\\\\- 24 a b^{2} c^{2} k - 8 a b c^{3} k & - 24 a^{2} b c^{2} k - 4 a^{2} c^{3} k & - 24 a^{2} b^{2} c k - 12 a^{2} b c^{2} k & - 12 a^{2} b^{2} c^{2} - 4 a^{2} b c^{3}\\\\0 & 7 & 4 & 0\\\\0 & 30 b + 20 c^{2} & 40 b c + 10 c & 0\\\\0 & 27 b^{2} + 48 b c + 13 c^{2} & 24 b^{2} + 26 b c + 6 c^{2} & 0\\\\0 & 8 b + 5 c & 5 b + 2 c & 0\\\\0 & 48 b^{2} + 68 b c + 20 c^{2} & 34 b^{2} + 40 b c + 6 c^{2} & 0\\\\0 & 48 b^{3} + 147 b^{2} c + 102 b c^{2} + 15 c^{3} & 49 b^{3} + 102 b^{2} c + 45 b c^{2} + 4 c^{3} & 0\\\\0 & 16 b^{3} + 36 b^{2} c + 24 b c^{2} + 4 c^{3} & 12 b^{3} + 24 b^{2} c + 12 b c^{2} & 0\\\\0 & 20 b^{4} + 112 b^{3} c + 144 b^{2} c^{2} + 56 b c^{3} + 4 c^{4} & 28 b^{4} + 96 b^{3} c + 84 b^{2} c^{2} + 16 b c^{3} & 0\\\\0 & 20 b^{4} c + 48 b^{3} c^{2} + 36 b^{2} c^{3} + 8 b c^{4} & 4 b^{5} + 24 b^{4} c + 36 b^{3} c^{2} + 16 b^{2} c^{3} & 0\\end{matrix}\\right]\\left[\\begin{matrix}\\chi_{a}\\\\\\chi_{b}\\\\\\chi_{c}\\\\\\chi_{k}\\end{matrix}\\right]=\\left[\\begin{matrix}0\\\\0\\\\0\\\\0\\end{matrix}\\right]\\,,\\label{eq:linear_case_4_matrix}\n",
      "\\end{equation}\n"
     ]
    }
   ],
   "source": [
    "# Define our infinitesimals\n",
    "infinitesimals = [chi_a, chi_b, chi_c, chi_k]\n",
    "# Define our matrix as a list of list\n",
    "M = []\n",
    "# Allocate a temporary equation\n",
    "temp_eq = 0\n",
    "# Loop over the determining equations, create a row and save it in the matrix\n",
    "for det_eq in det_eqs:\n",
    "    temp_eq = det_eq[-1]\n",
    "    row = []\n",
    "    for infinitesimal in infinitesimals:\n",
    "        row.append(temp_eq.coeff(infinitesimal))\n",
    "    M.append(row)\n",
    "# Cast the matrix as a matrix\n",
    "M = Matrix(M)\n",
    "# Create matrices being vectors for the left and right hand sides as well\n",
    "inf_matrix = Matrix(infinitesimals)\n",
    "inf_matrix = inf_matrix\n",
    "RHS_matrix = zeros(len(infinitesimals),1)\n",
    "# Print the matrix as well\n",
    "print(\"Matrix equation $M\\\\vec{\\\\chi}=\\\\mathbf{0}$:\")\n",
    "matrix_string = \"\\\\begin{equation}\\n\"\n",
    "matrix_string += latex(M)\n",
    "matrix_string += latex(inf_matrix)\n",
    "matrix_string += \"=\"\n",
    "matrix_string += latex(RHS_matrix)\n",
    "matrix_string += \"\\\\,,\\\\label{eq:linear_case_4_matrix}\\n\\\\end{equation}\"\n",
    "\n",
    "matrix_string = matrix_string.replace(\"{\\\\left(a,b,c,k \\\\right)}\",\"\")\n",
    "print(matrix_string)"
   ]
  },
  {
   "cell_type": "markdown",
   "metadata": {},
   "source": [
    "Matrix equation $M\\vec{\\chi}=\\mathbf{0}$:\n",
    "\\begin{equation}\n",
    "\\left[\\begin{matrix}108 a^{3} b^{2} & 54 a^{4} b & 0 & 0\\\\- 8 a b^{4} k^{2} & - 16 a^{2} b^{3} k^{2} & 0 & - 8 a^{2} b^{4} k\\\\- 18 a b k & - 9 a^{2} k & 0 & - 9 a^{2} b\\\\- 18 a b^{2} k - 36 a b c k & - 18 a^{2} b k - 18 a^{2} c k & - 18 a^{2} b k & - 9 a^{2} b^{2} - 18 a^{2} b c\\\\- 54 a b^{2} k & - 54 a^{2} b k & 0 & - 27 a^{2} b^{2}\\\\- 78 a b^{3} k - 102 a b^{2} c k & - 117 a^{2} b^{2} k - 102 a^{2} b c k & - 51 a^{2} b^{2} k & - 39 a^{2} b^{3} - 51 a^{2} b^{2} c\\\\- 24 a b^{2} c^{2} k - 8 a b c^{3} k & - 24 a^{2} b c^{2} k - 4 a^{2} c^{3} k & - 24 a^{2} b^{2} c k - 12 a^{2} b c^{2} k & - 12 a^{2} b^{2} c^{2} - 4 a^{2} b c^{3}\\\\0 & 7 & 4 & 0\\\\0 & 30 b + 20 c^{2} & 40 b c + 10 c & 0\\\\0 & 27 b^{2} + 48 b c + 13 c^{2} & 24 b^{2} + 26 b c + 6 c^{2} & 0\\\\0 & 8 b + 5 c & 5 b + 2 c & 0\\\\0 & 48 b^{2} + 68 b c + 20 c^{2} & 34 b^{2} + 40 b c + 6 c^{2} & 0\\\\0 & 48 b^{3} + 147 b^{2} c + 102 b c^{2} + 15 c^{3} & 49 b^{3} + 102 b^{2} c + 45 b c^{2} + 4 c^{3} & 0\\\\0 & 16 b^{3} + 36 b^{2} c + 24 b c^{2} + 4 c^{3} & 12 b^{3} + 24 b^{2} c + 12 b c^{2} & 0\\\\0 & 20 b^{4} + 112 b^{3} c + 144 b^{2} c^{2} + 56 b c^{3} + 4 c^{4} & 28 b^{4} + 96 b^{3} c + 84 b^{2} c^{2} + 16 b c^{3} & 0\\\\0 & 20 b^{4} c + 48 b^{3} c^{2} + 36 b^{2} c^{3} + 8 b c^{4} & 4 b^{5} + 24 b^{4} c + 36 b^{3} c^{2} + 16 b^{2} c^{3} & 0\\end{matrix}\\right]\\left[\\begin{matrix}\\chi_{a}\\\\\\chi_{b}\\\\\\chi_{c}\\\\\\chi_{k}\\end{matrix}\\right]=\\left[\\begin{matrix}0\\\\0\\\\0\\\\0\\end{matrix}\\right]\\,,\\label{eq:linear_case_4_matrix}\n",
    "\\end{equation}\n",
    "\n",
    " # Step 6: Calculate the null space $\\mathcal{N}(M)$"
   ]
  },
  {
   "cell_type": "code",
   "execution_count": 9,
   "metadata": {
    "scrolled": true
   },
   "outputs": [
    {
     "name": "stdout",
     "output_type": "stream",
     "text": [
      "(Matrix([\n",
      "[1, 0, 0, 0],\n",
      "[0, 1, 0, 0],\n",
      "[0, 0, 1, 0],\n",
      "[0, 0, 0, 1],\n",
      "[0, 0, 0, 0],\n",
      "[0, 0, 0, 0],\n",
      "[0, 0, 0, 0],\n",
      "[0, 0, 0, 0],\n",
      "[0, 0, 0, 0],\n",
      "[0, 0, 0, 0],\n",
      "[0, 0, 0, 0],\n",
      "[0, 0, 0, 0],\n",
      "[0, 0, 0, 0],\n",
      "[0, 0, 0, 0],\n",
      "[0, 0, 0, 0],\n",
      "[0, 0, 0, 0]]), (0, 1, 2, 3))\n",
      "[]\n"
     ]
    }
   ],
   "source": [
    "print(M.rref())\n",
    "print(M.nullspace())"
   ]
  },
  {
   "cell_type": "code",
   "execution_count": null,
   "metadata": {},
   "outputs": [],
   "source": []
  }
 ],
 "metadata": {
  "kernelspec": {
   "display_name": "Python 3 (ipykernel)",
   "language": "python",
   "name": "python3"
  },
  "language_info": {
   "codemirror_mode": {
    "name": "ipython",
    "version": 3
   },
   "file_extension": ".py",
   "mimetype": "text/x-python",
   "name": "python",
   "nbconvert_exporter": "python",
   "pygments_lexer": "ipython3",
   "version": "3.8.3"
  }
 },
 "nbformat": 4,
 "nbformat_minor": 4
}
